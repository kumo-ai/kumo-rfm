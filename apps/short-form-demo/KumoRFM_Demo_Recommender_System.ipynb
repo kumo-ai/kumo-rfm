{
  "nbformat": 4,
  "nbformat_minor": 0,
  "metadata": {
    "colab": {
      "provenance": [],
      "private_outputs": true,
      "toc_visible": true
    },
    "kernelspec": {
      "name": "python3",
      "display_name": "Python 3"
    },
    "language_info": {
      "name": "python"
    }
  },
  "cells": [
    {
      "cell_type": "markdown",
      "source": [
        "#**KumoRFM Demo Recommender System**\n",
        "\n",
        "---\n",
        "\n",
        "**Thank you for trying out KumoRFM!**  \n",
        "This demo is built on top of a **comprehensive, detailed sample online dataset** and is designed to show how quickly you can go from raw data to actionable product recommendations.\n",
        "\n",
        "---\n",
        "\n",
        "> ⚠️ **Note:** While we’ve intentionally made this example look simple and seamless, **real-world implementations will vary**.  \n",
        "> You may need to adapt:\n",
        "> - Data preprocessing steps  \n",
        "> - Feature engineering  \n",
        "> - Model configuration  \n",
        "> - Integration with your own data sources  \n",
        ">\n",
        "> One thing is certain — **no model training is required** to get started.\n",
        "\n",
        "---\n",
        "\n",
        "📚 **Learn More**  \n",
        "For detailed guidance, advanced configurations, and inspiration for adapting KumoRFM to a variety of use cases, explore our  \n",
        "[**Official Documentation →**](https://kumo-ai.github.io/kumo-sdk/docs/get_started/rfm/index.html)  \n",
        "We strongly encourage you to experiment with the various features to tailor the system to your own needs.\n",
        "\n",
        "---\n"
      ],
      "metadata": {
        "id": "0X1xQW_0Bmzn"
      }
    },
    {
      "cell_type": "markdown",
      "metadata": {
        "id": "psushpJFYaU4"
      },
      "source": [
        "## Step 1. Install the Kumo Python SDK and this project's requirements\n",
        "\n",
        "KumoRFM provides an [SDK](https://kumo-ai.github.io/kumo-sdk/docs/get_started/rfm/index.html) in Python.\n",
        "The Kumo SDK is available for Python 3.9 to Python 3.13. All of the files used in this document can be found [here](https://)."
      ]
    },
    {
      "cell_type": "code",
      "source": [
        "!wget -O requirements.txt \"https://drive.google.com/uc?export=download&id=14u26T_oxPBKGzoC7d9h6gtpkz5bgWzSV\" # Installing the list of dependencies, and helper files.\n",
        "!pip install -q gdown\n",
        "!gdown --id 1WUszVhUN23tl1w0wmNYRTrLpvqKEuFum -O my_display.py"
      ],
      "metadata": {
        "id": "zSW2LmDcnfjK"
      },
      "execution_count": null,
      "outputs": []
    },
    {
      "cell_type": "code",
      "execution_count": null,
      "metadata": {
        "collapsed": true,
        "id": "z83QLJ6DMKaq"
      },
      "outputs": [],
      "source": [
        "!pip install -r requirements.txt # Installing the dependencies themselves."
      ]
    },
    {
      "cell_type": "code",
      "source": [
        "import pandas as pd #Import the tools we need\n",
        "from kumoai.experimental import rfm\n",
        "import os,dotenv\n",
        "from my_display import display_recommendations # Our online store"
      ],
      "metadata": {
        "id": "YPRrAtJnO46I"
      },
      "execution_count": null,
      "outputs": []
    },
    {
      "cell_type": "markdown",
      "source": [],
      "metadata": {
        "id": "kL-xXOGKngCS"
      }
    },
    {
      "cell_type": "markdown",
      "metadata": {
        "id": "xr7eIPGuYaU4"
      },
      "source": [
        "## Step 2. Get an API key\n",
        "\n",
        "You will need an API key to make calls to KumoRFM.\n",
        "Use the widget below to generate one for free by clicking \"Generate API Key\".\n",
        "If you don't have a KumoRFM account, the widget will prompt you to signup.\n",
        "\n",
        "You will see the following when your key has been created successfully:\n",
        "\n",
        "<div align=\"left\">\n",
        "  <img src=\"https://kumo-sdk-public.s3.us-west-2.amazonaws.com/rfm-colabs/api-key-created.png\" width=\"300\" />\n",
        "</div>"
      ]
    },
    {
      "cell_type": "code",
      "source": [
        "dotenv.load_dotenv()\n",
        "if not os.getenv(\"KUMO_API_KEY\"):\n",
        "  rfm.authenticate()"
      ],
      "metadata": {
        "id": "AurvRxT6YhDI"
      },
      "execution_count": null,
      "outputs": []
    },
    {
      "cell_type": "markdown",
      "metadata": {
        "id": "FpYcu6NQYaU5"
      },
      "source": [
        "## Step 3. Initialize a client\n",
        "\n",
        "If you completed step 2 via the widget, you don't need to change anything. `KUMO_API_KEY` is already set as environment variable.\n",
        "\n",
        "If you bring the API key from the website, you can manually change the `KUMO_API_KEY` below:\n"
      ]
    },
    {
      "cell_type": "code",
      "source": [
        "# Initialize a Kumo client with your API key:\n",
        "KUMO_API_KEY = os.getenv(\"KUMO_API_KEY\")\n",
        "rfm.init(api_key=KUMO_API_KEY)"
      ],
      "metadata": {
        "id": "Drnbw33xYx90"
      },
      "execution_count": null,
      "outputs": []
    },
    {
      "cell_type": "markdown",
      "metadata": {
        "id": "-SwkrGe8dt6X"
      },
      "source": [
        "## Step 4. Import your data\n",
        "\n",
        "KumoRFM interacts with a set of `pd.DataFrame` objects:"
      ]
    },
    {
      "cell_type": "code",
      "source": [
        "USER_CURRENT = 50  # This is me. You can set it to any user_id from 0 to 11,462.\n",
        "\n",
        "root = \"s3://rfm-shopping-recommender\"\n",
        "data = {\n",
        "\"users\": pd.read_parquet(f\"{root}/users.parquet\"),\n",
        "\"items\": pd.read_parquet(f\"{root}/items.parquet\"),\n",
        "\"views\": pd.read_parquet(f\"{root}/views.parquet\"),\n",
        "\"orders\": pd.read_parquet(f\"{root}/orders.parquet\"),\n",
        "\"returns\": pd.read_parquet(f\"{root}/returns.parquet\"),\n",
        "}\n",
        "\n",
        "# NOTE You can use `pd.read_csv(...)` to read CSV files instead.\n",
        "# You don't need to use s3 to import your data.\n",
        "# For Colab users, you can upload your data to the file folder (the folder icon on the left panel), and directly import from there.\n",
        "# You can also download this notebook, and import your data locally."
      ],
      "metadata": {
        "id": "hgdDK2d7ZD8O"
      },
      "execution_count": null,
      "outputs": []
    },
    {
      "cell_type": "code",
      "source": [
        "#Feel free to inspect the data, or inspect its types\n",
        "data[\"users\"].head(5)\n",
        "data[\"users\"].dtypes"
      ],
      "metadata": {
        "collapsed": true,
        "id": "9jEeNAYRcV5B"
      },
      "execution_count": null,
      "outputs": []
    },
    {
      "cell_type": "markdown",
      "metadata": {
        "id": "QX_bih3Vdp-p"
      },
      "source": [
        "## Step 5. Spin up your model!\n",
        "\n",
        "KumoRFM will create a `LocalGraph` from the data you imported above, and then initialize a model in just two simple lines of code.\n",
        "\n",
        "KumoRFM is smart enough to infer the relations between your data tables using column names. You may still want to inspect the results of inferred metadata to ensure correctness downstream.\n",
        "\n",
        "If your tables don't have matching names, you'll want to link them on your own. Refer to our documentation [here](https://kumo-ai.github.io/kumo-sdk/docs/get_started/rfm/index.html)."
      ]
    },
    {
      "cell_type": "code",
      "source": [
        "graph = rfm.LocalGraph.from_data(data)\n",
        "model = rfm.KumoRFM(graph)"
      ],
      "metadata": {
        "id": "2k17j2FJeMDE"
      },
      "execution_count": null,
      "outputs": []
    },
    {
      "cell_type": "markdown",
      "metadata": {
        "id": "Iegen4I8YaU8"
      },
      "source": [
        "## Step 6. Write a predictive query\n",
        "\n",
        "You are now ready to plug your graph into `KumoRFM` to make predictions!\n",
        "\n",
        "The great thing about the graph is that it's a one-time setup—once it's in place, you can generate a variety of predictions from it and power many business use cases."
      ]
    },
    {
      "cell_type": "markdown",
      "source": [
        "#### PQueries: How you talk to your model\n",
        "\n",
        "Learn more about writing ALL kinds of PQueries [here](https://kumo.ai/docs/pquery-structure/) for any prediction you might want."
      ],
      "metadata": {
        "id": "UG16rOzDgDZe"
      }
    },
    {
      "cell_type": "code",
      "source": [
        "query = (f\"PREDICT LIST_DISTINCT(orders.item_id, 0, 30, days) RANK TOP 10 FOR users.user_id={USER_CURRENT}\")\n",
        "\n",
        "# To break this down:\n",
        "\n",
        "# PREDICT LIST_DISTINCT(orders.item_id, 0, 30, days) = Predict the list of distinct items most likely to be ordered in the next 30 days.\n",
        "# RANK TOP 10 restricts the output to only the 10 most likely to be purchased items(i.e., the ones that should be recommended).\n",
        "# FOR restricts the scope of the query to whatever USER_CURRENT is. Outputting results for multiple users at a time is possible.\n",
        "\n",
        "# Mess around with it on your own! Refer to the documentaton above."
      ],
      "metadata": {
        "id": "vEqYwxdvfLsk"
      },
      "execution_count": null,
      "outputs": []
    },
    {
      "cell_type": "markdown",
      "source": [
        "## Step 7. Predict away and display!\n",
        "\n",
        "With a simple command, you can instantly predict based on your query above."
      ],
      "metadata": {
        "id": "humvdk-og6sg"
      }
    },
    {
      "cell_type": "code",
      "source": [
        "pred_df = model.predict(query)\n",
        "\n",
        "#View the prediction like this:\n",
        "display(pred_df)"
      ],
      "metadata": {
        "id": "SR3gNVQihEhE"
      },
      "execution_count": null,
      "outputs": []
    },
    {
      "cell_type": "code",
      "source": [
        "#Or display it in the store, like this:\n",
        "\n",
        "display_recommendations(pred_df, data[\"items\"])\n",
        "!streamlit run /usr/local/lib/python3.11/dist-packages/colab_kernel_launcher.py\n",
        "\n",
        "# NOTE: Prediction might be slightly different here, since its rerunning this script to obtain it, and the output isn't perfectly deterministic.\n",
        "# Before running other boxes, make sure to stop this one, since streamlit will prevent other boxes from being run while in use! :)"
      ],
      "metadata": {
        "id": "u9N7UTXSk1Ku"
      },
      "execution_count": null,
      "outputs": []
    }
  ]
}