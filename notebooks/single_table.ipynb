{
 "cells": [
  {
   "cell_type": "markdown",
   "metadata": {
    "id": "LkE1JrLjFwhe"
   },
   "source": [
    "# `KumoRFM` on single tabular data\n",
    "\n",
    "While `KumoRFM` especially shines on multi-table relational data, it can also be applied to single tabular data.\n",
    "For this example, we make use of the [`breast_cancer`](https://scikit-learn.org/stable/modules/generated/sklearn.datasets.load_breast_cancer.html) dataset."
   ]
  },
  {
   "cell_type": "code",
   "execution_count": null,
   "metadata": {
    "colab": {
     "base_uri": "https://localhost:8080/"
    },
    "id": "1ries9szHZD3",
    "outputId": "e7aca011-7cd8-4ef4-e20e-9f4666e9336c"
   },
   "outputs": [],
   "source": [
    "!pip install kumoai --pre --upgrade"
   ]
  },
  {
   "cell_type": "code",
   "execution_count": null,
   "metadata": {
    "id": "1TD1bYpNHalN"
   },
   "outputs": [],
   "source": [
    "from kumoai.experimental import rfm"
   ]
  },
  {
   "cell_type": "code",
   "execution_count": null,
   "metadata": {
    "colab": {
     "base_uri": "https://localhost:8080/",
     "height": 139
    },
    "id": "KnSNyQVSHbjm",
    "outputId": "7ee5c915-bdea-48c6-af2b-31f2612a6fdf"
   },
   "outputs": [],
   "source": [
    "import os\n",
    "\n",
    "if not os.environ.get(\"KUMO_API_KEY\"):\n",
    "    rfm.authenticate()"
   ]
  },
  {
   "cell_type": "code",
   "execution_count": null,
   "metadata": {
    "colab": {
     "base_uri": "https://localhost:8080/"
    },
    "id": "6Dh4VLlQHddD",
    "outputId": "1b5fc412-fb08-449f-de4c-1aef338bad0e"
   },
   "outputs": [],
   "source": [
    "rfm.init()"
   ]
  },
  {
   "cell_type": "markdown",
   "metadata": {
    "id": "wvSo4HhiF8fg"
   },
   "source": [
    "Let's load the dataset directly from `sklearn`:"
   ]
  },
  {
   "cell_type": "code",
   "execution_count": null,
   "metadata": {
    "colab": {
     "base_uri": "https://localhost:8080/"
    },
    "id": "nM5zyWODF7xH",
    "outputId": "2b96dc37-e2ab-4e4a-a7bc-5cec61c56911"
   },
   "outputs": [],
   "source": [
    "from sklearn.datasets import load_breast_cancer\n",
    "from sklearn.model_selection import train_test_split\n",
    "\n",
    "X, y = load_breast_cancer(return_X_y=True)\n",
    "X_train, X_test, y_train, y_test = train_test_split(X, y, test_size=0.5, random_state=42)\n",
    "\n",
    "print('X_train:', X_train.shape)\n",
    "print(' X_test:', X_test.shape)"
   ]
  },
  {
   "cell_type": "markdown",
   "metadata": {
    "id": "lPwloO81GGJ5"
   },
   "source": [
    "In `KumoRFM`, we can operate on single tabular data by creating a graph without any links that simply holds a single table.\n",
    "\n",
    "In order to query the model, we treat the task as **missing value imputation**. That is, we group `X_train` and `X_test` into a single table. We additionally add the training labels to the table, but **keep test labels blank** and ask `KumoRFM` to infer them."
   ]
  },
  {
   "cell_type": "code",
   "execution_count": null,
   "metadata": {
    "colab": {
     "base_uri": "https://localhost:8080/",
     "height": 423
    },
    "id": "bAL2IGYcGFxb",
    "outputId": "a3d891c9-c80b-4093-cc97-d1fe9a74f552"
   },
   "outputs": [],
   "source": [
    "import numpy as np\n",
    "import pandas as pd\n",
    "\n",
    "df = pd.DataFrame({\n",
    "    'id': range(len(X)),\n",
    "    'emb': [x for x in np.concatenate([X_test, X_train], axis=0)],\n",
    "    'target': np.concatenate([y_test, y_train], axis=0),\n",
    "})\n",
    "target = df['target'].astype('Int64')\n",
    "target.iloc[:len(y_test)] = None  # Mask out test labels!\n",
    "df['target'] = target\n",
    "\n",
    "display(df)"
   ]
  },
  {
   "cell_type": "markdown",
   "metadata": {
    "id": "nhI4bSrFGzUF"
   },
   "source": [
    "Note that we have added the feature matrix as a single embedding to our `pandas.DataFrame` since `KumoRFM` natively knows how to operate on such custom embeddings (*e.g.*, we could also add LLM or image encodings as feature columns).\n",
    "Alternatively, we could have added each feature to a separate column."
   ]
  },
  {
   "cell_type": "markdown",
   "metadata": {
    "id": "mDKjl9OAHT6S"
   },
   "source": [
    "Let's read this data frame into `KumoRFM`:"
   ]
  },
  {
   "cell_type": "code",
   "execution_count": null,
   "metadata": {
    "colab": {
     "base_uri": "https://localhost:8080/",
     "height": 248,
     "referenced_widgets": [
      "8a29ee474bb3497ea30913c03a945ed5",
      "513f3454458546a1a855009d9e52f225"
     ]
    },
    "id": "RDSlOfC7FVBx",
    "outputId": "d331621a-de52-439f-ba09-66f9d577e6ae"
   },
   "outputs": [],
   "source": [
    "graph = rfm.LocalGraph.from_data({'table': df})\n",
    "model = rfm.KumoRFM(graph)"
   ]
  },
  {
   "cell_type": "markdown",
   "metadata": {
    "id": "ipVqKovtIAWb"
   },
   "source": [
    "We can see that `KumoRFM` has correctly detected the feature embedding column (`dtype='floatlist'`, `stype='sequence'`):"
   ]
  },
  {
   "cell_type": "code",
   "execution_count": null,
   "metadata": {
    "colab": {
     "base_uri": "https://localhost:8080/",
     "height": 185
    },
    "id": "ufUNCkkGH6K0",
    "outputId": "11773a69-6241-4a67-b663-dc8526d5fb0b"
   },
   "outputs": [],
   "source": [
    "graph['table'].print_metadata()"
   ]
  },
  {
   "cell_type": "markdown",
   "metadata": {
    "id": "BEIIqDv8IMQ2"
   },
   "source": [
    "In order to query the model, we ask `KumoRFM` to predict the `target` column for all IDs within our test set:"
   ]
  },
  {
   "cell_type": "code",
   "execution_count": null,
   "metadata": {
    "colab": {
     "base_uri": "https://localhost:8080/",
     "height": 86,
     "referenced_widgets": [
      "faa2e6434ee4495a869aa3c268676665",
      "b7bf1eafc9914c1da240bfdb2caedbc1"
     ]
    },
    "id": "8FK6LtyQILdU",
    "outputId": "f6e28c9e-4d9f-4537-bcf3-0aeb7ca1c850"
   },
   "outputs": [],
   "source": [
    "query = (f\"PREDICT table.target=1 \"\n",
    "         f\"FOR table.id IN ({', '.join(str(i) for i in range(len(y_test)))})\")\n",
    "\n",
    "result = model.predict(query)"
   ]
  },
  {
   "cell_type": "markdown",
   "metadata": {
    "id": "CXhQ77e9IaB3"
   },
   "source": [
    "Finally, we can easily report metrics on top:"
   ]
  },
  {
   "cell_type": "code",
   "execution_count": null,
   "metadata": {
    "colab": {
     "base_uri": "https://localhost:8080/"
    },
    "id": "4SqaBzcjIZeX",
    "outputId": "5a5640e5-3112-4ac7-88af-2cc65edfe66d"
   },
   "outputs": [],
   "source": [
    "from sklearn.metrics import roc_auc_score\n",
    "\n",
    "y_pred = result['True_PROB'].to_numpy()\n",
    "print(f\"AUROC: {roc_auc_score(y_test, y_pred):.4f}\")"
   ]
  }
 ],
 "metadata": {
  "colab": {
   "provenance": []
  },
  "kernelspec": {
   "display_name": "Python 3",
   "name": "python3"
  },
  "language_info": {
   "name": "python"
  },
  "widgets": {
   "application/vnd.jupyter.widget-state+json": {
    "513f3454458546a1a855009d9e52f225": {
     "model_module": "@jupyter-widgets/base",
     "model_module_version": "1.2.0",
     "model_name": "LayoutModel",
     "state": {
      "_model_module": "@jupyter-widgets/base",
      "_model_module_version": "1.2.0",
      "_model_name": "LayoutModel",
      "_view_count": null,
      "_view_module": "@jupyter-widgets/base",
      "_view_module_version": "1.2.0",
      "_view_name": "LayoutView",
      "align_content": null,
      "align_items": null,
      "align_self": null,
      "border": null,
      "bottom": null,
      "display": null,
      "flex": null,
      "flex_flow": null,
      "grid_area": null,
      "grid_auto_columns": null,
      "grid_auto_flow": null,
      "grid_auto_rows": null,
      "grid_column": null,
      "grid_gap": null,
      "grid_row": null,
      "grid_template_areas": null,
      "grid_template_columns": null,
      "grid_template_rows": null,
      "height": null,
      "justify_content": null,
      "justify_items": null,
      "left": null,
      "margin": null,
      "max_height": null,
      "max_width": null,
      "min_height": null,
      "min_width": null,
      "object_fit": null,
      "object_position": null,
      "order": null,
      "overflow": null,
      "overflow_x": null,
      "overflow_y": null,
      "padding": null,
      "right": null,
      "top": null,
      "visibility": null,
      "width": null
     }
    },
    "8a29ee474bb3497ea30913c03a945ed5": {
     "model_module": "@jupyter-widgets/output",
     "model_module_version": "1.0.0",
     "model_name": "OutputModel",
     "state": {
      "_dom_classes": [],
      "_model_module": "@jupyter-widgets/output",
      "_model_module_version": "1.0.0",
      "_model_name": "OutputModel",
      "_view_count": null,
      "_view_module": "@jupyter-widgets/output",
      "_view_module_version": "1.0.0",
      "_view_name": "OutputView",
      "layout": "IPY_MODEL_513f3454458546a1a855009d9e52f225",
      "msg_id": "",
      "outputs": [
       {
        "data": {
         "text/html": "<pre style=\"white-space:pre;overflow-x:auto;line-height:normal;font-family:Menlo,'DejaVu Sans Mono',consolas,'Courier New',monospace\"><span style=\"color: #008000; text-decoration-color: #008000\">✅</span> <span style=\"color: #008000; text-decoration-color: #008000\">Materializing graph (0.00s)                 </span>\n   <span style=\"color: #7f7f7f; text-decoration-color: #7f7f7f\">↳ Sanitized input data                      </span>\n   <span style=\"color: #7f7f7f; text-decoration-color: #7f7f7f\">↳ Collected primary key from 1 table        </span>\n   <span style=\"color: #7f7f7f; text-decoration-color: #7f7f7f\">↳ Identified static graph without timestamps</span>\n   <span style=\"color: #7f7f7f; text-decoration-color: #7f7f7f\">↳ Created graph with 569 nodes and 0 edges  </span>\n</pre>\n",
         "text/plain": "\u001b[32m✅\u001b[0m \u001b[32mMaterializing graph (0.00s)                 \u001b[0m\n   \u001b[2m↳ Sanitized input data                      \u001b[0m\n   \u001b[2m↳ Collected primary key from 1 table        \u001b[0m\n   \u001b[2m↳ Identified static graph without timestamps\u001b[0m\n   \u001b[2m↳ Created graph with 569 nodes and 0 edges  \u001b[0m\n"
        },
        "metadata": {},
        "output_type": "display_data"
       }
      ]
     }
    },
    "b7bf1eafc9914c1da240bfdb2caedbc1": {
     "model_module": "@jupyter-widgets/base",
     "model_module_version": "1.2.0",
     "model_name": "LayoutModel",
     "state": {
      "_model_module": "@jupyter-widgets/base",
      "_model_module_version": "1.2.0",
      "_model_name": "LayoutModel",
      "_view_count": null,
      "_view_module": "@jupyter-widgets/base",
      "_view_module_version": "1.2.0",
      "_view_name": "LayoutView",
      "align_content": null,
      "align_items": null,
      "align_self": null,
      "border": null,
      "bottom": null,
      "display": null,
      "flex": null,
      "flex_flow": null,
      "grid_area": null,
      "grid_auto_columns": null,
      "grid_auto_flow": null,
      "grid_auto_rows": null,
      "grid_column": null,
      "grid_gap": null,
      "grid_row": null,
      "grid_template_areas": null,
      "grid_template_columns": null,
      "grid_template_rows": null,
      "height": null,
      "justify_content": null,
      "justify_items": null,
      "left": null,
      "margin": null,
      "max_height": null,
      "max_width": null,
      "min_height": null,
      "min_width": null,
      "object_fit": null,
      "object_position": null,
      "order": null,
      "overflow": null,
      "overflow_x": null,
      "overflow_y": null,
      "padding": null,
      "right": null,
      "top": null,
      "visibility": null,
      "width": null
     }
    },
    "faa2e6434ee4495a869aa3c268676665": {
     "model_module": "@jupyter-widgets/output",
     "model_module_version": "1.0.0",
     "model_name": "OutputModel",
     "state": {
      "_dom_classes": [],
      "_model_module": "@jupyter-widgets/output",
      "_model_module_version": "1.0.0",
      "_model_name": "OutputModel",
      "_view_count": null,
      "_view_module": "@jupyter-widgets/output",
      "_view_module_version": "1.0.0",
      "_view_name": "OutputView",
      "layout": "IPY_MODEL_b7bf1eafc9914c1da240bfdb2caedbc1",
      "msg_id": "",
      "outputs": [
       {
        "data": {
         "text/html": "<pre style=\"white-space:pre;overflow-x:auto;line-height:normal;font-family:Menlo,'DejaVu Sans Mono',consolas,'Courier New',monospace\"><span style=\"color: #008000; text-decoration-color: #008000\">✅</span> <span style=\"color: #008000; text-decoration-color: #008000; font-weight: bold\">PREDICT</span><span style=\"color: #008000; text-decoration-color: #008000\"> table.target=1 </span><span style=\"color: #008000; text-decoration-color: #008000; font-weight: bold\">FOR</span><span style=\"color: #008000; text-decoration-color: #008000\"> table.id </span><span style=\"color: #008000; text-decoration-color: #008000; font-weight: bold\">IN</span><span style=\"color: #008000; text-decoration-color: #008000\"> (0, 1, 2, 3, 4, ...) (0.65s)</span>\n   <span style=\"color: #7f7f7f; text-decoration-color: #7f7f7f\">↳ Identified static binary classification task                     </span>\n   <span style=\"color: #7f7f7f; text-decoration-color: #7f7f7f\">↳ Collected 284 in-context examples with 59.86% positive cases     </span>\n   <span style=\"color: #7f7f7f; text-decoration-color: #7f7f7f\">↳ Generated context of size 0.10MB                                 </span>\n</pre>\n",
         "text/plain": "\u001b[32m✅\u001b[0m \u001b[1;32mPREDICT\u001b[0m\u001b[32m table.target=1 \u001b[0m\u001b[1;32mFOR\u001b[0m\u001b[32m table.id \u001b[0m\u001b[1;32mIN\u001b[0m\u001b[32m (0, 1, 2, 3, 4, ...) (0.65s)\u001b[0m\n   \u001b[2m↳ Identified static binary classification task                     \u001b[0m\n   \u001b[2m↳ Collected 284 in-context examples with 59.86% positive cases     \u001b[0m\n   \u001b[2m↳ Generated context of size 0.10MB                                 \u001b[0m\n"
        },
        "metadata": {},
        "output_type": "display_data"
       }
      ]
     }
    }
   }
  }
 },
 "nbformat": 4,
 "nbformat_minor": 0
}
