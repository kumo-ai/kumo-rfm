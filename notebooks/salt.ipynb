{
  "nbformat": 4,
  "nbformat_minor": 0,
  "metadata": {
    "colab": {
      "provenance": []
    },
    "kernelspec": {
      "name": "python3",
      "display_name": "Python 3"
    },
    "language_info": {
      "name": "python"
    },
    "widgets": {
      "application/vnd.jupyter.widget-state+json": {
        "f2627baa354749589f6aa4c22c19ead5": {
          "model_module": "@jupyter-widgets/output",
          "model_name": "OutputModel",
          "model_module_version": "1.0.0",
          "state": {
            "_dom_classes": [],
            "_model_module": "@jupyter-widgets/output",
            "_model_module_version": "1.0.0",
            "_model_name": "OutputModel",
            "_view_count": null,
            "_view_module": "@jupyter-widgets/output",
            "_view_module_version": "1.0.0",
            "_view_name": "OutputView",
            "layout": "IPY_MODEL_f0fb4a7911144da8bd8d777610c72211",
            "msg_id": "",
            "outputs": [
              {
                "output_type": "display_data",
                "data": {
                  "text/plain": "\u001b[32m✅\u001b[0m \u001b[32mMaterializing graph (6.21s)                              \u001b[0m\n   \u001b[2m↳ Sanitized input data                                   \u001b[0m\n   \u001b[2m↳ Collected primary keys from 4 tables                   \u001b[0m\n   \u001b[2m↳ Identified temporal graph from 2018-01-02 to 2020-12-31\u001b[0m\n   \u001b[2m↳ Created graph with 4,748,946 nodes and 23,474,618 edges\u001b[0m\n",
                  "text/html": "<pre style=\"white-space:pre;overflow-x:auto;line-height:normal;font-family:Menlo,'DejaVu Sans Mono',consolas,'Courier New',monospace\"><span style=\"color: #008000; text-decoration-color: #008000\">✅</span> <span style=\"color: #008000; text-decoration-color: #008000\">Materializing graph (6.21s)                              </span>\n   <span style=\"color: #7f7f7f; text-decoration-color: #7f7f7f\">↳ Sanitized input data                                   </span>\n   <span style=\"color: #7f7f7f; text-decoration-color: #7f7f7f\">↳ Collected primary keys from 4 tables                   </span>\n   <span style=\"color: #7f7f7f; text-decoration-color: #7f7f7f\">↳ Identified temporal graph from 2018-01-02 to 2020-12-31</span>\n   <span style=\"color: #7f7f7f; text-decoration-color: #7f7f7f\">↳ Created graph with 4,748,946 nodes and 23,474,618 edges</span>\n</pre>\n"
                },
                "metadata": {}
              }
            ]
          }
        },
        "f0fb4a7911144da8bd8d777610c72211": {
          "model_module": "@jupyter-widgets/base",
          "model_name": "LayoutModel",
          "model_module_version": "1.2.0",
          "state": {
            "_model_module": "@jupyter-widgets/base",
            "_model_module_version": "1.2.0",
            "_model_name": "LayoutModel",
            "_view_count": null,
            "_view_module": "@jupyter-widgets/base",
            "_view_module_version": "1.2.0",
            "_view_name": "LayoutView",
            "align_content": null,
            "align_items": null,
            "align_self": null,
            "border": null,
            "bottom": null,
            "display": null,
            "flex": null,
            "flex_flow": null,
            "grid_area": null,
            "grid_auto_columns": null,
            "grid_auto_flow": null,
            "grid_auto_rows": null,
            "grid_column": null,
            "grid_gap": null,
            "grid_row": null,
            "grid_template_areas": null,
            "grid_template_columns": null,
            "grid_template_rows": null,
            "height": null,
            "justify_content": null,
            "justify_items": null,
            "left": null,
            "margin": null,
            "max_height": null,
            "max_width": null,
            "min_height": null,
            "min_width": null,
            "object_fit": null,
            "object_position": null,
            "order": null,
            "overflow": null,
            "overflow_x": null,
            "overflow_y": null,
            "padding": null,
            "right": null,
            "top": null,
            "visibility": null,
            "width": null
          }
        },
        "206ee0ff94464ffd99d549ae2c952ffd": {
          "model_module": "@jupyter-widgets/output",
          "model_name": "OutputModel",
          "model_module_version": "1.0.0",
          "state": {
            "_dom_classes": [],
            "_model_module": "@jupyter-widgets/output",
            "_model_module_version": "1.0.0",
            "_model_name": "OutputModel",
            "_view_count": null,
            "_view_module": "@jupyter-widgets/output",
            "_view_module_version": "1.0.0",
            "_view_name": "OutputView",
            "layout": "IPY_MODEL_cbd0009ff98847f18ee62a25e0d2fe0d",
            "msg_id": "",
            "outputs": [
              {
                "output_type": "display_data",
                "data": {
                  "text/plain": "\u001b[32m✅\u001b[0m \u001b[1;32mPREDICT\u001b[0m\u001b[32m items.ITEMINCOTERMSCLASSIFICATION \u001b[0m\u001b[1;32mFOR\u001b[0m\u001b[32m items.ID \u001b[0m\u001b[1;32mIN\u001b[0m\u001b[32m (1916685, 1916686, 1916687, 1916688, 1916689, ...)    \u001b[0m\n   \u001b[32m(16.25s)                                                                                                        \u001b[0m\n   \u001b[2m↳ Identified static multi-class classification task                                                             \u001b[0m\n   \u001b[2m↳ Collected 10,000 in-context examples holding 12 classes                                                       \u001b[0m\n   \u001b[2m↳ Generated context of size 16.04MB                                                                             \u001b[0m\n",
                  "text/html": "<pre style=\"white-space:pre;overflow-x:auto;line-height:normal;font-family:Menlo,'DejaVu Sans Mono',consolas,'Courier New',monospace\"><span style=\"color: #008000; text-decoration-color: #008000\">✅</span> <span style=\"color: #008000; text-decoration-color: #008000; font-weight: bold\">PREDICT</span><span style=\"color: #008000; text-decoration-color: #008000\"> items.ITEMINCOTERMSCLASSIFICATION </span><span style=\"color: #008000; text-decoration-color: #008000; font-weight: bold\">FOR</span><span style=\"color: #008000; text-decoration-color: #008000\"> items.ID </span><span style=\"color: #008000; text-decoration-color: #008000; font-weight: bold\">IN</span><span style=\"color: #008000; text-decoration-color: #008000\"> (1916685, 1916686, 1916687, 1916688, 1916689, ...)    </span>\n   <span style=\"color: #008000; text-decoration-color: #008000\">(16.25s)                                                                                                        </span>\n   <span style=\"color: #7f7f7f; text-decoration-color: #7f7f7f\">↳ Identified static multi-class classification task                                                             </span>\n   <span style=\"color: #7f7f7f; text-decoration-color: #7f7f7f\">↳ Collected 10,000 in-context examples holding 12 classes                                                       </span>\n   <span style=\"color: #7f7f7f; text-decoration-color: #7f7f7f\">↳ Generated context of size 16.04MB                                                                             </span>\n</pre>\n"
                },
                "metadata": {}
              }
            ]
          }
        },
        "cbd0009ff98847f18ee62a25e0d2fe0d": {
          "model_module": "@jupyter-widgets/base",
          "model_name": "LayoutModel",
          "model_module_version": "1.2.0",
          "state": {
            "_model_module": "@jupyter-widgets/base",
            "_model_module_version": "1.2.0",
            "_model_name": "LayoutModel",
            "_view_count": null,
            "_view_module": "@jupyter-widgets/base",
            "_view_module_version": "1.2.0",
            "_view_name": "LayoutView",
            "align_content": null,
            "align_items": null,
            "align_self": null,
            "border": null,
            "bottom": null,
            "display": null,
            "flex": null,
            "flex_flow": null,
            "grid_area": null,
            "grid_auto_columns": null,
            "grid_auto_flow": null,
            "grid_auto_rows": null,
            "grid_column": null,
            "grid_gap": null,
            "grid_row": null,
            "grid_template_areas": null,
            "grid_template_columns": null,
            "grid_template_rows": null,
            "height": null,
            "justify_content": null,
            "justify_items": null,
            "left": null,
            "margin": null,
            "max_height": null,
            "max_width": null,
            "min_height": null,
            "min_width": null,
            "object_fit": null,
            "object_position": null,
            "order": null,
            "overflow": null,
            "overflow_x": null,
            "overflow_y": null,
            "padding": null,
            "right": null,
            "top": null,
            "visibility": null,
            "width": null
          }
        }
      }
    }
  },
  "cells": [
    {
      "cell_type": "markdown",
      "source": [
        "# KumoRFM SALT Evaluation\n",
        "\n",
        "This notebook provides a step-by-step guide on how to evaluate the performance of `KumoRFM` on the [SALT](https://github.com/SAP-samples/salt) dataset.\n",
        "\n",
        "SALT is designed to reflect real-world customer interactions within an Enterprise Resource Planning (ERP) system, where several fields are commonly missing from sales orders and must be predicted.\n",
        "It comprises four (anonymized) core tables—sales documents, sales document items, customers, and addresses—amounting to approximately 5 million records in total.\n",
        "The dataset defines eight missing fields as target variables for multi-class classification tasks.\n",
        "These tasks are characterized by significant class imbalances, a wide range of class counts (up to 589), and challenges such as label diversity, noise, and distributional drift.\n",
        "\n",
        "Let's start by installing the necessary packages:"
      ],
      "metadata": {
        "id": "CSWAlkHYOzGp"
      }
    },
    {
      "cell_type": "code",
      "execution_count": null,
      "metadata": {
        "colab": {
          "base_uri": "https://localhost:8080/"
        },
        "collapsed": true,
        "id": "ZyBJUqC9OGj3",
        "outputId": "97992a7f-9b14-40a5-f7fb-95c9f0b887b5"
      },
      "outputs": [
        {
          "output_type": "stream",
          "name": "stdout",
          "text": [
            "Collecting kumoai\n",
            "  Downloading kumoai-2.6.0.dev202507310225-cp311-cp311-manylinux_2_27_x86_64.manylinux_2_28_x86_64.whl.metadata (2.1 kB)\n",
            "Requirement already satisfied: pandas in /usr/local/lib/python3.11/dist-packages (from kumoai) (2.2.2)\n",
            "Requirement already satisfied: pyarrow<19.0.0,>=8.0.0 in /usr/local/lib/python3.11/dist-packages (from kumoai) (18.1.0)\n",
            "Requirement already satisfied: requests>=2.28.2 in /usr/local/lib/python3.11/dist-packages (from kumoai) (2.32.3)\n",
            "Requirement already satisfied: urllib3 in /usr/local/lib/python3.11/dist-packages (from kumoai) (2.5.0)\n",
            "Requirement already satisfied: plotly in /usr/local/lib/python3.11/dist-packages (from kumoai) (5.24.1)\n",
            "Requirement already satisfied: typing_extensions>=4.5.0 in /usr/local/lib/python3.11/dist-packages (from kumoai) (4.14.1)\n",
            "Collecting kumo-api==0.28.0 (from kumoai)\n",
            "  Downloading kumo_api-0.28.0-py3-none-any.whl.metadata (1.5 kB)\n",
            "Requirement already satisfied: tqdm>=4.66.0 in /usr/local/lib/python3.11/dist-packages (from kumoai) (4.67.1)\n",
            "Requirement already satisfied: aiohttp>=3.10.0 in /usr/local/lib/python3.11/dist-packages (from kumoai) (3.12.14)\n",
            "Collecting pydantic<2,>=1.10.21 (from kumoai)\n",
            "  Downloading pydantic-1.10.22-cp311-cp311-manylinux_2_17_x86_64.manylinux2014_x86_64.whl.metadata (154 kB)\n",
            "\u001b[2K     \u001b[90m━━━━━━━━━━━━━━━━━━━━━━━━━━━━━━━━━━━━━━━\u001b[0m \u001b[32m154.1/154.1 kB\u001b[0m \u001b[31m5.4 MB/s\u001b[0m eta \u001b[36m0:00:00\u001b[0m\n",
            "\u001b[?25hRequirement already satisfied: rich>=9.0.0 in /usr/local/lib/python3.11/dist-packages (from kumoai) (13.9.4)\n",
            "Requirement already satisfied: protobuf>=3.19.0 in /usr/local/lib/python3.11/dist-packages (from kumo-api==0.28.0->kumoai) (5.29.5)\n",
            "Requirement already satisfied: aiohappyeyeballs>=2.5.0 in /usr/local/lib/python3.11/dist-packages (from aiohttp>=3.10.0->kumoai) (2.6.1)\n",
            "Requirement already satisfied: aiosignal>=1.4.0 in /usr/local/lib/python3.11/dist-packages (from aiohttp>=3.10.0->kumoai) (1.4.0)\n",
            "Requirement already satisfied: attrs>=17.3.0 in /usr/local/lib/python3.11/dist-packages (from aiohttp>=3.10.0->kumoai) (25.3.0)\n",
            "Requirement already satisfied: frozenlist>=1.1.1 in /usr/local/lib/python3.11/dist-packages (from aiohttp>=3.10.0->kumoai) (1.7.0)\n",
            "Requirement already satisfied: multidict<7.0,>=4.5 in /usr/local/lib/python3.11/dist-packages (from aiohttp>=3.10.0->kumoai) (6.6.3)\n",
            "Requirement already satisfied: propcache>=0.2.0 in /usr/local/lib/python3.11/dist-packages (from aiohttp>=3.10.0->kumoai) (0.3.2)\n",
            "Requirement already satisfied: yarl<2.0,>=1.17.0 in /usr/local/lib/python3.11/dist-packages (from aiohttp>=3.10.0->kumoai) (1.20.1)\n",
            "Requirement already satisfied: charset-normalizer<4,>=2 in /usr/local/lib/python3.11/dist-packages (from requests>=2.28.2->kumoai) (3.4.2)\n",
            "Requirement already satisfied: idna<4,>=2.5 in /usr/local/lib/python3.11/dist-packages (from requests>=2.28.2->kumoai) (3.10)\n",
            "Requirement already satisfied: certifi>=2017.4.17 in /usr/local/lib/python3.11/dist-packages (from requests>=2.28.2->kumoai) (2025.7.14)\n",
            "Requirement already satisfied: markdown-it-py>=2.2.0 in /usr/local/lib/python3.11/dist-packages (from rich>=9.0.0->kumoai) (3.0.0)\n",
            "Requirement already satisfied: pygments<3.0.0,>=2.13.0 in /usr/local/lib/python3.11/dist-packages (from rich>=9.0.0->kumoai) (2.19.2)\n",
            "Requirement already satisfied: numpy>=1.23.2 in /usr/local/lib/python3.11/dist-packages (from pandas->kumoai) (2.0.2)\n",
            "Requirement already satisfied: python-dateutil>=2.8.2 in /usr/local/lib/python3.11/dist-packages (from pandas->kumoai) (2.9.0.post0)\n",
            "Requirement already satisfied: pytz>=2020.1 in /usr/local/lib/python3.11/dist-packages (from pandas->kumoai) (2025.2)\n",
            "Requirement already satisfied: tzdata>=2022.7 in /usr/local/lib/python3.11/dist-packages (from pandas->kumoai) (2025.2)\n",
            "Requirement already satisfied: tenacity>=6.2.0 in /usr/local/lib/python3.11/dist-packages (from plotly->kumoai) (8.5.0)\n",
            "Requirement already satisfied: packaging in /usr/local/lib/python3.11/dist-packages (from plotly->kumoai) (25.0)\n",
            "Requirement already satisfied: mdurl~=0.1 in /usr/local/lib/python3.11/dist-packages (from markdown-it-py>=2.2.0->rich>=9.0.0->kumoai) (0.1.2)\n",
            "Requirement already satisfied: six>=1.5 in /usr/local/lib/python3.11/dist-packages (from python-dateutil>=2.8.2->pandas->kumoai) (1.17.0)\n",
            "Downloading kumoai-2.6.0.dev202507310225-cp311-cp311-manylinux_2_27_x86_64.manylinux_2_28_x86_64.whl (282 kB)\n",
            "\u001b[2K   \u001b[90m━━━━━━━━━━━━━━━━━━━━━━━━━━━━━━━━━━━━━━━━\u001b[0m \u001b[32m282.2/282.2 kB\u001b[0m \u001b[31m15.8 MB/s\u001b[0m eta \u001b[36m0:00:00\u001b[0m\n",
            "\u001b[?25hDownloading kumo_api-0.28.0-py3-none-any.whl (61 kB)\n",
            "\u001b[2K   \u001b[90m━━━━━━━━━━━━━━━━━━━━━━━━━━━━━━━━━━━━━━━━\u001b[0m \u001b[32m61.6/61.6 kB\u001b[0m \u001b[31m4.2 MB/s\u001b[0m eta \u001b[36m0:00:00\u001b[0m\n",
            "\u001b[?25hDownloading pydantic-1.10.22-cp311-cp311-manylinux_2_17_x86_64.manylinux2014_x86_64.whl (3.1 MB)\n",
            "\u001b[2K   \u001b[90m━━━━━━━━━━━━━━━━━━━━━━━━━━━━━━━━━━━━━━━━\u001b[0m \u001b[32m3.1/3.1 MB\u001b[0m \u001b[31m28.3 MB/s\u001b[0m eta \u001b[36m0:00:00\u001b[0m\n",
            "\u001b[?25hInstalling collected packages: pydantic, kumo-api, kumoai\n",
            "  Attempting uninstall: pydantic\n",
            "    Found existing installation: pydantic 2.11.7\n",
            "    Uninstalling pydantic-2.11.7:\n",
            "      Successfully uninstalled pydantic-2.11.7\n",
            "\u001b[31mERROR: pip's dependency resolver does not currently take into account all the packages that are installed. This behaviour is the source of the following dependency conflicts.\n",
            "google-genai 1.27.0 requires pydantic<3.0.0,>=2.0.0, but you have pydantic 1.10.22 which is incompatible.\n",
            "langchain-core 0.3.72 requires pydantic>=2.7.4, but you have pydantic 1.10.22 which is incompatible.\n",
            "langchain 0.3.27 requires pydantic<3.0.0,>=2.7.4, but you have pydantic 1.10.22 which is incompatible.\n",
            "thinc 8.3.6 requires pydantic<3.0.0,>=2.0.0, but you have pydantic 1.10.22 which is incompatible.\n",
            "gradio 5.38.2 requires pydantic<2.12,>=2.0, but you have pydantic 1.10.22 which is incompatible.\n",
            "albumentations 2.0.8 requires pydantic>=2.9.2, but you have pydantic 1.10.22 which is incompatible.\u001b[0m\u001b[31m\n",
            "\u001b[0mSuccessfully installed kumo-api-0.28.0 kumoai-2.6.0.dev202507310225 pydantic-1.10.22\n",
            "Requirement already satisfied: datasets in /usr/local/lib/python3.11/dist-packages (4.0.0)\n",
            "Requirement already satisfied: filelock in /usr/local/lib/python3.11/dist-packages (from datasets) (3.18.0)\n",
            "Requirement already satisfied: numpy>=1.17 in /usr/local/lib/python3.11/dist-packages (from datasets) (2.0.2)\n",
            "Requirement already satisfied: pyarrow>=15.0.0 in /usr/local/lib/python3.11/dist-packages (from datasets) (18.1.0)\n",
            "Requirement already satisfied: dill<0.3.9,>=0.3.0 in /usr/local/lib/python3.11/dist-packages (from datasets) (0.3.8)\n",
            "Requirement already satisfied: pandas in /usr/local/lib/python3.11/dist-packages (from datasets) (2.2.2)\n",
            "Requirement already satisfied: requests>=2.32.2 in /usr/local/lib/python3.11/dist-packages (from datasets) (2.32.3)\n",
            "Requirement already satisfied: tqdm>=4.66.3 in /usr/local/lib/python3.11/dist-packages (from datasets) (4.67.1)\n",
            "Requirement already satisfied: xxhash in /usr/local/lib/python3.11/dist-packages (from datasets) (3.5.0)\n",
            "Requirement already satisfied: multiprocess<0.70.17 in /usr/local/lib/python3.11/dist-packages (from datasets) (0.70.16)\n",
            "Requirement already satisfied: fsspec<=2025.3.0,>=2023.1.0 in /usr/local/lib/python3.11/dist-packages (from fsspec[http]<=2025.3.0,>=2023.1.0->datasets) (2025.3.0)\n",
            "Requirement already satisfied: huggingface-hub>=0.24.0 in /usr/local/lib/python3.11/dist-packages (from datasets) (0.34.1)\n",
            "Requirement already satisfied: packaging in /usr/local/lib/python3.11/dist-packages (from datasets) (25.0)\n",
            "Requirement already satisfied: pyyaml>=5.1 in /usr/local/lib/python3.11/dist-packages (from datasets) (6.0.2)\n",
            "Requirement already satisfied: aiohttp!=4.0.0a0,!=4.0.0a1 in /usr/local/lib/python3.11/dist-packages (from fsspec[http]<=2025.3.0,>=2023.1.0->datasets) (3.12.14)\n",
            "Requirement already satisfied: typing-extensions>=3.7.4.3 in /usr/local/lib/python3.11/dist-packages (from huggingface-hub>=0.24.0->datasets) (4.14.1)\n",
            "Requirement already satisfied: hf-xet<2.0.0,>=1.1.3 in /usr/local/lib/python3.11/dist-packages (from huggingface-hub>=0.24.0->datasets) (1.1.5)\n",
            "Requirement already satisfied: charset-normalizer<4,>=2 in /usr/local/lib/python3.11/dist-packages (from requests>=2.32.2->datasets) (3.4.2)\n",
            "Requirement already satisfied: idna<4,>=2.5 in /usr/local/lib/python3.11/dist-packages (from requests>=2.32.2->datasets) (3.10)\n",
            "Requirement already satisfied: urllib3<3,>=1.21.1 in /usr/local/lib/python3.11/dist-packages (from requests>=2.32.2->datasets) (2.5.0)\n",
            "Requirement already satisfied: certifi>=2017.4.17 in /usr/local/lib/python3.11/dist-packages (from requests>=2.32.2->datasets) (2025.7.14)\n",
            "Requirement already satisfied: python-dateutil>=2.8.2 in /usr/local/lib/python3.11/dist-packages (from pandas->datasets) (2.9.0.post0)\n",
            "Requirement already satisfied: pytz>=2020.1 in /usr/local/lib/python3.11/dist-packages (from pandas->datasets) (2025.2)\n",
            "Requirement already satisfied: tzdata>=2022.7 in /usr/local/lib/python3.11/dist-packages (from pandas->datasets) (2025.2)\n",
            "Requirement already satisfied: aiohappyeyeballs>=2.5.0 in /usr/local/lib/python3.11/dist-packages (from aiohttp!=4.0.0a0,!=4.0.0a1->fsspec[http]<=2025.3.0,>=2023.1.0->datasets) (2.6.1)\n",
            "Requirement already satisfied: aiosignal>=1.4.0 in /usr/local/lib/python3.11/dist-packages (from aiohttp!=4.0.0a0,!=4.0.0a1->fsspec[http]<=2025.3.0,>=2023.1.0->datasets) (1.4.0)\n",
            "Requirement already satisfied: attrs>=17.3.0 in /usr/local/lib/python3.11/dist-packages (from aiohttp!=4.0.0a0,!=4.0.0a1->fsspec[http]<=2025.3.0,>=2023.1.0->datasets) (25.3.0)\n",
            "Requirement already satisfied: frozenlist>=1.1.1 in /usr/local/lib/python3.11/dist-packages (from aiohttp!=4.0.0a0,!=4.0.0a1->fsspec[http]<=2025.3.0,>=2023.1.0->datasets) (1.7.0)\n",
            "Requirement already satisfied: multidict<7.0,>=4.5 in /usr/local/lib/python3.11/dist-packages (from aiohttp!=4.0.0a0,!=4.0.0a1->fsspec[http]<=2025.3.0,>=2023.1.0->datasets) (6.6.3)\n",
            "Requirement already satisfied: propcache>=0.2.0 in /usr/local/lib/python3.11/dist-packages (from aiohttp!=4.0.0a0,!=4.0.0a1->fsspec[http]<=2025.3.0,>=2023.1.0->datasets) (0.3.2)\n",
            "Requirement already satisfied: yarl<2.0,>=1.17.0 in /usr/local/lib/python3.11/dist-packages (from aiohttp!=4.0.0a0,!=4.0.0a1->fsspec[http]<=2025.3.0,>=2023.1.0->datasets) (1.20.1)\n",
            "Requirement already satisfied: six>=1.5 in /usr/local/lib/python3.11/dist-packages (from python-dateutil>=2.8.2->pandas->datasets) (1.17.0)\n"
          ]
        }
      ],
      "source": [
        "!pip install kumoai --pre --upgrade\n",
        "!pip install datasets"
      ]
    },
    {
      "cell_type": "code",
      "source": [
        "from kumoai.experimental import rfm"
      ],
      "metadata": {
        "id": "Q9VccycvOPwI"
      },
      "execution_count": null,
      "outputs": []
    },
    {
      "cell_type": "markdown",
      "source": [
        "Ensure that we are authorized:"
      ],
      "metadata": {
        "id": "5lgENQIjOPDp"
      }
    },
    {
      "cell_type": "code",
      "source": [
        "import os\n",
        "\n",
        "if not os.environ.get(\"KUMO_API_KEY\"):\n",
        "    rfm.authenticate()"
      ],
      "metadata": {
        "colab": {
          "base_uri": "https://localhost:8080/",
          "height": 139
        },
        "id": "nZGRsyBSPTYQ",
        "outputId": "e43495a6-0f13-4a80-a4c0-f9418254899e"
      },
      "execution_count": null,
      "outputs": [
        {
          "output_type": "display_data",
          "data": {
            "text/plain": [
              "<IPython.core.display.HTML object>"
            ],
            "text/html": [
              "\n",
              "        <div style=\"padding: 10px;\">\n",
              "            <!-- <script src=\"https://cdn.tailwindcss.com\"></script> -->\n",
              "            <svg width=\"100\" height=\"50\" viewBox=\"0 0 184 92\" fill=\"none\"\n",
              "                xmlns=\"http://www.w3.org/2000/svg\">\n",
              "                <g clip-path=\"url(#clip0_749_1962)\">\n",
              "                    <path d=\"M67.159 67.919V46.238L53.494 59.491L68.862 82.3H61.567L49.1 63.74L42.089 70.54V82.3H36.069V29.605H42.089V62.182L58.731 45.822H73.109V67.922C73.109 73.375 76.72 77.341 82.386 77.341C87.933 77.341 91.526 73.441 91.586 68.059V0H0V91.586H91.586V80.317C88.891 82.1996 85.6731 83.1888 82.386 83.145C73.817 83.145 67.16 77.125 67.16 67.919H67.159Z\" # noqa: E501\n",
              "                        fill=\"#FC1373\"/>\n",
              "                    <path d=\"M147.398 82.296H141.379V58.715C141.379 53.97 138.262 50.429 133.447 50.429C128.632 50.429 125.515 53.97 125.515 58.715V82.298H119.495V58.715C119.495 53.97 116.379 50.429 111.563 50.429C106.747 50.429 103.631 53.97 103.631 58.715V82.298H97.611V58.925C97.611 50.993 103.347 44.902 111.563 44.902C113.756 44.8229 115.929 45.3412 117.85 46.4016C119.771 47.4619 121.367 49.0244 122.469 50.922C123.592 49.0276 125.204 47.4696 127.135 46.4107C129.066 45.3517 131.246 44.8307 133.447 44.902C141.732 44.902 147.398 50.993 147.398 58.925V82.296Z\"\n",
              "                        fill=\"#FC1373\"/>\n",
              "                    <path d=\"M183.909 64.166C183.909 74.647 175.977 83.217 165.567 83.217C155.226 83.217 147.224 74.648 147.224 64.166C147.224 53.543 155.224 44.903 165.567 44.903C175.976 44.903 183.909 53.543 183.909 64.166ZM177.889 64.166C177.889 56.73 172.366 50.639 165.567 50.639C158.839 50.639 153.315 56.73 153.315 64.166C153.315 71.461 158.839 77.41 165.567 77.41C172.367 77.41 177.889 71.461 177.889 64.166Z\"\n",
              "                        fill=\"#FC1373\"/>\n",
              "                </g>\n",
              "                <defs>\n",
              "                    <clipPath id=\"clip0_749_1962\">\n",
              "                        <rect width=\"183.908\" height=\"91.586\" fill=\"white\"/>\n",
              "                    </clipPath>\n",
              "                </defs>\n",
              "            </svg>\n",
              "            <div id=\"prompt\">\n",
              "                <p>\n",
              "                    Click the button below to connect to KumoRFM and\n",
              "                    generate your API key.\n",
              "                </p>\n",
              "                <button id=\"api-key-button-5e3043a8-c6a5-4a67-a493-3171b7cf05fe\">\n",
              "                    Generate API Key\n",
              "                </button>\n",
              "            </div>\n",
              "            <div id=\"success\" style=\"display: none;\">\n",
              "                <p>\n",
              "                    ✓ Your API key has been created and configured in your\n",
              "                    colab notebook.\n",
              "                </p>\n",
              "                To manage all your API keys, visit the\n",
              "                <a href=\"https://kumorfm.ai/api-keys\" target=\"_blank\">\n",
              "                    KumoRFM website.\n",
              "                </a>\n",
              "            </div>\n",
              "            <div id=\"failed\" style=\"display: none; color: red;\">\n",
              "                <p>\n",
              "                    API key creation failed with error:\n",
              "                    <span id=\"error-message\"></span>\n",
              "                </p>\n",
              "            </div>\n",
              "            <script>\n",
              "                // Listen for messages from the popup\n",
              "                window.addEventListener('message', function(event) {\n",
              "                    if (event.data.type === 'API_KEY_GENERATED') {\n",
              "                        // Call the Python callback with the API key\n",
              "                        google.colab.kernel.invokeFunction(\n",
              "                            'api-key-button-5e3043a8-c6a5-4a67-a493-3171b7cf05fe', [event.data.apiKey], {}\n",
              "                        );\n",
              "                        document.getElementById('prompt')\n",
              "                            .style.display = \"none\";\n",
              "                        document.getElementById('success')\n",
              "                            .style.display = \"block\";\n",
              "                        document.getElementById('failed')\n",
              "                            .style.display = \"none\";\n",
              "                    } else if (\n",
              "                        event.data.type === 'API_KEY_GENERATION_FAILED'\n",
              "                    ) {\n",
              "                        document.getElementById('failed')\n",
              "                            .style.display = \"block\";\n",
              "                        document.getElementById('error-message')\n",
              "                            .innerHTML = event.data.errorMessage;\n",
              "                    }\n",
              "                });\n",
              "\n",
              "                document.getElementById('api-key-button-5e3043a8-c6a5-4a67-a493-3171b7cf05fe')\n",
              "                    .onclick = function() {\n",
              "                        // Open the popup\n",
              "                        const popup = window.open(\n",
              "                            'https://kumorfm.ai/authenticate-sdk?opener=colab&token_name=sdk-colab-2025-07-31-11-34-48-Z',\n",
              "                            'apiKeyPopup',\n",
              "                            'width=600,height=700,scrollbars=yes,resizable=yes'\n",
              "                        );\n",
              "\n",
              "                        // Focus the popup\n",
              "                        if (popup) {\n",
              "                            popup.focus();\n",
              "                        }\n",
              "                    };\n",
              "            </script>\n",
              "        </div>\n",
              "        "
            ]
          },
          "metadata": {}
        }
      ]
    },
    {
      "cell_type": "code",
      "source": [
        "rfm.init()"
      ],
      "metadata": {
        "colab": {
          "base_uri": "https://localhost:8080/"
        },
        "id": "Cw_ZmxEjPVeq",
        "outputId": "6571db7b-91b3-4e60-daad-e3997e5a1d01"
      },
      "execution_count": null,
      "outputs": [
        {
          "output_type": "stream",
          "name": "stdout",
          "text": [
            "Client has already been created. To re-initialize Kumo, please start a new interpreter. No changes will be made to the current session.\n"
          ]
        }
      ]
    },
    {
      "cell_type": "markdown",
      "source": [
        "## Data Loading and Data Cleaning\n",
        "\n",
        "The SALT dataset is available via the [Hugging Face dataset platform](https://huggingface.co/datasets/sap-ai-research/SALT).\n",
        "You will need a Hugging Face API key to access it, which can be obtained as described [here](https://huggingface.co/docs/hub/en/security-tokens)."
      ],
      "metadata": {
        "id": "soAr8ok_PWvT"
      }
    },
    {
      "cell_type": "code",
      "source": [
        "import huggingface_hub\n",
        "\n",
        "HUGGINGFACE_TOKEN=\"...\"  # TODO Fill\n",
        "huggingface_hub.login(HUGGINGFACE_TOKEN)"
      ],
      "metadata": {
        "colab": {
          "base_uri": "https://localhost:8080/",
          "height": 579
        },
        "collapsed": true,
        "id": "heIu0EAIQBe-",
        "outputId": "fdaf9c6d-854e-4165-fde4-c9184f706287"
      },
      "execution_count": null,
      "outputs": [
        {
          "output_type": "error",
          "ename": "HTTPError",
          "evalue": "Invalid user token.",
          "traceback": [
            "\u001b[0;31m---------------------------------------------------------------------------\u001b[0m",
            "\u001b[0;31mHTTPError\u001b[0m                                 Traceback (most recent call last)",
            "\u001b[0;32m/usr/local/lib/python3.11/dist-packages/huggingface_hub/utils/_http.py\u001b[0m in \u001b[0;36mhf_raise_for_status\u001b[0;34m(response, endpoint_name)\u001b[0m\n\u001b[1;32m    408\u001b[0m     \u001b[0;32mtry\u001b[0m\u001b[0;34m:\u001b[0m\u001b[0;34m\u001b[0m\u001b[0;34m\u001b[0m\u001b[0m\n\u001b[0;32m--> 409\u001b[0;31m         \u001b[0mresponse\u001b[0m\u001b[0;34m.\u001b[0m\u001b[0mraise_for_status\u001b[0m\u001b[0;34m(\u001b[0m\u001b[0;34m)\u001b[0m\u001b[0;34m\u001b[0m\u001b[0;34m\u001b[0m\u001b[0m\n\u001b[0m\u001b[1;32m    410\u001b[0m     \u001b[0;32mexcept\u001b[0m \u001b[0mHTTPError\u001b[0m \u001b[0;32mas\u001b[0m \u001b[0me\u001b[0m\u001b[0;34m:\u001b[0m\u001b[0;34m\u001b[0m\u001b[0;34m\u001b[0m\u001b[0m\n",
            "\u001b[0;32m/usr/local/lib/python3.11/dist-packages/requests/models.py\u001b[0m in \u001b[0;36mraise_for_status\u001b[0;34m(self)\u001b[0m\n\u001b[1;32m   1023\u001b[0m         \u001b[0;32mif\u001b[0m \u001b[0mhttp_error_msg\u001b[0m\u001b[0;34m:\u001b[0m\u001b[0;34m\u001b[0m\u001b[0;34m\u001b[0m\u001b[0m\n\u001b[0;32m-> 1024\u001b[0;31m             \u001b[0;32mraise\u001b[0m \u001b[0mHTTPError\u001b[0m\u001b[0;34m(\u001b[0m\u001b[0mhttp_error_msg\u001b[0m\u001b[0;34m,\u001b[0m \u001b[0mresponse\u001b[0m\u001b[0;34m=\u001b[0m\u001b[0mself\u001b[0m\u001b[0;34m)\u001b[0m\u001b[0;34m\u001b[0m\u001b[0;34m\u001b[0m\u001b[0m\n\u001b[0m\u001b[1;32m   1025\u001b[0m \u001b[0;34m\u001b[0m\u001b[0m\n",
            "\u001b[0;31mHTTPError\u001b[0m: 401 Client Error: Unauthorized for url: https://huggingface.co/api/whoami-v2",
            "\nThe above exception was the direct cause of the following exception:\n",
            "\u001b[0;31mHfHubHTTPError\u001b[0m                            Traceback (most recent call last)",
            "\u001b[0;32m/usr/local/lib/python3.11/dist-packages/huggingface_hub/hf_api.py\u001b[0m in \u001b[0;36mwhoami\u001b[0;34m(self, token)\u001b[0m\n\u001b[1;32m   1777\u001b[0m         \u001b[0;32mtry\u001b[0m\u001b[0;34m:\u001b[0m\u001b[0;34m\u001b[0m\u001b[0;34m\u001b[0m\u001b[0m\n\u001b[0;32m-> 1778\u001b[0;31m             \u001b[0mhf_raise_for_status\u001b[0m\u001b[0;34m(\u001b[0m\u001b[0mr\u001b[0m\u001b[0;34m)\u001b[0m\u001b[0;34m\u001b[0m\u001b[0;34m\u001b[0m\u001b[0m\n\u001b[0m\u001b[1;32m   1779\u001b[0m         \u001b[0;32mexcept\u001b[0m \u001b[0mHTTPError\u001b[0m \u001b[0;32mas\u001b[0m \u001b[0me\u001b[0m\u001b[0;34m:\u001b[0m\u001b[0;34m\u001b[0m\u001b[0;34m\u001b[0m\u001b[0m\n",
            "\u001b[0;32m/usr/local/lib/python3.11/dist-packages/huggingface_hub/utils/_http.py\u001b[0m in \u001b[0;36mhf_raise_for_status\u001b[0;34m(response, endpoint_name)\u001b[0m\n\u001b[1;32m    481\u001b[0m         \u001b[0;31m# as well (request id and/or server error message)\u001b[0m\u001b[0;34m\u001b[0m\u001b[0;34m\u001b[0m\u001b[0m\n\u001b[0;32m--> 482\u001b[0;31m         \u001b[0;32mraise\u001b[0m \u001b[0m_format\u001b[0m\u001b[0;34m(\u001b[0m\u001b[0mHfHubHTTPError\u001b[0m\u001b[0;34m,\u001b[0m \u001b[0mstr\u001b[0m\u001b[0;34m(\u001b[0m\u001b[0me\u001b[0m\u001b[0;34m)\u001b[0m\u001b[0;34m,\u001b[0m \u001b[0mresponse\u001b[0m\u001b[0;34m)\u001b[0m \u001b[0;32mfrom\u001b[0m \u001b[0me\u001b[0m\u001b[0;34m\u001b[0m\u001b[0;34m\u001b[0m\u001b[0m\n\u001b[0m\u001b[1;32m    483\u001b[0m \u001b[0;34m\u001b[0m\u001b[0m\n",
            "\u001b[0;31mHfHubHTTPError\u001b[0m: 401 Client Error: Unauthorized for url: https://huggingface.co/api/whoami-v2 (Request ID: Root=1-688b6aab-32e6f5b031cbb7ec58a5ff80;d8bfbd2a-9d8a-4d95-ac31-2d54077840f9)\n\nInvalid credentials in Authorization header",
            "\nThe above exception was the direct cause of the following exception:\n",
            "\u001b[0;31mHTTPError\u001b[0m                                 Traceback (most recent call last)",
            "\u001b[0;32m/tmp/ipython-input-3109919040.py\u001b[0m in \u001b[0;36m<cell line: 0>\u001b[0;34m()\u001b[0m\n\u001b[1;32m      2\u001b[0m \u001b[0;34m\u001b[0m\u001b[0m\n\u001b[1;32m      3\u001b[0m \u001b[0mHUGGINGFACE_TOKEN\u001b[0m\u001b[0;34m=\u001b[0m\u001b[0;34m\"...\"\u001b[0m  \u001b[0;31m# TODO Fill\u001b[0m\u001b[0;34m\u001b[0m\u001b[0;34m\u001b[0m\u001b[0m\n\u001b[0;32m----> 4\u001b[0;31m \u001b[0mhuggingface_hub\u001b[0m\u001b[0;34m.\u001b[0m\u001b[0mlogin\u001b[0m\u001b[0;34m(\u001b[0m\u001b[0mHUGGINGFACE_TOKEN\u001b[0m\u001b[0;34m)\u001b[0m\u001b[0;34m\u001b[0m\u001b[0;34m\u001b[0m\u001b[0m\n\u001b[0m",
            "\u001b[0;32m/usr/local/lib/python3.11/dist-packages/huggingface_hub/utils/_deprecation.py\u001b[0m in \u001b[0;36minner_f\u001b[0;34m(*args, **kwargs)\u001b[0m\n\u001b[1;32m     99\u001b[0m                     \u001b[0mmessage\u001b[0m \u001b[0;34m+=\u001b[0m \u001b[0;34m\"\\n\\n\"\u001b[0m \u001b[0;34m+\u001b[0m \u001b[0mcustom_message\u001b[0m\u001b[0;34m\u001b[0m\u001b[0;34m\u001b[0m\u001b[0m\n\u001b[1;32m    100\u001b[0m                 \u001b[0mwarnings\u001b[0m\u001b[0;34m.\u001b[0m\u001b[0mwarn\u001b[0m\u001b[0;34m(\u001b[0m\u001b[0mmessage\u001b[0m\u001b[0;34m,\u001b[0m \u001b[0mFutureWarning\u001b[0m\u001b[0;34m)\u001b[0m\u001b[0;34m\u001b[0m\u001b[0;34m\u001b[0m\u001b[0m\n\u001b[0;32m--> 101\u001b[0;31m             \u001b[0;32mreturn\u001b[0m \u001b[0mf\u001b[0m\u001b[0;34m(\u001b[0m\u001b[0;34m*\u001b[0m\u001b[0margs\u001b[0m\u001b[0;34m,\u001b[0m \u001b[0;34m**\u001b[0m\u001b[0mkwargs\u001b[0m\u001b[0;34m)\u001b[0m\u001b[0;34m\u001b[0m\u001b[0;34m\u001b[0m\u001b[0m\n\u001b[0m\u001b[1;32m    102\u001b[0m \u001b[0;34m\u001b[0m\u001b[0m\n\u001b[1;32m    103\u001b[0m         \u001b[0;32mreturn\u001b[0m \u001b[0minner_f\u001b[0m\u001b[0;34m\u001b[0m\u001b[0;34m\u001b[0m\u001b[0m\n",
            "\u001b[0;32m/usr/local/lib/python3.11/dist-packages/huggingface_hub/utils/_deprecation.py\u001b[0m in \u001b[0;36minner_f\u001b[0;34m(*args, **kwargs)\u001b[0m\n\u001b[1;32m     29\u001b[0m             \u001b[0mextra_args\u001b[0m \u001b[0;34m=\u001b[0m \u001b[0mlen\u001b[0m\u001b[0;34m(\u001b[0m\u001b[0margs\u001b[0m\u001b[0;34m)\u001b[0m \u001b[0;34m-\u001b[0m \u001b[0mlen\u001b[0m\u001b[0;34m(\u001b[0m\u001b[0mall_args\u001b[0m\u001b[0;34m)\u001b[0m\u001b[0;34m\u001b[0m\u001b[0;34m\u001b[0m\u001b[0m\n\u001b[1;32m     30\u001b[0m             \u001b[0;32mif\u001b[0m \u001b[0mextra_args\u001b[0m \u001b[0;34m<=\u001b[0m \u001b[0;36m0\u001b[0m\u001b[0;34m:\u001b[0m\u001b[0;34m\u001b[0m\u001b[0;34m\u001b[0m\u001b[0m\n\u001b[0;32m---> 31\u001b[0;31m                 \u001b[0;32mreturn\u001b[0m \u001b[0mf\u001b[0m\u001b[0;34m(\u001b[0m\u001b[0;34m*\u001b[0m\u001b[0margs\u001b[0m\u001b[0;34m,\u001b[0m \u001b[0;34m**\u001b[0m\u001b[0mkwargs\u001b[0m\u001b[0;34m)\u001b[0m\u001b[0;34m\u001b[0m\u001b[0;34m\u001b[0m\u001b[0m\n\u001b[0m\u001b[1;32m     32\u001b[0m             \u001b[0;31m# extra_args > 0\u001b[0m\u001b[0;34m\u001b[0m\u001b[0;34m\u001b[0m\u001b[0m\n\u001b[1;32m     33\u001b[0m             args_msg = [\n",
            "\u001b[0;32m/usr/local/lib/python3.11/dist-packages/huggingface_hub/_login.py\u001b[0m in \u001b[0;36mlogin\u001b[0;34m(token, add_to_git_credential, new_session, write_permission)\u001b[0m\n\u001b[1;32m    124\u001b[0m                 \u001b[0;34m\"you want to set the git credential as well.\"\u001b[0m\u001b[0;34m\u001b[0m\u001b[0;34m\u001b[0m\u001b[0m\n\u001b[1;32m    125\u001b[0m             )\n\u001b[0;32m--> 126\u001b[0;31m         \u001b[0m_login\u001b[0m\u001b[0;34m(\u001b[0m\u001b[0mtoken\u001b[0m\u001b[0;34m,\u001b[0m \u001b[0madd_to_git_credential\u001b[0m\u001b[0;34m=\u001b[0m\u001b[0madd_to_git_credential\u001b[0m\u001b[0;34m)\u001b[0m\u001b[0;34m\u001b[0m\u001b[0;34m\u001b[0m\u001b[0m\n\u001b[0m\u001b[1;32m    127\u001b[0m     \u001b[0;32melif\u001b[0m \u001b[0mis_notebook\u001b[0m\u001b[0;34m(\u001b[0m\u001b[0;34m)\u001b[0m\u001b[0;34m:\u001b[0m\u001b[0;34m\u001b[0m\u001b[0;34m\u001b[0m\u001b[0m\n\u001b[1;32m    128\u001b[0m         \u001b[0mnotebook_login\u001b[0m\u001b[0;34m(\u001b[0m\u001b[0mnew_session\u001b[0m\u001b[0;34m=\u001b[0m\u001b[0mnew_session\u001b[0m\u001b[0;34m)\u001b[0m\u001b[0;34m\u001b[0m\u001b[0;34m\u001b[0m\u001b[0m\n",
            "\u001b[0;32m/usr/local/lib/python3.11/dist-packages/huggingface_hub/_login.py\u001b[0m in \u001b[0;36m_login\u001b[0;34m(token, add_to_git_credential)\u001b[0m\n\u001b[1;32m    402\u001b[0m         \u001b[0;32mraise\u001b[0m \u001b[0mValueError\u001b[0m\u001b[0;34m(\u001b[0m\u001b[0;34m\"You must use your personal account token, not an organization token.\"\u001b[0m\u001b[0;34m)\u001b[0m\u001b[0;34m\u001b[0m\u001b[0;34m\u001b[0m\u001b[0m\n\u001b[1;32m    403\u001b[0m \u001b[0;34m\u001b[0m\u001b[0m\n\u001b[0;32m--> 404\u001b[0;31m     \u001b[0mtoken_info\u001b[0m \u001b[0;34m=\u001b[0m \u001b[0mwhoami\u001b[0m\u001b[0;34m(\u001b[0m\u001b[0mtoken\u001b[0m\u001b[0;34m)\u001b[0m\u001b[0;34m\u001b[0m\u001b[0;34m\u001b[0m\u001b[0m\n\u001b[0m\u001b[1;32m    405\u001b[0m     \u001b[0mpermission\u001b[0m \u001b[0;34m=\u001b[0m \u001b[0mtoken_info\u001b[0m\u001b[0;34m[\u001b[0m\u001b[0;34m\"auth\"\u001b[0m\u001b[0;34m]\u001b[0m\u001b[0;34m[\u001b[0m\u001b[0;34m\"accessToken\"\u001b[0m\u001b[0;34m]\u001b[0m\u001b[0;34m[\u001b[0m\u001b[0;34m\"role\"\u001b[0m\u001b[0;34m]\u001b[0m\u001b[0;34m\u001b[0m\u001b[0;34m\u001b[0m\u001b[0m\n\u001b[1;32m    406\u001b[0m     \u001b[0mlogger\u001b[0m\u001b[0;34m.\u001b[0m\u001b[0minfo\u001b[0m\u001b[0;34m(\u001b[0m\u001b[0;34mf\"Token is valid (permission: {permission}).\"\u001b[0m\u001b[0;34m)\u001b[0m\u001b[0;34m\u001b[0m\u001b[0;34m\u001b[0m\u001b[0m\n",
            "\u001b[0;32m/usr/local/lib/python3.11/dist-packages/huggingface_hub/utils/_validators.py\u001b[0m in \u001b[0;36m_inner_fn\u001b[0;34m(*args, **kwargs)\u001b[0m\n\u001b[1;32m    112\u001b[0m             \u001b[0mkwargs\u001b[0m \u001b[0;34m=\u001b[0m \u001b[0msmoothly_deprecate_use_auth_token\u001b[0m\u001b[0;34m(\u001b[0m\u001b[0mfn_name\u001b[0m\u001b[0;34m=\u001b[0m\u001b[0mfn\u001b[0m\u001b[0;34m.\u001b[0m\u001b[0m__name__\u001b[0m\u001b[0;34m,\u001b[0m \u001b[0mhas_token\u001b[0m\u001b[0;34m=\u001b[0m\u001b[0mhas_token\u001b[0m\u001b[0;34m,\u001b[0m \u001b[0mkwargs\u001b[0m\u001b[0;34m=\u001b[0m\u001b[0mkwargs\u001b[0m\u001b[0;34m)\u001b[0m\u001b[0;34m\u001b[0m\u001b[0;34m\u001b[0m\u001b[0m\n\u001b[1;32m    113\u001b[0m \u001b[0;34m\u001b[0m\u001b[0m\n\u001b[0;32m--> 114\u001b[0;31m         \u001b[0;32mreturn\u001b[0m \u001b[0mfn\u001b[0m\u001b[0;34m(\u001b[0m\u001b[0;34m*\u001b[0m\u001b[0margs\u001b[0m\u001b[0;34m,\u001b[0m \u001b[0;34m**\u001b[0m\u001b[0mkwargs\u001b[0m\u001b[0;34m)\u001b[0m\u001b[0;34m\u001b[0m\u001b[0;34m\u001b[0m\u001b[0m\n\u001b[0m\u001b[1;32m    115\u001b[0m \u001b[0;34m\u001b[0m\u001b[0m\n\u001b[1;32m    116\u001b[0m     \u001b[0;32mreturn\u001b[0m \u001b[0m_inner_fn\u001b[0m  \u001b[0;31m# type: ignore\u001b[0m\u001b[0;34m\u001b[0m\u001b[0;34m\u001b[0m\u001b[0m\n",
            "\u001b[0;32m/usr/local/lib/python3.11/dist-packages/huggingface_hub/hf_api.py\u001b[0m in \u001b[0;36mwhoami\u001b[0;34m(self, token)\u001b[0m\n\u001b[1;32m   1789\u001b[0m             \u001b[0;32melif\u001b[0m \u001b[0meffective_token\u001b[0m \u001b[0;34m==\u001b[0m \u001b[0m_get_token_from_file\u001b[0m\u001b[0;34m(\u001b[0m\u001b[0;34m)\u001b[0m\u001b[0;34m:\u001b[0m\u001b[0;34m\u001b[0m\u001b[0;34m\u001b[0m\u001b[0m\n\u001b[1;32m   1790\u001b[0m                 \u001b[0merror_message\u001b[0m \u001b[0;34m+=\u001b[0m \u001b[0;34m\" The token stored is invalid. Please run `hf auth login` to update it.\"\u001b[0m\u001b[0;34m\u001b[0m\u001b[0;34m\u001b[0m\u001b[0m\n\u001b[0;32m-> 1791\u001b[0;31m             \u001b[0;32mraise\u001b[0m \u001b[0mHTTPError\u001b[0m\u001b[0;34m(\u001b[0m\u001b[0merror_message\u001b[0m\u001b[0;34m,\u001b[0m \u001b[0mrequest\u001b[0m\u001b[0;34m=\u001b[0m\u001b[0me\u001b[0m\u001b[0;34m.\u001b[0m\u001b[0mrequest\u001b[0m\u001b[0;34m,\u001b[0m \u001b[0mresponse\u001b[0m\u001b[0;34m=\u001b[0m\u001b[0me\u001b[0m\u001b[0;34m.\u001b[0m\u001b[0mresponse\u001b[0m\u001b[0;34m)\u001b[0m \u001b[0;32mfrom\u001b[0m \u001b[0me\u001b[0m\u001b[0;34m\u001b[0m\u001b[0;34m\u001b[0m\u001b[0m\n\u001b[0m\u001b[1;32m   1792\u001b[0m         \u001b[0;32mreturn\u001b[0m \u001b[0mr\u001b[0m\u001b[0;34m.\u001b[0m\u001b[0mjson\u001b[0m\u001b[0;34m(\u001b[0m\u001b[0;34m)\u001b[0m\u001b[0;34m\u001b[0m\u001b[0;34m\u001b[0m\u001b[0m\n\u001b[1;32m   1793\u001b[0m \u001b[0;34m\u001b[0m\u001b[0m\n",
            "\u001b[0;31mHTTPError\u001b[0m: Invalid user token."
          ]
        }
      ]
    },
    {
      "cell_type": "markdown",
      "source": [
        "We are now ready to load the dataset into memory. The SALT dataset is divided into an artificial training and test dataset, in which customers and addresses are shared among the two sets, while salesdocuments and salesdocument items hold distinct information (splitted by time). In order to fit this dataset into `KumoRFM`, we need to reconstruct it into its original raw dataset. We do this by simply concatenating train and test records into a single table:"
      ],
      "metadata": {
        "id": "pHMp2S6eP8hu"
      }
    },
    {
      "cell_type": "code",
      "source": [
        "import pandas as pd\n",
        "from datasets import load_dataset\n",
        "\n",
        "name = 'sap-ai-research/SALT'\n",
        "\n",
        "sales = pd.concat([\n",
        "    load_dataset(name, 'salesdocuments', split='train').to_pandas(),\n",
        "    load_dataset(name, 'salesdocuments', split='test').to_pandas(),\n",
        "], axis=0, ignore_index=True)\n",
        "items = pd.concat([\n",
        "    load_dataset(name, 'salesdocument_items', split='train').to_pandas(),\n",
        "    load_dataset(name, 'salesdocument_items', split='test').to_pandas(),\n",
        "], axis=0, ignore_index=True)\n",
        "customers = load_dataset(name, 'customers', split='train').to_pandas()\n",
        "addresses = load_dataset(name, 'addresses', split='train').to_pandas()"
      ],
      "metadata": {
        "collapsed": true,
        "id": "lJWzY1_7P_Pr"
      },
      "execution_count": null,
      "outputs": []
    },
    {
      "cell_type": "markdown",
      "source": [
        "Let's look at a subset of the data:"
      ],
      "metadata": {
        "id": "wBtC5QVUQlFB"
      }
    },
    {
      "cell_type": "code",
      "source": [
        "display(sales.head())"
      ],
      "metadata": {
        "colab": {
          "base_uri": "https://localhost:8080/",
          "height": 226
        },
        "id": "5gclzYPHQrmo",
        "outputId": "1b9d5e35-fb2b-4457-b722-8d427aca3403"
      },
      "execution_count": null,
      "outputs": [
        {
          "output_type": "display_data",
          "data": {
            "text/plain": [
              "  SALESDOCUMENT SALESOFFICE SALESGROUP CUSTOMERPAYMENTTERMS SHIPPINGCONDITION  \\\n",
              "0    0001984611        0010         AG                 EI08                01   \n",
              "1    0001984614        0010        436                   26                01   \n",
              "2    0001984696        0010        303                   32                01   \n",
              "3    0001984697        0010        301                   33                13   \n",
              "4    0001984698        0010        341                   32                13   \n",
              "\n",
              "  SALESDOCUMENTTYPE SALESORGANIZATION DISTRIBUTIONCHANNEL  \\\n",
              "0                TA              0010                  10   \n",
              "1                TA              0010                  10   \n",
              "2                TA              0300                  10   \n",
              "3                TA              0300                  10   \n",
              "4               ZIA              4200                  10   \n",
              "\n",
              "  ORGANIZATIONDIVISION BILLINGCOMPANYCODE TRANSACTIONCURRENCY  \\\n",
              "0                   10               D011                 EUR   \n",
              "1                   10               D011                 EUR   \n",
              "2                   10               NL30                 USD   \n",
              "3                   10               NL30                 EUR   \n",
              "4                   10               DK20                 DKK   \n",
              "\n",
              "  INCOTERMSCLASSIFICATION CREATIONDATE CREATIONTIME  __index_level_0__  \n",
              "0                     DDP   2018-01-02     11:02:49                  0  \n",
              "1                     CIP   2018-01-03     09:10:14                  1  \n",
              "2                     DDP   2018-01-02     09:22:47                  2  \n",
              "3                     DDP   2018-01-02     09:58:41                  3  \n",
              "4                     DDP   2018-01-02     10:27:56                  4  "
            ],
            "text/html": [
              "\n",
              "  <div id=\"df-9ce32386-ffcb-4982-978c-dda714296c59\" class=\"colab-df-container\">\n",
              "    <div>\n",
              "<style scoped>\n",
              "    .dataframe tbody tr th:only-of-type {\n",
              "        vertical-align: middle;\n",
              "    }\n",
              "\n",
              "    .dataframe tbody tr th {\n",
              "        vertical-align: top;\n",
              "    }\n",
              "\n",
              "    .dataframe thead th {\n",
              "        text-align: right;\n",
              "    }\n",
              "</style>\n",
              "<table border=\"1\" class=\"dataframe\">\n",
              "  <thead>\n",
              "    <tr style=\"text-align: right;\">\n",
              "      <th></th>\n",
              "      <th>SALESDOCUMENT</th>\n",
              "      <th>SALESOFFICE</th>\n",
              "      <th>SALESGROUP</th>\n",
              "      <th>CUSTOMERPAYMENTTERMS</th>\n",
              "      <th>SHIPPINGCONDITION</th>\n",
              "      <th>SALESDOCUMENTTYPE</th>\n",
              "      <th>SALESORGANIZATION</th>\n",
              "      <th>DISTRIBUTIONCHANNEL</th>\n",
              "      <th>ORGANIZATIONDIVISION</th>\n",
              "      <th>BILLINGCOMPANYCODE</th>\n",
              "      <th>TRANSACTIONCURRENCY</th>\n",
              "      <th>INCOTERMSCLASSIFICATION</th>\n",
              "      <th>CREATIONDATE</th>\n",
              "      <th>CREATIONTIME</th>\n",
              "      <th>__index_level_0__</th>\n",
              "    </tr>\n",
              "  </thead>\n",
              "  <tbody>\n",
              "    <tr>\n",
              "      <th>0</th>\n",
              "      <td>0001984611</td>\n",
              "      <td>0010</td>\n",
              "      <td>AG</td>\n",
              "      <td>EI08</td>\n",
              "      <td>01</td>\n",
              "      <td>TA</td>\n",
              "      <td>0010</td>\n",
              "      <td>10</td>\n",
              "      <td>10</td>\n",
              "      <td>D011</td>\n",
              "      <td>EUR</td>\n",
              "      <td>DDP</td>\n",
              "      <td>2018-01-02</td>\n",
              "      <td>11:02:49</td>\n",
              "      <td>0</td>\n",
              "    </tr>\n",
              "    <tr>\n",
              "      <th>1</th>\n",
              "      <td>0001984614</td>\n",
              "      <td>0010</td>\n",
              "      <td>436</td>\n",
              "      <td>26</td>\n",
              "      <td>01</td>\n",
              "      <td>TA</td>\n",
              "      <td>0010</td>\n",
              "      <td>10</td>\n",
              "      <td>10</td>\n",
              "      <td>D011</td>\n",
              "      <td>EUR</td>\n",
              "      <td>CIP</td>\n",
              "      <td>2018-01-03</td>\n",
              "      <td>09:10:14</td>\n",
              "      <td>1</td>\n",
              "    </tr>\n",
              "    <tr>\n",
              "      <th>2</th>\n",
              "      <td>0001984696</td>\n",
              "      <td>0010</td>\n",
              "      <td>303</td>\n",
              "      <td>32</td>\n",
              "      <td>01</td>\n",
              "      <td>TA</td>\n",
              "      <td>0300</td>\n",
              "      <td>10</td>\n",
              "      <td>10</td>\n",
              "      <td>NL30</td>\n",
              "      <td>USD</td>\n",
              "      <td>DDP</td>\n",
              "      <td>2018-01-02</td>\n",
              "      <td>09:22:47</td>\n",
              "      <td>2</td>\n",
              "    </tr>\n",
              "    <tr>\n",
              "      <th>3</th>\n",
              "      <td>0001984697</td>\n",
              "      <td>0010</td>\n",
              "      <td>301</td>\n",
              "      <td>33</td>\n",
              "      <td>13</td>\n",
              "      <td>TA</td>\n",
              "      <td>0300</td>\n",
              "      <td>10</td>\n",
              "      <td>10</td>\n",
              "      <td>NL30</td>\n",
              "      <td>EUR</td>\n",
              "      <td>DDP</td>\n",
              "      <td>2018-01-02</td>\n",
              "      <td>09:58:41</td>\n",
              "      <td>3</td>\n",
              "    </tr>\n",
              "    <tr>\n",
              "      <th>4</th>\n",
              "      <td>0001984698</td>\n",
              "      <td>0010</td>\n",
              "      <td>341</td>\n",
              "      <td>32</td>\n",
              "      <td>13</td>\n",
              "      <td>ZIA</td>\n",
              "      <td>4200</td>\n",
              "      <td>10</td>\n",
              "      <td>10</td>\n",
              "      <td>DK20</td>\n",
              "      <td>DKK</td>\n",
              "      <td>DDP</td>\n",
              "      <td>2018-01-02</td>\n",
              "      <td>10:27:56</td>\n",
              "      <td>4</td>\n",
              "    </tr>\n",
              "  </tbody>\n",
              "</table>\n",
              "</div>\n",
              "    <div class=\"colab-df-buttons\">\n",
              "\n",
              "  <div class=\"colab-df-container\">\n",
              "    <button class=\"colab-df-convert\" onclick=\"convertToInteractive('df-9ce32386-ffcb-4982-978c-dda714296c59')\"\n",
              "            title=\"Convert this dataframe to an interactive table.\"\n",
              "            style=\"display:none;\">\n",
              "\n",
              "  <svg xmlns=\"http://www.w3.org/2000/svg\" height=\"24px\" viewBox=\"0 -960 960 960\">\n",
              "    <path d=\"M120-120v-720h720v720H120Zm60-500h600v-160H180v160Zm220 220h160v-160H400v160Zm0 220h160v-160H400v160ZM180-400h160v-160H180v160Zm440 0h160v-160H620v160ZM180-180h160v-160H180v160Zm440 0h160v-160H620v160Z\"/>\n",
              "  </svg>\n",
              "    </button>\n",
              "\n",
              "  <style>\n",
              "    .colab-df-container {\n",
              "      display:flex;\n",
              "      gap: 12px;\n",
              "    }\n",
              "\n",
              "    .colab-df-convert {\n",
              "      background-color: #E8F0FE;\n",
              "      border: none;\n",
              "      border-radius: 50%;\n",
              "      cursor: pointer;\n",
              "      display: none;\n",
              "      fill: #1967D2;\n",
              "      height: 32px;\n",
              "      padding: 0 0 0 0;\n",
              "      width: 32px;\n",
              "    }\n",
              "\n",
              "    .colab-df-convert:hover {\n",
              "      background-color: #E2EBFA;\n",
              "      box-shadow: 0px 1px 2px rgba(60, 64, 67, 0.3), 0px 1px 3px 1px rgba(60, 64, 67, 0.15);\n",
              "      fill: #174EA6;\n",
              "    }\n",
              "\n",
              "    .colab-df-buttons div {\n",
              "      margin-bottom: 4px;\n",
              "    }\n",
              "\n",
              "    [theme=dark] .colab-df-convert {\n",
              "      background-color: #3B4455;\n",
              "      fill: #D2E3FC;\n",
              "    }\n",
              "\n",
              "    [theme=dark] .colab-df-convert:hover {\n",
              "      background-color: #434B5C;\n",
              "      box-shadow: 0px 1px 3px 1px rgba(0, 0, 0, 0.15);\n",
              "      filter: drop-shadow(0px 1px 2px rgba(0, 0, 0, 0.3));\n",
              "      fill: #FFFFFF;\n",
              "    }\n",
              "  </style>\n",
              "\n",
              "    <script>\n",
              "      const buttonEl =\n",
              "        document.querySelector('#df-9ce32386-ffcb-4982-978c-dda714296c59 button.colab-df-convert');\n",
              "      buttonEl.style.display =\n",
              "        google.colab.kernel.accessAllowed ? 'block' : 'none';\n",
              "\n",
              "      async function convertToInteractive(key) {\n",
              "        const element = document.querySelector('#df-9ce32386-ffcb-4982-978c-dda714296c59');\n",
              "        const dataTable =\n",
              "          await google.colab.kernel.invokeFunction('convertToInteractive',\n",
              "                                                    [key], {});\n",
              "        if (!dataTable) return;\n",
              "\n",
              "        const docLinkHtml = 'Like what you see? Visit the ' +\n",
              "          '<a target=\"_blank\" href=https://colab.research.google.com/notebooks/data_table.ipynb>data table notebook</a>'\n",
              "          + ' to learn more about interactive tables.';\n",
              "        element.innerHTML = '';\n",
              "        dataTable['output_type'] = 'display_data';\n",
              "        await google.colab.output.renderOutput(dataTable, element);\n",
              "        const docLink = document.createElement('div');\n",
              "        docLink.innerHTML = docLinkHtml;\n",
              "        element.appendChild(docLink);\n",
              "      }\n",
              "    </script>\n",
              "  </div>\n",
              "\n",
              "\n",
              "    <div id=\"df-23aec208-59c9-4bdc-b167-49f822abbb1b\">\n",
              "      <button class=\"colab-df-quickchart\" onclick=\"quickchart('df-23aec208-59c9-4bdc-b167-49f822abbb1b')\"\n",
              "                title=\"Suggest charts\"\n",
              "                style=\"display:none;\">\n",
              "\n",
              "<svg xmlns=\"http://www.w3.org/2000/svg\" height=\"24px\"viewBox=\"0 0 24 24\"\n",
              "     width=\"24px\">\n",
              "    <g>\n",
              "        <path d=\"M19 3H5c-1.1 0-2 .9-2 2v14c0 1.1.9 2 2 2h14c1.1 0 2-.9 2-2V5c0-1.1-.9-2-2-2zM9 17H7v-7h2v7zm4 0h-2V7h2v10zm4 0h-2v-4h2v4z\"/>\n",
              "    </g>\n",
              "</svg>\n",
              "      </button>\n",
              "\n",
              "<style>\n",
              "  .colab-df-quickchart {\n",
              "      --bg-color: #E8F0FE;\n",
              "      --fill-color: #1967D2;\n",
              "      --hover-bg-color: #E2EBFA;\n",
              "      --hover-fill-color: #174EA6;\n",
              "      --disabled-fill-color: #AAA;\n",
              "      --disabled-bg-color: #DDD;\n",
              "  }\n",
              "\n",
              "  [theme=dark] .colab-df-quickchart {\n",
              "      --bg-color: #3B4455;\n",
              "      --fill-color: #D2E3FC;\n",
              "      --hover-bg-color: #434B5C;\n",
              "      --hover-fill-color: #FFFFFF;\n",
              "      --disabled-bg-color: #3B4455;\n",
              "      --disabled-fill-color: #666;\n",
              "  }\n",
              "\n",
              "  .colab-df-quickchart {\n",
              "    background-color: var(--bg-color);\n",
              "    border: none;\n",
              "    border-radius: 50%;\n",
              "    cursor: pointer;\n",
              "    display: none;\n",
              "    fill: var(--fill-color);\n",
              "    height: 32px;\n",
              "    padding: 0;\n",
              "    width: 32px;\n",
              "  }\n",
              "\n",
              "  .colab-df-quickchart:hover {\n",
              "    background-color: var(--hover-bg-color);\n",
              "    box-shadow: 0 1px 2px rgba(60, 64, 67, 0.3), 0 1px 3px 1px rgba(60, 64, 67, 0.15);\n",
              "    fill: var(--button-hover-fill-color);\n",
              "  }\n",
              "\n",
              "  .colab-df-quickchart-complete:disabled,\n",
              "  .colab-df-quickchart-complete:disabled:hover {\n",
              "    background-color: var(--disabled-bg-color);\n",
              "    fill: var(--disabled-fill-color);\n",
              "    box-shadow: none;\n",
              "  }\n",
              "\n",
              "  .colab-df-spinner {\n",
              "    border: 2px solid var(--fill-color);\n",
              "    border-color: transparent;\n",
              "    border-bottom-color: var(--fill-color);\n",
              "    animation:\n",
              "      spin 1s steps(1) infinite;\n",
              "  }\n",
              "\n",
              "  @keyframes spin {\n",
              "    0% {\n",
              "      border-color: transparent;\n",
              "      border-bottom-color: var(--fill-color);\n",
              "      border-left-color: var(--fill-color);\n",
              "    }\n",
              "    20% {\n",
              "      border-color: transparent;\n",
              "      border-left-color: var(--fill-color);\n",
              "      border-top-color: var(--fill-color);\n",
              "    }\n",
              "    30% {\n",
              "      border-color: transparent;\n",
              "      border-left-color: var(--fill-color);\n",
              "      border-top-color: var(--fill-color);\n",
              "      border-right-color: var(--fill-color);\n",
              "    }\n",
              "    40% {\n",
              "      border-color: transparent;\n",
              "      border-right-color: var(--fill-color);\n",
              "      border-top-color: var(--fill-color);\n",
              "    }\n",
              "    60% {\n",
              "      border-color: transparent;\n",
              "      border-right-color: var(--fill-color);\n",
              "    }\n",
              "    80% {\n",
              "      border-color: transparent;\n",
              "      border-right-color: var(--fill-color);\n",
              "      border-bottom-color: var(--fill-color);\n",
              "    }\n",
              "    90% {\n",
              "      border-color: transparent;\n",
              "      border-bottom-color: var(--fill-color);\n",
              "    }\n",
              "  }\n",
              "</style>\n",
              "\n",
              "      <script>\n",
              "        async function quickchart(key) {\n",
              "          const quickchartButtonEl =\n",
              "            document.querySelector('#' + key + ' button');\n",
              "          quickchartButtonEl.disabled = true;  // To prevent multiple clicks.\n",
              "          quickchartButtonEl.classList.add('colab-df-spinner');\n",
              "          try {\n",
              "            const charts = await google.colab.kernel.invokeFunction(\n",
              "                'suggestCharts', [key], {});\n",
              "          } catch (error) {\n",
              "            console.error('Error during call to suggestCharts:', error);\n",
              "          }\n",
              "          quickchartButtonEl.classList.remove('colab-df-spinner');\n",
              "          quickchartButtonEl.classList.add('colab-df-quickchart-complete');\n",
              "        }\n",
              "        (() => {\n",
              "          let quickchartButtonEl =\n",
              "            document.querySelector('#df-23aec208-59c9-4bdc-b167-49f822abbb1b button');\n",
              "          quickchartButtonEl.style.display =\n",
              "            google.colab.kernel.accessAllowed ? 'block' : 'none';\n",
              "        })();\n",
              "      </script>\n",
              "    </div>\n",
              "\n",
              "    </div>\n",
              "  </div>\n"
            ],
            "application/vnd.google.colaboratory.intrinsic+json": {
              "type": "dataframe",
              "summary": "{\n  \"name\": \"display(sales\",\n  \"rows\": 5,\n  \"fields\": [\n    {\n      \"column\": \"SALESDOCUMENT\",\n      \"properties\": {\n        \"dtype\": \"string\",\n        \"num_unique_values\": 5,\n        \"samples\": [\n          \"0001984614\",\n          \"0001984698\",\n          \"0001984696\"\n        ],\n        \"semantic_type\": \"\",\n        \"description\": \"\"\n      }\n    },\n    {\n      \"column\": \"SALESOFFICE\",\n      \"properties\": {\n        \"dtype\": \"category\",\n        \"num_unique_values\": 1,\n        \"samples\": [\n          \"0010\"\n        ],\n        \"semantic_type\": \"\",\n        \"description\": \"\"\n      }\n    },\n    {\n      \"column\": \"SALESGROUP\",\n      \"properties\": {\n        \"dtype\": \"string\",\n        \"num_unique_values\": 5,\n        \"samples\": [\n          \"436\"\n        ],\n        \"semantic_type\": \"\",\n        \"description\": \"\"\n      }\n    },\n    {\n      \"column\": \"CUSTOMERPAYMENTTERMS\",\n      \"properties\": {\n        \"dtype\": \"string\",\n        \"num_unique_values\": 4,\n        \"samples\": [\n          \"26\"\n        ],\n        \"semantic_type\": \"\",\n        \"description\": \"\"\n      }\n    },\n    {\n      \"column\": \"SHIPPINGCONDITION\",\n      \"properties\": {\n        \"dtype\": \"category\",\n        \"num_unique_values\": 2,\n        \"samples\": [\n          \"13\"\n        ],\n        \"semantic_type\": \"\",\n        \"description\": \"\"\n      }\n    },\n    {\n      \"column\": \"SALESDOCUMENTTYPE\",\n      \"properties\": {\n        \"dtype\": \"category\",\n        \"num_unique_values\": 2,\n        \"samples\": [\n          \"ZIA\"\n        ],\n        \"semantic_type\": \"\",\n        \"description\": \"\"\n      }\n    },\n    {\n      \"column\": \"SALESORGANIZATION\",\n      \"properties\": {\n        \"dtype\": \"string\",\n        \"num_unique_values\": 3,\n        \"samples\": [\n          \"0010\"\n        ],\n        \"semantic_type\": \"\",\n        \"description\": \"\"\n      }\n    },\n    {\n      \"column\": \"DISTRIBUTIONCHANNEL\",\n      \"properties\": {\n        \"dtype\": \"category\",\n        \"num_unique_values\": 1,\n        \"samples\": [\n          \"10\"\n        ],\n        \"semantic_type\": \"\",\n        \"description\": \"\"\n      }\n    },\n    {\n      \"column\": \"ORGANIZATIONDIVISION\",\n      \"properties\": {\n        \"dtype\": \"category\",\n        \"num_unique_values\": 1,\n        \"samples\": [\n          \"10\"\n        ],\n        \"semantic_type\": \"\",\n        \"description\": \"\"\n      }\n    },\n    {\n      \"column\": \"BILLINGCOMPANYCODE\",\n      \"properties\": {\n        \"dtype\": \"string\",\n        \"num_unique_values\": 3,\n        \"samples\": [\n          \"D011\"\n        ],\n        \"semantic_type\": \"\",\n        \"description\": \"\"\n      }\n    },\n    {\n      \"column\": \"TRANSACTIONCURRENCY\",\n      \"properties\": {\n        \"dtype\": \"string\",\n        \"num_unique_values\": 3,\n        \"samples\": [\n          \"EUR\"\n        ],\n        \"semantic_type\": \"\",\n        \"description\": \"\"\n      }\n    },\n    {\n      \"column\": \"INCOTERMSCLASSIFICATION\",\n      \"properties\": {\n        \"dtype\": \"category\",\n        \"num_unique_values\": 2,\n        \"samples\": [\n          \"CIP\"\n        ],\n        \"semantic_type\": \"\",\n        \"description\": \"\"\n      }\n    },\n    {\n      \"column\": \"CREATIONDATE\",\n      \"properties\": {\n        \"dtype\": \"date\",\n        \"min\": \"2018-01-02 00:00:00\",\n        \"max\": \"2018-01-03 00:00:00\",\n        \"num_unique_values\": 2,\n        \"samples\": [\n          \"2018-01-03 00:00:00\"\n        ],\n        \"semantic_type\": \"\",\n        \"description\": \"\"\n      }\n    },\n    {\n      \"column\": \"CREATIONTIME\",\n      \"properties\": {\n        \"dtype\": \"string\",\n        \"num_unique_values\": 5,\n        \"samples\": [\n          \"09:10:14\"\n        ],\n        \"semantic_type\": \"\",\n        \"description\": \"\"\n      }\n    },\n    {\n      \"column\": \"__index_level_0__\",\n      \"properties\": {\n        \"dtype\": \"number\",\n        \"std\": 1,\n        \"min\": 0,\n        \"max\": 4,\n        \"num_unique_values\": 5,\n        \"samples\": [\n          1\n        ],\n        \"semantic_type\": \"\",\n        \"description\": \"\"\n      }\n    }\n  ]\n}"
            }
          },
          "metadata": {}
        }
      ]
    },
    {
      "cell_type": "code",
      "source": [
        "display(items.head())"
      ],
      "metadata": {
        "colab": {
          "base_uri": "https://localhost:8080/",
          "height": 226
        },
        "id": "8ALXobn3QpCj",
        "outputId": "3fedc5d3-1ed0-4bdd-e99e-060eaf5bf49e"
      },
      "execution_count": null,
      "outputs": [
        {
          "output_type": "display_data",
          "data": {
            "text/plain": [
              "  SALESDOCUMENT SALESDOCUMENTITEM PLANT SHIPPINGPOINT  \\\n",
              "0    0001984611            000010  0001          0001   \n",
              "1    0001984614            000010  0001          0001   \n",
              "2    0001984696            000010  0310          0300   \n",
              "3    0001984696            000020  0310          0300   \n",
              "4    0001984697            000010  0310          0300   \n",
              "\n",
              "  SALESDOCUMENTITEMCATEGORY     PRODUCT SOLDTOPARTY SHIPTOPARTY BILLTOPARTY  \\\n",
              "0                       TAN  0103632587  6393610865  6393610865  6393610865   \n",
              "1                       TAN  5663960850  2781552396  1953914038  2781552396   \n",
              "2                       TAN  1461114184  8197936759  6484161189  8197936759   \n",
              "3                      ZTCH  1461114184  8197936759  6484161189  8197936759   \n",
              "4                       TAN  0163158092  8383348969  8383348969  8383348969   \n",
              "\n",
              "   PAYERPARTY INCOTERMSCLASSIFICATION  __index_level_0__  \n",
              "0  6393610865                     DDP                393  \n",
              "1  2781552396                     CIP                394  \n",
              "2  8197936759                     DDP                406  \n",
              "3  8197936759                     DDP                407  \n",
              "4  8383348969                     DDP                408  "
            ],
            "text/html": [
              "\n",
              "  <div id=\"df-144f83fd-e517-4b49-aac3-cc5e11037393\" class=\"colab-df-container\">\n",
              "    <div>\n",
              "<style scoped>\n",
              "    .dataframe tbody tr th:only-of-type {\n",
              "        vertical-align: middle;\n",
              "    }\n",
              "\n",
              "    .dataframe tbody tr th {\n",
              "        vertical-align: top;\n",
              "    }\n",
              "\n",
              "    .dataframe thead th {\n",
              "        text-align: right;\n",
              "    }\n",
              "</style>\n",
              "<table border=\"1\" class=\"dataframe\">\n",
              "  <thead>\n",
              "    <tr style=\"text-align: right;\">\n",
              "      <th></th>\n",
              "      <th>SALESDOCUMENT</th>\n",
              "      <th>SALESDOCUMENTITEM</th>\n",
              "      <th>PLANT</th>\n",
              "      <th>SHIPPINGPOINT</th>\n",
              "      <th>SALESDOCUMENTITEMCATEGORY</th>\n",
              "      <th>PRODUCT</th>\n",
              "      <th>SOLDTOPARTY</th>\n",
              "      <th>SHIPTOPARTY</th>\n",
              "      <th>BILLTOPARTY</th>\n",
              "      <th>PAYERPARTY</th>\n",
              "      <th>INCOTERMSCLASSIFICATION</th>\n",
              "      <th>__index_level_0__</th>\n",
              "    </tr>\n",
              "  </thead>\n",
              "  <tbody>\n",
              "    <tr>\n",
              "      <th>0</th>\n",
              "      <td>0001984611</td>\n",
              "      <td>000010</td>\n",
              "      <td>0001</td>\n",
              "      <td>0001</td>\n",
              "      <td>TAN</td>\n",
              "      <td>0103632587</td>\n",
              "      <td>6393610865</td>\n",
              "      <td>6393610865</td>\n",
              "      <td>6393610865</td>\n",
              "      <td>6393610865</td>\n",
              "      <td>DDP</td>\n",
              "      <td>393</td>\n",
              "    </tr>\n",
              "    <tr>\n",
              "      <th>1</th>\n",
              "      <td>0001984614</td>\n",
              "      <td>000010</td>\n",
              "      <td>0001</td>\n",
              "      <td>0001</td>\n",
              "      <td>TAN</td>\n",
              "      <td>5663960850</td>\n",
              "      <td>2781552396</td>\n",
              "      <td>1953914038</td>\n",
              "      <td>2781552396</td>\n",
              "      <td>2781552396</td>\n",
              "      <td>CIP</td>\n",
              "      <td>394</td>\n",
              "    </tr>\n",
              "    <tr>\n",
              "      <th>2</th>\n",
              "      <td>0001984696</td>\n",
              "      <td>000010</td>\n",
              "      <td>0310</td>\n",
              "      <td>0300</td>\n",
              "      <td>TAN</td>\n",
              "      <td>1461114184</td>\n",
              "      <td>8197936759</td>\n",
              "      <td>6484161189</td>\n",
              "      <td>8197936759</td>\n",
              "      <td>8197936759</td>\n",
              "      <td>DDP</td>\n",
              "      <td>406</td>\n",
              "    </tr>\n",
              "    <tr>\n",
              "      <th>3</th>\n",
              "      <td>0001984696</td>\n",
              "      <td>000020</td>\n",
              "      <td>0310</td>\n",
              "      <td>0300</td>\n",
              "      <td>ZTCH</td>\n",
              "      <td>1461114184</td>\n",
              "      <td>8197936759</td>\n",
              "      <td>6484161189</td>\n",
              "      <td>8197936759</td>\n",
              "      <td>8197936759</td>\n",
              "      <td>DDP</td>\n",
              "      <td>407</td>\n",
              "    </tr>\n",
              "    <tr>\n",
              "      <th>4</th>\n",
              "      <td>0001984697</td>\n",
              "      <td>000010</td>\n",
              "      <td>0310</td>\n",
              "      <td>0300</td>\n",
              "      <td>TAN</td>\n",
              "      <td>0163158092</td>\n",
              "      <td>8383348969</td>\n",
              "      <td>8383348969</td>\n",
              "      <td>8383348969</td>\n",
              "      <td>8383348969</td>\n",
              "      <td>DDP</td>\n",
              "      <td>408</td>\n",
              "    </tr>\n",
              "  </tbody>\n",
              "</table>\n",
              "</div>\n",
              "    <div class=\"colab-df-buttons\">\n",
              "\n",
              "  <div class=\"colab-df-container\">\n",
              "    <button class=\"colab-df-convert\" onclick=\"convertToInteractive('df-144f83fd-e517-4b49-aac3-cc5e11037393')\"\n",
              "            title=\"Convert this dataframe to an interactive table.\"\n",
              "            style=\"display:none;\">\n",
              "\n",
              "  <svg xmlns=\"http://www.w3.org/2000/svg\" height=\"24px\" viewBox=\"0 -960 960 960\">\n",
              "    <path d=\"M120-120v-720h720v720H120Zm60-500h600v-160H180v160Zm220 220h160v-160H400v160Zm0 220h160v-160H400v160ZM180-400h160v-160H180v160Zm440 0h160v-160H620v160ZM180-180h160v-160H180v160Zm440 0h160v-160H620v160Z\"/>\n",
              "  </svg>\n",
              "    </button>\n",
              "\n",
              "  <style>\n",
              "    .colab-df-container {\n",
              "      display:flex;\n",
              "      gap: 12px;\n",
              "    }\n",
              "\n",
              "    .colab-df-convert {\n",
              "      background-color: #E8F0FE;\n",
              "      border: none;\n",
              "      border-radius: 50%;\n",
              "      cursor: pointer;\n",
              "      display: none;\n",
              "      fill: #1967D2;\n",
              "      height: 32px;\n",
              "      padding: 0 0 0 0;\n",
              "      width: 32px;\n",
              "    }\n",
              "\n",
              "    .colab-df-convert:hover {\n",
              "      background-color: #E2EBFA;\n",
              "      box-shadow: 0px 1px 2px rgba(60, 64, 67, 0.3), 0px 1px 3px 1px rgba(60, 64, 67, 0.15);\n",
              "      fill: #174EA6;\n",
              "    }\n",
              "\n",
              "    .colab-df-buttons div {\n",
              "      margin-bottom: 4px;\n",
              "    }\n",
              "\n",
              "    [theme=dark] .colab-df-convert {\n",
              "      background-color: #3B4455;\n",
              "      fill: #D2E3FC;\n",
              "    }\n",
              "\n",
              "    [theme=dark] .colab-df-convert:hover {\n",
              "      background-color: #434B5C;\n",
              "      box-shadow: 0px 1px 3px 1px rgba(0, 0, 0, 0.15);\n",
              "      filter: drop-shadow(0px 1px 2px rgba(0, 0, 0, 0.3));\n",
              "      fill: #FFFFFF;\n",
              "    }\n",
              "  </style>\n",
              "\n",
              "    <script>\n",
              "      const buttonEl =\n",
              "        document.querySelector('#df-144f83fd-e517-4b49-aac3-cc5e11037393 button.colab-df-convert');\n",
              "      buttonEl.style.display =\n",
              "        google.colab.kernel.accessAllowed ? 'block' : 'none';\n",
              "\n",
              "      async function convertToInteractive(key) {\n",
              "        const element = document.querySelector('#df-144f83fd-e517-4b49-aac3-cc5e11037393');\n",
              "        const dataTable =\n",
              "          await google.colab.kernel.invokeFunction('convertToInteractive',\n",
              "                                                    [key], {});\n",
              "        if (!dataTable) return;\n",
              "\n",
              "        const docLinkHtml = 'Like what you see? Visit the ' +\n",
              "          '<a target=\"_blank\" href=https://colab.research.google.com/notebooks/data_table.ipynb>data table notebook</a>'\n",
              "          + ' to learn more about interactive tables.';\n",
              "        element.innerHTML = '';\n",
              "        dataTable['output_type'] = 'display_data';\n",
              "        await google.colab.output.renderOutput(dataTable, element);\n",
              "        const docLink = document.createElement('div');\n",
              "        docLink.innerHTML = docLinkHtml;\n",
              "        element.appendChild(docLink);\n",
              "      }\n",
              "    </script>\n",
              "  </div>\n",
              "\n",
              "\n",
              "    <div id=\"df-cf5420cc-dbcf-4b65-858c-c3fc3153ad7c\">\n",
              "      <button class=\"colab-df-quickchart\" onclick=\"quickchart('df-cf5420cc-dbcf-4b65-858c-c3fc3153ad7c')\"\n",
              "                title=\"Suggest charts\"\n",
              "                style=\"display:none;\">\n",
              "\n",
              "<svg xmlns=\"http://www.w3.org/2000/svg\" height=\"24px\"viewBox=\"0 0 24 24\"\n",
              "     width=\"24px\">\n",
              "    <g>\n",
              "        <path d=\"M19 3H5c-1.1 0-2 .9-2 2v14c0 1.1.9 2 2 2h14c1.1 0 2-.9 2-2V5c0-1.1-.9-2-2-2zM9 17H7v-7h2v7zm4 0h-2V7h2v10zm4 0h-2v-4h2v4z\"/>\n",
              "    </g>\n",
              "</svg>\n",
              "      </button>\n",
              "\n",
              "<style>\n",
              "  .colab-df-quickchart {\n",
              "      --bg-color: #E8F0FE;\n",
              "      --fill-color: #1967D2;\n",
              "      --hover-bg-color: #E2EBFA;\n",
              "      --hover-fill-color: #174EA6;\n",
              "      --disabled-fill-color: #AAA;\n",
              "      --disabled-bg-color: #DDD;\n",
              "  }\n",
              "\n",
              "  [theme=dark] .colab-df-quickchart {\n",
              "      --bg-color: #3B4455;\n",
              "      --fill-color: #D2E3FC;\n",
              "      --hover-bg-color: #434B5C;\n",
              "      --hover-fill-color: #FFFFFF;\n",
              "      --disabled-bg-color: #3B4455;\n",
              "      --disabled-fill-color: #666;\n",
              "  }\n",
              "\n",
              "  .colab-df-quickchart {\n",
              "    background-color: var(--bg-color);\n",
              "    border: none;\n",
              "    border-radius: 50%;\n",
              "    cursor: pointer;\n",
              "    display: none;\n",
              "    fill: var(--fill-color);\n",
              "    height: 32px;\n",
              "    padding: 0;\n",
              "    width: 32px;\n",
              "  }\n",
              "\n",
              "  .colab-df-quickchart:hover {\n",
              "    background-color: var(--hover-bg-color);\n",
              "    box-shadow: 0 1px 2px rgba(60, 64, 67, 0.3), 0 1px 3px 1px rgba(60, 64, 67, 0.15);\n",
              "    fill: var(--button-hover-fill-color);\n",
              "  }\n",
              "\n",
              "  .colab-df-quickchart-complete:disabled,\n",
              "  .colab-df-quickchart-complete:disabled:hover {\n",
              "    background-color: var(--disabled-bg-color);\n",
              "    fill: var(--disabled-fill-color);\n",
              "    box-shadow: none;\n",
              "  }\n",
              "\n",
              "  .colab-df-spinner {\n",
              "    border: 2px solid var(--fill-color);\n",
              "    border-color: transparent;\n",
              "    border-bottom-color: var(--fill-color);\n",
              "    animation:\n",
              "      spin 1s steps(1) infinite;\n",
              "  }\n",
              "\n",
              "  @keyframes spin {\n",
              "    0% {\n",
              "      border-color: transparent;\n",
              "      border-bottom-color: var(--fill-color);\n",
              "      border-left-color: var(--fill-color);\n",
              "    }\n",
              "    20% {\n",
              "      border-color: transparent;\n",
              "      border-left-color: var(--fill-color);\n",
              "      border-top-color: var(--fill-color);\n",
              "    }\n",
              "    30% {\n",
              "      border-color: transparent;\n",
              "      border-left-color: var(--fill-color);\n",
              "      border-top-color: var(--fill-color);\n",
              "      border-right-color: var(--fill-color);\n",
              "    }\n",
              "    40% {\n",
              "      border-color: transparent;\n",
              "      border-right-color: var(--fill-color);\n",
              "      border-top-color: var(--fill-color);\n",
              "    }\n",
              "    60% {\n",
              "      border-color: transparent;\n",
              "      border-right-color: var(--fill-color);\n",
              "    }\n",
              "    80% {\n",
              "      border-color: transparent;\n",
              "      border-right-color: var(--fill-color);\n",
              "      border-bottom-color: var(--fill-color);\n",
              "    }\n",
              "    90% {\n",
              "      border-color: transparent;\n",
              "      border-bottom-color: var(--fill-color);\n",
              "    }\n",
              "  }\n",
              "</style>\n",
              "\n",
              "      <script>\n",
              "        async function quickchart(key) {\n",
              "          const quickchartButtonEl =\n",
              "            document.querySelector('#' + key + ' button');\n",
              "          quickchartButtonEl.disabled = true;  // To prevent multiple clicks.\n",
              "          quickchartButtonEl.classList.add('colab-df-spinner');\n",
              "          try {\n",
              "            const charts = await google.colab.kernel.invokeFunction(\n",
              "                'suggestCharts', [key], {});\n",
              "          } catch (error) {\n",
              "            console.error('Error during call to suggestCharts:', error);\n",
              "          }\n",
              "          quickchartButtonEl.classList.remove('colab-df-spinner');\n",
              "          quickchartButtonEl.classList.add('colab-df-quickchart-complete');\n",
              "        }\n",
              "        (() => {\n",
              "          let quickchartButtonEl =\n",
              "            document.querySelector('#df-cf5420cc-dbcf-4b65-858c-c3fc3153ad7c button');\n",
              "          quickchartButtonEl.style.display =\n",
              "            google.colab.kernel.accessAllowed ? 'block' : 'none';\n",
              "        })();\n",
              "      </script>\n",
              "    </div>\n",
              "\n",
              "    </div>\n",
              "  </div>\n"
            ],
            "application/vnd.google.colaboratory.intrinsic+json": {
              "type": "dataframe",
              "summary": "{\n  \"name\": \"display(items\",\n  \"rows\": 5,\n  \"fields\": [\n    {\n      \"column\": \"SALESDOCUMENT\",\n      \"properties\": {\n        \"dtype\": \"string\",\n        \"num_unique_values\": 4,\n        \"samples\": [\n          \"0001984614\",\n          \"0001984697\",\n          \"0001984611\"\n        ],\n        \"semantic_type\": \"\",\n        \"description\": \"\"\n      }\n    },\n    {\n      \"column\": \"SALESDOCUMENTITEM\",\n      \"properties\": {\n        \"dtype\": \"category\",\n        \"num_unique_values\": 2,\n        \"samples\": [\n          \"000020\",\n          \"000010\"\n        ],\n        \"semantic_type\": \"\",\n        \"description\": \"\"\n      }\n    },\n    {\n      \"column\": \"PLANT\",\n      \"properties\": {\n        \"dtype\": \"category\",\n        \"num_unique_values\": 2,\n        \"samples\": [\n          \"0310\",\n          \"0001\"\n        ],\n        \"semantic_type\": \"\",\n        \"description\": \"\"\n      }\n    },\n    {\n      \"column\": \"SHIPPINGPOINT\",\n      \"properties\": {\n        \"dtype\": \"category\",\n        \"num_unique_values\": 2,\n        \"samples\": [\n          \"0300\",\n          \"0001\"\n        ],\n        \"semantic_type\": \"\",\n        \"description\": \"\"\n      }\n    },\n    {\n      \"column\": \"SALESDOCUMENTITEMCATEGORY\",\n      \"properties\": {\n        \"dtype\": \"category\",\n        \"num_unique_values\": 2,\n        \"samples\": [\n          \"ZTCH\",\n          \"TAN\"\n        ],\n        \"semantic_type\": \"\",\n        \"description\": \"\"\n      }\n    },\n    {\n      \"column\": \"PRODUCT\",\n      \"properties\": {\n        \"dtype\": \"string\",\n        \"num_unique_values\": 4,\n        \"samples\": [\n          \"5663960850\",\n          \"0163158092\"\n        ],\n        \"semantic_type\": \"\",\n        \"description\": \"\"\n      }\n    },\n    {\n      \"column\": \"SOLDTOPARTY\",\n      \"properties\": {\n        \"dtype\": \"string\",\n        \"num_unique_values\": 4,\n        \"samples\": [\n          \"2781552396\",\n          \"8383348969\"\n        ],\n        \"semantic_type\": \"\",\n        \"description\": \"\"\n      }\n    },\n    {\n      \"column\": \"SHIPTOPARTY\",\n      \"properties\": {\n        \"dtype\": \"string\",\n        \"num_unique_values\": 4,\n        \"samples\": [\n          \"1953914038\",\n          \"8383348969\"\n        ],\n        \"semantic_type\": \"\",\n        \"description\": \"\"\n      }\n    },\n    {\n      \"column\": \"BILLTOPARTY\",\n      \"properties\": {\n        \"dtype\": \"string\",\n        \"num_unique_values\": 4,\n        \"samples\": [\n          \"2781552396\",\n          \"8383348969\"\n        ],\n        \"semantic_type\": \"\",\n        \"description\": \"\"\n      }\n    },\n    {\n      \"column\": \"PAYERPARTY\",\n      \"properties\": {\n        \"dtype\": \"string\",\n        \"num_unique_values\": 4,\n        \"samples\": [\n          \"2781552396\",\n          \"8383348969\"\n        ],\n        \"semantic_type\": \"\",\n        \"description\": \"\"\n      }\n    },\n    {\n      \"column\": \"INCOTERMSCLASSIFICATION\",\n      \"properties\": {\n        \"dtype\": \"category\",\n        \"num_unique_values\": 2,\n        \"samples\": [\n          \"CIP\",\n          \"DDP\"\n        ],\n        \"semantic_type\": \"\",\n        \"description\": \"\"\n      }\n    },\n    {\n      \"column\": \"__index_level_0__\",\n      \"properties\": {\n        \"dtype\": \"number\",\n        \"std\": 7,\n        \"min\": 393,\n        \"max\": 408,\n        \"num_unique_values\": 5,\n        \"samples\": [\n          394,\n          408\n        ],\n        \"semantic_type\": \"\",\n        \"description\": \"\"\n      }\n    }\n  ]\n}"
            }
          },
          "metadata": {}
        }
      ]
    },
    {
      "cell_type": "markdown",
      "source": [
        "We need to make a few adjustments and sanitize the data:\n",
        "\n",
        "1. We merge the `CREATIONTIME` and `CREATIONDATE` column into a single `CREATIONDATETIME` column:"
      ],
      "metadata": {
        "id": "F4TRi2bQRSr7"
      }
    },
    {
      "cell_type": "code",
      "source": [
        "date = sales['CREATIONDATE'].astype(str)\n",
        "time = sales['CREATIONTIME'].astype(str)\n",
        "sales['CREATIONDATETIME'] = pd.to_datetime(date + ' ' + time)\n",
        "del sales['CREATIONDATE']\n",
        "del sales['CREATIONTIME']"
      ],
      "metadata": {
        "id": "N1fvG44YRprO"
      },
      "execution_count": null,
      "outputs": []
    },
    {
      "cell_type": "markdown",
      "source": [
        "2. We add this `CREATIONDATETIME` column to the salesdocument items table as well. This is necessary to ensure the tasks of SALT on the salesdocument items table are assigned a unique timestamp to avoid temporal data leakage:"
      ],
      "metadata": {
        "id": "SV_poSBtRsKs"
      }
    },
    {
      "cell_type": "code",
      "source": [
        "items = pd.merge(\n",
        "    left=items,\n",
        "    right=sales[['SALESDOCUMENT', 'CREATIONDATETIME']],\n",
        "    how='left',\n",
        "    left_on='SALESDOCUMENT',\n",
        "    right_on='SALESDOCUMENT',\n",
        ")"
      ],
      "metadata": {
        "id": "rQVpn45WSOsV"
      },
      "execution_count": null,
      "outputs": []
    },
    {
      "cell_type": "markdown",
      "source": [
        "3. We remove auto-generated columns:"
      ],
      "metadata": {
        "id": "s78i2bVXSS_T"
      }
    },
    {
      "cell_type": "code",
      "source": [
        "# Remove auto-generated columns:\n",
        "del sales['__index_level_0__']\n",
        "del items['__index_level_0__']\n",
        "del customers['__index_level_0__']\n",
        "del addresses['__index_level_0__']"
      ],
      "metadata": {
        "id": "bz_poLG_SWPW"
      },
      "execution_count": null,
      "outputs": []
    },
    {
      "cell_type": "markdown",
      "source": [
        "4. We add a primary key to the salesdocument items table in order to ensure that we can reference its training and test records:"
      ],
      "metadata": {
        "id": "LY-A1IRtSY4t"
      }
    },
    {
      "cell_type": "code",
      "source": [
        "items['ID'] = range(len(items))"
      ],
      "metadata": {
        "id": "VsPVnFUlSf_p"
      },
      "execution_count": null,
      "outputs": []
    },
    {
      "cell_type": "markdown",
      "source": [
        "5. There exists an `INCOTERMSCLASSIFICATION` column in both the salesdocuments and salesdocument items table, which are both used as a target downstream. Let's rename these columns to make the two tasks easily distinguishable:"
      ],
      "metadata": {
        "id": "DVgeJtTqShZb"
      }
    },
    {
      "cell_type": "code",
      "source": [
        "sales = sales.rename(\n",
        "    columns={'INCOTERMSCLASSIFICATION': 'HEADERINCOTERMSCLASSIFICATION'})\n",
        "items = items.rename(\n",
        "    columns={'INCOTERMSCLASSIFICATION': 'ITEMINCOTERMSCLASSIFICATION'})"
      ],
      "metadata": {
        "id": "4woNIFxyS0XJ"
      },
      "execution_count": null,
      "outputs": []
    },
    {
      "cell_type": "markdown",
      "source": [
        "According to the SALT evaluation protocol, none of the eight target columns should be used as input feature. As such, for a given task, we make sure to exclude all remaining ones.\n",
        "\n",
        "Note that you can simply change to a different task here by adjusting the `task` variable:"
      ],
      "metadata": {
        "id": "mfZRm1T2TFaC"
      }
    },
    {
      "cell_type": "code",
      "source": [
        "sale_tasks = [\n",
        "    'SALESOFFICE',\n",
        "    'SALESGROUP',\n",
        "    'CUSTOMERPAYMENTTERMS',\n",
        "    'SHIPPINGCONDITION',\n",
        "    'HEADERINCOTERMSCLASSIFICATION',\n",
        "]\n",
        "item_tasks = [\n",
        "    'PLANT',\n",
        "    'SHIPPINGPOINT',\n",
        "    'ITEMINCOTERMSCLASSIFICATION',\n",
        "]\n",
        "\n",
        "task = 'ITEMINCOTERMSCLASSIFICATION'\n",
        "\n",
        "sales = sales.drop([t for t in sale_tasks if t != task], axis=1)\n",
        "items = items.drop([t for t in item_tasks if t != task], axis=1)"
      ],
      "metadata": {
        "id": "yOeDkHqslg6p"
      },
      "execution_count": null,
      "outputs": []
    },
    {
      "cell_type": "markdown",
      "source": [
        "Finally, for the given task, we mask out all its test labels to prevent data leakage:"
      ],
      "metadata": {
        "id": "aHwD2-Ytn1zj"
      }
    },
    {
      "cell_type": "code",
      "source": [
        "if task in sale_tasks:\n",
        "    num_test = load_dataset(name, 'salesdocuments', split='test').num_rows\n",
        "    y_test = sales[task].iloc[-num_test:].to_numpy().copy()\n",
        "    pkey_test = sales['SALESDOCUMENT'].iloc[-num_test:].to_numpy()\n",
        "    task_pos = sales.columns.get_loc(task)\n",
        "    sales.iloc[-num_test:, task_pos] = None\n",
        "elif task in item_tasks:\n",
        "    num_test = load_dataset(name, 'salesdocument_items', split='test').num_rows\n",
        "    y_test = items[task].iloc[-num_test:].to_numpy().copy()\n",
        "    pkey_test = items['ID'].iloc[-num_test:].to_numpy()\n",
        "    task_pos = items.columns.get_loc(task)\n",
        "    items.iloc[-num_test:, task_pos] = None\n",
        "else:\n",
        "    raise ValueError(f\"Unsupported task '{task}'\")"
      ],
      "metadata": {
        "id": "Iat70a9Mn-xE"
      },
      "execution_count": null,
      "outputs": []
    },
    {
      "cell_type": "markdown",
      "source": [
        "## Graph Creation\n",
        "\n",
        "We are now ready to convert the SALT dataset into a Kumo `LocalGraph`:"
      ],
      "metadata": {
        "id": "uS6ubNMImrNb"
      }
    },
    {
      "cell_type": "code",
      "source": [
        "df_dict = {\n",
        "    'sales': sales,\n",
        "    'items': items,\n",
        "    'customers': customers,\n",
        "    'addresses': addresses,\n",
        "}\n",
        "graph = rfm.LocalGraph.from_data(df_dict, infer_metadata=False)\n",
        "\n",
        "# \"PRODUCT\" is inferred as \"text\" column but should be marked as \"categorical\":\n",
        "graph['items']['PRODUCT'].stype = 'categorical'\n",
        "\n",
        "# Assign primary keys and time columns:\n",
        "graph['sales'].primary_key = 'SALESDOCUMENT'\n",
        "graph['sales'].time_column = 'CREATIONDATETIME'\n",
        "graph['items'].primary_key = 'ID'\n",
        "graph['items'].time_column = 'CREATIONDATETIME'\n",
        "graph['customers'].primary_key = 'CUSTOMER'\n",
        "graph['addresses'].primary_key = 'ADDRESSID'\n",
        "\n",
        "# Assign edges:\n",
        "graph.link(src_table='items', fkey='SALESDOCUMENT', dst_table='sales')\n",
        "graph.link(src_table='items', fkey='SOLDTOPARTY', dst_table='customers')\n",
        "graph.link(src_table='items', fkey='SHIPTOPARTY', dst_table='customers')\n",
        "graph.link(src_table='items', fkey='PAYERPARTY', dst_table='customers')\n",
        "graph.link(src_table='items', fkey='BILLTOPARTY', dst_table='customers')\n",
        "graph.link(src_table='customers', fkey='ADDRESSID', dst_table='addresses');"
      ],
      "metadata": {
        "id": "2-zARW3zm4Qg"
      },
      "execution_count": null,
      "outputs": []
    },
    {
      "cell_type": "markdown",
      "source": [
        "Let's ensure that everything is set up correctly:"
      ],
      "metadata": {
        "id": "n10AF4jgm1lw"
      }
    },
    {
      "cell_type": "code",
      "source": [
        "graph.print_metadata()\n",
        "graph.print_links()"
      ],
      "metadata": {
        "colab": {
          "base_uri": "https://localhost:8080/",
          "height": 377
        },
        "id": "DE5N0CRonKef",
        "outputId": "a4b0f32e-73d5-4060-cda2-a156080b6bbc"
      },
      "execution_count": null,
      "outputs": [
        {
          "output_type": "display_data",
          "data": {
            "text/plain": [
              "<IPython.core.display.Markdown object>"
            ],
            "text/markdown": "### 🗂️ Graph Metadata"
          },
          "metadata": {}
        },
        {
          "output_type": "display_data",
          "data": {
            "text/plain": [
              "<pandas.io.formats.style.Styler at 0x7c618bb9e3d0>"
            ],
            "text/html": [
              "<style type=\"text/css\">\n",
              "</style>\n",
              "<table id=\"T_690c3\" class=\"dataframe\">\n",
              "  <thead>\n",
              "    <tr>\n",
              "      <th id=\"T_690c3_level0_col0\" class=\"col_heading level0 col0\" >name</th>\n",
              "      <th id=\"T_690c3_level0_col1\" class=\"col_heading level0 col1\" >primary_key</th>\n",
              "      <th id=\"T_690c3_level0_col2\" class=\"col_heading level0 col2\" >time_column</th>\n",
              "    </tr>\n",
              "  </thead>\n",
              "  <tbody>\n",
              "    <tr>\n",
              "      <td id=\"T_690c3_row0_col0\" class=\"data row0 col0\" >sales</td>\n",
              "      <td id=\"T_690c3_row0_col1\" class=\"data row0 col1\" >SALESDOCUMENT</td>\n",
              "      <td id=\"T_690c3_row0_col2\" class=\"data row0 col2\" >CREATIONDATETIME</td>\n",
              "    </tr>\n",
              "    <tr>\n",
              "      <td id=\"T_690c3_row1_col0\" class=\"data row1 col0\" >items</td>\n",
              "      <td id=\"T_690c3_row1_col1\" class=\"data row1 col1\" >ID</td>\n",
              "      <td id=\"T_690c3_row1_col2\" class=\"data row1 col2\" >CREATIONDATETIME</td>\n",
              "    </tr>\n",
              "    <tr>\n",
              "      <td id=\"T_690c3_row2_col0\" class=\"data row2 col0\" >customers</td>\n",
              "      <td id=\"T_690c3_row2_col1\" class=\"data row2 col1\" >CUSTOMER</td>\n",
              "      <td id=\"T_690c3_row2_col2\" class=\"data row2 col2\" >-</td>\n",
              "    </tr>\n",
              "    <tr>\n",
              "      <td id=\"T_690c3_row3_col0\" class=\"data row3 col0\" >addresses</td>\n",
              "      <td id=\"T_690c3_row3_col1\" class=\"data row3 col1\" >ADDRESSID</td>\n",
              "      <td id=\"T_690c3_row3_col2\" class=\"data row3 col2\" >-</td>\n",
              "    </tr>\n",
              "  </tbody>\n",
              "</table>\n"
            ]
          },
          "metadata": {}
        },
        {
          "output_type": "display_data",
          "data": {
            "text/plain": [
              "<IPython.core.display.Markdown object>"
            ],
            "text/markdown": "### 🕸️ Graph Links (FK ↔️ PK)"
          },
          "metadata": {}
        },
        {
          "output_type": "display_data",
          "data": {
            "text/plain": [
              "<IPython.core.display.Markdown object>"
            ],
            "text/markdown": "- `customers.ADDRESSID` ↔️ `addresses.ADDRESSID`\n- `items.BILLTOPARTY` ↔️ `customers.CUSTOMER`\n- `items.PAYERPARTY` ↔️ `customers.CUSTOMER`\n- `items.SHIPTOPARTY` ↔️ `customers.CUSTOMER`\n- `items.SOLDTOPARTY` ↔️ `customers.CUSTOMER`\n- `items.SALESDOCUMENT` ↔️ `sales.SALESDOCUMENT`"
          },
          "metadata": {}
        }
      ]
    },
    {
      "cell_type": "code",
      "source": [
        "graph.visualize(show_columns=False);"
      ],
      "metadata": {
        "colab": {
          "base_uri": "https://localhost:8080/",
          "height": 622
        },
        "id": "1B4slo5WnXIi",
        "outputId": "f95e399c-33af-4334-b15c-c3249054a57c"
      },
      "execution_count": null,
      "outputs": [
        {
          "output_type": "display_data",
          "data": {
            "image/svg+xml": "<?xml version=\"1.0\" encoding=\"UTF-8\" standalone=\"no\"?>\n<!DOCTYPE svg PUBLIC \"-//W3C//DTD SVG 1.1//EN\"\n \"http://www.w3.org/Graphics/SVG/1.1/DTD/svg11.dtd\">\n<!-- Generated by graphviz version 2.43.0 (0)\n -->\n<!-- Title: %3 Pages: 1 -->\n<svg width=\"636pt\" height=\"450pt\"\n viewBox=\"0.00 0.00 635.50 450.00\" xmlns=\"http://www.w3.org/2000/svg\" xmlns:xlink=\"http://www.w3.org/1999/xlink\">\n<g id=\"graph0\" class=\"graph\" transform=\"scale(1 1) rotate(0) translate(4 446)\">\n<title>%3</title>\n<polygon fill=\"white\" stroke=\"transparent\" points=\"-4,4 -4,-446 631.5,-446 631.5,4 -4,4\"/>\n<!-- sales -->\n<g id=\"node1\" class=\"node\">\n<title>sales</title>\n<polygon fill=\"none\" stroke=\"black\" points=\"0,-133.5 0,-194.5 223,-194.5 223,-133.5 0,-133.5\"/>\n<text text-anchor=\"middle\" x=\"111.5\" y=\"-179.3\" font-family=\"Times,serif\" font-size=\"14.00\">sales</text>\n<polyline fill=\"none\" stroke=\"black\" points=\"0,-171.5 223,-171.5 \"/>\n<text text-anchor=\"start\" x=\"8\" y=\"-156.3\" font-family=\"Times,serif\" font-size=\"14.00\">SALESDOCUMENT: PK (string)</text>\n<text text-anchor=\"start\" x=\"8\" y=\"-141.3\" font-family=\"Times,serif\" font-size=\"14.00\">CREATIONDATETIME: Time (date)</text>\n</g>\n<!-- items -->\n<g id=\"node2\" class=\"node\">\n<title>items</title>\n<polygon fill=\"none\" stroke=\"black\" points=\"259,-305.5 259,-441.5 482,-441.5 482,-305.5 259,-305.5\"/>\n<text text-anchor=\"middle\" x=\"370.5\" y=\"-426.3\" font-family=\"Times,serif\" font-size=\"14.00\">items</text>\n<polyline fill=\"none\" stroke=\"black\" points=\"259,-418.5 482,-418.5 \"/>\n<text text-anchor=\"start\" x=\"267\" y=\"-403.3\" font-family=\"Times,serif\" font-size=\"14.00\">ID: PK (int)</text>\n<text text-anchor=\"start\" x=\"267\" y=\"-388.3\" font-family=\"Times,serif\" font-size=\"14.00\">SALESDOCUMENT: FK (string)</text>\n<text text-anchor=\"start\" x=\"267\" y=\"-373.3\" font-family=\"Times,serif\" font-size=\"14.00\">SOLDTOPARTY: FK (string)</text>\n<text text-anchor=\"start\" x=\"267\" y=\"-358.3\" font-family=\"Times,serif\" font-size=\"14.00\">SHIPTOPARTY: FK (string)</text>\n<text text-anchor=\"start\" x=\"267\" y=\"-343.3\" font-family=\"Times,serif\" font-size=\"14.00\">PAYERPARTY: FK (string)</text>\n<text text-anchor=\"start\" x=\"267\" y=\"-328.3\" font-family=\"Times,serif\" font-size=\"14.00\">BILLTOPARTY: FK (string)</text>\n<text text-anchor=\"start\" x=\"267\" y=\"-313.3\" font-family=\"Times,serif\" font-size=\"14.00\">CREATIONDATETIME: Time (date)</text>\n</g>\n<!-- items&#45;&#45;sales -->\n<g id=\"edge1\" class=\"edge\">\n<title>items&#45;&#45;sales</title>\n<path fill=\"none\" stroke=\"black\" d=\"M258.89,-338.86C220.39,-322.63 179.66,-299.64 150.5,-268 131.71,-247.61 121.69,-217.28 116.54,-194.8\"/>\n<text text-anchor=\"middle\" x=\"202.5\" y=\"-247.2\" font-family=\"Times,serif\" font-size=\"11.00\"> SALESDOCUMENT </text>\n<text text-anchor=\"middle\" x=\"125.92\" y=\"-203.71\" font-family=\"Times,serif\" font-size=\"11.00\">1</text>\n<text text-anchor=\"middle\" x=\"243.9\" y=\"-336.42\" font-family=\"Times,serif\" font-size=\"11.00\">*</text>\n</g>\n<!-- customers -->\n<g id=\"node3\" class=\"node\">\n<title>customers</title>\n<polygon fill=\"none\" stroke=\"black\" points=\"347,-133.5 347,-194.5 508,-194.5 508,-133.5 347,-133.5\"/>\n<text text-anchor=\"middle\" x=\"427.5\" y=\"-179.3\" font-family=\"Times,serif\" font-size=\"14.00\">customers</text>\n<polyline fill=\"none\" stroke=\"black\" points=\"347,-171.5 508,-171.5 \"/>\n<text text-anchor=\"start\" x=\"355\" y=\"-156.3\" font-family=\"Times,serif\" font-size=\"14.00\">CUSTOMER: PK (string)</text>\n<text text-anchor=\"start\" x=\"355\" y=\"-141.3\" font-family=\"Times,serif\" font-size=\"14.00\">ADDRESSID: FK (string)</text>\n</g>\n<!-- items&#45;&#45;customers -->\n<g id=\"edge2\" class=\"edge\">\n<title>items&#45;&#45;customers</title>\n<path fill=\"none\" stroke=\"black\" d=\"M279.99,-305.29C260.07,-282.4 249.17,-256.43 265.5,-232 283.94,-204.42 316.04,-188.18 346.84,-178.62\"/>\n<text text-anchor=\"middle\" x=\"307\" y=\"-259.2\" font-family=\"Times,serif\" font-size=\"11.00\"> SOLDTOPARTY</text>\n<text text-anchor=\"middle\" x=\"307\" y=\"-247.2\" font-family=\"Times,serif\" font-size=\"11.00\">&lt; &gt;</text>\n<text text-anchor=\"middle\" x=\"307\" y=\"-235.2\" font-family=\"Times,serif\" font-size=\"11.00\">CUSTOMER </text>\n<text text-anchor=\"middle\" x=\"335.93\" y=\"-186.12\" font-family=\"Times,serif\" font-size=\"11.00\">1</text>\n<text text-anchor=\"middle\" x=\"266.48\" y=\"-295.98\" font-family=\"Times,serif\" font-size=\"11.00\">*</text>\n</g>\n<!-- items&#45;&#45;customers -->\n<g id=\"edge3\" class=\"edge\">\n<title>items&#45;&#45;customers</title>\n<path fill=\"none\" stroke=\"black\" d=\"M370.78,-305.36C372.54,-281.65 376.44,-255.15 384.5,-232 389.04,-218.95 396.6,-205.87 404.12,-194.78\"/>\n<text text-anchor=\"middle\" x=\"423.5\" y=\"-259.2\" font-family=\"Times,serif\" font-size=\"11.00\"> SHIPTOPARTY</text>\n<text text-anchor=\"middle\" x=\"423.5\" y=\"-247.2\" font-family=\"Times,serif\" font-size=\"11.00\">&lt; &gt;</text>\n<text text-anchor=\"middle\" x=\"423.5\" y=\"-235.2\" font-family=\"Times,serif\" font-size=\"11.00\">CUSTOMER </text>\n<text text-anchor=\"middle\" x=\"401.86\" y=\"-206.8\" font-family=\"Times,serif\" font-size=\"11.00\">1</text>\n<text text-anchor=\"middle\" x=\"365.59\" y=\"-288.49\" font-family=\"Times,serif\" font-size=\"11.00\">*</text>\n</g>\n<!-- items&#45;&#45;customers -->\n<g id=\"edge4\" class=\"edge\">\n<title>items&#45;&#45;customers</title>\n<path fill=\"none\" stroke=\"black\" d=\"M441.37,-305.5C449.99,-293.87 457.51,-281.23 462.5,-268 471.7,-243.62 460.81,-215.59 448.82,-194.94\"/>\n<text text-anchor=\"middle\" x=\"503\" y=\"-259.2\" font-family=\"Times,serif\" font-size=\"11.00\"> PAYERPARTY</text>\n<text text-anchor=\"middle\" x=\"503\" y=\"-247.2\" font-family=\"Times,serif\" font-size=\"11.00\">&lt; &gt;</text>\n<text text-anchor=\"middle\" x=\"503\" y=\"-235.2\" font-family=\"Times,serif\" font-size=\"11.00\">CUSTOMER </text>\n<text text-anchor=\"middle\" x=\"460.95\" y=\"-200.96\" font-family=\"Times,serif\" font-size=\"11.00\">1</text>\n<text text-anchor=\"middle\" x=\"444.22\" y=\"-287.97\" font-family=\"Times,serif\" font-size=\"11.00\">*</text>\n</g>\n<!-- items&#45;&#45;customers -->\n<g id=\"edge5\" class=\"edge\">\n<title>items&#45;&#45;customers</title>\n<path fill=\"none\" stroke=\"black\" d=\"M482.03,-328.03C506.53,-312.79 529.36,-293.06 543.5,-268 551.36,-254.07 551.5,-245.86 543.5,-232 534.49,-216.39 520.3,-204.09 504.9,-194.53\"/>\n<text text-anchor=\"middle\" x=\"588.5\" y=\"-259.2\" font-family=\"Times,serif\" font-size=\"11.00\"> BILLTOPARTY</text>\n<text text-anchor=\"middle\" x=\"588.5\" y=\"-247.2\" font-family=\"Times,serif\" font-size=\"11.00\">&lt; &gt;</text>\n<text text-anchor=\"middle\" x=\"588.5\" y=\"-235.2\" font-family=\"Times,serif\" font-size=\"11.00\">CUSTOMER </text>\n<text text-anchor=\"middle\" x=\"519.76\" y=\"-193.76\" font-family=\"Times,serif\" font-size=\"11.00\">1</text>\n<text text-anchor=\"middle\" x=\"490.01\" y=\"-312.53\" font-family=\"Times,serif\" font-size=\"11.00\">*</text>\n</g>\n<!-- addresses -->\n<g id=\"node4\" class=\"node\">\n<title>addresses</title>\n<polygon fill=\"none\" stroke=\"black\" points=\"347,-0.5 347,-46.5 508,-46.5 508,-0.5 347,-0.5\"/>\n<text text-anchor=\"middle\" x=\"427.5\" y=\"-31.3\" font-family=\"Times,serif\" font-size=\"14.00\">addresses</text>\n<polyline fill=\"none\" stroke=\"black\" points=\"347,-23.5 508,-23.5 \"/>\n<text text-anchor=\"start\" x=\"355\" y=\"-8.3\" font-family=\"Times,serif\" font-size=\"14.00\">ADDRESSID: PK (string)</text>\n</g>\n<!-- customers&#45;&#45;addresses -->\n<g id=\"edge6\" class=\"edge\">\n<title>customers&#45;&#45;addresses</title>\n<path fill=\"none\" stroke=\"black\" d=\"M427.5,-133.29C427.5,-107.38 427.5,-70.36 427.5,-46.88\"/>\n<text text-anchor=\"middle\" x=\"462\" y=\"-87.2\" font-family=\"Times,serif\" font-size=\"11.00\"> ADDRESSID </text>\n<text text-anchor=\"middle\" x=\"433.84\" y=\"-57.68\" font-family=\"Times,serif\" font-size=\"11.00\">1</text>\n<text text-anchor=\"middle\" x=\"421.16\" y=\"-116.89\" font-family=\"Times,serif\" font-size=\"11.00\">*</text>\n</g>\n</g>\n</svg>\n",
            "text/plain": [
              "<graphviz.graphs.Graph at 0x7c61a30e7f90>"
            ]
          },
          "metadata": {}
        }
      ]
    },
    {
      "cell_type": "markdown",
      "source": [
        "## Model Execution\n",
        "\n",
        "Once the `LocalGraph` is set up, we are ready making predictions and evaluate `KumoRFM` performance.\n",
        "\n",
        "Let's load the model:"
      ],
      "metadata": {
        "id": "YewbngOHnh-w"
      }
    },
    {
      "cell_type": "code",
      "source": [
        "model = rfm.KumoRFM(graph)"
      ],
      "metadata": {
        "colab": {
          "base_uri": "https://localhost:8080/",
          "height": 105,
          "referenced_widgets": [
            "f2627baa354749589f6aa4c22c19ead5",
            "f0fb4a7911144da8bd8d777610c72211"
          ]
        },
        "id": "kx0NPDwNnf20",
        "outputId": "e22512f5-10cc-428a-b5d5-fb62b4a95ff2"
      },
      "execution_count": null,
      "outputs": [
        {
          "output_type": "display_data",
          "data": {
            "text/plain": [
              "Output()"
            ],
            "application/vnd.jupyter.widget-view+json": {
              "version_major": 2,
              "version_minor": 0,
              "model_id": "f2627baa354749589f6aa4c22c19ead5"
            }
          },
          "metadata": {}
        },
        {
          "output_type": "display_data",
          "data": {
            "text/plain": [],
            "text/html": [
              "<pre style=\"white-space:pre;overflow-x:auto;line-height:normal;font-family:Menlo,'DejaVu Sans Mono',consolas,'Courier New',monospace\"></pre>\n"
            ]
          },
          "metadata": {}
        }
      ]
    },
    {
      "cell_type": "markdown",
      "source": [
        "The SALT tasks are multi-class classification tasks, in which we are asked to impute missing values. In `KumoRFM`, we can simply model this via the **Predictive Query Language** by predicting the target column on each of the tables:"
      ],
      "metadata": {
        "id": "U0wygw5vntnk"
      }
    },
    {
      "cell_type": "code",
      "source": [
        "if task in sale_tasks:\n",
        "    query = f\"PREDICT sales.{task} FOR sales.SALESDOCUMENT IN ({{indices}})\"\n",
        "else:\n",
        "    query = f\"PREDICT items.{task} FOR items.ID IN ({{indices}})\""
      ],
      "metadata": {
        "id": "9ikEBVpBoaYf"
      },
      "execution_count": null,
      "outputs": []
    },
    {
      "cell_type": "markdown",
      "source": [
        "We are now ready to iterate over all test entities (with a batch size up to `1000`) and obtain their predictions. In order to speed things up, we only run over a subset of test entities (defined by `max_test_steps`). For multi-class classification tasks, `KumoRFM` will return the probabilities of the top-10 most likely classes for each entity."
      ],
      "metadata": {
        "id": "PbHGtakUotxw"
      }
    },
    {
      "cell_type": "code",
      "source": [
        "import tqdm\n",
        "import numpy as np\n",
        "\n",
        "batch_size = 1000\n",
        "max_test_steps = 10\n",
        "\n",
        "ys_pred = []\n",
        "steps = list(range(0, len(pkey_test), batch_size))[:max_test_steps]\n",
        "for i, step in enumerate(tqdm.tqdm(steps)):\n",
        "    indices = pkey_test[step:step + batch_size].tolist()\n",
        "\n",
        "    if task in sale_tasks:\n",
        "        _query = query.format(indices=', '.join(f\"'{i}'\" for i in indices))\n",
        "    else:\n",
        "       _query = query.format(indices=', '.join(str(i) for i in indices))\n",
        "\n",
        "    df = model.predict(\n",
        "        _query,\n",
        "        run_mode='best',  # Trades runtime in favor of better model performance.\n",
        "        anchor_time='entity',  # Use entity table time as anchor time.\n",
        "        num_hops=3,  # Ensure that we reach every table.\n",
        "        verbose=i == 0,  # Prevent excessive logging.\n",
        "    )\n",
        "\n",
        "    # Save the predicted top-10 classes sorted by probability:\n",
        "    ys_pred.append(df['CLASS'].to_numpy().reshape(len(indices), -1))\n",
        "\n",
        "y_pred = np.concatenate(ys_pred, axis=0)"
      ],
      "metadata": {
        "colab": {
          "base_uri": "https://localhost:8080/",
          "height": 142,
          "referenced_widgets": [
            "206ee0ff94464ffd99d549ae2c952ffd",
            "cbd0009ff98847f18ee62a25e0d2fe0d"
          ]
        },
        "id": "MNWyV267pCIm",
        "outputId": "2e06510f-6ff5-4b50-8918-07212e417576"
      },
      "execution_count": null,
      "outputs": [
        {
          "output_type": "stream",
          "name": "stderr",
          "text": [
            "\r  0%|          | 0/10 [00:00<?, ?it/s]"
          ]
        },
        {
          "output_type": "display_data",
          "data": {
            "text/plain": [
              "Output()"
            ],
            "application/vnd.jupyter.widget-view+json": {
              "version_major": 2,
              "version_minor": 0,
              "model_id": "206ee0ff94464ffd99d549ae2c952ffd"
            }
          },
          "metadata": {}
        },
        {
          "output_type": "display_data",
          "data": {
            "text/plain": [],
            "text/html": [
              "<pre style=\"white-space:pre;overflow-x:auto;line-height:normal;font-family:Menlo,'DejaVu Sans Mono',consolas,'Courier New',monospace\"></pre>\n"
            ]
          },
          "metadata": {}
        },
        {
          "output_type": "stream",
          "name": "stderr",
          "text": [
            "100%|██████████| 10/10 [02:44<00:00, 16.43s/it]\n"
          ]
        }
      ]
    },
    {
      "cell_type": "markdown",
      "source": [
        "Finally, we are ready to evaluate our predictions by comparing them to the ground-truth test labels. The metric of choice here is Mean Reciprocal Rank (MRR), *i.e.* the reciprocal rank of the correct prediction averaged over all test labels.\n",
        "\n",
        "Let's implement it quickly:"
      ],
      "metadata": {
        "id": "mkxIxnXUo2YJ"
      }
    },
    {
      "cell_type": "code",
      "source": [
        "match = y_test[:len(y_pred)].reshape(-1, 1) == y_pred\n",
        "rank = match.astype(float).argmax(axis=-1) + 1\n",
        "reciprocal_rank = 1.0 / rank\n",
        "reciprocal_rank[match.sum(axis=-1) == 0.0] = 0.0\n",
        "\n",
        "print(f'MRR: {reciprocal_rank.mean():.4f}')"
      ],
      "metadata": {
        "colab": {
          "base_uri": "https://localhost:8080/"
        },
        "id": "RfyqXFbpq6a4",
        "outputId": "63632c0f-66e0-4e61-f68e-ffc315ab2426"
      },
      "execution_count": null,
      "outputs": [
        {
          "output_type": "stream",
          "name": "stdout",
          "text": [
            "MRR: 0.8554\n"
          ]
        }
      ]
    },
    {
      "cell_type": "markdown",
      "source": [
        "And that's it! If you run the model over all different tasks, you will observe that `KumoRFM` is on par to the best baseline reported in the [SALT](https://arxiv.org/html/2501.03413v1) paper, although we never trained anything.\n",
        "Noteworthy, we are even underestimating the true MRR here, since for any correct prediction that is not within the top-10 most likely classes, we assign it a reciprocal rank of `0`.\n",
        "The only dataset where `KumoRFM` underperforms a bit is the `SALESGROUP` task, which is explained by the fact that it is the task with the most classes (589).\n",
        "\n",
        "We can further improve the performance by fine-tuning `KumoRFM` on SALT, but this is a story for another notebook. Happy hacking!"
      ],
      "metadata": {
        "id": "lVn5AVj0rEaI"
      }
    }
  ]
}