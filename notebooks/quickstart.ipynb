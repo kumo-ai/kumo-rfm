{
 "cells": [
  {
   "cell_type": "markdown",
   "id": "3QiMeqVqYaU3",
   "metadata": {
    "id": "3QiMeqVqYaU3"
   },
   "source": [
    "# KumoRFM Quickstart\n",
    "\n",
    "[[**Blog**](https://kumo.ai/company/news/kumo-relational-foundation-model/) | [**Paper**](https://kumo.ai/research/kumo_relational_foundation_model.pdf)]\n",
    "\n",
    "**KumoRFM (Kumo Relational Foundation Model)** is a Foundation Model for machine learning on enterprise data. With just your data and a few lines of code, you can generate accurate predictions in real-time: no model training or pipelines required."
   ]
  },
  {
   "cell_type": "markdown",
   "id": "HKJCzrCTYaU3",
   "metadata": {
    "id": "HKJCzrCTYaU3"
   },
   "source": [
    "## Introduction\n",
    "\n",
    "KumoRFM is grounded in three key world views:\n",
    "\n",
    "> **1. Enterprise data is a graph.**\n",
    "\n",
    "Enterprise data is a graph where tables are connected by keys.   \n",
    "Below is an example database where `ITEMS` table and `ORDERS` table are linked by `item_id`.\n",
    "\n",
    "<div align=\"center\">\n",
    "  <img src=\"https://kumo-sdk-public.s3.us-west-2.amazonaws.com/rfm-colabs/relational-database.png\" width=\"500\" />\n",
    "</div>\n",
    "\n",
    "Once we structure enterprise data as a graph, we can apply pre-trained [*Relational Graph Transformers*](https://kumo.ai/research/relational-graph-transformers/) to extract insights and patterns.\n",
    "\n",
    "> **2. With timestamps, we place events on a timeline.**\n",
    "\n",
    "By placing events on a timeline, we unlock the ability to model how things evolve over time.\n",
    "This makes it possible to select any point in time and predict what is likely to happen next, based on the sequence and patterns in historical data.\n",
    "\n",
    "<div align=\"center\">\n",
    "  <img src=\"https://kumo-sdk-public.s3.us-west-2.amazonaws.com/rfm-colabs/timeline.png\" width=\"300\" />\n",
    "</div>\n",
    "\n",
    "> **3. Machine learning tasks can be described via predictive queries.**\n",
    "\n",
    "All major machine learning tasks—regression, classification, recommendation—can be defined using a *Predictive Query language (PQL)*.\n",
    "\n",
    "<div align=\"center\">\n",
    "  <img src=\"https://kumo-sdk-public.s3.us-west-2.amazonaws.com/rfm-colabs/predictive-query-multiple.png\" width=\"600\" />\n",
    "</div>\n",
    "\n",
    "If you know SQL, picking up PQL is a breeze.\n",
    "It will feel familiar right away.\n",
    "Learn more about PQL [here](https://kumo.ai/docs/pquery-structure).\n",
    "\n"
   ]
  },
  {
   "cell_type": "markdown",
   "id": "Enucu67aEPZn",
   "metadata": {
    "id": "Enucu67aEPZn"
   },
   "source": [
    "**Let's get started!**\n",
    "\n"
   ]
  },
  {
   "cell_type": "markdown",
   "id": "psushpJFYaU4",
   "metadata": {
    "id": "psushpJFYaU4"
   },
   "source": [
    "## Step 1. Install the Kumo Python SDK\n",
    "\n",
    "KumoRFM provides an [SDK](https://kumo-ai.github.io/kumo-sdk/docs/get_started/rfm/index.html) in Python.\n",
    "The Kumo SDK is available for Python 3.9 to Python 3.13."
   ]
  },
  {
   "cell_type": "code",
   "execution_count": null,
   "id": "ro8qKwXAYaU4",
   "metadata": {
    "colab": {
     "base_uri": "https://localhost:8080/"
    },
    "id": "ro8qKwXAYaU4",
    "outputId": "f42095a9-0765-430e-e8fe-f401385269b8"
   },
   "outputs": [],
   "source": [
    "!pip install kumoai"
   ]
  },
  {
   "cell_type": "code",
   "execution_count": null,
   "id": "3b73a9a4-2bd6-438b-9b7b-91583cf2d85d",
   "metadata": {
    "id": "3b73a9a4-2bd6-438b-9b7b-91583cf2d85d"
   },
   "outputs": [],
   "source": [
    "import kumoai.experimental.rfm as rfm"
   ]
  },
  {
   "cell_type": "markdown",
   "id": "cG9-xYdHEhH3",
   "metadata": {
    "id": "cG9-xYdHEhH3"
   },
   "source": [
    "**Note:** The API of `kumoai.experimental.rfm` may change in the near future."
   ]
  },
  {
   "cell_type": "markdown",
   "id": "xr7eIPGuYaU4",
   "metadata": {
    "id": "xr7eIPGuYaU4"
   },
   "source": [
    "## Step 2. Get an API key\n",
    "\n",
    "You will need an API key to make calls to KumoRFM.\n",
    "Use the widget below to generate one for free by clicking \"Generate API Key\".\n",
    "If you don't have a KumoRFM account, the widget will prompt you to signup.\n",
    "\n",
    "You will see the following when your key has been created successfully:\n",
    "\n",
    "<div align=\"left\">\n",
    "  <img src=\"https://kumo-sdk-public.s3.us-west-2.amazonaws.com/rfm-colabs/api-key-created.png\" width=\"300\" />\n",
    "</div>"
   ]
  },
  {
   "cell_type": "code",
   "execution_count": null,
   "id": "f605319a-80ad-45d0-950d-b17fc3e50499",
   "metadata": {
    "colab": {
     "base_uri": "https://localhost:8080/",
     "height": 139
    },
    "id": "f605319a-80ad-45d0-950d-b17fc3e50499",
    "outputId": "10528ef9-870a-4c17-ea12-5981ae0732bd"
   },
   "outputs": [],
   "source": [
    "import os\n",
    "\n",
    "if not os.environ.get(\"KUMO_API_KEY\"):\n",
    "    rfm.authenticate()"
   ]
  },
  {
   "cell_type": "markdown",
   "id": "FpYcu6NQYaU5",
   "metadata": {
    "id": "FpYcu6NQYaU5"
   },
   "source": [
    "## Step 3. Initialize a client\n",
    "\n",
    "If you completed step 2 via the widget, you don't need to change anything. `KUMO_API_KEY` is already set as environment variable.\n",
    "\n",
    "If you bring the API key from the website, you can manually change the `KUMO_API_KEY` below:\n"
   ]
  },
  {
   "cell_type": "code",
   "execution_count": null,
   "id": "r7HX2s1iYaU5",
   "metadata": {
    "colab": {
     "base_uri": "https://localhost:8080/"
    },
    "id": "r7HX2s1iYaU5",
    "outputId": "6d50c2fb-0d58-4998-bdeb-660bedb0410e"
   },
   "outputs": [],
   "source": [
    "# Initialize a Kumo client with your API key:\n",
    "KUMO_API_KEY = os.environ.get(\"KUMO_API_KEY\")\n",
    "rfm.init(api_key=KUMO_API_KEY)"
   ]
  },
  {
   "cell_type": "markdown",
   "id": "RvRgi0DaYaU5",
   "metadata": {
    "id": "RvRgi0DaYaU5"
   },
   "source": [
    "## Step 4. Import your data\n",
    "\n",
    "KumoRFM interacts with a set of `pd.DataFrame` objects:"
   ]
  },
  {
   "cell_type": "code",
   "execution_count": null,
   "id": "uGUWXhbsYaU5",
   "metadata": {
    "id": "uGUWXhbsYaU5"
   },
   "outputs": [],
   "source": [
    "import pandas as pd\n",
    "\n",
    "root = 's3://kumo-sdk-public/rfm-datasets/online-shopping'\n",
    "users_df = pd.read_parquet(f'{root}/users.parquet')\n",
    "items_df = pd.read_parquet(f'{root}/items.parquet')\n",
    "orders_df = pd.read_parquet(f'{root}/orders.parquet')\n",
    "# NOTE You can use `pd.read_csv(...)` to read CSV files instead."
   ]
  },
  {
   "cell_type": "markdown",
   "id": "PFBBD4ZIGXgH",
   "metadata": {
    "id": "PFBBD4ZIGXgH"
   },
   "source": [
    "We can inspect the data and its types in-memory:"
   ]
  },
  {
   "cell_type": "code",
   "execution_count": null,
   "id": "da29027e-e7df-4784-8801-3ffdb91bb3dd",
   "metadata": {
    "id": "da29027e-e7df-4784-8801-3ffdb91bb3dd"
   },
   "outputs": [],
   "source": [
    "# Inspect a `pandas.DataFrame`:\n",
    "users_df.head(3)"
   ]
  },
  {
   "cell_type": "code",
   "execution_count": null,
   "id": "_R7ucgfDrWcQ",
   "metadata": {
    "id": "_R7ucgfDrWcQ"
   },
   "outputs": [],
   "source": [
    "# Inspect the data types of a `pandas.DataFrame`:\n",
    "users_df.dtypes"
   ]
  },
  {
   "cell_type": "code",
   "execution_count": null,
   "id": "6903924f-2d25-45fc-a755-661c9f5fdbb3",
   "metadata": {
    "id": "6903924f-2d25-45fc-a755-661c9f5fdbb3"
   },
   "outputs": [],
   "source": [
    "# Optional: Change the data type of columns (if necessary):\n",
    "users_df['user_id'] = users_df['user_id'].astype(int)"
   ]
  },
  {
   "cell_type": "markdown",
   "id": "PXUd-a9KYaU6",
   "metadata": {
    "id": "PXUd-a9KYaU6"
   },
   "source": [
    "## Step 5. Create KumoRFM tables\n",
    "\n",
    "A `rfm.LocalTable` acts as a lightweight abstraction of a `pandas.DataFrame`, providing additional integration.\n",
    "\n",
    "A `LocalTable` defines three critical things about the table:\n",
    "\n",
    "1. **Semantic types** define how column data will be encoded. For instance, an integer column can be encoded either as `\"numercial\"` or `\"categorical\"`, depending on the actual meaning of the data (see reference at the end of this section for more details).\n",
    "\n",
    "2. A **primary key** uniquely identifies each row in a table and serves as the reference point for linking other tables to it (*e.g.*, `user_id` is the primary key in the `users` table).\n",
    "\n",
    "3. A **time column** defines when the event happened (*i.e.* a timestamp column)."
   ]
  },
  {
   "cell_type": "markdown",
   "id": "QFJvod3zIOr6",
   "metadata": {
    "id": "QFJvod3zIOr6"
   },
   "source": [
    "KumoRFM is smart enough to infer most things correctly.\n",
    "You may still want to inspect the results of inferred metadata to ensure correctness downstream:"
   ]
  },
  {
   "cell_type": "code",
   "execution_count": null,
   "id": "_OiiUzNkYaU6",
   "metadata": {
    "id": "_OiiUzNkYaU6"
   },
   "outputs": [],
   "source": [
    "users = rfm.LocalTable(users_df, name=\"users\").infer_metadata()\n",
    "orders = rfm.LocalTable(orders_df, name=\"orders\").infer_metadata()\n",
    "items = rfm.LocalTable(items_df, name=\"items\").infer_metadata()"
   ]
  },
  {
   "cell_type": "markdown",
   "id": "lAjwrT53Ilny",
   "metadata": {
    "id": "lAjwrT53Ilny"
   },
   "source": [
    "If you prefer more explicit control, you can manually assign metadata during table creation instead of relying on automatic inference:"
   ]
  },
  {
   "cell_type": "code",
   "execution_count": null,
   "id": "chEiUDg0JU3Y",
   "metadata": {
    "id": "chEiUDg0JU3Y"
   },
   "outputs": [],
   "source": [
    "orders = rfm.LocalTable(\n",
    "    orders_df,\n",
    "    name=\"orders\",\n",
    "    primary_key=\"order_id\",\n",
    "    time_column=\"date\"\n",
    ")"
   ]
  },
  {
   "cell_type": "markdown",
   "id": "txRjCfo0IuJ-",
   "metadata": {
    "id": "txRjCfo0IuJ-"
   },
   "source": [
    "You can inspect the metadata of the table ..."
   ]
  },
  {
   "cell_type": "code",
   "execution_count": null,
   "id": "Iw76LJe9YaU6",
   "metadata": {
    "id": "Iw76LJe9YaU6"
   },
   "outputs": [],
   "source": [
    "users.print_metadata()"
   ]
  },
  {
   "cell_type": "markdown",
   "id": "r1BqpiFdI0j7",
   "metadata": {
    "id": "r1BqpiFdI0j7"
   },
   "source": [
    "... and apply any required changes manually:"
   ]
  },
  {
   "cell_type": "code",
   "execution_count": null,
   "id": "E4pCdy4BYaU6",
   "metadata": {
    "id": "E4pCdy4BYaU6"
   },
   "outputs": [],
   "source": [
    "# Update the semantic type (stype) of columns:\n",
    "users['user_id'].stype = \"ID\"\n",
    "users['age'].stype = \"numerical\"\n",
    "\n",
    "# Set primary key:\n",
    "users.primary_key = \"user_id\"\n",
    "\n",
    "# Set time column:\n",
    "orders.time_column = \"date\""
   ]
  },
  {
   "cell_type": "markdown",
   "id": "HeISl7332Zgr",
   "metadata": {
    "id": "HeISl7332Zgr"
   },
   "source": [
    "**Quick Reference:**\n",
    "\n",
    "1. **`stype` (semantic type)**:\n",
    "   - A `stype` will determine how the column will be encoded downstream.\n",
    "   - Correctly setting each column's stype is critical for model performance. For instance, if you want to perform missing value imputation, the semantic type will determine whether it is treated as a regression task (`stype=\"numerical\"`) or a classification task (`stype=\"categorical\")`.\n",
    "\n",
    "| Type | Explanation | Example |\n",
    "|------|-------------|---------|\n",
    "| `\"numerical\"` | Numerical values (*e.g.*, `price`, `age`) | `25`, `3.14`, `-10` |\n",
    "| `\"categorical\"` | Discrete categories with limited cardinality | Color: `\"red\"`, `\"blue\"`, `\"green\"` (one cell may only have one category) |\n",
    "| `\"multicategorical\"` | Multiple categories in a single cell | `\"Action\\|Drama\\|Comedy\"`, `\"Action\\|Thriller\"` |\n",
    "| `\"ID\"` | An identifier, *e.g.*, primary keys or foreign keys | `user_id: 123`, `product_id: PRD-8729453` |\n",
    "| `\"text\"` | Natural language text | Descriptions |\n",
    "| `\"timestamp\"` | Specific point in time | `\"2025-07-11\"`,  `\"2023-02-12 09:47:58`\" |\n",
    "| `\"sequence\"` | Custom embeddings or sequential data  | `[0.25, -0.75, 0.50, ...]` |\n",
    "\n",
    "2. **`primary_key`**:\n",
    "   - Indicates the column that will be used as primary key to link other tables to it. For instance, `user_id` should be the primary key for table `users`.\n",
    "   - If there are duplicated primary keys, the system will keep only keep the first one.\n",
    "   - `primary_key` can only be assigned to columns holding integers, floating point values or strings.\n",
    "   - Each table can have at most one `primary_key` column.\n",
    "\n",
    "3. **`time_column`**:\n",
    "   - Indicates the timestamp column that record when the event occurred.\n",
    "   - Time column data must be able to be parsed via `pandas.to_datetime`.\n",
    "   - Each table can have at most one `time_column` column."
   ]
  },
  {
   "cell_type": "markdown",
   "id": "T4fEPffRYaU7",
   "metadata": {
    "id": "T4fEPffRYaU7"
   },
   "source": [
    "## Step 6. Create a graph in two simple steps\n",
    "\n",
    "We are now ready to inter-connect our tables to form a `LocalGraph`.\n",
    "But how to get started with building a graph? What tables should you include?\n",
    "\n",
    "A good guiding principle is to start simple: begin with just the minimal set of tables needed to support the prediction task you care about. Focus on the core entities and relationships essential to prediction.\n",
    "\n",
    "For example, suppose your goal is to predict a user's future orders. At a minimum, your graph only needs two tables:\n",
    "\n",
    "- `users`: representing each user\n",
    "- `orders`: representing the orders placed by those users\n",
    "\n",
    "This minimal setup forms a usable graph for prediction. From there, you can gradually add complexity. For instance, you might later introduce an `items` table, so that RFM can take into account `item` information."
   ]
  },
  {
   "cell_type": "markdown",
   "id": "243f4660-42a4-42b8-b0bb-e90d368ee5af",
   "metadata": {
    "id": "243f4660-42a4-42b8-b0bb-e90d368ee5af"
   },
   "source": [
    " **1. Select the tables:**"
   ]
  },
  {
   "cell_type": "code",
   "execution_count": null,
   "id": "4682348b-71ef-47e1-a2b6-e31f434376cd",
   "metadata": {
    "id": "4682348b-71ef-47e1-a2b6-e31f434376cd"
   },
   "outputs": [],
   "source": [
    "graph = rfm.LocalGraph(tables=[\n",
    "    users,\n",
    "    orders,\n",
    "    items,\n",
    "])"
   ]
  },
  {
   "cell_type": "markdown",
   "id": "bpe8yBuaOGIz",
   "metadata": {
    "id": "bpe8yBuaOGIz"
   },
   "source": [
    "**2. Link the tables:**\n",
    "\n",
    "In the `orders` table (`src_table`), there exists a column named `user_id` (`fkey`), which we can use as a foreign key to link to the primary key in the `users` table (`dst_table`).\n",
    "You don't need to specify the primary key here since it's already known as part of the metadata of the `users` table."
   ]
  },
  {
   "cell_type": "code",
   "execution_count": null,
   "id": "pcwsiX_AYaU7",
   "metadata": {
    "id": "pcwsiX_AYaU7"
   },
   "outputs": [],
   "source": [
    "graph.link(src_table=\"orders\", fkey=\"user_id\", dst_table=\"users\");"
   ]
  },
  {
   "cell_type": "markdown",
   "id": "9FeVEveUOn9v",
   "metadata": {
    "id": "9FeVEveUOn9v"
   },
   "source": [
    "Also link from the foreign key `item_id` in the `orders` table to the `items` table."
   ]
  },
  {
   "cell_type": "code",
   "execution_count": null,
   "id": "696291cf-a60c-4854-9252-43384c3b3b91",
   "metadata": {
    "id": "696291cf-a60c-4854-9252-43384c3b3b91"
   },
   "outputs": [],
   "source": [
    "graph.link(src_table=\"orders\", fkey=\"item_id\", dst_table=\"items\");"
   ]
  },
  {
   "cell_type": "markdown",
   "id": "Tw47zUyTOwjT",
   "metadata": {
    "id": "Tw47zUyTOwjT"
   },
   "source": [
    "You can verify that graph connectivity is set up by visualizing the graph ..."
   ]
  },
  {
   "cell_type": "code",
   "execution_count": null,
   "id": "rpr9kic2YaU7",
   "metadata": {
    "id": "rpr9kic2YaU7"
   },
   "outputs": [],
   "source": [
    "# Requires graphviz to be installed\n",
    "\n",
    "graph.visualize()"
   ]
  },
  {
   "cell_type": "markdown",
   "id": "Ga4uW0WiO2tl",
   "metadata": {
    "id": "Ga4uW0WiO2tl"
   },
   "source": [
    "... or by printing all necessary information:"
   ]
  },
  {
   "cell_type": "code",
   "execution_count": null,
   "id": "ajMhnesnYaU7",
   "metadata": {
    "id": "ajMhnesnYaU7"
   },
   "outputs": [],
   "source": [
    "graph.print_metadata()\n",
    "graph.print_links()"
   ]
  },
  {
   "cell_type": "markdown",
   "id": "DbptB-ckYaU8",
   "metadata": {
    "id": "DbptB-ckYaU8"
   },
   "source": [
    "You can update and modify links as needed:"
   ]
  },
  {
   "cell_type": "code",
   "execution_count": null,
   "id": "F9jeyapsYaU8",
   "metadata": {
    "id": "F9jeyapsYaU8"
   },
   "outputs": [],
   "source": [
    "# Remove link:\n",
    "graph.unlink(src_table=\"orders\", fkey=\"user_id\", dst_table=\"users\")\n",
    "\n",
    "# Re-add link:\n",
    "graph.link(src_table=\"orders\", fkey=\"user_id\", dst_table=\"users\");"
   ]
  },
  {
   "cell_type": "markdown",
   "id": "MxTWmDF_PY10",
   "metadata": {
    "id": "MxTWmDF_PY10"
   },
   "source": [
    "In addition, there exists a handy short-cut that lets you create a `LocalGraph` directly from a set of `pandas.DataFrame` objects, bypassing the step of manual `LocalTable` creation:"
   ]
  },
  {
   "cell_type": "code",
   "execution_count": null,
   "id": "3MhtnEBqPnM1",
   "metadata": {
    "id": "3MhtnEBqPnM1"
   },
   "outputs": [],
   "source": [
    "graph = rfm.LocalGraph.from_data({\n",
    "    'users': users_df,\n",
    "    'orders': orders_df,\n",
    "    'items': items_df,\n",
    "}, infer_metadata=True)"
   ]
  },
  {
   "cell_type": "markdown",
   "id": "Iegen4I8YaU8",
   "metadata": {
    "id": "Iegen4I8YaU8"
   },
   "source": [
    "## Step 7. Write a predictive query\n",
    "\n",
    "You are now ready to plug your model into `KumoRFM`:"
   ]
  },
  {
   "cell_type": "code",
   "execution_count": null,
   "id": "RHarmrJIyiIx",
   "metadata": {
    "id": "RHarmrJIyiIx"
   },
   "outputs": [],
   "source": [
    "model = rfm.KumoRFM(graph)"
   ]
  },
  {
   "cell_type": "markdown",
   "id": "hFNiSPODQAjd",
   "metadata": {
    "id": "hFNiSPODQAjd"
   },
   "source": [
    "**Note:** The data is synthetic, and the query and results are intended for demo purposes. We encourage you to benchmark the model using your own data."
   ]
  },
  {
   "cell_type": "markdown",
   "id": "9dc6cb85-4ee3-4057-a806-5950563e0926",
   "metadata": {
    "id": "9dc6cb85-4ee3-4057-a806-5950563e0926"
   },
   "source": [
    "### Example 1A: Forecast 30-day product demand\n",
    "\n",
    "Predict the revenue (sum of order prices) the item with `item_id=42` will generate in the next 30 days."
   ]
  },
  {
   "cell_type": "code",
   "execution_count": null,
   "id": "pkAgGHogYaU8",
   "metadata": {
    "id": "pkAgGHogYaU8"
   },
   "outputs": [],
   "source": [
    "query = \"PREDICT SUM(orders.price, 0, 30, days) FOR items.item_id=42\"\n",
    "\n",
    "df = model.predict(query)\n",
    "display(df)"
   ]
  },
  {
   "cell_type": "markdown",
   "id": "_s_prdXZQZC_",
   "metadata": {
    "id": "_s_prdXZQZC_"
   },
   "source": [
    "How to interpret the result:\n",
    "1. `ENTITY`: The item with `item_id=42`\n",
    "1. `ANCHOR_TIMESTAMP`: Assuming predicting at anchor timestamp `2024-09-19`, what's happening between `(2024-09-19, 2024-10-18]`? By default, `anchor_time` is the maximum timestamp on the temporal graph.\n",
    "1. `TARGET_PRED`: How much revenue `item_id=42` generates in the next 30 days."
   ]
  },
  {
   "cell_type": "markdown",
   "id": "uYDbYUvE-mLm",
   "metadata": {
    "id": "uYDbYUvE-mLm"
   },
   "source": [
    "**You can use the result for sales forecasting:**\n",
    "\n",
    "<div align=\"left\">\n",
    "  <img src=\"https://kumo-sdk-public.s3.us-west-2.amazonaws.com/rfm-colabs/sales-forecasting.png\" width=\"500\" />\n",
    "</div>\n"
   ]
  },
  {
   "cell_type": "markdown",
   "id": "5a7d934f-1d16-47e8-aae5-d151e03b7597",
   "metadata": {
    "id": "5a7d934f-1d16-47e8-aae5-d151e03b7597"
   },
   "source": [
    "### Example 1B: Forecast 30-day product demand, with an `anchor_time`\n",
    "\n",
    "By default, predictions are based on the maximum timestamp in your temporal graph. However, you can explicitly set a historical `anchor_time` to simulate what a prediction would have looked like at that point in time.\n",
    "\n",
    "For instance, if `anchor_time` is `\"2024-09-20\"`, the model will predict—assuming today is `\"2024-09-20\"`—the product demand in the next 30 days.\n",
    "KumoRFM will only use information before the `anchor_time` to avoid data leakage.\n",
    "\n",
    "This feature can be useful when you want to evaluate model performance yourself based on time-based splits."
   ]
  },
  {
   "cell_type": "code",
   "execution_count": null,
   "id": "becbc96b-d4bb-475f-bebf-dfcedf169267",
   "metadata": {
    "id": "becbc96b-d4bb-475f-bebf-dfcedf169267"
   },
   "outputs": [],
   "source": [
    "df = model.predict(query, anchor_time=pd.Timestamp(\"2024-09-20\"))\n",
    "display(df)"
   ]
  },
  {
   "cell_type": "markdown",
   "id": "OUIP9jKhYaK_",
   "metadata": {
    "id": "OUIP9jKhYaK_"
   },
   "source": [
    "### Example 2. Predict customer churn\n",
    "\n",
    "Predict the likelihood that users  with `user_id=42` and `user_id=123` will place zero orders in the next 90 days."
   ]
  },
  {
   "cell_type": "code",
   "execution_count": null,
   "id": "3ov9ELzLYWvd",
   "metadata": {
    "id": "3ov9ELzLYWvd"
   },
   "outputs": [],
   "source": [
    "query = \"PREDICT COUNT(orders.*, 0, 90, days)=0 FOR users.user_id IN (42, 123)\"\n",
    "\n",
    "df = model.predict(query)\n",
    "display(df)"
   ]
  },
  {
   "cell_type": "markdown",
   "id": "jqjTBt2ZSGyX",
   "metadata": {
    "id": "jqjTBt2ZSGyX"
   },
   "source": [
    "How to interpret the result:\n",
    "1. `ENTITY`: The user with `user_id=42` or `user_id=123`\n",
    "1. `ANCHOR_TIMESTAMP`: Assuming we are predicting at this moment in time, what's happening in the next 90 days?\n",
    "1. `TARGET_PRED`: Whether the event (`COUNT(orders.*, 0, 90, days)=0`) will happen (`True`: Event will happen; `False`: Event will not happen)\n",
    "1. `False_PROB`: The probability that the event will not happen\n",
    "1. `True_PROB`: The probability that the event will happen."
   ]
  },
  {
   "cell_type": "markdown",
   "id": "aTR7OXshAoZ9",
   "metadata": {
    "id": "aTR7OXshAoZ9"
   },
   "source": [
    "**You can use the result to prevent customer churn (*e.g.*, sending a personalized coupon):**\n",
    "\n",
    "<div align=\"left\">\n",
    "  <img src=\"https://kumo-sdk-public.s3.us-west-2.amazonaws.com/rfm-colabs/churn.png\" width=\"500\" />\n",
    "</div>"
   ]
  },
  {
   "cell_type": "markdown",
   "id": "ooCNzX1EdQcG",
   "metadata": {
    "id": "ooCNzX1EdQcG"
   },
   "source": [
    "### Example 3. Product recommendation\n",
    "\n",
    "Predict the top-10 items that user with `user_id=123` is likely going to buy in the next 30 days."
   ]
  },
  {
   "cell_type": "code",
   "execution_count": null,
   "id": "nJ9QwZ_gdNzC",
   "metadata": {
    "id": "nJ9QwZ_gdNzC"
   },
   "outputs": [],
   "source": [
    "query = \"PREDICT LIST_DISTINCT(orders.item_id, 0, 30, days) RANK TOP 10 FOR users.user_id=123\"\n",
    "\n",
    "df = model.predict(query)\n",
    "display(df)"
   ]
  },
  {
   "cell_type": "markdown",
   "id": "A7apJCl4TYPO",
   "metadata": {
    "id": "A7apJCl4TYPO"
   },
   "source": [
    "How to interpret the result:\n",
    "1. `ENTITY`: The user with `user_id=123`\n",
    "1. `ANCHOR_TIMESTAMP`: Assuming we are predicting at this moment in time, what's happening in the next 30 days?\n",
    "1. `CLASS`: The items (`item_id`)\n",
    "1. `SCORE`: Higher score indicates higher likelihood"
   ]
  },
  {
   "cell_type": "markdown",
   "id": "l38SFpUuCPiT",
   "metadata": {
    "id": "l38SFpUuCPiT"
   },
   "source": [
    "**You can use the result to power product recommendation:**\n",
    "\n",
    "<div align=\"left\">\n",
    "  <img src=\"https://kumo-sdk-public.s3.us-west-2.amazonaws.com/rfm-colabs/product-recommendation.png\" width=\"500\" />\n",
    "</div>\n"
   ]
  },
  {
   "cell_type": "markdown",
   "id": "zUtpp0P13LKT",
   "metadata": {
    "id": "zUtpp0P13LKT"
   },
   "source": [
    "### Example 4. Infer entity attributes\n",
    "\n",
    "Predict the age of user with `user_id=8` (the original `age` field is `N/A` for this user)."
   ]
  },
  {
   "cell_type": "code",
   "execution_count": null,
   "id": "PK8aBsDt3bGQ",
   "metadata": {
    "id": "PK8aBsDt3bGQ"
   },
   "outputs": [],
   "source": [
    "query = \"PREDICT users.age FOR users.user_id=8\"\n",
    "\n",
    "df = model.predict(query)\n",
    "display(df)"
   ]
  },
  {
   "cell_type": "markdown",
   "id": "aUidDrOzUC77",
   "metadata": {
    "id": "aUidDrOzUC77"
   },
   "source": [
    "How to interpret the result:\n",
    "1. `ENTITY`: the user with `user_id=8`\n",
    "1. `ANCHOR_TIMESTAMP`: assuming we are predicting at this moment in time\n",
    "1. `TARGET_PRED`: The predicted `age` of the user"
   ]
  },
  {
   "cell_type": "markdown",
   "id": "LTORudewDZpe",
   "metadata": {
    "id": "LTORudewDZpe"
   },
   "source": [
    "**You can use the result for customer segmentation:**\n",
    "\n",
    "<div align=\"left\">\n",
    "  <img src=\"https://kumo-sdk-public.s3.us-west-2.amazonaws.com/rfm-colabs/customer-segmantation.png\" width=\"500\" />\n",
    "</div>\n"
   ]
  },
  {
   "cell_type": "markdown",
   "id": "zulLbR3AhQHX",
   "metadata": {
    "id": "zulLbR3AhQHX"
   },
   "source": [
    "## We'd love to hear from you!\n",
    "\n",
    "1. **Found a bug or have a feature request?**  \n",
    "\n",
    "   Submit issues directly on [GitHub](https://github.com/kumo-ai/kumo-rfm). Your feedback helps us improve RFM for everyone.\n",
    "\n",
    "1. **Built something cool with RFM? We'd love to see it!**  \n",
    "\n",
    "   Share your project on LinkedIn and tag @kumo.  \n",
    "   We regularly spotlight on our official channels—yours could be next!\n",
    "\n",
    "<div align=\"left\">\n",
    "  <img src=\"https://kumo-sdk-public.s3.us-west-2.amazonaws.com/rfm-colabs/kumo_ai_logo.jpeg\" width=\"30\" />\n",
    "</div>\n",
    "\n"
   ]
  }
 ],
 "metadata": {
  "colab": {
   "provenance": []
  },
  "kernelspec": {
   "display_name": "Python 3 (ipykernel)",
   "language": "python",
   "name": "python3"
  },
  "language_info": {
   "codemirror_mode": {
    "name": "ipython",
    "version": 3
   },
   "file_extension": ".py",
   "mimetype": "text/x-python",
   "name": "python",
   "nbconvert_exporter": "python",
   "pygments_lexer": "ipython3",
   "version": "3.10.18"
  }
 },
 "nbformat": 4,
 "nbformat_minor": 5
}
