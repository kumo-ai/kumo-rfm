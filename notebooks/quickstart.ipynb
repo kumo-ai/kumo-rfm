{
  "cells": [
    {
      "cell_type": "markdown",
      "metadata": {
        "id": "3QiMeqVqYaU3"
      },
      "source": [
        "# KumoRFM Quickstart\n",
        "\n",
        "[[**Blog**](https://kumo.ai/company/news/kumo-relational-foundation-model/) | [**Paper**](https://kumo.ai/research/kumo_relational_foundation_model.pdf)]\n",
        "\n",
        "**KumoRFM (Kumo Relational Foundation Model)** is a Foundation Model for machine learning on enterprise data. With just your data and a few lines of code, you can generate accurate predictions in real-time: no model training or pipelines required."
      ],
      "id": "3QiMeqVqYaU3"
    },
    {
      "cell_type": "markdown",
      "metadata": {
        "id": "HKJCzrCTYaU3"
      },
      "source": [
        "## Introduction\n",
        "\n",
        "KumoRFM is grounded in three key world views:\n",
        "\n",
        "> **1. Enterprise data is a graph.**\n",
        "\n",
        "Enterprise data is a graph where tables are connected by keys.   \n",
        "Below is an example database where `ITEMS` table and `ORDERS` table are linked by `item_id`.\n",
        "\n",
        "<div align=\"center\">\n",
        "  <img src=\"https://kumo-sdk-public.s3.us-west-2.amazonaws.com/rfm-colabs/relational-database.png\" width=\"500\" />\n",
        "</div>\n",
        "\n",
        "Once we structure enterprise data as a graph, we can apply pre-trained [*Relational Graph Transformers*](https://kumo.ai/research/relational-graph-transformers/) to extract insights and patterns.\n",
        "\n",
        "> **2. With timestamps, we place events on a timeline.**\n",
        "\n",
        "By placing events on a timeline, we unlock the ability to model how things evolve over time.\n",
        "This makes it possible to select any point in time and predict what is likely to happen next, based on the sequence and patterns in historical data.\n",
        "\n",
        "<div align=\"center\">\n",
        "  <img src=\"https://kumo-sdk-public.s3.us-west-2.amazonaws.com/rfm-colabs/timeline.png\" width=\"300\" />\n",
        "</div>\n",
        "\n",
        "> **3. Machine learning tasks can be described via predictive queries.**\n",
        "\n",
        "All major machine learning tasks—regression, classification, recommendation—can be defined using a *Predictive Query language (PQL)*.\n",
        "\n",
        "<div align=\"center\">\n",
        "  <img src=\"https://kumo-sdk-public.s3.us-west-2.amazonaws.com/rfm-colabs/predictive-query-multiple.png\" width=\"600\" />\n",
        "</div>\n",
        "\n",
        "If you know SQL, picking up PQL is a breeze.\n",
        "It will feel familiar right away.\n",
        "Learn more about PQL [here](https://kumo.ai/docs/pquery-structure).\n",
        "\n"
      ],
      "id": "HKJCzrCTYaU3"
    },
    {
      "cell_type": "markdown",
      "source": [
        "**Let's get started!**\n",
        "\n"
      ],
      "metadata": {
        "id": "Enucu67aEPZn"
      },
      "id": "Enucu67aEPZn"
    },
    {
      "cell_type": "markdown",
      "metadata": {
        "id": "psushpJFYaU4"
      },
      "source": [
        "## Step 1. Install the Kumo Python SDK\n",
        "\n",
        "KumoRFM provides an [SDK](https://kumo-ai.github.io/kumo-sdk/docs/get_started/rfm/index.html) in Python.\n",
        "The Kumo SDK is available for Python 3.9 to Python 3.13."
      ],
      "id": "psushpJFYaU4"
    },
    {
      "cell_type": "code",
      "execution_count": null,
      "metadata": {
        "scrolled": true,
        "id": "ro8qKwXAYaU4",
        "collapsed": true,
        "colab": {
          "base_uri": "https://localhost:8080/"
        },
        "outputId": "f42095a9-0765-430e-e8fe-f401385269b8"
      },
      "outputs": [
        {
          "output_type": "stream",
          "name": "stdout",
          "text": [
            "Requirement already satisfied: kumoai in /usr/local/lib/python3.11/dist-packages (2.5.0)\n",
            "Requirement already satisfied: pandas in /usr/local/lib/python3.11/dist-packages (from kumoai) (2.2.2)\n",
            "Requirement already satisfied: pyarrow<19.0.0,>=8.0.0 in /usr/local/lib/python3.11/dist-packages (from kumoai) (18.1.0)\n",
            "Requirement already satisfied: requests>=2.28.2 in /usr/local/lib/python3.11/dist-packages (from kumoai) (2.32.3)\n",
            "Requirement already satisfied: urllib3 in /usr/local/lib/python3.11/dist-packages (from kumoai) (2.5.0)\n",
            "Requirement already satisfied: plotly in /usr/local/lib/python3.11/dist-packages (from kumoai) (5.24.1)\n",
            "Requirement already satisfied: typing_extensions>=4.5.0 in /usr/local/lib/python3.11/dist-packages (from kumoai) (4.14.1)\n",
            "Requirement already satisfied: kumo-api==0.27.0 in /usr/local/lib/python3.11/dist-packages (from kumoai) (0.27.0)\n",
            "Requirement already satisfied: tqdm>=4.66.0 in /usr/local/lib/python3.11/dist-packages (from kumoai) (4.67.1)\n",
            "Requirement already satisfied: aiohttp>=3.10.0 in /usr/local/lib/python3.11/dist-packages (from kumoai) (3.11.15)\n",
            "Requirement already satisfied: pydantic<2,>=1.10.21 in /usr/local/lib/python3.11/dist-packages (from kumoai) (1.10.22)\n",
            "Requirement already satisfied: rich>=9.0.0 in /usr/local/lib/python3.11/dist-packages (from kumoai) (13.9.4)\n",
            "Requirement already satisfied: protobuf>=3.19.0 in /usr/local/lib/python3.11/dist-packages (from kumo-api==0.27.0->kumoai) (5.29.5)\n",
            "Requirement already satisfied: aiohappyeyeballs>=2.3.0 in /usr/local/lib/python3.11/dist-packages (from aiohttp>=3.10.0->kumoai) (2.6.1)\n",
            "Requirement already satisfied: aiosignal>=1.1.2 in /usr/local/lib/python3.11/dist-packages (from aiohttp>=3.10.0->kumoai) (1.4.0)\n",
            "Requirement already satisfied: attrs>=17.3.0 in /usr/local/lib/python3.11/dist-packages (from aiohttp>=3.10.0->kumoai) (25.3.0)\n",
            "Requirement already satisfied: frozenlist>=1.1.1 in /usr/local/lib/python3.11/dist-packages (from aiohttp>=3.10.0->kumoai) (1.7.0)\n",
            "Requirement already satisfied: multidict<7.0,>=4.5 in /usr/local/lib/python3.11/dist-packages (from aiohttp>=3.10.0->kumoai) (6.6.3)\n",
            "Requirement already satisfied: propcache>=0.2.0 in /usr/local/lib/python3.11/dist-packages (from aiohttp>=3.10.0->kumoai) (0.3.2)\n",
            "Requirement already satisfied: yarl<2.0,>=1.17.0 in /usr/local/lib/python3.11/dist-packages (from aiohttp>=3.10.0->kumoai) (1.20.1)\n",
            "Requirement already satisfied: charset-normalizer<4,>=2 in /usr/local/lib/python3.11/dist-packages (from requests>=2.28.2->kumoai) (3.4.2)\n",
            "Requirement already satisfied: idna<4,>=2.5 in /usr/local/lib/python3.11/dist-packages (from requests>=2.28.2->kumoai) (3.10)\n",
            "Requirement already satisfied: certifi>=2017.4.17 in /usr/local/lib/python3.11/dist-packages (from requests>=2.28.2->kumoai) (2025.7.14)\n",
            "Requirement already satisfied: markdown-it-py>=2.2.0 in /usr/local/lib/python3.11/dist-packages (from rich>=9.0.0->kumoai) (3.0.0)\n",
            "Requirement already satisfied: pygments<3.0.0,>=2.13.0 in /usr/local/lib/python3.11/dist-packages (from rich>=9.0.0->kumoai) (2.19.2)\n",
            "Requirement already satisfied: numpy>=1.23.2 in /usr/local/lib/python3.11/dist-packages (from pandas->kumoai) (2.0.2)\n",
            "Requirement already satisfied: python-dateutil>=2.8.2 in /usr/local/lib/python3.11/dist-packages (from pandas->kumoai) (2.9.0.post0)\n",
            "Requirement already satisfied: pytz>=2020.1 in /usr/local/lib/python3.11/dist-packages (from pandas->kumoai) (2025.2)\n",
            "Requirement already satisfied: tzdata>=2022.7 in /usr/local/lib/python3.11/dist-packages (from pandas->kumoai) (2025.2)\n",
            "Requirement already satisfied: tenacity>=6.2.0 in /usr/local/lib/python3.11/dist-packages (from plotly->kumoai) (8.5.0)\n",
            "Requirement already satisfied: packaging in /usr/local/lib/python3.11/dist-packages (from plotly->kumoai) (25.0)\n",
            "Requirement already satisfied: mdurl~=0.1 in /usr/local/lib/python3.11/dist-packages (from markdown-it-py>=2.2.0->rich>=9.0.0->kumoai) (0.1.2)\n",
            "Requirement already satisfied: six>=1.5 in /usr/local/lib/python3.11/dist-packages (from python-dateutil>=2.8.2->pandas->kumoai) (1.17.0)\n"
          ]
        }
      ],
      "source": [
        "!pip install kumoai"
      ],
      "id": "ro8qKwXAYaU4"
    },
    {
      "cell_type": "code",
      "execution_count": null,
      "metadata": {
        "id": "3b73a9a4-2bd6-438b-9b7b-91583cf2d85d"
      },
      "outputs": [],
      "source": [
        "import kumoai.experimental.rfm as rfm"
      ],
      "id": "3b73a9a4-2bd6-438b-9b7b-91583cf2d85d"
    },
    {
      "cell_type": "markdown",
      "source": [
        "**Note:** The API of `kumoai.experimental.rfm` may change in the near future."
      ],
      "metadata": {
        "id": "cG9-xYdHEhH3"
      },
      "id": "cG9-xYdHEhH3"
    },
    {
      "cell_type": "markdown",
      "metadata": {
        "id": "xr7eIPGuYaU4"
      },
      "source": [
        "## Step 2. Get an API key\n",
        "\n",
        "You will need an API key to make calls to KumoRFM.\n",
        "Use the widget below to generate one for free by clicking \"Generate API Key\".\n",
        "If you don't have a KumoRFM account, the widget will prompt you to signup.\n",
        "\n",
        "You will see the following when your key has been created successfully:\n",
        "\n",
        "<div align=\"left\">\n",
        "  <img src=\"https://kumo-sdk-public.s3.us-west-2.amazonaws.com/rfm-colabs/api-key-created.png\" width=\"300\" />\n",
        "</div>"
      ],
      "id": "xr7eIPGuYaU4"
    },
    {
      "cell_type": "code",
      "execution_count": null,
      "metadata": {
        "id": "f605319a-80ad-45d0-950d-b17fc3e50499",
        "colab": {
          "base_uri": "https://localhost:8080/",
          "height": 139
        },
        "outputId": "10528ef9-870a-4c17-ea12-5981ae0732bd"
      },
      "outputs": [
        {
          "output_type": "display_data",
          "data": {
            "text/plain": [
              "<IPython.core.display.HTML object>"
            ],
            "text/html": [
              "\n",
              "        <div style=\"padding: 10px;\">\n",
              "            <!-- <script src=\"https://cdn.tailwindcss.com\"></script> -->\n",
              "            <svg width=\"100\" height=\"50\" viewBox=\"0 0 184 92\" fill=\"none\"\n",
              "                xmlns=\"http://www.w3.org/2000/svg\">\n",
              "                <g clip-path=\"url(#clip0_749_1962)\">\n",
              "                    <path d=\"M67.159 67.919V46.238L53.494 59.491L68.862 82.3H61.567L49.1 63.74L42.089 70.54V82.3H36.069V29.605H42.089V62.182L58.731 45.822H73.109V67.922C73.109 73.375 76.72 77.341 82.386 77.341C87.933 77.341 91.526 73.441 91.586 68.059V0H0V91.586H91.586V80.317C88.891 82.1996 85.6731 83.1888 82.386 83.145C73.817 83.145 67.16 77.125 67.16 67.919H67.159Z\" # noqa: E501\n",
              "                        fill=\"#FC1373\"/>\n",
              "                    <path d=\"M147.398 82.296H141.379V58.715C141.379 53.97 138.262 50.429 133.447 50.429C128.632 50.429 125.515 53.97 125.515 58.715V82.298H119.495V58.715C119.495 53.97 116.379 50.429 111.563 50.429C106.747 50.429 103.631 53.97 103.631 58.715V82.298H97.611V58.925C97.611 50.993 103.347 44.902 111.563 44.902C113.756 44.8229 115.929 45.3412 117.85 46.4016C119.771 47.4619 121.367 49.0244 122.469 50.922C123.592 49.0276 125.204 47.4696 127.135 46.4107C129.066 45.3517 131.246 44.8307 133.447 44.902C141.732 44.902 147.398 50.993 147.398 58.925V82.296Z\"\n",
              "                        fill=\"#FC1373\"/>\n",
              "                    <path d=\"M183.909 64.166C183.909 74.647 175.977 83.217 165.567 83.217C155.226 83.217 147.224 74.648 147.224 64.166C147.224 53.543 155.224 44.903 165.567 44.903C175.976 44.903 183.909 53.543 183.909 64.166ZM177.889 64.166C177.889 56.73 172.366 50.639 165.567 50.639C158.839 50.639 153.315 56.73 153.315 64.166C153.315 71.461 158.839 77.41 165.567 77.41C172.367 77.41 177.889 71.461 177.889 64.166Z\"\n",
              "                        fill=\"#FC1373\"/>\n",
              "                </g>\n",
              "                <defs>\n",
              "                    <clipPath id=\"clip0_749_1962\">\n",
              "                        <rect width=\"183.908\" height=\"91.586\" fill=\"white\"/>\n",
              "                    </clipPath>\n",
              "                </defs>\n",
              "            </svg>\n",
              "            <div id=\"prompt\">\n",
              "                <p>\n",
              "                    Click the button below to connect to KumoRFM and\n",
              "                    generate your API key.\n",
              "                </p>\n",
              "                <button id=\"api-key-button-00d1ea7c-96db-4c5f-822e-efd76ad54c36\">\n",
              "                    Generate API Key\n",
              "                </button>\n",
              "            </div>\n",
              "            <div id=\"success\" style=\"display: none;\">\n",
              "                <p>\n",
              "                    ✓ Your API key has been created and configured in your\n",
              "                    colab notebook.\n",
              "                </p>\n",
              "                To manage all your API keys, visit the\n",
              "                <a href=\"https://kumorfm.ai/api-keys\" target=\"_blank\">\n",
              "                    KumoRFM website.\n",
              "                </a>\n",
              "            </div>\n",
              "            <div id=\"failed\" style=\"display: none; color: red;\">\n",
              "                <p>\n",
              "                    API key creation failed with error:\n",
              "                    <span id=\"error-message\"></span>\n",
              "                </p>\n",
              "            </div>\n",
              "            <script>\n",
              "                // Listen for messages from the popup\n",
              "                window.addEventListener('message', function(event) {\n",
              "                    if (event.data.type === 'API_KEY_GENERATED') {\n",
              "                        // Call the Python callback with the API key\n",
              "                        google.colab.kernel.invokeFunction(\n",
              "                            'api-key-button-00d1ea7c-96db-4c5f-822e-efd76ad54c36', [event.data.apiKey], {}\n",
              "                        );\n",
              "                        document.getElementById('prompt')\n",
              "                            .style.display = \"none\";\n",
              "                        document.getElementById('success')\n",
              "                            .style.display = \"block\";\n",
              "                        document.getElementById('failed')\n",
              "                            .style.display = \"none\";\n",
              "                    } else if (\n",
              "                        event.data.type === 'API_KEY_GENERATION_FAILED'\n",
              "                    ) {\n",
              "                        document.getElementById('failed')\n",
              "                            .style.display = \"block\";\n",
              "                        document.getElementById('error-message')\n",
              "                            .innerHTML = event.data.errorMessage;\n",
              "                    }\n",
              "                });\n",
              "\n",
              "                document.getElementById('api-key-button-00d1ea7c-96db-4c5f-822e-efd76ad54c36')\n",
              "                    .onclick = function() {\n",
              "                        // Open the popup\n",
              "                        const popup = window.open(\n",
              "                            'https://kumorfm.ai/authenticate-sdk?opener=colab&token_name=sdk-colab-2025-07-23-09-53-43-Z',\n",
              "                            'apiKeyPopup',\n",
              "                            'width=600,height=700,scrollbars=yes,resizable=yes'\n",
              "                        );\n",
              "\n",
              "                        // Focus the popup\n",
              "                        if (popup) {\n",
              "                            popup.focus();\n",
              "                        }\n",
              "                    };\n",
              "            </script>\n",
              "        </div>\n",
              "        "
            ]
          },
          "metadata": {}
        }
      ],
      "source": [
        "import os\n",
        "\n",
        "if not os.environ.get(\"KUMO_API_KEY\"):\n",
        "    rfm.authenticate()"
      ],
      "id": "f605319a-80ad-45d0-950d-b17fc3e50499"
    },
    {
      "cell_type": "markdown",
      "metadata": {
        "id": "FpYcu6NQYaU5"
      },
      "source": [
        "## Step 3. Initialize a client\n",
        "\n",
        "If you completed step 2 via the widget, you don't need to change anything. `KUMO_API_KEY` is already set as environment variable.\n",
        "\n",
        "If you bring the API key from the website, you can manually change the `KUMO_API_KEY` below:\n"
      ],
      "id": "FpYcu6NQYaU5"
    },
    {
      "cell_type": "code",
      "execution_count": null,
      "metadata": {
        "id": "r7HX2s1iYaU5",
        "colab": {
          "base_uri": "https://localhost:8080/"
        },
        "outputId": "6d50c2fb-0d58-4998-bdeb-660bedb0410e"
      },
      "outputs": [
        {
          "output_type": "stream",
          "name": "stderr",
          "text": [
            "INFO:kumoai:Successfully initialized the Kumo SDK against deployment https://kumorfm.ai/api, with log level INFO.\n"
          ]
        }
      ],
      "source": [
        "# Initialize a Kumo client with your API key:\n",
        "KUMO_API_KEY = os.environ.get(\"KUMO_API_KEY\")\n",
        "rfm.init(api_key=KUMO_API_KEY)"
      ],
      "id": "r7HX2s1iYaU5"
    },
    {
      "cell_type": "markdown",
      "metadata": {
        "id": "RvRgi0DaYaU5"
      },
      "source": [
        "## Step 4. Import your data\n",
        "\n",
        "KumoRFM interacts with a set of `pd.DataFrame` objects:"
      ],
      "id": "RvRgi0DaYaU5"
    },
    {
      "cell_type": "code",
      "execution_count": null,
      "metadata": {
        "id": "uGUWXhbsYaU5"
      },
      "outputs": [],
      "source": [
        "import pandas as pd\n",
        "\n",
        "root = 's3://kumo-sdk-public/rfm-datasets/online-shopping'\n",
        "users_df = pd.read_parquet(f'{root}/users.parquet')\n",
        "items_df = pd.read_parquet(f'{root}/items.parquet')\n",
        "orders_df = pd.read_parquet(f'{root}/orders.parquet')\n",
        "# NOTE You can use `pd.read_csv(...)` to read CSV files instead."
      ],
      "id": "uGUWXhbsYaU5"
    },
    {
      "cell_type": "markdown",
      "source": [
        "We can inspect the data and its types in-memory:"
      ],
      "metadata": {
        "id": "PFBBD4ZIGXgH"
      },
      "id": "PFBBD4ZIGXgH"
    },
    {
      "cell_type": "code",
      "execution_count": null,
      "metadata": {
        "id": "da29027e-e7df-4784-8801-3ffdb91bb3dd"
      },
      "outputs": [],
      "source": [
        "# Inspect a `pandas.DataFrame`:\n",
        "users_df.head(3)"
      ],
      "id": "da29027e-e7df-4784-8801-3ffdb91bb3dd"
    },
    {
      "cell_type": "code",
      "source": [
        "# Inspect the data types of a `pandas.DataFrame`:\n",
        "users_df.dtypes"
      ],
      "metadata": {
        "id": "_R7ucgfDrWcQ"
      },
      "id": "_R7ucgfDrWcQ",
      "execution_count": null,
      "outputs": []
    },
    {
      "cell_type": "code",
      "execution_count": null,
      "metadata": {
        "id": "6903924f-2d25-45fc-a755-661c9f5fdbb3"
      },
      "outputs": [],
      "source": [
        "# Optional: Change the data type of columns (if necessary):\n",
        "users_df['user_id'] = users_df['user_id'].astype(int)"
      ],
      "id": "6903924f-2d25-45fc-a755-661c9f5fdbb3"
    },
    {
      "cell_type": "markdown",
      "metadata": {
        "id": "PXUd-a9KYaU6"
      },
      "source": [
        "## Step 5. Create KumoRFM tables\n",
        "\n",
        "A `rfm.LocalTable` acts as a lightweight abstraction of a `pandas.DataFrame`, providing additional integration.\n",
        "\n",
        "A `LocalTable` defines three critical things about the table:\n",
        "\n",
        "1. **Semantic types** define how column data will be encoded. For instance, an integer column can be encoded either as `\"numercial\"` or `\"categorical\"`, depending on the actual meaning of the data (see reference at the end of this section for more details).\n",
        "\n",
        "2. A **primary key** uniquely identifies each row in a table and serves as the reference point for linking other tables to it (*e.g.*, `user_id` is the primary key in the `users` table).\n",
        "\n",
        "3. A **time column** defines when the event happened (*i.e.* a timestamp column)."
      ],
      "id": "PXUd-a9KYaU6"
    },
    {
      "cell_type": "markdown",
      "source": [
        "KumoRFM is smart enough to infer most things correctly.\n",
        "You may still want to inspect the results of inferred metadata to ensure correctness downstream:"
      ],
      "metadata": {
        "id": "QFJvod3zIOr6"
      },
      "id": "QFJvod3zIOr6"
    },
    {
      "cell_type": "code",
      "execution_count": null,
      "metadata": {
        "scrolled": true,
        "id": "_OiiUzNkYaU6"
      },
      "outputs": [],
      "source": [
        "users = rfm.LocalTable(users_df, name=\"users\").infer_metadata()\n",
        "orders = rfm.LocalTable(orders_df, name=\"orders\").infer_metadata()\n",
        "items = rfm.LocalTable(items_df, name=\"items\").infer_metadata()"
      ],
      "id": "_OiiUzNkYaU6"
    },
    {
      "cell_type": "markdown",
      "source": [
        "If you prefer more explicit control, you can manually assign metadata during table creation instead of relying on automatic inference:"
      ],
      "metadata": {
        "id": "lAjwrT53Ilny"
      },
      "id": "lAjwrT53Ilny"
    },
    {
      "cell_type": "code",
      "source": [
        "orders = rfm.LocalTable(\n",
        "    orders_df,\n",
        "    name=\"orders\",\n",
        "    primary_key=\"order_id\",\n",
        "    time_column=\"date\"\n",
        ")"
      ],
      "metadata": {
        "id": "chEiUDg0JU3Y"
      },
      "id": "chEiUDg0JU3Y",
      "execution_count": null,
      "outputs": []
    },
    {
      "cell_type": "markdown",
      "source": [
        "You can inspect the metadata of the table ..."
      ],
      "metadata": {
        "id": "txRjCfo0IuJ-"
      },
      "id": "txRjCfo0IuJ-"
    },
    {
      "cell_type": "code",
      "execution_count": null,
      "metadata": {
        "id": "Iw76LJe9YaU6"
      },
      "outputs": [],
      "source": [
        "users.print_metadata()"
      ],
      "id": "Iw76LJe9YaU6"
    },
    {
      "cell_type": "markdown",
      "source": [
        "... and apply any required changes manually:"
      ],
      "metadata": {
        "id": "r1BqpiFdI0j7"
      },
      "id": "r1BqpiFdI0j7"
    },
    {
      "cell_type": "code",
      "execution_count": null,
      "metadata": {
        "id": "E4pCdy4BYaU6"
      },
      "outputs": [],
      "source": [
        "# Update the semantic type (stype) of columns:\n",
        "users['user_id'].stype = \"ID\"\n",
        "users['age'].stype = \"numerical\"\n",
        "\n",
        "# Set primary key:\n",
        "users.primary_key = \"user_id\"\n",
        "\n",
        "# Set time column:\n",
        "orders.time_column = \"date\""
      ],
      "id": "E4pCdy4BYaU6"
    },
    {
      "cell_type": "markdown",
      "source": [
        "**Quick Reference:**\n",
        "\n",
        "1. **`stype` (semantic type)**:\n",
        "   - A `stype` will determine how the column will be encoded downstream.\n",
        "   - Correctly setting each column's stype is critical for model performance. For instance, if you want to perform missing value imputation, the semantic type will determine whether it is treated as a regression task (`stype=\"numerical\"`) or a classification task (`stype=\"categorical\")`.\n",
        "\n",
        "| Type | Explanation | Example |\n",
        "|------|-------------|---------|\n",
        "| `\"numerical\"` | Numerical values (*e.g.*, `price`, `age`) | `25`, `3.14`, `-10` |\n",
        "| `\"categorical\"` | Discrete categories with limited cardinality | Color: `\"red\"`, `\"blue\"`, `\"green\"` (one cell may only have one category) |\n",
        "| `\"multicategorical\"` | Multiple categories in a single cell | `\"Action\\|Drama\\|Comedy\"`, `\"Action\\|Thriller\"` |\n",
        "| `\"ID\"` | An identifier, *e.g.*, primary keys or foreign keys | `user_id: 123`, `product_id: PRD-8729453` |\n",
        "| `\"text\"` | Natural language text | Descriptions |\n",
        "| `\"timestamp\"` | Specific point in time | `\"2025-07-11\"`,  `\"2023-02-12 09:47:58`\" |\n",
        "| `\"sequence\"` | Custom embeddings or sequential data  | `[0.25, -0.75, 0.50, ...]` |\n",
        "\n",
        "2. **`primary_key`**:\n",
        "   - Indicates the column that will be used as primary key to link other tables to it. For instance, `user_id` should be the primary key for table `users`.\n",
        "   - If there are duplicated primary keys, the system will keep only keep the first one.\n",
        "   - `primary_key` can only be assigned to columns holding integers, floating point values or strings.\n",
        "   - Each table can have at most one `primary_key` column.\n",
        "\n",
        "3. **`time_column`**:\n",
        "   - Indicates the timestamp column that record when the event occurred.\n",
        "   - Time column data must be able to be parsed via `pandas.to_datetime`.\n",
        "   - Each table can have at most one `time_column` column."
      ],
      "metadata": {
        "id": "HeISl7332Zgr"
      },
      "id": "HeISl7332Zgr"
    },
    {
      "cell_type": "markdown",
      "metadata": {
        "id": "T4fEPffRYaU7"
      },
      "source": [
        "## Step 6. Create a graph in two simple steps\n",
        "\n",
        "We are now ready to inter-connect our tables to form a `LocalGraph`.\n",
        "But how to get started with building a graph? What tables should you include?\n",
        "\n",
        "A good guiding principle is to start simple: begin with just the minimal set of tables needed to support the prediction task you care about. Focus on the core entities and relationships essential to prediction.\n",
        "\n",
        "For example, suppose your goal is to predict a user's future orders. At a minimum, your graph only needs two tables:\n",
        "\n",
        "- `users`: representing each user\n",
        "- `orders`: representing the orders placed by those users\n",
        "\n",
        "This minimal setup forms a usable graph for prediction. From there, you can gradually add complexity. For instance, you might later introduce an `items` table, so that RFM can take into account `item` information."
      ],
      "id": "T4fEPffRYaU7"
    },
    {
      "cell_type": "markdown",
      "metadata": {
        "id": "243f4660-42a4-42b8-b0bb-e90d368ee5af"
      },
      "source": [
        " **1. Select the tables:**"
      ],
      "id": "243f4660-42a4-42b8-b0bb-e90d368ee5af"
    },
    {
      "cell_type": "code",
      "execution_count": null,
      "metadata": {
        "id": "4682348b-71ef-47e1-a2b6-e31f434376cd"
      },
      "outputs": [],
      "source": [
        "graph = rfm.LocalGraph(tables=[\n",
        "    users,\n",
        "    orders,\n",
        "    items,\n",
        "])"
      ],
      "id": "4682348b-71ef-47e1-a2b6-e31f434376cd"
    },
    {
      "cell_type": "markdown",
      "source": [
        "**2. Link the tables:**\n",
        "\n",
        "In the `orders` table (`src_table`), there exists a column named `user_id` (`fkey`), which we can use as a foreign key to link to the primary key in the `users` table (`dst_table`).\n",
        "You don't need to specify the primary key here since it's already known as part of the metadata of the `users` table."
      ],
      "metadata": {
        "id": "bpe8yBuaOGIz"
      },
      "id": "bpe8yBuaOGIz"
    },
    {
      "cell_type": "code",
      "execution_count": null,
      "metadata": {
        "id": "pcwsiX_AYaU7"
      },
      "outputs": [],
      "source": [
        "graph.link(src_table=\"orders\", fkey=\"user_id\", dst_table=\"users\");"
      ],
      "id": "pcwsiX_AYaU7"
    },
    {
      "cell_type": "markdown",
      "source": [
        "Also link from the foreign key `item_id` in the `orders` table to the `items` table."
      ],
      "metadata": {
        "id": "9FeVEveUOn9v"
      },
      "id": "9FeVEveUOn9v"
    },
    {
      "cell_type": "code",
      "execution_count": null,
      "metadata": {
        "id": "696291cf-a60c-4854-9252-43384c3b3b91"
      },
      "outputs": [],
      "source": [
        "graph.link(src_table=\"orders\", fkey=\"item_id\", dst_table=\"items\");"
      ],
      "id": "696291cf-a60c-4854-9252-43384c3b3b91"
    },
    {
      "cell_type": "markdown",
      "source": [
        "You can verify that graph connectivity is set up by visualizing the graph ..."
      ],
      "metadata": {
        "id": "Tw47zUyTOwjT"
      },
      "id": "Tw47zUyTOwjT"
    },
    {
      "cell_type": "code",
      "execution_count": null,
      "metadata": {
        "scrolled": true,
        "id": "rpr9kic2YaU7"
      },
      "outputs": [],
      "source": [
        "# Requires graphviz to be installed\n",
        "\n",
        "graph.visualize()"
      ],
      "id": "rpr9kic2YaU7"
    },
    {
      "cell_type": "markdown",
      "source": [
        "... or by printing all necessary information:"
      ],
      "metadata": {
        "id": "Ga4uW0WiO2tl"
      },
      "id": "Ga4uW0WiO2tl"
    },
    {
      "cell_type": "code",
      "execution_count": null,
      "metadata": {
        "id": "ajMhnesnYaU7"
      },
      "outputs": [],
      "source": [
        "graph.print_metadata()\n",
        "graph.print_links()"
      ],
      "id": "ajMhnesnYaU7"
    },
    {
      "cell_type": "markdown",
      "metadata": {
        "id": "DbptB-ckYaU8"
      },
      "source": [
        "You can update and modify links as needed:"
      ],
      "id": "DbptB-ckYaU8"
    },
    {
      "cell_type": "code",
      "execution_count": null,
      "metadata": {
        "id": "F9jeyapsYaU8"
      },
      "outputs": [],
      "source": [
        "# Remove link:\n",
        "graph.unlink(src_table=\"orders\", fkey=\"user_id\", dst_table=\"users\")\n",
        "\n",
        "# Re-add link:\n",
        "graph.link(src_table=\"orders\", fkey=\"user_id\", dst_table=\"users\");"
      ],
      "id": "F9jeyapsYaU8"
    },
    {
      "cell_type": "markdown",
      "source": [
        "In addition, there exists a handy short-cut that lets you create a `LocalGraph` directly from a set of `pandas.DataFrame` objects, bypassing the step of manual `LocalTable` creation:"
      ],
      "metadata": {
        "id": "MxTWmDF_PY10"
      },
      "id": "MxTWmDF_PY10"
    },
    {
      "cell_type": "code",
      "source": [
        "graph = rfm.LocalGraph.from_data({\n",
        "    'users': users_df,\n",
        "    'orders': orders_df,\n",
        "    'items': items_df,\n",
        "}, infer_metadata=True)"
      ],
      "metadata": {
        "id": "3MhtnEBqPnM1"
      },
      "id": "3MhtnEBqPnM1",
      "execution_count": null,
      "outputs": []
    },
    {
      "cell_type": "markdown",
      "metadata": {
        "id": "Iegen4I8YaU8"
      },
      "source": [
        "## Step 7. Write a predictive query\n",
        "\n",
        "You are now ready to plug your model into `KumoRFM`:"
      ],
      "id": "Iegen4I8YaU8"
    },
    {
      "cell_type": "code",
      "source": [
        "model = rfm.KumoRFM(graph)"
      ],
      "metadata": {
        "id": "RHarmrJIyiIx"
      },
      "id": "RHarmrJIyiIx",
      "execution_count": null,
      "outputs": []
    },
    {
      "cell_type": "markdown",
      "source": [
        "**Note:** The data is synthetic, and the query and results are intended for demo purposes. We encourage you to benchmark the model using your own data."
      ],
      "metadata": {
        "id": "hFNiSPODQAjd"
      },
      "id": "hFNiSPODQAjd"
    },
    {
      "cell_type": "markdown",
      "metadata": {
        "id": "9dc6cb85-4ee3-4057-a806-5950563e0926"
      },
      "source": [
        "### Example 1A: Forecast 30-day product demand\n",
        "\n",
        "Predict the revenue (sum of order prices) the item with `item_id=42` will generate in the next 30 days."
      ],
      "id": "9dc6cb85-4ee3-4057-a806-5950563e0926"
    },
    {
      "cell_type": "code",
      "execution_count": null,
      "metadata": {
        "id": "pkAgGHogYaU8"
      },
      "outputs": [],
      "source": [
        "query = \"PREDICT SUM(orders.price, 0, 30, days) FOR items.item_id=42\"\n",
        "\n",
        "df = model.predict(query)\n",
        "display(df)"
      ],
      "id": "pkAgGHogYaU8"
    },
    {
      "cell_type": "markdown",
      "source": [
        "How to interpret the result:\n",
        "1. `ENTITY`: The item with `item_id=42`\n",
        "1. `ANCHOR_TIMESTAMP`: Assuming predicting at anchor timestamp `2024-09-19`, what's happening between `(2024-09-19, 2024-10-18]`? By default, `anchor_time` is the maximum timestamp on the temporal graph.\n",
        "1. `TARGET_PRED`: How much revenue `item_id=42` generates in the next 30 days."
      ],
      "metadata": {
        "id": "_s_prdXZQZC_"
      },
      "id": "_s_prdXZQZC_"
    },
    {
      "cell_type": "markdown",
      "source": [
        "**You can use the result for sales forecasting:**\n",
        "\n",
        "<div align=\"left\">\n",
        "  <img src=\"https://kumo-sdk-public.s3.us-west-2.amazonaws.com/rfm-colabs/sales-forecasting.png\" width=\"500\" />\n",
        "</div>\n"
      ],
      "metadata": {
        "id": "uYDbYUvE-mLm"
      },
      "id": "uYDbYUvE-mLm"
    },
    {
      "cell_type": "markdown",
      "metadata": {
        "id": "5a7d934f-1d16-47e8-aae5-d151e03b7597"
      },
      "source": [
        "### Example 1B: Forecast 30-day product demand, with an `anchor_time`\n",
        "\n",
        "By default, predictions are based on the maximum timestamp in your temporal graph. However, you can explicitly set a historical `anchor_time` to simulate what a prediction would have looked like at that point in time.\n",
        "\n",
        "For instance, if `anchor_time` is `\"2024-09-20\"`, the model will predict—assuming today is `\"2024-09-20\"`—the product demand in the next 30 days.\n",
        "KumoRFM will only use information before the `anchor_time` to avoid data leakage.\n",
        "\n",
        "This feature can be useful when you want to evaluate model performance yourself based on time-based splits."
      ],
      "id": "5a7d934f-1d16-47e8-aae5-d151e03b7597"
    },
    {
      "cell_type": "code",
      "execution_count": null,
      "metadata": {
        "id": "becbc96b-d4bb-475f-bebf-dfcedf169267"
      },
      "outputs": [],
      "source": [
        "df = model.predict(query, anchor_time=pd.Timestamp(\"2024-09-20\"))\n",
        "display(df)"
      ],
      "id": "becbc96b-d4bb-475f-bebf-dfcedf169267"
    },
    {
      "cell_type": "markdown",
      "source": [
        "### Example 2. Predict customer churn\n",
        "\n",
        "Predict the likelihood that users  with `user_id=42` and `user_id=123` will place zero orders in the next 90 days."
      ],
      "metadata": {
        "id": "OUIP9jKhYaK_"
      },
      "id": "OUIP9jKhYaK_"
    },
    {
      "cell_type": "code",
      "source": [
        "query = \"PREDICT COUNT(orders.*, 0, 90, days)=0 FOR users.user_id IN (42, 123)\"\n",
        "\n",
        "df = model.predict(query)\n",
        "display(df)"
      ],
      "metadata": {
        "id": "3ov9ELzLYWvd"
      },
      "id": "3ov9ELzLYWvd",
      "execution_count": null,
      "outputs": []
    },
    {
      "cell_type": "markdown",
      "source": [
        "How to interpret the result:\n",
        "1. `ENTITY`: The user with `user_id=42` or `user_id=123`\n",
        "1. `ANCHOR_TIMESTAMP`: Assuming we are predicting at this moment in time, what's happening in the next 90 days?\n",
        "1. `TARGET_PRED`: Whether the event (`COUNT(orders.*, 0, 90, days)=0`) will happen (`True`: Event will happen; `False`: Event will not happen)\n",
        "1. `False_PROB`: The probability that the event will not happen\n",
        "1. `True_PROB`: The probability that the event will happen."
      ],
      "metadata": {
        "id": "jqjTBt2ZSGyX"
      },
      "id": "jqjTBt2ZSGyX"
    },
    {
      "cell_type": "markdown",
      "source": [
        "**You can use the result to prevent customer churn (*e.g.*, sending a personalized coupon):**\n",
        "\n",
        "<div align=\"left\">\n",
        "  <img src=\"https://kumo-sdk-public.s3.us-west-2.amazonaws.com/rfm-colabs/churn.png\" width=\"500\" />\n",
        "</div>"
      ],
      "metadata": {
        "id": "aTR7OXshAoZ9"
      },
      "id": "aTR7OXshAoZ9"
    },
    {
      "cell_type": "markdown",
      "source": [
        "### Example 3. Product recommendation\n",
        "\n",
        "Predict the top-10 items that user with `user_id=123` is likely going to buy in the next 30 days."
      ],
      "metadata": {
        "id": "ooCNzX1EdQcG"
      },
      "id": "ooCNzX1EdQcG"
    },
    {
      "cell_type": "code",
      "source": [
        "query = \"PREDICT LIST_DISTINCT(orders.item_id, 0, 30, days) RANK TOP 10 FOR users.user_id=123\"\n",
        "\n",
        "df = model.predict(query)\n",
        "display(df)"
      ],
      "metadata": {
        "id": "nJ9QwZ_gdNzC"
      },
      "id": "nJ9QwZ_gdNzC",
      "execution_count": null,
      "outputs": []
    },
    {
      "cell_type": "markdown",
      "source": [
        "How to interpret the result:\n",
        "1. `ENTITY`: The user with `user_id=123`\n",
        "1. `ANCHOR_TIMESTAMP`: Assuming we are predicting at this moment in time, what's happening in the next 30 days?\n",
        "1. `CLASS`: The items (`item_id`)\n",
        "1. `SCORE`: Higher score indicates higher likelihood"
      ],
      "metadata": {
        "id": "A7apJCl4TYPO"
      },
      "id": "A7apJCl4TYPO"
    },
    {
      "cell_type": "markdown",
      "source": [
        "**You can use the result to power product recommendation:**\n",
        "\n",
        "<div align=\"left\">\n",
        "  <img src=\"https://kumo-sdk-public.s3.us-west-2.amazonaws.com/rfm-colabs/product-recommendation.png\" width=\"500\" />\n",
        "</div>\n"
      ],
      "metadata": {
        "id": "l38SFpUuCPiT"
      },
      "id": "l38SFpUuCPiT"
    },
    {
      "cell_type": "markdown",
      "source": [
        "### Example 4. Infer entity attributes\n",
        "\n",
        "Predict the age of user with `user_id=8` (the original `age` field is `N/A` for this user)."
      ],
      "metadata": {
        "id": "zUtpp0P13LKT"
      },
      "id": "zUtpp0P13LKT"
    },
    {
      "cell_type": "code",
      "source": [
        "query = \"PREDICT users.age FOR users.user_id=8\"\n",
        "\n",
        "df = model.predict(query)\n",
        "display(df)"
      ],
      "metadata": {
        "id": "PK8aBsDt3bGQ"
      },
      "id": "PK8aBsDt3bGQ",
      "execution_count": null,
      "outputs": []
    },
    {
      "cell_type": "markdown",
      "source": [
        "How to interpret the result:\n",
        "1. `ENTITY`: the user with `user_id=8`\n",
        "1. `ANCHOR_TIMESTAMP`: assuming we are predicting at this moment in time\n",
        "1. `TARGET_PRED`: The predicted `age` of the user"
      ],
      "metadata": {
        "id": "aUidDrOzUC77"
      },
      "id": "aUidDrOzUC77"
    },
    {
      "cell_type": "markdown",
      "source": [
        "**You can use the result for customer segmentation:**\n",
        "\n",
        "<div align=\"left\">\n",
        "  <img src=\"https://kumo-sdk-public.s3.us-west-2.amazonaws.com/rfm-colabs/customer-segmantation.png\" width=\"500\" />\n",
        "</div>\n"
      ],
      "metadata": {
        "id": "LTORudewDZpe"
      },
      "id": "LTORudewDZpe"
    },
    {
      "cell_type": "markdown",
      "source": [
        "## We'd love to hear from you!\n",
        "\n",
        "1. **Found a bug or have a feature request?**  \n",
        "\n",
        "   Submit issues directly on [GitHub](https://github.com/kumo-ai/kumo-rfm). Your feedback helps us improve RFM for everyone.\n",
        "\n",
        "1. **Built something cool with RFM? We'd love to see it!**  \n",
        "\n",
        "   Share your project on LinkedIn and tag @kumo.  \n",
        "   We regularly spotlight on our official channels—yours could be next!\n",
        "\n",
        "<div align=\"left\">\n",
        "  <img src=\"https://kumo-sdk-public.s3.us-west-2.amazonaws.com/rfm-colabs/kumo_ai_logo.jpeg\" width=\"30\" />\n",
        "</div>\n",
        "\n"
      ],
      "metadata": {
        "id": "zulLbR3AhQHX"
      },
      "id": "zulLbR3AhQHX"
    }
  ],
  "metadata": {
    "kernelspec": {
      "display_name": "Python 3 (ipykernel)",
      "language": "python",
      "name": "python3"
    },
    "language_info": {
      "codemirror_mode": {
        "name": "ipython",
        "version": 3
      },
      "file_extension": ".py",
      "mimetype": "text/x-python",
      "name": "python",
      "nbconvert_exporter": "python",
      "pygments_lexer": "ipython3",
      "version": "3.10.18"
    },
    "colab": {
      "provenance": []
    }
  },
  "nbformat": 4,
  "nbformat_minor": 5
}