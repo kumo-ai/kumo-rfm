{
  "cells": [
    {
      "cell_type": "markdown",
      "metadata": {
        "id": "3QiMeqVqYaU3"
      },
      "source": [
        "# KumoRFM Quickstart\n",
        "\n",
        "[[**Blog**](https://kumo.ai/company/news/kumo-relational-foundation-model/) | [**Paper**](https://kumo.ai/research/kumo_relational_foundation_model.pdf)]\n",
        "\n",
        "**KumoRFM (Kumo Relational Foundation Model)** is a Foundation Model for machine learning on enterprise data. With just your data and a few lines of code, you can generate accurate predictions in real-time: no model training or pipelines required."
      ],
      "id": "3QiMeqVqYaU3"
    },
    {
      "cell_type": "markdown",
      "metadata": {
        "id": "HKJCzrCTYaU3"
      },
      "source": [
        "## Introduction\n",
        "\n",
        "KumoRFM is grounded in three key world views:\n",
        "\n",
        "> **1. Enterprise data is a graph.**\n",
        "\n",
        "Enterprise data is a graph where tables are connected by keys.   \n",
        "Below is an example database where `ITEMS` table and `ORDERS` table are linked by `item_id`.\n",
        "\n",
        "<div align=\"center\">\n",
        "  <img src=\"https://kumo-sdk-public.s3.us-west-2.amazonaws.com/rfm-colabs/relational-database.png\" width=\"500\" />\n",
        "</div>\n",
        "\n",
        "Once we structure enterprise data as a graph, we can apply pre-trained [*Relational Graph Transformers*](https://kumo.ai/research/relational-graph-transformers/) to extract insights and patterns.\n",
        "\n",
        "> **2. With timestamps, we place events on a timeline.**\n",
        "\n",
        "By placing events on a timeline, we unlock the ability to model how things evolve over time.\n",
        "This makes it possible to select any point in time and predict what is likely to happen next, based on the sequence and patterns in historical data.\n",
        "\n",
        "<div align=\"center\">\n",
        "  <img src=\"https://kumo-sdk-public.s3.us-west-2.amazonaws.com/rfm-colabs/timeline.png\" width=\"300\" />\n",
        "</div>\n",
        "\n",
        "> **3. Machine learning tasks can be described via predictive queries.**\n",
        "\n",
        "All major machine learning tasks—regression, classification, recommendation—can be defined using a *Predictive Query language (PQL)*.\n",
        "\n",
        "<div align=\"center\">\n",
        "  <img src=\"https://kumo-sdk-public.s3.us-west-2.amazonaws.com/rfm-colabs/predictive-query-multiple.png\" width=\"600\" />\n",
        "</div>\n",
        "\n",
        "If you know SQL, picking up PQL is a breeze.\n",
        "It will feel familiar right away.\n",
        "Learn more about PQL [here](https://kumo.ai/docs/pquery-structure).\n",
        "\n"
      ],
      "id": "HKJCzrCTYaU3"
    },
    {
      "cell_type": "markdown",
      "source": [
        "**Let's get started!**\n",
        "\n"
      ],
      "metadata": {
        "id": "Enucu67aEPZn"
      },
      "id": "Enucu67aEPZn"
    },
    {
      "cell_type": "markdown",
      "metadata": {
        "id": "psushpJFYaU4"
      },
      "source": [
        "## Step 1. Install the Kumo Python SDK\n",
        "\n",
        "KumoRFM provides an [SDK](https://kumo-ai.github.io/kumo-sdk/docs/get_started/rfm/index.html) in Python.\n",
        "The Kumo SDK is available for Python 3.9 to Python 3.13."
      ],
      "id": "psushpJFYaU4"
    },
    {
      "cell_type": "code",
      "execution_count": null,
      "metadata": {
        "scrolled": true,
        "id": "ro8qKwXAYaU4",
        "collapsed": true
      },
      "outputs": [],
      "source": [
        "!pip install kumoai"
      ],
      "id": "ro8qKwXAYaU4"
    },
    {
      "cell_type": "code",
      "execution_count": null,
      "metadata": {
        "id": "3b73a9a4-2bd6-438b-9b7b-91583cf2d85d"
      },
      "outputs": [],
      "source": [
        "import kumoai.experimental.rfm as rfm"
      ],
      "id": "3b73a9a4-2bd6-438b-9b7b-91583cf2d85d"
    },
    {
      "cell_type": "markdown",
      "source": [
        "**Note:** The API of `kumoai.experimental.rfm` may change in the near future."
      ],
      "metadata": {
        "id": "cG9-xYdHEhH3"
      },
      "id": "cG9-xYdHEhH3"
    },
    {
      "cell_type": "markdown",
      "metadata": {
        "id": "xr7eIPGuYaU4"
      },
      "source": [
        "## Step 2. Get an API key\n",
        "\n",
        "You will need an API key to make calls to KumoRFM.\n",
        "Use the widget below to generate one for free by clicking \"Generate API Key\".\n",
        "If you don't have a KumoRFM account, the widget will prompt you to signup.\n",
        "\n",
        "You will see the following when your key has been created successfully:\n",
        "\n",
        "<div align=\"left\">\n",
        "  <img src=\"https://kumo-sdk-public.s3.us-west-2.amazonaws.com/rfm-colabs/api-key-created.png\" width=\"300\" />\n",
        "</div>"
      ],
      "id": "xr7eIPGuYaU4"
    },
    {
      "cell_type": "code",
      "execution_count": null,
      "metadata": {
        "id": "f605319a-80ad-45d0-950d-b17fc3e50499"
      },
      "outputs": [],
      "source": [
        "import os\n",
        "\n",
        "if not os.environ.get(\"KUMO_API_KEY\"):\n",
        "    rfm.authenticate()"
      ],
      "id": "f605319a-80ad-45d0-950d-b17fc3e50499"
    },
    {
      "cell_type": "markdown",
      "metadata": {
        "id": "FpYcu6NQYaU5"
      },
      "source": [
        "## Step 3. Initialize a client\n",
        "\n",
        "If you completed step 2 via the widget, you don't need to change anything. `KUMO_API_KEY` is already set as environment variable.\n",
        "\n",
        "If you bring the API key from the website, you can manually change the `KUMO_API_KEY` below:\n"
      ],
      "id": "FpYcu6NQYaU5"
    },
    {
      "cell_type": "code",
      "execution_count": null,
      "metadata": {
        "id": "r7HX2s1iYaU5"
      },
      "outputs": [],
      "source": [
        "# Initialize a Kumo client with your API key:\n",
        "KUMO_API_KEY = os.environ.get(\"KUMO_API_KEY\")\n",
        "rfm.init(api_key=KUMO_API_KEY)"
      ],
      "id": "r7HX2s1iYaU5"
    },
    {
      "cell_type": "markdown",
      "metadata": {
        "id": "RvRgi0DaYaU5"
      },
      "source": [
        "## Step 4. Import your data\n",
        "\n",
        "KumoRFM interacts with a set of `pd.DataFrame` objects:"
      ],
      "id": "RvRgi0DaYaU5"
    },
    {
      "cell_type": "code",
      "execution_count": null,
      "metadata": {
        "id": "uGUWXhbsYaU5"
      },
      "outputs": [],
      "source": [
        "import pandas as pd\n",
        "\n",
        "root = 's3://kumo-sdk-public/rfm-datasets/online-shopping'\n",
        "users_df = pd.read_parquet(f'{root}/users.parquet')\n",
        "items_df = pd.read_parquet(f'{root}/items.parquet')\n",
        "orders_df = pd.read_parquet(f'{root}/orders.parquet')\n",
        "# NOTE You can use `pd.read_csv(...)` to read CSV files instead.\n",
        "# You don't need to use s3 to import your data.\n",
        "# For Colab users, you can upload your data to the file folder (the folder icon on the left panel), and directly import from there.\n",
        "# You can also download this notebook, and import your data locally."
      ],
      "id": "uGUWXhbsYaU5"
    },
    {
      "cell_type": "markdown",
      "source": [
        "We can inspect the data and its types in-memory:"
      ],
      "metadata": {
        "id": "PFBBD4ZIGXgH"
      },
      "id": "PFBBD4ZIGXgH"
    },
    {
      "cell_type": "code",
      "execution_count": null,
      "metadata": {
        "id": "da29027e-e7df-4784-8801-3ffdb91bb3dd"
      },
      "outputs": [],
      "source": [
        "# Inspect a `pandas.DataFrame`:\n",
        "users_df.head(3)"
      ],
      "id": "da29027e-e7df-4784-8801-3ffdb91bb3dd"
    },
    {
      "cell_type": "code",
      "source": [
        "# Inspect the data types of a `pandas.DataFrame`:\n",
        "users_df.dtypes"
      ],
      "metadata": {
        "id": "_R7ucgfDrWcQ"
      },
      "id": "_R7ucgfDrWcQ",
      "execution_count": null,
      "outputs": []
    },
    {
      "cell_type": "code",
      "execution_count": null,
      "metadata": {
        "id": "6903924f-2d25-45fc-a755-661c9f5fdbb3"
      },
      "outputs": [],
      "source": [
        "# Optional: Change the data type of columns (if necessary):\n",
        "users_df['user_id'] = users_df['user_id'].astype(int)"
      ],
      "id": "6903924f-2d25-45fc-a755-661c9f5fdbb3"
    },
    {
      "cell_type": "markdown",
      "metadata": {
        "id": "PXUd-a9KYaU6"
      },
      "source": [
        "## Step 5. Create KumoRFM tables\n",
        "\n",
        "A `rfm.LocalTable` acts as a lightweight abstraction of a `pandas.DataFrame`, providing additional integration.\n",
        "\n",
        "A `LocalTable` defines three critical things about the table:\n",
        "\n",
        "1. **Semantic types** define how column data will be encoded. For instance, an integer column can be encoded either as `\"numercial\"` or `\"categorical\"`, depending on the actual meaning of the data (see reference at the end of this section for more details).\n",
        "\n",
        "2. A **primary key** uniquely identifies each row in a table (*e.g.*, `user_id` is the primary key in the `users` table). It serves two purpose: (1) when creating a graph, it's the reference point to link other tables (2) when making predictions, it identifies the entity to generate predictions for. For instance, if you want to predict user outcomes, you'll need a table with `user_id` as the primary key.\n",
        "\n",
        "3. A **time column** defines when the event happened (*i.e.* a timestamp column). Time columns help establish the sequence of events. KumoRFM automatically draws from these time slices to inform future predictions.\n",
        "\n",
        "Don't worry if it doesn't all click right away—it'll become clearer once you reach the prediction section. For now, go ahead and follow along with the notebook."
      ],
      "id": "PXUd-a9KYaU6"
    },
    {
      "cell_type": "markdown",
      "source": [
        "KumoRFM is smart enough to infer most things correctly.\n",
        "You may still want to inspect the results of inferred metadata to ensure correctness downstream:"
      ],
      "metadata": {
        "id": "QFJvod3zIOr6"
      },
      "id": "QFJvod3zIOr6"
    },
    {
      "cell_type": "code",
      "execution_count": null,
      "metadata": {
        "scrolled": true,
        "id": "_OiiUzNkYaU6"
      },
      "outputs": [],
      "source": [
        "users = rfm.LocalTable(users_df, name=\"users\").infer_metadata()\n",
        "orders = rfm.LocalTable(orders_df, name=\"orders\").infer_metadata()\n",
        "items = rfm.LocalTable(items_df, name=\"items\").infer_metadata()"
      ],
      "id": "_OiiUzNkYaU6"
    },
    {
      "cell_type": "markdown",
      "source": [
        "If you prefer more explicit control, you can manually assign metadata during table creation instead of relying on automatic inference:"
      ],
      "metadata": {
        "id": "lAjwrT53Ilny"
      },
      "id": "lAjwrT53Ilny"
    },
    {
      "cell_type": "code",
      "source": [
        "orders = rfm.LocalTable(\n",
        "    orders_df,\n",
        "    name=\"orders\",\n",
        "    primary_key=\"order_id\",\n",
        "    time_column=\"date\"\n",
        ")"
      ],
      "metadata": {
        "id": "chEiUDg0JU3Y"
      },
      "id": "chEiUDg0JU3Y",
      "execution_count": null,
      "outputs": []
    },
    {
      "cell_type": "markdown",
      "source": [
        "You can inspect the metadata of the table ..."
      ],
      "metadata": {
        "id": "txRjCfo0IuJ-"
      },
      "id": "txRjCfo0IuJ-"
    },
    {
      "cell_type": "code",
      "execution_count": null,
      "metadata": {
        "id": "Iw76LJe9YaU6"
      },
      "outputs": [],
      "source": [
        "users.print_metadata()"
      ],
      "id": "Iw76LJe9YaU6"
    },
    {
      "cell_type": "markdown",
      "source": [
        "... and apply any required changes manually:"
      ],
      "metadata": {
        "id": "r1BqpiFdI0j7"
      },
      "id": "r1BqpiFdI0j7"
    },
    {
      "cell_type": "code",
      "execution_count": null,
      "metadata": {
        "id": "E4pCdy4BYaU6"
      },
      "outputs": [],
      "source": [
        "# Update the semantic type (stype) of columns:\n",
        "users['user_id'].stype = \"ID\"\n",
        "users['age'].stype = \"numerical\"\n",
        "\n",
        "# Set primary key:\n",
        "users.primary_key = \"user_id\"\n",
        "\n",
        "# Set time column:\n",
        "orders.time_column = \"date\""
      ],
      "id": "E4pCdy4BYaU6"
    },
    {
      "cell_type": "markdown",
      "source": [
        "**Quick Reference:**\n",
        "\n",
        "1. **`stype` (semantic type)**:\n",
        "   - A `stype` will determine how the column will be encoded downstream.\n",
        "   - Correctly setting each column's stype is critical for model performance. For instance, if you want to perform missing value imputation, the semantic type will determine whether it is treated as a regression task (`stype=\"numerical\"`) or a classification task (`stype=\"categorical\")`.\n",
        "\n",
        "| Type | Explanation | Example |\n",
        "|------|-------------|---------|\n",
        "| `\"numerical\"` | Numerical values (*e.g.*, `price`, `age`) | `25`, `3.14`, `-10` |\n",
        "| `\"categorical\"` | Discrete categories with limited cardinality | Color: `\"red\"`, `\"blue\"`, `\"green\"` (one cell may only have one category) |\n",
        "| `\"multicategorical\"` | Multiple categories in a single cell | `\"Action\\|Drama\\|Comedy\"`, `\"Action\\|Thriller\"` |\n",
        "| `\"ID\"` | An identifier, *e.g.*, primary keys or foreign keys | `user_id: 123`, `product_id: PRD-8729453` |\n",
        "| `\"text\"` | Natural language text | Descriptions |\n",
        "| `\"timestamp\"` | Specific point in time | `\"2025-07-11\"`,  `\"2023-02-12 09:47:58`\" |\n",
        "| `\"sequence\"` | Custom embeddings or sequential data  | `[0.25, -0.75, 0.50, ...]` |\n",
        "\n",
        "2. **`primary_key`**:\n",
        "   - The primary key is a unique identifier of each row in a table.\n",
        "   - If there are duplicated primary keys, the system will only keep the first one.\n",
        "   - A primary key can be used to link tables through primary key--foreign key relationship.\n",
        "      - In the `users` table: `user_id` is the primary key.\n",
        "      - In the `orders` table: `order_id` is the primary key, and `user_id` is a foreign key that points back to the `users` table.\n",
        "      - These tables can be linked via `user_id` (see Step 6 on how to link).\n",
        "      - A primary key does not need to link to other tables. For example, in the `orders` table, the primary key (`order_id`) is not used for linking, but it still serves its main purpose—to uniquely identify each row in the table.\n",
        "   - `primary_key` can only be assigned to columns holding integers, floating point values or strings.\n",
        "   - Each table can have at most one `primary_key` column.\n",
        "\n",
        "3. **`time_column`**:\n",
        "   - Indicates the timestamp column that record when the event occurred.\n",
        "   - Time column data must be able to be parsed via `pandas.to_datetime`.\n",
        "   - Each table can have at most one `time_column` column."
      ],
      "metadata": {
        "id": "HeISl7332Zgr"
      },
      "id": "HeISl7332Zgr"
    },
    {
      "cell_type": "markdown",
      "metadata": {
        "id": "T4fEPffRYaU7"
      },
      "source": [
        "## Step 6. Create a graph in two simple steps\n",
        "\n",
        "We are now ready to inter-connect our tables to form a `LocalGraph`.\n",
        "But how to get started with building a graph? What tables should you include?\n",
        "\n",
        "A good guiding principle is to start simple: begin with just the minimal set of tables needed to support the prediction task you care about. Focus on the core entities and relationships essential to prediction.\n",
        "\n",
        "For example, suppose your goal is to predict a user's future orders. At a minimum, your graph only needs two tables:\n",
        "\n",
        "- `users`: representing each user\n",
        "- `orders`: representing the orders placed by those users\n",
        "\n",
        "This minimal setup forms a usable graph for prediction. From there, you can gradually add complexity. For instance, you might later introduce an `items` table, so that RFM can take into account `item` information."
      ],
      "id": "T4fEPffRYaU7"
    },
    {
      "cell_type": "markdown",
      "metadata": {
        "id": "243f4660-42a4-42b8-b0bb-e90d368ee5af"
      },
      "source": [
        " **1. Select the tables:**"
      ],
      "id": "243f4660-42a4-42b8-b0bb-e90d368ee5af"
    },
    {
      "cell_type": "code",
      "execution_count": null,
      "metadata": {
        "id": "4682348b-71ef-47e1-a2b6-e31f434376cd"
      },
      "outputs": [],
      "source": [
        "graph = rfm.LocalGraph(tables=[\n",
        "    users,\n",
        "    orders,\n",
        "    items,\n",
        "])"
      ],
      "id": "4682348b-71ef-47e1-a2b6-e31f434376cd"
    },
    {
      "cell_type": "markdown",
      "source": [
        "**2. Link the tables:**\n",
        "\n",
        "In the `orders` table (`src_table`), there exists a column named `user_id` (`fkey`), which we can use as a foreign key to link to the primary key in the `users` table (`dst_table`).\n",
        "You don't need to specify the primary key here since it's already known as part of the metadata of the `users` table."
      ],
      "metadata": {
        "id": "bpe8yBuaOGIz"
      },
      "id": "bpe8yBuaOGIz"
    },
    {
      "cell_type": "code",
      "execution_count": null,
      "metadata": {
        "id": "pcwsiX_AYaU7"
      },
      "outputs": [],
      "source": [
        "graph.link(src_table=\"orders\", fkey=\"user_id\", dst_table=\"users\");"
      ],
      "id": "pcwsiX_AYaU7"
    },
    {
      "cell_type": "markdown",
      "source": [
        "Also link from the foreign key `item_id` in the `orders` table to the `items` table."
      ],
      "metadata": {
        "id": "9FeVEveUOn9v"
      },
      "id": "9FeVEveUOn9v"
    },
    {
      "cell_type": "code",
      "execution_count": null,
      "metadata": {
        "id": "696291cf-a60c-4854-9252-43384c3b3b91"
      },
      "outputs": [],
      "source": [
        "graph.link(src_table=\"orders\", fkey=\"item_id\", dst_table=\"items\");"
      ],
      "id": "696291cf-a60c-4854-9252-43384c3b3b91"
    },
    {
      "cell_type": "markdown",
      "source": [
        "You can verify that graph connectivity is set up by visualizing the graph ..."
      ],
      "metadata": {
        "id": "Tw47zUyTOwjT"
      },
      "id": "Tw47zUyTOwjT"
    },
    {
      "cell_type": "code",
      "execution_count": null,
      "metadata": {
        "scrolled": true,
        "id": "rpr9kic2YaU7"
      },
      "outputs": [],
      "source": [
        "# Requires graphviz to be installed\n",
        "\n",
        "graph.visualize();"
      ],
      "id": "rpr9kic2YaU7"
    },
    {
      "cell_type": "markdown",
      "source": [
        "... or by printing all necessary information:"
      ],
      "metadata": {
        "id": "Ga4uW0WiO2tl"
      },
      "id": "Ga4uW0WiO2tl"
    },
    {
      "cell_type": "code",
      "execution_count": null,
      "metadata": {
        "id": "ajMhnesnYaU7"
      },
      "outputs": [],
      "source": [
        "graph.print_metadata()\n",
        "graph.print_links()"
      ],
      "id": "ajMhnesnYaU7"
    },
    {
      "cell_type": "markdown",
      "metadata": {
        "id": "DbptB-ckYaU8"
      },
      "source": [
        "You can update and modify links as needed:"
      ],
      "id": "DbptB-ckYaU8"
    },
    {
      "cell_type": "code",
      "execution_count": null,
      "metadata": {
        "id": "F9jeyapsYaU8"
      },
      "outputs": [],
      "source": [
        "# Remove link:\n",
        "graph.unlink(src_table=\"orders\", fkey=\"user_id\", dst_table=\"users\")\n",
        "\n",
        "# Re-add link:\n",
        "graph.link(src_table=\"orders\", fkey=\"user_id\", dst_table=\"users\");"
      ],
      "id": "F9jeyapsYaU8"
    },
    {
      "cell_type": "markdown",
      "source": [
        "In addition, there exists a handy short-cut that lets you create a `LocalGraph` directly from a set of `pandas.DataFrame` objects, bypassing the step of manual `LocalTable` creation:"
      ],
      "metadata": {
        "id": "MxTWmDF_PY10"
      },
      "id": "MxTWmDF_PY10"
    },
    {
      "cell_type": "code",
      "source": [
        "graph = rfm.LocalGraph.from_data({\n",
        "    'users': users_df,\n",
        "    'orders': orders_df,\n",
        "    'items': items_df,\n",
        "}, infer_metadata=True)"
      ],
      "metadata": {
        "id": "3MhtnEBqPnM1"
      },
      "id": "3MhtnEBqPnM1",
      "execution_count": null,
      "outputs": []
    },
    {
      "cell_type": "markdown",
      "metadata": {
        "id": "Iegen4I8YaU8"
      },
      "source": [
        "## Step 7. Write a predictive query\n",
        "\n",
        "You are now ready to plug your graph into `KumoRFM` to make predictions!\n",
        "\n",
        "The great thing about the graph is that it's a one-time setup—once it's in place, you can generate a variety of predictions from it and power many business use cases."
      ],
      "id": "Iegen4I8YaU8"
    },
    {
      "cell_type": "code",
      "source": [
        "model = rfm.KumoRFM(graph)"
      ],
      "metadata": {
        "id": "RHarmrJIyiIx"
      },
      "id": "RHarmrJIyiIx",
      "execution_count": null,
      "outputs": []
    },
    {
      "cell_type": "markdown",
      "source": [
        "**Note:** The data is synthetic, and the query and results are intended for demo purposes. We encourage you to benchmark the model using your own data."
      ],
      "metadata": {
        "id": "hFNiSPODQAjd"
      },
      "id": "hFNiSPODQAjd"
    },
    {
      "cell_type": "markdown",
      "source": [
        "#### PQL: How you talk to your model\n",
        "\n",
        "Learn more about writing all kinds of PQLs [from documentation](https://kumo.ai/docs/pquery-structure/).\n",
        "\n",
        "PQL tutorial notebook: [![Open in Colab](https://colab.research.google.com/assets/colab-badge.svg)](https://colab.research.google.com/drive/14nkh7yz28-kvkgMqvVJoTRgCBq--e5mX)\n",
        "\n",
        "\n",
        "<div align=\"left\">\n",
        "  <img src=\"https://kumo-sdk-public.s3.us-west-2.amazonaws.com/rfm-colabs/predictive-query-structure.png\" width=\"500\" />\n",
        "</div>\n"
      ],
      "metadata": {
        "id": "9ldqs69MgPgO"
      },
      "id": "9ldqs69MgPgO"
    },
    {
      "cell_type": "markdown",
      "metadata": {
        "id": "9dc6cb85-4ee3-4057-a806-5950563e0926"
      },
      "source": [
        "### Example 1A: Forecast 30-day product demand\n",
        "\n",
        "Predict the revenue (sum of order prices) the item with `item_id=42` will generate in the next 30 days."
      ],
      "id": "9dc6cb85-4ee3-4057-a806-5950563e0926"
    },
    {
      "cell_type": "code",
      "execution_count": null,
      "metadata": {
        "id": "pkAgGHogYaU8"
      },
      "outputs": [],
      "source": [
        "query = \"PREDICT SUM(orders.price, 0, 30, days) FOR items.item_id=42\"\n",
        "\n",
        "df = model.predict(query)\n",
        "display(df)"
      ],
      "id": "pkAgGHogYaU8"
    },
    {
      "cell_type": "markdown",
      "source": [
        "How to interpret the result:\n",
        "1. `ENTITY`: The item with `item_id=42`\n",
        "1. `ANCHOR_TIMESTAMP`: Assuming predicting at anchor timestamp `2024-09-19`, what's happening between `(2024-09-19, 2024-10-18]`? By default, `anchor_time` is the maximum timestamp on the temporal graph.\n",
        "1. `TARGET_PRED`: How much revenue `item_id=42` generates in the next 30 days."
      ],
      "metadata": {
        "id": "_s_prdXZQZC_"
      },
      "id": "_s_prdXZQZC_"
    },
    {
      "cell_type": "markdown",
      "source": [
        "**You can use the result for sales forecasting:**\n",
        "\n",
        "<div align=\"left\">\n",
        "  <img src=\"https://kumo-sdk-public.s3.us-west-2.amazonaws.com/rfm-colabs/sales-forecasting.png\" width=\"500\" />\n",
        "</div>\n"
      ],
      "metadata": {
        "id": "uYDbYUvE-mLm"
      },
      "id": "uYDbYUvE-mLm"
    },
    {
      "cell_type": "markdown",
      "metadata": {
        "id": "5a7d934f-1d16-47e8-aae5-d151e03b7597"
      },
      "source": [
        "### Example 1B: Forecast 30-day product demand, with an `anchor_time`\n",
        "\n",
        "By default, predictions are based on the maximum timestamp in your temporal graph. However, you can explicitly set a historical `anchor_time` to simulate what a prediction would have looked like at that point in time.\n",
        "\n",
        "For instance, if `anchor_time` is `\"2024-09-01\"`, the model will predict—assuming today is `\"2024-09-01\"`—the product demand in the next 30 days.\n",
        "KumoRFM will only use information before the `anchor_time` to avoid data leakage.\n",
        "\n",
        "This feature can be useful when you want to evaluate model performance based on time-based splits."
      ],
      "id": "5a7d934f-1d16-47e8-aae5-d151e03b7597"
    },
    {
      "cell_type": "code",
      "execution_count": null,
      "metadata": {
        "id": "becbc96b-d4bb-475f-bebf-dfcedf169267"
      },
      "outputs": [],
      "source": [
        "df = model.predict(query, anchor_time=pd.Timestamp(\"2024-09-01\"))\n",
        "display(df)"
      ],
      "id": "becbc96b-d4bb-475f-bebf-dfcedf169267"
    },
    {
      "cell_type": "markdown",
      "source": [
        "### Example 2. Predict customer churn\n",
        "\n",
        "Predict the likelihood that users  with `user_id=42` and `user_id=123` will place zero orders in the next 90 days."
      ],
      "metadata": {
        "id": "OUIP9jKhYaK_"
      },
      "id": "OUIP9jKhYaK_"
    },
    {
      "cell_type": "code",
      "source": [
        "query = \"PREDICT COUNT(orders.*, 0, 90, days)=0 FOR users.user_id IN (42, 123)\"\n",
        "\n",
        "df = model.predict(query)\n",
        "display(df)"
      ],
      "metadata": {
        "id": "3ov9ELzLYWvd"
      },
      "id": "3ov9ELzLYWvd",
      "execution_count": null,
      "outputs": []
    },
    {
      "cell_type": "markdown",
      "source": [
        "How to interpret the result:\n",
        "1. `ENTITY`: The user with `user_id=42` or `user_id=123`\n",
        "1. `ANCHOR_TIMESTAMP`: Assuming we are predicting at this moment in time, what's happening in the next 90 days?\n",
        "1. `TARGET_PRED`: Whether the event (`COUNT(orders.*, 0, 90, days)=0`) will happen (`True`: Event will happen; `False`: Event will not happen)\n",
        "1. `False_PROB`: The probability that the event will not happen\n",
        "1. `True_PROB`: The probability that the event will happen."
      ],
      "metadata": {
        "id": "jqjTBt2ZSGyX"
      },
      "id": "jqjTBt2ZSGyX"
    },
    {
      "cell_type": "markdown",
      "source": [
        "**You can use the result to prevent customer churn (*e.g.*, sending a personalized coupon):**\n",
        "\n",
        "<div align=\"left\">\n",
        "  <img src=\"https://kumo-sdk-public.s3.us-west-2.amazonaws.com/rfm-colabs/churn.png\" width=\"500\" />\n",
        "</div>"
      ],
      "metadata": {
        "id": "aTR7OXshAoZ9"
      },
      "id": "aTR7OXshAoZ9"
    },
    {
      "cell_type": "markdown",
      "source": [
        "### Example 3. Product recommendation\n",
        "\n",
        "Predict the top-10 items that user with `user_id=123` is likely going to buy in the next 30 days."
      ],
      "metadata": {
        "id": "ooCNzX1EdQcG"
      },
      "id": "ooCNzX1EdQcG"
    },
    {
      "cell_type": "code",
      "source": [
        "query = \"PREDICT LIST_DISTINCT(orders.item_id, 0, 30, days) RANK TOP 10 FOR users.user_id=123\"\n",
        "\n",
        "df = model.predict(query)\n",
        "display(df)"
      ],
      "metadata": {
        "id": "nJ9QwZ_gdNzC"
      },
      "id": "nJ9QwZ_gdNzC",
      "execution_count": null,
      "outputs": []
    },
    {
      "cell_type": "markdown",
      "source": [
        "How to interpret the result:\n",
        "1. `ENTITY`: The user with `user_id=123`\n",
        "1. `ANCHOR_TIMESTAMP`: Assuming we are predicting at this moment in time, what's happening in the next 30 days?\n",
        "1. `CLASS`: The items (`item_id`)\n",
        "1. `SCORE`: Higher score indicates higher likelihood"
      ],
      "metadata": {
        "id": "A7apJCl4TYPO"
      },
      "id": "A7apJCl4TYPO"
    },
    {
      "cell_type": "markdown",
      "source": [
        "**You can use the result to power product recommendation:**\n",
        "\n",
        "<div align=\"left\">\n",
        "  <img src=\"https://kumo-sdk-public.s3.us-west-2.amazonaws.com/rfm-colabs/product-recommendation.png\" width=\"500\" />\n",
        "</div>\n"
      ],
      "metadata": {
        "id": "l38SFpUuCPiT"
      },
      "id": "l38SFpUuCPiT"
    },
    {
      "cell_type": "markdown",
      "source": [
        "### Example 4. Infer entity attributes\n",
        "\n",
        "Predict the age of user with `user_id=8` (the original `age` field is `N/A` for this user)."
      ],
      "metadata": {
        "id": "zUtpp0P13LKT"
      },
      "id": "zUtpp0P13LKT"
    },
    {
      "cell_type": "code",
      "source": [
        "query = \"PREDICT users.age FOR users.user_id=8\"\n",
        "\n",
        "df = model.predict(query)\n",
        "display(df)"
      ],
      "metadata": {
        "id": "PK8aBsDt3bGQ"
      },
      "id": "PK8aBsDt3bGQ",
      "execution_count": null,
      "outputs": []
    },
    {
      "cell_type": "markdown",
      "source": [
        "How to interpret the result:\n",
        "1. `ENTITY`: the user with `user_id=8`\n",
        "1. `ANCHOR_TIMESTAMP`: assuming we are predicting at this moment in time\n",
        "1. `TARGET_PRED`: The predicted `age` of the user"
      ],
      "metadata": {
        "id": "aUidDrOzUC77"
      },
      "id": "aUidDrOzUC77"
    },
    {
      "cell_type": "markdown",
      "source": [
        "**You can use the result for customer segmentation:**\n",
        "\n",
        "<div align=\"left\">\n",
        "  <img src=\"https://kumo-sdk-public.s3.us-west-2.amazonaws.com/rfm-colabs/customer-segmantation.png\" width=\"500\" />\n",
        "</div>\n"
      ],
      "metadata": {
        "id": "LTORudewDZpe"
      },
      "id": "LTORudewDZpe"
    },
    {
      "cell_type": "markdown",
      "source": [
        "## We'd love to hear from you!\n",
        "\n",
        "1. **Found a bug or have a feature request?**  \n",
        "\n",
        "   Submit issues directly on [GitHub](https://github.com/kumo-ai/kumo-rfm). Your feedback helps us improve RFM for everyone.\n",
        "\n",
        "2. **Explore additional notebooks**\n",
        "\n",
        "   (1) Making predictions on a single table: [![Open in Colab](https://colab.research.google.com/assets/colab-badge.svg)](https://colab.research.google.com/drive/14nkh7yz28-kvkgMqvVJoTRgCBq--e5mX)\n",
        "\n",
        "   (2) The ultimate handbook to leverage KumoRFM to its full potential: [![Open in Colab](https://colab.research.google.com/assets/colab-badge.svg)](https://colab.research.google.com/github/kumo-ai/kumo-rfm/blob/master/notebooks/handbook.ipynb)\n",
        "\n",
        "   (3) Explore all [notebooks](https://github.com/kumo-ai/kumo-rfm/tree/master/notebooks).\n",
        "\n",
        "3. **Built something cool with RFM? We'd love to see it!**  \n",
        "\n",
        "   Share your project on LinkedIn and tag @kumo.  \n",
        "   We regularly spotlight on our official channels—yours could be next!\n",
        "\n",
        "<div align=\"left\">\n",
        "  <img src=\"https://kumo-sdk-public.s3.us-west-2.amazonaws.com/rfm-colabs/kumo_ai_logo.jpeg\" width=\"30\" />\n",
        "</div>\n",
        "\n"
      ],
      "metadata": {
        "id": "zulLbR3AhQHX"
      },
      "id": "zulLbR3AhQHX"
    }
  ],
  "metadata": {
    "kernelspec": {
      "display_name": "Python 3 (ipykernel)",
      "language": "python",
      "name": "python3"
    },
    "language_info": {
      "codemirror_mode": {
        "name": "ipython",
        "version": 3
      },
      "file_extension": ".py",
      "mimetype": "text/x-python",
      "name": "python",
      "nbconvert_exporter": "python",
      "pygments_lexer": "ipython3",
      "version": "3.10.18"
    },
    "colab": {
      "provenance": []
    }
  },
  "nbformat": 4,
  "nbformat_minor": 5
}