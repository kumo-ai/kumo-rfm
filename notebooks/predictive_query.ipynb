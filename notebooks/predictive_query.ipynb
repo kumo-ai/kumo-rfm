{
  "nbformat": 4,
  "nbformat_minor": 0,
  "metadata": {
    "colab": {
      "provenance": []
    },
    "kernelspec": {
      "name": "python3",
      "display_name": "Python 3"
    },
    "language_info": {
      "name": "python"
    }
  },
  "cells": [
    {
      "cell_type": "markdown",
      "source": [
        "# KumoRFM Predictive Query Tutorial"
      ],
      "metadata": {
        "id": "g46C2YfjdTTw"
      }
    },
    {
      "cell_type": "markdown",
      "source": [
        "## Setup Dataset\n",
        "\n",
        "## About the Dataset\n",
        "This tutorial uses Steam gaming data with three tables:\n",
        "- `users`: Gaming platform users  \n",
        "- `games`: Video games with pricing/metadata\n",
        "- `reviews`: User reviews and ratings\n",
        "\n",
        "We'll predict things like: game discounts, user behavior, and review patterns."
      ],
      "metadata": {
        "id": "7h_1Q_YrNYnR"
      }
    },
    {
      "cell_type": "code",
      "source": [
        "!pip install kumoai fsspec s3fs"
      ],
      "metadata": {
        "id": "tgngeS4BfFB8"
      },
      "execution_count": null,
      "outputs": []
    },
    {
      "cell_type": "code",
      "source": [
        "import os\n",
        "import kumoai.experimental.rfm as rfm"
      ],
      "metadata": {
        "id": "9i6OGuSFfHWw"
      },
      "execution_count": null,
      "outputs": []
    },
    {
      "cell_type": "code",
      "execution_count": null,
      "metadata": {
        "id": "f605319a-80ad-45d0-950d-b17fc3e50499"
      },
      "outputs": [],
      "source": [
        "if not os.environ.get(\"KUMO_API_KEY\"):\n",
        "    rfm.authenticate()"
      ]
    },
    {
      "cell_type": "code",
      "execution_count": null,
      "metadata": {
        "id": "r7HX2s1iYaU5"
      },
      "outputs": [],
      "source": [
        "# Initialize a Kumo client with your API key:\n",
        "KUMO_API_KEY = os.environ.get(\"KUMO_API_KEY\")\n",
        "rfm.init(api_key=KUMO_API_KEY)"
      ]
    },
    {
      "cell_type": "code",
      "source": [
        "import pandas as pd\n",
        "\n",
        "# Take about 20s to download\n",
        "df_dict = {\n",
        "    'users': pd.read_csv(f's3://kumo-sdk-public/rfm-datasets/steam_game_sample/users.csv'),\n",
        "    'games': pd.read_csv(f's3://kumo-sdk-public/rfm-datasets/steam_game_sample/games.csv'),\n",
        "    'reviews': pd.read_csv(f's3://kumo-sdk-public/rfm-datasets/steam_game_sample/recommendations.csv')\n",
        "}\n",
        "df_dict['reviews']['is_recommended'] = df_dict['reviews']['is_recommended'].astype(int)"
      ],
      "metadata": {
        "id": "Jg-qatwJfYRs"
      },
      "execution_count": null,
      "outputs": []
    },
    {
      "cell_type": "code",
      "source": [
        "# Take a look at the data\n",
        "df_dict['users'].head(3)"
      ],
      "metadata": {
        "id": "fiXYsZdb_MXT"
      },
      "execution_count": null,
      "outputs": []
    },
    {
      "cell_type": "code",
      "source": [
        "df_dict['games'].head(3)"
      ],
      "metadata": {
        "id": "-L7l2-2x_SUM"
      },
      "execution_count": null,
      "outputs": []
    },
    {
      "cell_type": "code",
      "source": [
        "df_dict['reviews'].head(3)"
      ],
      "metadata": {
        "id": "oeTfHmcy_UJq"
      },
      "execution_count": null,
      "outputs": []
    },
    {
      "cell_type": "code",
      "source": [
        "import kumoai.experimental.rfm as rfm\n",
        "\n",
        "users_table = rfm.LocalTable(df = df_dict['users'], name = \"users\").infer_metadata()\n",
        "games_table = rfm.LocalTable(df = df_dict['games'], name = \"games\").infer_metadata()\n",
        "reviews_table = rfm.LocalTable(df = df_dict['reviews'], name = \"reviews\").infer_metadata()"
      ],
      "metadata": {
        "id": "FfukPWNLPrvr"
      },
      "execution_count": null,
      "outputs": []
    },
    {
      "cell_type": "code",
      "source": [
        "games_table.primary_key = \"app_id\"\n",
        "games_table['discount'].stype = \"numerical\"\n",
        "reviews_table['is_recommended'].stype = \"numerical\"\n",
        "reviews_table['helpful'].stype = \"numerical\""
      ],
      "metadata": {
        "id": "CqYYGnp8P5tV"
      },
      "execution_count": null,
      "outputs": []
    },
    {
      "cell_type": "code",
      "source": [
        "from kumoai.experimental.rfm import LocalGraph\n",
        "graph = LocalGraph(tables=[users_table, games_table, reviews_table])\n",
        "graph.infer_links()\n",
        "graph.unlink(\"users\", \"reviews\", \"reviews\")\n",
        "graph.unlink(\"games\", \"user_reviews\", \"reviews\")\n",
        "\n",
        "graph.validate()"
      ],
      "metadata": {
        "id": "BDdPGQYcfZB-"
      },
      "execution_count": null,
      "outputs": []
    },
    {
      "cell_type": "code",
      "source": [
        "graph.visualize()"
      ],
      "metadata": {
        "id": "RpaVF379_bs7"
      },
      "execution_count": null,
      "outputs": []
    },
    {
      "cell_type": "code",
      "source": [
        "from kumoai.experimental.rfm import KumoRFM\n",
        "\n",
        "model = KumoRFM(graph)"
      ],
      "metadata": {
        "id": "fkN0u9g5fcQl"
      },
      "execution_count": null,
      "outputs": []
    },
    {
      "cell_type": "markdown",
      "source": [
        "## Predictive Query Language\n",
        "\n",
        "**Predictive Query Language (PQL)** is a declarative, SQL-like syntax that lets you frame an entire ML task in a single statement.\n",
        "\n",
        "---\n",
        "\n",
        "### Anatomy of a Predictive Query\n",
        "\n",
        "```\n",
        "PREDICT <target_expression>\n",
        "FOR <entity_specification>\n",
        "[WHERE <filters>]\n",
        "```\n",
        "\n",
        "| Component              | Purpose                                                                                                               |\n",
        "| ---------------------- | --------------------------------------------------------------------------------------------------------------------- |\n",
        "| **PREDICT**            | Declares the *target*—the value you want the model to output. Can be a column or an aggregation over a future window. |\n",
        "| **FOR**                | Tells the model *who* (entity) to predict for. In RFM you provide an explicit ID or `IN (...)` list.                  |\n",
        "| **WHERE** *(optional)* | Filters the *context* used to build features; does **not** limit the entity list you pass in `FOR`.                   |\n",
        "\n",
        "---\n",
        "\n",
        "### Writing Queries in Kumo\n",
        "\n",
        "These are the five steps to prepare writing predictive queries in Kumo.\n",
        "1. **Choose your entity** - the table and primary-key column you'll predict for.\n",
        "2. **Define the target** - a raw column *or* an aggregation across a future horizon.\n",
        "3. **Pin the entity list** - pass a single ID or `IN (...)` list after `FOR`.\n",
        "4. *(Optional)* **Refine the context** - use `WHERE` with static or temporal filters to restrict feature generation.\n",
        "5. **Run & fetch** - execute `rfm.query(<your_pql>)` and read the JSON result."
      ],
      "metadata": {
        "id": "mcbUCOQuOVyP"
      }
    },
    {
      "cell_type": "markdown",
      "source": [
        "## Use Cases"
      ],
      "metadata": {
        "id": "1X2TiWMBZQGy"
      }
    },
    {
      "cell_type": "markdown",
      "source": [
        "\n",
        "\n",
        "### Scalar Prediction\n",
        "Let's start with a simple scalar prediction: predicting the discount amount for a specific game (app_id 113020).\n",
        "\n",
        "**Important**: The entity column (`games.app_id`) must be the primary key - this tells the model which specific game to predict for."
      ],
      "metadata": {
        "id": "CgdcPWBIhhN1"
      }
    },
    {
      "cell_type": "code",
      "source": [
        "query = \"\"\"PREDICT games.discount\n",
        "\n",
        "FOR games.app_id = 113020\n",
        "\"\"\"\n",
        "\n",
        "prediction_result = model.predict(query)\n",
        "print(prediction_result)"
      ],
      "metadata": {
        "id": "dmUrpeLJhxKz"
      },
      "execution_count": null,
      "outputs": []
    },
    {
      "cell_type": "markdown",
      "source": [
        "### Boolean & Comparison Operators\n",
        "\n",
        "Raw predictions are often more useful when converted to actionable decisions. For example, \"Will this game have a discount worth my attention (>$5)?\"\n",
        " We can do so with the binary and comparison operators.\n",
        "\n",
        "```\n",
        "=   !=   <   <=   >   >=\n",
        "AND  OR   NOT\n",
        "IN   CONTAINS   STARTS WITH   ENDS WITH\n",
        "LIKE   NOT LIKE\n",
        "IS NULL   IS NOT NULL\n",
        "```\n",
        "\n",
        "Combine them freely inside `WHERE` or as part of a boolean target such as `PREDICT ... = 0`.\n",
        "\n",
        "The specific binary operator that needs to be used depends on the datatype being compared\n",
        "\n",
        "---"
      ],
      "metadata": {
        "id": "iQYfiIT2ZXo3"
      }
    },
    {
      "cell_type": "code",
      "source": [
        "query = \"\"\"PREDICT games.discount > 5\n",
        "\n",
        "FOR games.app_id = 113020\n",
        "\"\"\"\n",
        "\n",
        "prediction_result = model.predict(query)\n",
        "print(prediction_result)"
      ],
      "metadata": {
        "id": "yVpXCT84QaZn"
      },
      "execution_count": null,
      "outputs": []
    },
    {
      "cell_type": "markdown",
      "source": [
        "### Time-Based Aggregations\n",
        "Beyond single values, we often want to predict metrics over time windows: \"How many positive reviews will this game get in the next 30 days?\n",
        "\n",
        "**Aggregation Functions In PQL**\n",
        "\n",
        "| Function         | Description               | Example                                 |\n",
        "| ---------------- | ------------------------- | --------------------------------------- |\n",
        "| `SUM`            | Sum of numeric values     | `SUM(orders.amount, 0, 30)`             |\n",
        "| `AVG`            | Average of numeric values | `AVG(sensor.temp, 0, 24, hours)`        |\n",
        "| `COUNT`          | Count of rows             | `COUNT(events.*, 0, 7)`                 |\n",
        "| `COUNT_DISTINCT` | Count of unique values    | `COUNT_DISTINCT(purchases.item, 0, 90)` |\n",
        "| `LIST_DISTINCT`  | List of unique values     | `LIST_DISTINCT(articles.tag, 0, 14)`    |\n",
        "| `MAX` / `MIN`    | Max / Min numeric value   | `MAX(speed.value, 0, 1, hours)`         |\n",
        "\n",
        "*All aggregations use a sliding window defined by* **`start`** (exclusive) *and* **`end`** (inclusive) *offsets.* Default unit is **days** but you can pass `hours` or `months` as a 4th argument.\n",
        "\n",
        "Time windows are defined relative to prediction time:\n",
        "- (0, 30): next 30 days from now\n",
        "- (-90, 0): past 90 days up to now  \n",
        "- (-30, 30): 30 days before to 30 days after\n",
        "\n",
        "---"
      ],
      "metadata": {
        "id": "hqAEGzmdQosP"
      }
    },
    {
      "cell_type": "code",
      "source": [
        "query = \"\"\"PREDICT SUM(reviews.is_recommended, 0, 180, days)\n",
        "\n",
        "FOR users.user_id = 11227231\n",
        "\"\"\"\n",
        "\n",
        "prediction_result = model.predict(query)\n",
        "print(prediction_result)"
      ],
      "metadata": {
        "id": "T2e8p_rIRUES"
      },
      "execution_count": null,
      "outputs": []
    },
    {
      "cell_type": "code",
      "source": [
        "query = \"\"\"PREDICT SUM(reviews.is_recommended, 0, 12, months)\n",
        "\n",
        "FOR users.user_id = 11227231\n",
        "\"\"\"\n",
        "\n",
        "prediction_result = model.predict(query)\n",
        "print(prediction_result)"
      ],
      "metadata": {
        "id": "p-QUMd-fZ5ga"
      },
      "execution_count": null,
      "outputs": []
    },
    {
      "cell_type": "markdown",
      "source": [
        "### Filtering Context with WHERE\n",
        "\n",
        "The WHERE clause filters which historical data is used to build features - it does not limit which entities you predict for. This improves model quality by focusing on relevant context.\n",
        "Think of this as providing only certain useful information to the model for better predictions.\n",
        "\n",
        "For example, we want our model to Only learn from data of games that had recent activity"
      ],
      "metadata": {
        "id": "x8OIdRfmj9lc"
      }
    },
    {
      "cell_type": "code",
      "source": [
        "q = \"\"\"PREDICT AVG(reviews.is_recommended, 0, 12, months)\n",
        "FOR games.app_id = 440\n",
        "WHERE COUNT(reviews.*, -12, 0, months) > 0\"\"\"\n",
        "print(model.predict(q))"
      ],
      "metadata": {
        "id": "4TfKjnTCSfoR"
      },
      "execution_count": null,
      "outputs": []
    },
    {
      "cell_type": "markdown",
      "source": [
        "### WHERE inside aggregations\n",
        "Sometimes, our aggregations shouldn't be over all the values in columns but over selected values, we can then use the ```WHERE``` clause inside an aggregation then.\n",
        "\n",
        "Suppose we wanted to predict the count of helpful votes of a reviews of a game."
      ],
      "metadata": {
        "id": "Yj2zHFX0Sy21"
      }
    },
    {
      "cell_type": "code",
      "source": [
        "q = \"\"\"PREDICT COUNT(reviews.* WHERE reviews.is_recommended=1,0,30, days)\n",
        "FOR games.app_id=263460\"\"\"\n",
        "print(model.predict(q))"
      ],
      "metadata": {
        "id": "oKbywo0VTKkE"
      },
      "execution_count": null,
      "outputs": []
    },
    {
      "cell_type": "markdown",
      "source": [
        "### Link Prediction\n",
        "So far we've predicted properties of individual entities (like a game's discount or a user's review count). Link prediction goes beyond this to predict relationships between different entities.\n",
        "\n",
        "For example, we may want to predict the TOP 3 games a user would give reviews for."
      ],
      "metadata": {
        "id": "eE3p0Q6JTWSP"
      }
    },
    {
      "cell_type": "code",
      "source": [
        "q = \"\"\"PREDICT LIST_DISTINCT(reviews.app_id, 0, 12, months) RANK TOP 3\n",
        "FOR users.user_id = 11764552\"\"\"\n",
        "print(model.predict(q, anchor_time=pd.Timestamp('2020-09-20'), num_hops = 6))"
      ],
      "metadata": {
        "id": "a2UgagouTq98"
      },
      "execution_count": null,
      "outputs": []
    },
    {
      "cell_type": "markdown",
      "source": [
        "### Task Types & Automatic Detection\n",
        "\n",
        "| Pattern in `PREDICT`                | Task Type                 | Typical Metric  |\n",
        "| ----------------------------------- | ------------------------- | --------------- |\n",
        "| Raw numeric column                  | Regression                | MAE, RMSE       |\n",
        "| Boolean expression (`=`, `>`, etc.) | Binary Classification     | AUC, F1         |\n",
        "| Categorical column                  | Multiclass / Multilabel   | Accuracy, Top-k |\n",
        "| `LIST_DISTINCT(...)` + `RANK TOP k` | Link Prediction / Ranking | Recall\\@k, MRR  |\n",
        "\n",
        "The SDK infers the task from your target—no extra parameters required.\n",
        "\n",
        "4. **Watch for empty windows** - if an entity has *zero* facts in the target window, the training example is dropped.\n",
        "5. **Start small** - iterate with a few entity IDs before scaling up queries.\n",
        "\n",
        "### Next Steps\n",
        "\n",
        "* Explore **evaluation mode**:\n",
        "\n",
        "  ```python\n",
        "  metrics = rfm.evaluate(\"\"\"YOUR PQUERY\"\"\")\n",
        "  ```\n",
        "\n",
        "Happy querying! 🚀"
      ],
      "metadata": {
        "id": "9fARShJEkjGx"
      }
    }
  ]
}