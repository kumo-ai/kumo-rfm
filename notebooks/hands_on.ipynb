{
 "cells": [
  {
   "cell_type": "markdown",
   "metadata": {
    "id": "v6uxGOQ99qQm"
   },
   "source": [
    "# `KumoRFM` Hands-on\n",
    "\n",
    "[KumoRFM](https://kumorfm.ai) provides an [SDK](https://kumo-ai.github.io/kumo-sdk/docs/get_started/rfm/index.html) in Python.\n",
    "The Kumo SDK is available for Python 3.9 to Python 3.13."
   ]
  },
  {
   "cell_type": "code",
   "execution_count": null,
   "metadata": {
    "colab": {
     "base_uri": "https://localhost:8080/"
    },
    "id": "vAD3TVto9mR2",
    "outputId": "4bb5db62-d008-4bab-c322-7c682004eb5a"
   },
   "outputs": [],
   "source": [
    "!pip install kumoai --pre --upgrade"
   ]
  },
  {
   "cell_type": "code",
   "execution_count": null,
   "metadata": {
    "id": "g7NRLAY3O4Xz"
   },
   "outputs": [],
   "source": [
    "import kumoai.experimental.rfm as rfm"
   ]
  },
  {
   "cell_type": "markdown",
   "metadata": {
    "id": "L2w9cKh-Sela"
   },
   "source": [
    "**Note:** The API of `kumoai.experimental.rfm` may change in the near future."
   ]
  },
  {
   "cell_type": "markdown",
   "metadata": {
    "id": "_9Q6PDd8SiIS"
   },
   "source": [
    "You will need an API key to make calls to KumoRFM.\n",
    "Use the widget below to generate one for free by clicking **\"Generate API Key\"**.\n",
    "If you don't have a KumoRFM account, the widget will prompt you to signup."
   ]
  },
  {
   "cell_type": "code",
   "execution_count": null,
   "metadata": {
    "colab": {
     "base_uri": "https://localhost:8080/",
     "height": 138
    },
    "id": "VJIParnzO6Vu",
    "outputId": "678d4adf-03d4-43b9-d452-3dc8a7c13a7c"
   },
   "outputs": [],
   "source": [
    "import os\n",
    "\n",
    "if not os.environ.get(\"KUMO_API_KEY\"):\n",
    "    rfm.authenticate()"
   ]
  },
  {
   "cell_type": "markdown",
   "metadata": {
    "id": "L3kfXy3aSnjP"
   },
   "source": [
    "We are now ready to initialize the Kumo SDK using our newly created API key:"
   ]
  },
  {
   "cell_type": "code",
   "execution_count": null,
   "metadata": {
    "colab": {
     "base_uri": "https://localhost:8080/"
    },
    "id": "agHmdhx5O77n",
    "outputId": "d70f8a5a-5ede-4319-8e87-a7c570f1f47b"
   },
   "outputs": [],
   "source": [
    "rfm.init()"
   ]
  },
  {
   "cell_type": "markdown",
   "metadata": {
    "id": "PEf429YpSxbh"
   },
   "source": [
    "## Dataset Creation\n",
    "\n",
    "In this hands-on session, we are using the **Super Mario Maker** dataset from [Kaggle](https://www.kaggle.com/datasets/leomauro/smmnet) to playfully introduce you to the world of KumoRFM.\n",
    "\n",
    "<img src=\"https://www.historyassociates.com/wp-content/uploads/2021/04/Mario-Maker.jpg\" width=\"700\" />\n",
    "\n",
    "The Super Mario Maker dataset provides over 115K game maps created on Super Mario Maker with over 880K players which performed over 7M of interactions on these maps.\n",
    "By interactions, this means that a player can: **(1)** create a game map; **(2)** play a map created by other players; if a player completes the challenge of the game map, he/she **(3)** \"cleared\" the map; also can be the **(4)** first clear; **(5)** at any time, the player can \"like\" a game map. This dataset also presents temporal changes over time for each game map."
   ]
  },
  {
   "cell_type": "markdown",
   "metadata": {
    "id": "zTM_atARTr33"
   },
   "source": [
    "KumoRFM interacts with a set of `pandas.DataFrame` objects, so let's download and import the dataset into `pandas`:"
   ]
  },
  {
   "cell_type": "code",
   "execution_count": null,
   "metadata": {
    "id": "ebTq6lV6PXb6"
   },
   "outputs": [],
   "source": [
    "import pandas as pd\n",
    "\n",
    "root = 's3://kumo-sdk-public/rfm-datasets/super_mario_maker'\n",
    "\n",
    "# Player data:\n",
    "players = pd.read_parquet(f'{root}/players.parquet')\n",
    "# Game map data:\n",
    "maps = pd.read_parquet(f'{root}/maps.parquet')\n",
    "# Plays over time:\n",
    "plays = pd.read_parquet(f'{root}/plays.parquet')\n",
    "# Clears over time:\n",
    "clears = pd.read_parquet(f'{root}/clears.parquet')\n",
    "# Likes over time:\n",
    "likes = pd.read_parquet(f'{root}/likes.parquet')\n",
    "# Records over time:\n",
    "records = pd.read_parquet(f'{root}/records.parquet')\n",
    "# Temporal changes on game maps:\n",
    "maps_meta = pd.read_parquet(f'{root}/maps_meta.parquet')"
   ]
  },
  {
   "cell_type": "markdown",
   "metadata": {
    "id": "3ffD_44XZ0fU"
   },
   "source": [
    "Let's study and analyze the dataset to get familiar with it:"
   ]
  },
  {
   "cell_type": "markdown",
   "metadata": {
    "id": "wQKrI-eKUNTx"
   },
   "source": [
    "#### Player Data\n",
    "\n",
    "Players are defined by their name (`name`) and nationality (`flag`):"
   ]
  },
  {
   "cell_type": "code",
   "execution_count": null,
   "metadata": {
    "colab": {
     "base_uri": "https://localhost:8080/",
     "height": 143
    },
    "id": "nGZFqXufRh3n",
    "outputId": "f4d0aa58-d230-4364-da5d-da3c7a4de388"
   },
   "outputs": [],
   "source": [
    "display(players.head(n=3))"
   ]
  },
  {
   "cell_type": "markdown",
   "metadata": {
    "id": "rzrw79jjaBwc"
   },
   "source": [
    "The United States and Japan make up the largest share of the player base:"
   ]
  },
  {
   "cell_type": "code",
   "execution_count": null,
   "metadata": {
    "colab": {
     "base_uri": "https://localhost:8080/",
     "height": 243
    },
    "id": "IzSjMlwqUsEm",
    "outputId": "1fbeedcf-d7c7-413f-97af-56f72dfee751"
   },
   "outputs": [],
   "source": [
    "players['flag'].value_counts().head(n=10).plot(kind='bar', figsize=(4, 2));"
   ]
  },
  {
   "cell_type": "markdown",
   "metadata": {
    "id": "uTzCLV11USQT"
   },
   "source": [
    "#### Game Map Data\n",
    "\n",
    "<img src=\"https://mario.wiki.gallery/images/thumb/f/f0/Facebook_Nintendo_2015-10-05_SMM_course_1.jpg/250px-Facebook_Nintendo_2015-10-05_SMM_course_1.jpg\" width=\"250\" />\n",
    "<img src=\"https://mario.wiki.gallery/images/thumb/9/9f/Facebook_Nintendo_2015-10-05_SMM_course_4.jpg/250px-Facebook_Nintendo_2015-10-05_SMM_course_4.jpg\" />\n",
    "<img src=\"https://mario.wiki.gallery/images/thumb/e/e0/Facebook_Nintendo_2015-10-05_SMM_course_5.jpg/250px-Facebook_Nintendo_2015-10-05_SMM_course_5.jpg\" />\n",
    "\n",
    "Game maps are defined based on difficulty (`difficulity`), game style (`game_style`) and title (`title`).\n",
    "In addition, each map references its maker (`maker_player_id`) and creation time (`creation_time`):"
   ]
  },
  {
   "cell_type": "code",
   "execution_count": null,
   "metadata": {
    "colab": {
     "base_uri": "https://localhost:8080/",
     "height": 143
    },
    "id": "KfAnrNdOR052",
    "outputId": "6a589dc9-5cca-4204-fe69-18fa5aee147c"
   },
   "outputs": [],
   "source": [
    "display(maps.head(n=3))"
   ]
  },
  {
   "cell_type": "markdown",
   "metadata": {
    "id": "MtKzos1hatEW"
   },
   "source": [
    "A game map can have four different levels of difficulty:"
   ]
  },
  {
   "cell_type": "code",
   "execution_count": null,
   "metadata": {
    "colab": {
     "base_uri": "https://localhost:8080/",
     "height": 304
    },
    "id": "KcUeKMVwUx0M",
    "outputId": "891a6fdf-2a7f-4e47-c906-abce21e3625b"
   },
   "outputs": [],
   "source": [
    "maps['difficulty'].value_counts().plot(kind='bar', figsize=(2, 2));"
   ]
  },
  {
   "cell_type": "markdown",
   "metadata": {
    "id": "FzX2p84EayhS"
   },
   "source": [
    "A game map can have four different styles:"
   ]
  },
  {
   "cell_type": "code",
   "execution_count": null,
   "metadata": {
    "colab": {
     "base_uri": "https://localhost:8080/",
     "height": 301
    },
    "id": "MnHU9D6sUypB",
    "outputId": "daea2ba5-e364-46ea-c55a-cd755a9ef5be"
   },
   "outputs": [],
   "source": [
    "maps['game_style'].value_counts().plot(kind='bar', figsize=(2, 2));"
   ]
  },
  {
   "cell_type": "markdown",
   "metadata": {
    "id": "QLbMKUzyU7EG"
   },
   "source": [
    "#### Interaction Tables\n",
    "\n",
    "In addition to players and maps, we have rich interaction data connecting the two entity tables:\n",
    "\n",
    "* `plays`: Plays over time\n",
    "* `clears`: Clears over time\n",
    "* `likes`: Likes over time\n",
    "* `records`: Records over time\n",
    "\n",
    "Each of these interactions hold a timestamp (`time`) and the pair of players (`player_id`) and maps (`map_id`) this interaction belong to:"
   ]
  },
  {
   "cell_type": "code",
   "execution_count": null,
   "metadata": {
    "colab": {
     "base_uri": "https://localhost:8080/",
     "height": 684
    },
    "id": "vu2wNTvVU6hP",
    "outputId": "0ad72435-6b05-4e65-f775-fabfc357200c"
   },
   "outputs": [],
   "source": [
    "from IPython.display import Markdown\n",
    "\n",
    "display(Markdown(\"### Plays over Time\"))\n",
    "display(plays.head(n=3))\n",
    "display(Markdown(\"### Clears over Time\"))\n",
    "display(clears.head(n=3))\n",
    "display(Markdown(\"### Likes over Time\"))\n",
    "display(likes.head(n=3))\n",
    "display(Markdown(\"### Records over Time\"))\n",
    "display(records.head(n=3))"
   ]
  },
  {
   "cell_type": "markdown",
   "metadata": {
    "id": "q1q3aAa4bgXF"
   },
   "source": [
    "Lastly, we have access to temporal changes on game maps, *e.g.*, the number of players, clears, attempts, starts or tweets:"
   ]
  },
  {
   "cell_type": "code",
   "execution_count": null,
   "metadata": {
    "colab": {
     "base_uri": "https://localhost:8080/",
     "height": 184
    },
    "id": "Ud1L0e9EVNdU",
    "outputId": "0927de93-6dbf-4cb6-c5f3-280f37f53bda"
   },
   "outputs": [],
   "source": [
    "display(Markdown(\"### Temporal Changes on Game Maps\"))\n",
    "display(maps_meta.head(n=3))"
   ]
  },
  {
   "cell_type": "markdown",
   "metadata": {
    "id": "P1Y-iN8nb35i"
   },
   "source": [
    "Game maps are also assigned to one out of 15 different tags:"
   ]
  },
  {
   "cell_type": "code",
   "execution_count": null,
   "metadata": {
    "colab": {
     "base_uri": "https://localhost:8080/",
     "height": 313
    },
    "id": "6Xmb91ewV7-j",
    "outputId": "38f0c022-9e57-4ba5-a563-06fd9a319106"
   },
   "outputs": [],
   "source": [
    "maps_meta['tag'].value_counts().plot(kind='bar', figsize=(8, 2));"
   ]
  },
  {
   "cell_type": "markdown",
   "metadata": {
    "id": "X1vg0SNJcPoZ"
   },
   "source": [
    "We are now ready to convert this dataset into a graph for `KumoRFM` to predict on.\n",
    "\n",
    "We use the handy short-cut `rfm.LocalGraph.from_data(...)` to instantiate tables and inter-connect them by automatically inferring semantic types, primary keys, time columns and foreign keys:"
   ]
  },
  {
   "cell_type": "code",
   "execution_count": null,
   "metadata": {
    "colab": {
     "base_uri": "https://localhost:8080/",
     "height": 582
    },
    "id": "_ZDnRoFsWP-4",
    "outputId": "4592a4ba-28ed-4643-d606-f77a8bb0e920"
   },
   "outputs": [],
   "source": [
    "df_dict = {\n",
    "    'players': players,\n",
    "    'maps': maps,\n",
    "    'plays': plays,\n",
    "    'clears': clears,\n",
    "    'likes': likes,\n",
    "    'records': records,\n",
    "    'maps_meta': maps_meta,\n",
    "}\n",
    "\n",
    "graph = rfm.LocalGraph.from_data(df_dict)"
   ]
  },
  {
   "cell_type": "markdown",
   "metadata": {
    "id": "bXXdlf7mcwi3"
   },
   "source": [
    "We can see that `KumoRFM` correctly inferred `player_id` and `map_id` as the primary keys in the `players` and `maps` tables, respectively.\n",
    "In addition, it correctly identified the time columns of all interaction tables.\n",
    "Lastly, it inferred foreign key<>primary keys across all interaction tables.\n",
    "\n",
    "**Note:** If metadata is incomplete or wrong, everything can be conveniently changed at this point in time."
   ]
  },
  {
   "cell_type": "markdown",
   "metadata": {
    "id": "qvNBdLrEdjco"
   },
   "source": [
    "We can visualize the graph in order to confirm that links have been set up correctly:"
   ]
  },
  {
   "cell_type": "code",
   "execution_count": null,
   "metadata": {
    "colab": {
     "base_uri": "https://localhost:8080/",
     "height": 582
    },
    "id": "IRa7IIn2WoM_",
    "outputId": "e6105b42-6295-453a-d784-d5c01508a05c"
   },
   "outputs": [],
   "source": [
    "graph.visualize(show_columns=False);"
   ]
  },
  {
   "cell_type": "markdown",
   "metadata": {
    "id": "Bn5AyY-Zdzks"
   },
   "source": [
    "It is also good practice to double-check the semantic types of columns, which will be used as features within the model downstream.\n",
    "As such, correctly setting each column's semantic type (`stype`) is critical for model performance.\n",
    "\n",
    "The following semantic types are supported:\n",
    "\n",
    "| Type | Explanation | Example |\n",
    "|------|-------------|---------|\n",
    "| `\"numerical\"` | Numerical values (*e.g.*, `price`, `age`) | `25`, `3.14`, `-10` |\n",
    "| `\"categorical\"` | Discrete categories with limited cardinality | Color: `\"red\"`, `\"blue\"`, `\"green\"` (one cell may only have one category) |\n",
    "| `\"multicategorical\"` | Multiple categories in a single cell | `\"Action\\|Drama\\|Comedy\"`, `\"Action\\|Thriller\"` |\n",
    "| `\"ID\"` | An identifier, *e.g.*, primary keys or foreign keys | `user_id: 123`, `product_id: PRD-8729453` |\n",
    "| `\"text\"` | Natural language text | Descriptions |\n",
    "| `\"timestamp\"` | Specific point in time | `\"2025-07-11\"`,  `\"2023-02-12 09:47:58`\" |\n",
    "| `\"sequence\"` | Custom embeddings or sequential data  | `[0.25, -0.75, 0.50, ...]` |"
   ]
  },
  {
   "cell_type": "markdown",
   "metadata": {
    "id": "jqOJcpiNeZfd"
   },
   "source": [
    "We can inspect the semantic types of each table via `table.print_metadata()`:"
   ]
  },
  {
   "cell_type": "code",
   "execution_count": null,
   "metadata": {
    "colab": {
     "base_uri": "https://localhost:8080/",
     "height": 1000
    },
    "id": "CGGDW6A-W8AI",
    "outputId": "934d3d20-6061-4bcd-e05e-5473ae310fce"
   },
   "outputs": [],
   "source": [
    "for table in graph.tables.values():\n",
    "    table.print_metadata()"
   ]
  },
  {
   "cell_type": "markdown",
   "metadata": {
    "id": "SnVCnscYemfp"
   },
   "source": [
    "Mostly everything looks good! However, the `tweets` column in `maps_meta` is inferred to hold `\"categorical\"` data since its total cardinality is low:"
   ]
  },
  {
   "cell_type": "code",
   "execution_count": null,
   "metadata": {
    "colab": {
     "base_uri": "https://localhost:8080/",
     "height": 231
    },
    "id": "SAswONtnenPq",
    "outputId": "73183263-bec9-433f-a308-f351ca15732b"
   },
   "outputs": [],
   "source": [
    "maps_meta['tweets'].value_counts().plot(kind='bar', figsize=(2, 2));"
   ]
  },
  {
   "cell_type": "markdown",
   "metadata": {
    "id": "vAf9wHhIXT1v"
   },
   "source": [
    "### 🎯 Your Turn!\n",
    "\n",
    " Since this column holds the **number of tweets** a map received over time, let's change its semantic type (`stype`) to `\"numerical\"`. You can reference a column via `graph[table_name][column_name]`:"
   ]
  },
  {
   "cell_type": "code",
   "execution_count": null,
   "metadata": {
    "id": "-xJBIHY_XTdK"
   },
   "outputs": [],
   "source": [
    "# TODO: Make your adjustments to the \"tweets\" column in the \"maps_meta\" table here:\n",
    "...\n",
    "\n",
    "graph['maps_meta'].print_metadata()"
   ]
  },
  {
   "cell_type": "code",
   "execution_count": null,
   "metadata": {
    "id": "Au49ZNAkfxJb"
   },
   "outputs": [],
   "source": [
    "#@title 👀 Solution { display-mode: \"form\" }\n",
    "\n",
    "graph['maps_meta']['tweets'].stype = 'numerical'"
   ]
  },
  {
   "cell_type": "markdown",
   "metadata": {
    "id": "3xv2oTJ5ndLP"
   },
   "source": [
    "Feel free to play around with setting up your graph, *e.g.*, by removing columns, tables, edges or modifying their underlying semantic types."
   ]
  },
  {
   "cell_type": "markdown",
   "metadata": {
    "id": "rdr40gg9gp0-"
   },
   "source": [
    "## Predicting with `KumoRFM`\n",
    "\n",
    "We are now ready to plug our graph into `KumoRFM` to make predictions, without any training required!\n",
    "\n",
    "The great thing about the graph is that it's a one-time setup.\n",
    "Once it's in place, you can generate a variety of predictions from it and power many different use-cases."
   ]
  },
  {
   "cell_type": "code",
   "execution_count": null,
   "metadata": {
    "colab": {
     "base_uri": "https://localhost:8080/",
     "height": 102,
     "referenced_widgets": [
      "9f1bd0a3b96e42e4a85a91e564666654",
      "6286062b620a4c249636b49729283d92"
     ]
    },
    "id": "dY4cSRsDZbrh",
    "outputId": "1bc113bc-48d7-4cf3-9743-ab6f0bf7a132"
   },
   "outputs": [],
   "source": [
    "model = rfm.KumoRFM(graph)"
   ]
  },
  {
   "cell_type": "markdown",
   "metadata": {
    "id": "4Gk3fipJg_Mx"
   },
   "source": [
    "We can query the `model` in two different ways:\n",
    "\n",
    "* [**`model.predict(query)`**](https://kumo-ai.github.io/kumo-sdk/docs/generated/kumoai.experimental.rfm.KumoRFM.html#kumoai.experimental.rfm.KumoRFM.predict): Returns predictions for a predictive query.\n",
    "* [**`model.evaluate(query)`**](https://kumo-ai.github.io/kumo-sdk/docs/generated/kumoai.experimental.rfm.KumoRFM.html#kumoai.experimental.rfm.KumoRFM.evaluate): Evaluates the model performance of a predictive query.\n",
    "\n",
    "The interface of `KumoRFM` is based on the [**Predictive Query Language (PQL)**](https://kumo-ai.github.io/kumo-sdk/docs/get_started/rfm/querying_rfm.html), which allows you to define predictive problems by specifying:\n",
    "\n",
    "1. A **target** which decleares the value or aggregate the model should predict\n",
    "1. The **entities** (single ID or list of IDs) to predict for\n",
    "1. *Optional* **filters** that can be used to refine the context\n",
    "\n",
    "The general structure of a predictive query is:\n",
    "\n",
    "```\n",
    "PREDICT <target> FOR <entity> WHERE <optional_filter>\n",
    "```"
   ]
  },
  {
   "cell_type": "markdown",
   "metadata": {
    "id": "fif1nrhamJDi"
   },
   "source": [
    "<details>\n",
    "<summary><b>💡 Click here for a short introduction to Predictive Query!</b></summary>\n",
    "\n",
    "**Entities** to query can be specified in one of two ways:\n",
    "\n",
    "* `FOR <entity_table>.<entity_pkey>=1` for single entities\n",
    "* `FOR <etntiy_table>.<entity_pkey> IN (1, 2, 3)` for a list of entities\n",
    "\n",
    "**Targets** can be specified in one of two ways:\n",
    "\n",
    "* `PREDICT <target_table>.<target_column>`: Imputes missing values of a column\n",
    "* `PREDICT <aggr>(<target_table>.<target_column>, <start_offset>, <end_offset>, <time_unit>)`: Predicts an aggregates in the future, where\n",
    "  * `<aggr>` can be `COUNT`, `SUM`, `AVG`, `MIN`, `MAX`, `LIST_DISTINCT`;\n",
    "  * <start_offset> is an integer that defines the relative start offset of the prediction window (`0` would mean \"from now\");\n",
    "  * <end_offset> is an integer that defines the relative end offset of the prediction window;\n",
    "  * <time_unit> defines the unit of the prediction window, *e.g.*, `hours`, `days` or `months`.\n",
    "\n",
    "  For example, `PREDICT COUNT(plays.*, 0, 7, days)` predicts the number of plays in the next seven days.\n",
    "\n",
    "Targets can be further refined via **conditions.** For example, `PREDICT COUNT(plays.*, 0, 7, days)=0` will predict the probability of zero plays in the next seven days.\n",
    "\n",
    "Lastly, filters can be used to refine the in-context examples:\n",
    "\n",
    "* `FOR maps.map_id=1 WHERE maps.difficulty='normal`: Only account for maps with normal difficulity\n",
    "* `FOR maps.map_id=1 WHERE COUNT(plays.*, -1, 0, months)>0`: Only account for maps that have been played in the last month (backward looking filter)\n",
    "* `FOR maps.map_id=1 ASSUMING COUNT(plays.*, 0, 1, months)>0`: For making predictions in hypothetical scenarios, *e.g.*, in case a map gets played in the next month (forward looking filter)\n",
    "</details>"
   ]
  },
  {
   "cell_type": "markdown",
   "metadata": {
    "id": "zyFxMdySnBXS"
   },
   "source": [
    "Let's write our first Predictive Query!"
   ]
  },
  {
   "cell_type": "markdown",
   "metadata": {
    "id": "CquC9zvJZwcn"
   },
   "source": [
    "### 🎯 Predict Nationality of a Player\n",
    "\n",
    "We want to predict/impute the nationality of the player with `player_id=5`:"
   ]
  },
  {
   "cell_type": "code",
   "execution_count": null,
   "metadata": {
    "id": "tR0Nw0khv2nx"
   },
   "outputs": [],
   "source": [
    "# TODO: Write a predictive query to impute the nationality/flag of player 5.\n",
    "query = \"PREDICT ...\""
   ]
  },
  {
   "cell_type": "code",
   "execution_count": null,
   "metadata": {
    "id": "RxXGKCwOwQfw"
   },
   "outputs": [],
   "source": [
    "#@title 👀 Solution { display-mode: \"form\" }\n",
    "\n",
    "query = \"PREDICT players.flag FOR players.player_id=5\""
   ]
  },
  {
   "cell_type": "markdown",
   "metadata": {
    "id": "GSlXpHAswYik"
   },
   "source": [
    "Let's run the query and see if it is working.  For this, `KumoRFM` will treat the `flag` column as blank, and will try to infer it from the given graph."
   ]
  },
  {
   "cell_type": "code",
   "execution_count": null,
   "metadata": {
    "id": "5Xdsg81PZvPK"
   },
   "outputs": [],
   "source": [
    "model.predict(query)"
   ]
  },
  {
   "cell_type": "markdown",
   "metadata": {
    "id": "jX1B1uQ4wykV"
   },
   "source": [
    "This predictive query gets inferred as **multi-class classification**. By default, `1,000` in-context examples were used to derive at a prediction.\n",
    "\n",
    "Let's compare it to the actual value in our dataset (`KumoRFM` treats any value to predict as missing, independent of whether it actually exists or not):"
   ]
  },
  {
   "cell_type": "code",
   "execution_count": null,
   "metadata": {
    "id": "pi4r6ff7ynIO"
   },
   "outputs": [],
   "source": [
    "display(players.iloc[5])"
   ]
  },
  {
   "cell_type": "markdown",
   "metadata": {
    "id": "Rb0pD3d7yU16"
   },
   "source": [
    "This is working quite well. Let's see how our model performs over ground-truth data by calling `model.evaluate()`. We can report both accuracy (`'acc'`) and the mean reciprocal rank (`'mrr')`:"
   ]
  },
  {
   "cell_type": "code",
   "execution_count": null,
   "metadata": {
    "id": "DwCxqy91xI07"
   },
   "outputs": [],
   "source": [
    "model.evaluate(query, metrics=['acc', 'mrr'])"
   ]
  },
  {
   "cell_type": "markdown",
   "metadata": {
    "id": "TFgaWXyZbImQ"
   },
   "source": [
    "### 🎯 Predict the Difficulty of a Map\n",
    "\n",
    "Next, lets predict/impute the difficulty of the map with `map_id=1`, `map_id=2`, and `map_id=3`:"
   ]
  },
  {
   "cell_type": "code",
   "execution_count": null,
   "metadata": {
    "id": "bIwEUY8ZzeHX"
   },
   "outputs": [],
   "source": [
    "# TODO: Write a predictive query to impute the difficulty of maps 1, 2, and 3.\n",
    "query = \"PREDICT ...\""
   ]
  },
  {
   "cell_type": "code",
   "execution_count": null,
   "metadata": {
    "id": "K3Twk3E6znmo"
   },
   "outputs": [],
   "source": [
    "#@title 👀 Solution { display-mode: \"form\" }\n",
    "\n",
    "query = \"PREDICT maps.difficulty FOR maps.map_id IN (1, 2, 3)\""
   ]
  },
  {
   "cell_type": "markdown",
   "metadata": {
    "id": "btHSikYZ1AYx"
   },
   "source": [
    "Let's run the query and see if it is working.  For this, `KumoRFM` will treat the `difficulty` column as blank, and will try to infer it from the given graph (*e.g.* from number of attemps, clear rate, time records, *etc*):"
   ]
  },
  {
   "cell_type": "code",
   "execution_count": null,
   "metadata": {
    "id": "Jw5dNEEbz1h9"
   },
   "outputs": [],
   "source": [
    "model.predict(query)"
   ]
  },
  {
   "cell_type": "markdown",
   "metadata": {
    "id": "kGDtbhR80qGn"
   },
   "source": [
    "Let's compare the predictions to the actual difficulty:"
   ]
  },
  {
   "cell_type": "code",
   "execution_count": null,
   "metadata": {
    "id": "fZkWcxWm0ths"
   },
   "outputs": [],
   "source": [
    "maps.iloc[[1, 2, 3]]"
   ]
  },
  {
   "cell_type": "markdown",
   "metadata": {
    "id": "Xj8RIxhA1S1v"
   },
   "source": [
    "Again, we can observe more generally how our model compares to the ground-truth data:"
   ]
  },
  {
   "cell_type": "code",
   "execution_count": null,
   "metadata": {
    "id": "7TihMY6n1LQk"
   },
   "outputs": [],
   "source": [
    "model.evaluate(query, metrics=['acc', 'mrr'])"
   ]
  },
  {
   "cell_type": "markdown",
   "metadata": {
    "id": "tIwHAhcn1hgb"
   },
   "source": [
    "Let's see if we can improve the performance further. One option to tune the model quality is via the `run_mode=\"fast\"|\"normal\"|\"best\"` argument, which provides a trade-off between runtime and model performance. Using a heavier `run_mode` will increase context size and uses a deeper model downstream:"
   ]
  },
  {
   "cell_type": "code",
   "execution_count": null,
   "metadata": {
    "id": "ltA6M7gO1bZv"
   },
   "outputs": [],
   "source": [
    "model.evaluate(query, run_mode='best', metrics=['acc', 'mrr'])"
   ]
  },
  {
   "cell_type": "markdown",
   "metadata": {
    "id": "ypHDfd9Z147x"
   },
   "source": [
    "Using a heavier `run_mode` usually improves performance (as in this case), although the model will take longer to run."
   ]
  },
  {
   "cell_type": "markdown",
   "metadata": {
    "id": "uz7u4MAK3AfK"
   },
   "source": [
    "### 🎯 Predict the Tag of a Map's Metadata\n",
    "\n",
    "Lastly, let's predict/impute the tag of a map's metadata.\n",
    "\n",
    "In order to reference `maps_meta` as part of our predictive query, we need to assign it a primary key (*e.g.*, `meta_id`). We can do this by adding a contiguous index to the underlying `DataFrame`, refresh the `LocalGraph`, assign it the newly added primary key, and re-initialize our `KumoRFM` model with the updated data:"
   ]
  },
  {
   "cell_type": "code",
   "execution_count": null,
   "metadata": {
    "id": "-UCZvcZ03uT-"
   },
   "outputs": [],
   "source": [
    "# TODO Update `df_dict['maps_meta']` to hold a unique identifier.\n",
    "...\n",
    "\n",
    "# TODO Re-initialize the graph with the updated `df_dict`.\n",
    "...\n",
    "\n",
    "# TODO Update the `primary_key` of `graph['maps_meta'].\n",
    "...\n",
    "\n",
    "# TODO Re-initialize `KumoRFM` with the updated graph.\n",
    "..."
   ]
  },
  {
   "cell_type": "code",
   "execution_count": null,
   "metadata": {
    "id": "RRjWxswG4FNq"
   },
   "outputs": [],
   "source": [
    "#@title 👀 Solution { display-mode: \"form\" }\n",
    "\n",
    "df_dict['maps_meta']['meta_id'] = range(len(df_dict['maps_meta']))\n",
    "\n",
    "graph = rfm.LocalGraph.from_data(df_dict, verbose=False)\n",
    "\n",
    "graph['maps_meta'].primary_key = 'meta_id'\n",
    "graph.print_metadata()\n",
    "\n",
    "model = rfm.KumoRFM(graph)"
   ]
  },
  {
   "cell_type": "markdown",
   "metadata": {
    "id": "AUJjCR5Y5OXh"
   },
   "source": [
    "Once our newly added primary key is set up, we are able to predict the tag of a map's meta information (*e.g.*, `maps_meta.meta_id=1`):"
   ]
  },
  {
   "cell_type": "code",
   "execution_count": null,
   "metadata": {
    "id": "f_rpXCy75UA6"
   },
   "outputs": [],
   "source": [
    "# TODO Write a predictive query to impute the tag of a map's meta information with ID 1.\n",
    "query = \"PREDICT ...\""
   ]
  },
  {
   "cell_type": "code",
   "execution_count": null,
   "metadata": {
    "id": "wyZQ5ZqI5aYg"
   },
   "outputs": [],
   "source": [
    "#@title 👀 Solution { display-mode: \"form\" }\n",
    "\n",
    "query = \"PREDICT maps_meta.tag for maps_meta.meta_id=1\""
   ]
  },
  {
   "cell_type": "code",
   "execution_count": null,
   "metadata": {
    "id": "jf_hrAnkG9eb"
   },
   "outputs": [],
   "source": [
    "model.predict(query)"
   ]
  },
  {
   "cell_type": "markdown",
   "metadata": {
    "id": "6FA5YzRG54HK"
   },
   "source": [
    "Again, let's evaluate our model:"
   ]
  },
  {
   "cell_type": "code",
   "execution_count": null,
   "metadata": {
    "id": "t11DvoJn53pf"
   },
   "outputs": [],
   "source": [
    "model.evaluate(query, metrics=['acc', 'mrr'])"
   ]
  },
  {
   "cell_type": "code",
   "execution_count": null,
   "metadata": {
    "id": "NnO-g49R57wL"
   },
   "outputs": [],
   "source": [
    "model.evaluate(query, run_mode='best', metrics=['acc', 'mrr'])"
   ]
  },
  {
   "cell_type": "markdown",
   "metadata": {
    "id": "Sr_jrxKL6Jd4"
   },
   "source": [
    "In addition, we can verify the importance of graph structure to solve this task. For example, if we do the same prediction without the multi-table reasoning (`num_neighbors=[]`), we observe a dramatic decrease in performance:"
   ]
  },
  {
   "cell_type": "code",
   "execution_count": null,
   "metadata": {
    "id": "PGcZ55N66eDK"
   },
   "outputs": [],
   "source": [
    "model.evaluate(query, num_neighbors=[], metrics=['acc', 'mrr'])"
   ]
  },
  {
   "cell_type": "markdown",
   "metadata": {
    "id": "QMEx_ySLZzoi"
   },
   "source": [
    "### 🎯 Predict the Average Clear Rate of a Map in the Next 14 Days\n",
    "\n",
    "Let's move beyond missing value imputation and towards **temporal forecasting**.\n",
    "We want to predict the average `clear_rate` (as given in `maps_meta`) in the next 14 days for `map_id=1`. We can use the `AVG` aggregation to define a prediction window over the next 14 days as:\n",
    "```\n",
    "PREDICT <aggr>(<target_table><target_column, 0, 14, days)\n",
    "```"
   ]
  },
  {
   "cell_type": "code",
   "execution_count": null,
   "metadata": {
    "id": "tAelESuG7JFZ"
   },
   "outputs": [],
   "source": [
    "# TODO Write a temporal predictive query to predict the average clear rate in\n",
    "# the next 14 days of the map with map_id=1:\n",
    "query = \"PREDICT ...\""
   ]
  },
  {
   "cell_type": "code",
   "execution_count": null,
   "metadata": {
    "id": "ZkbHoguG7qUi"
   },
   "outputs": [],
   "source": [
    "#@title 👀 Solution { display-mode: \"form\" }\n",
    "\n",
    "query = \"PREDICT AVG(maps_meta.clear_rate, 0, 14, days) for maps.map_id=1\""
   ]
  },
  {
   "cell_type": "markdown",
   "metadata": {
    "id": "BmmP7IgP8yn1"
   },
   "source": [
    "Let's evaluate our query:"
   ]
  },
  {
   "cell_type": "code",
   "execution_count": null,
   "metadata": {
    "id": "gzCIhaiI7y6f"
   },
   "outputs": [],
   "source": [
    "model.evaluate(query, run_mode='best')"
   ]
  },
  {
   "cell_type": "markdown",
   "metadata": {
    "id": "ylGt0S-Z9GHh"
   },
   "source": [
    "Predictive Query can be very expressive. For example, we can easily add some filters to our predictive query to refine the task.\n",
    "\n",
    "Let's predict the average clear rate of a map with `difficulty='expert'` *(entity filter)* for which more than 10 attempts where registered in the map's meta information *(target_filter)*:"
   ]
  },
  {
   "cell_type": "code",
   "execution_count": null,
   "metadata": {
    "id": "V9DHankI9t8B"
   },
   "outputs": [],
   "source": [
    "# TODO Add the necessary filters to the predictive query:\n",
    "query = (\"PREDICT AVG(maps_meta.clear_rate WHERE ..., 0, 14, days) \"\n",
    "         \"FOR maps.map_id=1 WHERE ...\")"
   ]
  },
  {
   "cell_type": "code",
   "execution_count": null,
   "metadata": {
    "id": "TPLbCkAc97KE"
   },
   "outputs": [],
   "source": [
    "#@title 👀 Solution { display-mode: \"form\" }\n",
    "\n",
    "query = (\"PREDICT AVG(maps_meta.clear_rate WHERE maps_meta.attempts > 10, 0, 14, days) \"\n",
    "         \"FOR maps.map_id=1 WHERE maps.difficulty='expert'\")"
   ]
  },
  {
   "cell_type": "markdown",
   "metadata": {
    "id": "21Kj5R7G-TX-"
   },
   "source": [
    "Let us again evaluate our model:"
   ]
  },
  {
   "cell_type": "code",
   "execution_count": null,
   "metadata": {
    "id": "u2CbXKQFJIqA"
   },
   "outputs": [],
   "source": [
    "model.evaluate(query)"
   ]
  },
  {
   "cell_type": "markdown",
   "metadata": {
    "id": "6SYEmCBYhNno"
   },
   "source": [
    "### 🎯 Predict whether a Map Will be Played in the Next Month\n",
    "\n",
    "Finally, let's predict whether the map with `map_id=1` will be played in the next month. For this, we can make use of **conditions** w.r.t. the output of our aggregation (*e.g.*, `= 0` or `> 0`). In order to check whether an event exists, we can leverage the `COUNT(<target_table>.*, ...)` aggregation:"
   ]
  },
  {
   "cell_type": "code",
   "execution_count": null,
   "metadata": {
    "id": "Ki2r9bbD-yzb"
   },
   "outputs": [],
   "source": [
    "# TODO Predict whether the map with map_id=1 will be cleared in the next month:\n",
    "query = \"PREDICT ...\""
   ]
  },
  {
   "cell_type": "code",
   "execution_count": null,
   "metadata": {
    "id": "FDWK35xj_uMX"
   },
   "outputs": [],
   "source": [
    "#@title 👀 Solution { display-mode: \"form\" }\n",
    "\n",
    "query = \"PREDICT COUNT(plays.*, 0, 1, months)>0 FOR maps.map_id=1\""
   ]
  },
  {
   "cell_type": "markdown",
   "metadata": {
    "id": "ZB2Fn6MdAWl9"
   },
   "source": [
    "Let's again evaluate:"
   ]
  },
  {
   "cell_type": "code",
   "execution_count": null,
   "metadata": {
    "id": "QoUGGyyb_2ek"
   },
   "outputs": [],
   "source": [
    "model.evaluate(query)"
   ]
  },
  {
   "cell_type": "markdown",
   "metadata": {
    "id": "mowt9kvaAZE2"
   },
   "source": [
    "And that's it. Congratulations on reaching this far. Feel free to explore more predictive queries, or read in your own dataset now.\n",
    "\n",
    "### We'd love to hear from you!\n",
    "\n",
    "\n",
    "1. **Leave Feedback on `KumoRFM` [here](https://tinyurl.com/rfmbeta)**.\n",
    "\n",
    "1. **Found a bug or have a feature request?** Submit issues directly on [GitHub](https://github.com/kumo-ai/kumo-rfm). Your feedback helps us improve KumoRFM for everyone."
   ]
  },
  {
   "cell_type": "markdown",
   "metadata": {
    "id": "vvhHMbeVAypS"
   },
   "source": [
    "<div align=\"left\">\n",
    "  <img src=\"https://kumo-sdk-public.s3.us-west-2.amazonaws.com/rfm-colabs/kumo_ai_logo.jpeg\" width=\"30\" />\n",
    "</div>"
   ]
  }
 ],
 "metadata": {
  "colab": {
   "provenance": []
  },
  "kernelspec": {
   "display_name": "Python 3",
   "name": "python3"
  },
  "language_info": {
   "name": "python"
  },
  "widgets": {
   "application/vnd.jupyter.widget-state+json": {
    "6286062b620a4c249636b49729283d92": {
     "model_module": "@jupyter-widgets/base",
     "model_module_version": "1.2.0",
     "model_name": "LayoutModel",
     "state": {
      "_model_module": "@jupyter-widgets/base",
      "_model_module_version": "1.2.0",
      "_model_name": "LayoutModel",
      "_view_count": null,
      "_view_module": "@jupyter-widgets/base",
      "_view_module_version": "1.2.0",
      "_view_name": "LayoutView",
      "align_content": null,
      "align_items": null,
      "align_self": null,
      "border": null,
      "bottom": null,
      "display": null,
      "flex": null,
      "flex_flow": null,
      "grid_area": null,
      "grid_auto_columns": null,
      "grid_auto_flow": null,
      "grid_auto_rows": null,
      "grid_column": null,
      "grid_gap": null,
      "grid_row": null,
      "grid_template_areas": null,
      "grid_template_columns": null,
      "grid_template_rows": null,
      "height": null,
      "justify_content": null,
      "justify_items": null,
      "left": null,
      "margin": null,
      "max_height": null,
      "max_width": null,
      "min_height": null,
      "min_width": null,
      "object_fit": null,
      "object_position": null,
      "order": null,
      "overflow": null,
      "overflow_x": null,
      "overflow_y": null,
      "padding": null,
      "right": null,
      "top": null,
      "visibility": null,
      "width": null
     }
    },
    "9f1bd0a3b96e42e4a85a91e564666654": {
     "model_module": "@jupyter-widgets/output",
     "model_module_version": "1.0.0",
     "model_name": "OutputModel",
     "state": {
      "_dom_classes": [],
      "_model_module": "@jupyter-widgets/output",
      "_model_module_version": "1.0.0",
      "_model_name": "OutputModel",
      "_view_count": null,
      "_view_module": "@jupyter-widgets/output",
      "_view_module_version": "1.0.0",
      "_view_name": "OutputView",
      "layout": "IPY_MODEL_6286062b620a4c249636b49729283d92",
      "msg_id": "",
      "outputs": [
       {
        "data": {
         "text/html": "<pre style=\"white-space:pre;overflow-x:auto;line-height:normal;font-family:Menlo,'DejaVu Sans Mono',consolas,'Courier New',monospace\"><span style=\"color: #008000; text-decoration-color: #008000\">✅</span> <span style=\"color: #008000; text-decoration-color: #008000\">Materializing graph (3.82s)                              </span>\n   <span style=\"color: #7f7f7f; text-decoration-color: #7f7f7f\">↳ Sanitized input data                                   </span>\n   <span style=\"color: #7f7f7f; text-decoration-color: #7f7f7f\">↳ Collected primary keys from 2 tables                   </span>\n   <span style=\"color: #7f7f7f; text-decoration-color: #7f7f7f\">↳ Identified temporal graph from 2017-02-11 to 2018-04-10</span>\n   <span style=\"color: #7f7f7f; text-decoration-color: #7f7f7f\">↳ Created graph with 8,020,632 nodes and 28,891,446 edges</span>\n</pre>\n",
         "text/plain": "\u001b[32m✅\u001b[0m \u001b[32mMaterializing graph (3.82s)                              \u001b[0m\n   \u001b[2m↳ Sanitized input data                                   \u001b[0m\n   \u001b[2m↳ Collected primary keys from 2 tables                   \u001b[0m\n   \u001b[2m↳ Identified temporal graph from 2017-02-11 to 2018-04-10\u001b[0m\n   \u001b[2m↳ Created graph with 8,020,632 nodes and 28,891,446 edges\u001b[0m\n"
        },
        "metadata": {},
        "output_type": "display_data"
       }
      ]
     }
    }
   }
  }
 },
 "nbformat": 4,
 "nbformat_minor": 0
}
