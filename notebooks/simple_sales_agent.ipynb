{
 "cells": [
  {
   "cell_type": "markdown",
   "metadata": {},
   "source": [
    "# Building a lead scoring agent with KumoRFM MCP and OpenAI Agents SDK\n",
    "\n",
    "[[**KumoRFM**](https://kumorfm.ai) | [**KumoRFM MCP**](https://github.com/kumo-ai/kumo-rfm-mcp/) | [**OpenAI Agents SDK**](https://openai.github.io/openai-agents-python/)]\n",
    "\n",
    "This notebook demonstrates how to build a **Lead scoring agent** powered by KumoRFM using our MCP server and OpenAI Agents SDK in just a few lines of code!\n"
   ]
  },
  {
   "cell_type": "code",
   "execution_count": null,
   "metadata": {},
   "outputs": [],
   "source": [
    "# Install required libraries\n",
    "!pip install kumo-rfm-mcp\n",
    "!pip install openai-agents==0.2.9\n",
    "!pip install fsspec\n",
    "!pip install s3fs\n",
    "!pip install pandas"
   ]
  },
  {
   "cell_type": "code",
   "execution_count": 1,
   "metadata": {},
   "outputs": [
    {
     "name": "stdout",
     "output_type": "stream",
     "text": [
      "✅ Libraries imported successfully\n"
     ]
    }
   ],
   "source": [
    "# Import required libraries\n",
    "import asyncio\n",
    "import os\n",
    "from datetime import datetime, timedelta\n",
    "from typing import List\n",
    "\n",
    "from agents import Agent, Runner, gen_trace_id, trace\n",
    "from agents.mcp import MCPServer, MCPServerStdio\n",
    "import pandas as pd\n",
    "\n",
    "print(\"✅ Libraries imported successfully\")"
   ]
  },
  {
   "cell_type": "markdown",
   "metadata": {},
   "source": [
    "## Set API Keys\n",
    "To run this example notebook you will need both a KumoRFM and an OpenAI API key. You can generate the keys by visiting [kumorfm.ai](https://kumorfm.ai/api-keys) and [platform.openai.com](https://platform.openai.com/api-keys) respectively. Make sure to update the values in the cell below! "
   ]
  },
  {
   "cell_type": "code",
   "execution_count": null,
   "metadata": {},
   "outputs": [],
   "source": [
    "# API KEYS\n",
    "os.environ['KUMO_API_KEY'] = \"<YOUR_KUMO_API_KEY>\"\n",
    "os.environ['OPENAI_API_KEY'] = \"<YOUR_OPENAI_API_KEY>\""
   ]
  },
  {
   "cell_type": "markdown",
   "metadata": {},
   "source": [
    "## Setting up the agent\n",
    "\n",
    "Our agent will use past data about leads to help our sales team reach out to prospects in an optimal way. We have a dataset publicly avaialble at `s3://kumo-sdk-public/rfm-datasets/lead_scoring/lead_scoring.csv`. It is composed of a single table, holding ~8000 past leads (both converted and unconverted). \n",
    "\n",
    "We will use our sales agent to help prioritize work for our team, as part of our daily sync it will take the leads submitted yesterday (one day before `MEETING_DAY`) and give us a ranked list for us to reach out to!"
   ]
  },
  {
   "cell_type": "code",
   "execution_count": 3,
   "metadata": {},
   "outputs": [
    {
     "name": "stdout",
     "output_type": "stream",
     "text": [
      "📊 Data Source: s3://kumo-sdk-public/rfm-datasets/lead_scoring/lead_scoring.csv\n",
      "📅 Meeting Date: 2025-05-31\n",
      "🔍 Will analyze leads from: 2025-05-30\n"
     ]
    }
   ],
   "source": [
    "# Configuration\n",
    "DATA_SOURCE = \"s3://kumo-sdk-public/rfm-datasets/lead_scoring/lead_scoring.csv\"\n",
    "MEETING_DATE = \"2025-05-31\"  # Demo date - in practice this would be today's date\n",
    "\n",
    "print(f\"📊 Data Source: {DATA_SOURCE}\")\n",
    "print(f\"📅 Meeting Date: {MEETING_DATE}\")\n",
    "print(f\"🔍 Will analyze leads from: {(datetime.strptime(MEETING_DATE, '%Y-%m-%d') - timedelta(days=1)).strftime('%Y-%m-%d')}\")\n"
   ]
  },
  {
   "cell_type": "markdown",
   "metadata": {},
   "source": [
    "Here's a simple helper to find the leads which came in yesterday!"
   ]
  },
  {
   "cell_type": "code",
   "execution_count": null,
   "metadata": {},
   "outputs": [
    {
     "name": "stdout",
     "output_type": "stream",
     "text": [
      "📅 Meeting date: 2025-05-31\n",
      "🔍 Looking for leads from previous day: 2025-05-30\n",
      "📊 Found 30 leads from previous day: [42, 322, 495, 834, 954, 1370, 1376, 1524, 2141, 2202, 2236, 2255, 2838, 2882, 2991, 3167, 3912, 3928, 4336, 4891, 5301, 5693, 5709, 5779, 5866, 6022, 6052, 6377, 6869, 7213]\n",
      "\n",
      "✅ Function test complete - found 30 leads for demo\n"
     ]
    }
   ],
   "source": [
    "def get_leads_from_previous_day(meeting_date: str, data_source: str) -> List[int]:\n",
    "    \"\"\"\n",
    "    Get lead IDs from the day before the meeting date.\n",
    "    \n",
    "    Args:\n",
    "        meeting_date: Format \"YYYY-MM-DD\" (e.g., \"2025-06-02\")\n",
    "        data_source: Data source URL\n",
    "    Returns:\n",
    "        List of lead IDs from the previous day\n",
    "    \"\"\"\n",
    "    # Get leads data from data source\n",
    "    leads_data = pd.read_csv(data_source)\n",
    "    \n",
    "    # Parse meeting date\n",
    "    meeting_dt = datetime.strptime(meeting_date, \"%Y-%m-%d\")\n",
    "    previous_day = meeting_dt - timedelta(days=1)\n",
    "    \n",
    "    print(f\"📅 Meeting date: {meeting_date}\")\n",
    "    print(f\"🔍 Looking for leads from previous day: {previous_day.strftime('%Y-%m-%d')}\")\n",
    "    \n",
    "    leads_data['contact_date'] = pd.to_datetime(leads_data['contact_date'])\n",
    "    \n",
    "    filtered_leads = leads_data[\n",
    "        leads_data['contact_date'].dt.date == previous_day.date()\n",
    "    ]\n",
    "    \n",
    "    previous_day_leads = filtered_leads['lead_id'].tolist()\n",
    "    \n",
    "    print(f\"📊 Found {len(previous_day_leads)} leads from previous day: {previous_day_leads}\")\n",
    "    return previous_day_leads\n",
    "\n",
    "# Test the function\n",
    "test_leads = get_leads_from_previous_day(MEETING_DATE, DATA_SOURCE)\n",
    "print(f\"\\n✅ Function test complete - found {len(test_leads)} leads for demo\")\n"
   ]
  },
  {
   "cell_type": "markdown",
   "metadata": {},
   "source": [
    "We're ready to create our agent function - the OpenAI agents SDK makes this very easy, we just need to:\n",
    "1. Define a `lead_scoring_agent`: `Agent` object with the system prompt and available tools\n",
    "2. Get the leads we want to inspect with our helper function\n",
    "3. Write our specific `request` (prompt) for the agent\n",
    "4. Run the agent with `result = await Runner.run(starting_agent=lead_scoring_agent, input=request)`"
   ]
  },
  {
   "cell_type": "code",
   "execution_count": 5,
   "metadata": {},
   "outputs": [
    {
     "name": "stdout",
     "output_type": "stream",
     "text": [
      "✅ Agent function defined and ready to run\n"
     ]
    }
   ],
   "source": [
    "async def run_daily_lead_scoring_demo(mcp_server: MCPServer):\n",
    "    \"\"\"\n",
    "    Run the daily lead scoring agent demo\n",
    "    \"\"\"\n",
    "    # Daily Lead Scoring Agent\n",
    "    lead_scoring_agent = Agent(\n",
    "        name=\"Daily Lead Scoring Agent\",\n",
    "        model=\"gpt-5\",\n",
    "        instructions=\"\"\"You are a lead scoring agent for the daily sales team meeting. Your task is to:\n",
    "\n",
    "        1. Set up the KumoRFM model with the S3 lead scoring data\n",
    "        2. Make predictions for the provided lead IDs from yesterday\n",
    "        3. Create a prioritized outreach list for SDRs\n",
    "        4. Provide actionable insights\n",
    "\n",
    "        Workflow:\n",
    "        - add_table: s3://kumo-sdk-public/rfm-datasets/lead_scoring/lead_scoring.csv (name: \"leads\")\n",
    "        - inspect_table: Check the data structure\n",
    "        - finalize_graph: Prepare for predictions\n",
    "        - predict: Use query \"PREDICT leads.converted=1 FOR leads.lead_id IN (<lead_ids>)\"\n",
    "        - lookup_table_rows: Get lead details for the high-priority leads\n",
    "\n",
    "        Output format:\n",
    "        🚀 HIGH PRIORITY (>15% conversion probability)\n",
    "        🔥 MEDIUM PRIORITY (10-15% conversion probability)  \n",
    "        ⏳ LOW PRIORITY (<10% conversion probability)\n",
    "\n",
    "        For each lead, show: ID, probability, business segment, origin, lead type\n",
    "        Focus on actionable SDR guidance.\"\"\",\n",
    "        mcp_servers=[mcp_server],\n",
    "    )\n",
    "\n",
    "    # Get leads from previous day\n",
    "    previous_day_leads = get_leads_from_previous_day(MEETING_DATE, DATA_SOURCE)\n",
    "    \n",
    "    if not previous_day_leads:\n",
    "        print(\"❌ No leads found from previous day\")\n",
    "        return\n",
    "    \n",
    "    # Create the daily sales meeting request\n",
    "    lead_ids_str = \",\".join(map(str, previous_day_leads))\n",
    "    request = f\"\"\"\n",
    "    📋 DAILY SALES TEAM MEETING - {MEETING_DATE}\n",
    "\n",
    "    We need to prioritize outreach for {len(previous_day_leads)} leads that came in yesterday.\n",
    "\n",
    "    Lead IDs to score: {lead_ids_str}\n",
    "\n",
    "    Please:\n",
    "    1. Set up the lead scoring model \n",
    "    2. Score these leads for conversion probability\n",
    "    3. Create a prioritized outreach list for our SDRs\n",
    "    4. Provide insights on which leads to focus on first\n",
    "\n",
    "    Data source: {DATA_SOURCE}\n",
    "    \"\"\"\n",
    "    \n",
    "    print(\"🎯 Daily Lead Scoring Meeting\")\n",
    "    print(\"=\" * 50)\n",
    "    print(f\"Request: {request.strip()}\")\n",
    "    print(\"-\" * 50)\n",
    "    \n",
    "    # Run the agent\n",
    "    result = await Runner.run(starting_agent=lead_scoring_agent, input=request, max_turns=20)\n",
    "    print(\"\\n📊 SDR Prioritization Results:\")\n",
    "    print(result.final_output)\n",
    "    \n",
    "    return result\n",
    "\n",
    "print(\"✅ Agent function defined and ready to run\")\n"
   ]
  },
  {
   "cell_type": "markdown",
   "metadata": {},
   "source": [
    "The only remaining thing to do is initialize the KumoRFM MCP and provide it to the agent! We can do so with:\n",
    "```\n",
    "async with MCPServerStdio(\n",
    "        name=\"KumoRFM Server\",\n",
    "        params={\n",
    "            \"command\": \"python\",\n",
    "            \"args\": [\"-m\", \"kumo_rfm_mcp.server\"],\n",
    "            \"env\": {\n",
    "                \"KUMO_API_KEY\": os.getenv(\"KUMO_API_KEY\"),\n",
    "                \"KUMO_API_URL\": \"https://kumorfm.ai/api\"\n",
    "            }\n",
    "        },\n",
    "    ) as server:\n",
    "     ...\n",
    "```\n",
    "\n",
    "OpenAI agents SDK also provides a tracing tool which is very useful for inspecting and debugging agentic runs!"
   ]
  },
  {
   "cell_type": "code",
   "execution_count": null,
   "metadata": {},
   "outputs": [
    {
     "name": "stdout",
     "output_type": "stream",
     "text": [
      "🔌 Connecting to KumoRFM MCP Server...\n",
      "📊 View trace: https://platform.openai.com/traces/trace?trace_id=trace_9d28a61df30145ad8897be3369b579cd\n",
      "\n",
      "✅ MCP Server connected successfully!\n",
      "🤖 Running Daily Lead Scoring Agent...\n",
      "\n",
      "📅 Meeting date: 2025-05-31\n",
      "🔍 Looking for leads from previous day: 2025-05-30\n",
      "📊 Found 30 leads from previous day: [42, 322, 495, 834, 954, 1370, 1376, 1524, 2141, 2202, 2236, 2255, 2838, 2882, 2991, 3167, 3912, 3928, 4336, 4891, 5301, 5693, 5709, 5779, 5866, 6022, 6052, 6377, 6869, 7213]\n",
      "🎯 Daily Lead Scoring Meeting\n",
      "==================================================\n",
      "Request: 📋 DAILY SALES TEAM MEETING - 2025-05-31\n",
      "\n",
      "    We need to prioritize outreach for 30 leads that came in yesterday.\n",
      "\n",
      "    Lead IDs to score: 42,322,495,834,954,1370,1376,1524,2141,2202,2236,2255,2838,2882,2991,3167,3912,3928,4336,4891,5301,5693,5709,5779,5866,6022,6052,6377,6869,7213\n",
      "\n",
      "    Please:\n",
      "    1. Set up the lead scoring model \n",
      "    2. Score these leads for conversion probability\n",
      "    3. Create a prioritized outreach list for our SDRs\n",
      "    4. Provide insights on which leads to focus on first\n",
      "\n",
      "    Data source: s3://kumo-sdk-public/rfm-datasets/lead_scoring/lead_scoring.csv\n",
      "--------------------------------------------------\n",
      "\n",
      "📊 SDR Prioritization Results:\n",
      "Setup complete and predictions ready. Here’s the prioritized outreach list and guidance for 2025-05-31.\n",
      "\n",
      "🚀 HIGH PRIORITY (>15% conversion probability)\n",
      "- 834 — 15.3% — household_utilities — paid_search — online_medium\n",
      "\n",
      "🔥 MEDIUM PRIORITY (10-15% conversion probability)\n",
      "- 6869 — 15.0% — food_drink — unknown — industry  (borderline high; prioritize early)\n",
      "- 7213 — 13.7% — computers — organic_search — online_medium\n",
      "- 5709 — 13.5% — watches — direct_traffic — online_beginner\n",
      "- 3167 — 13.2% — home_decor — paid_search — offline\n",
      "- 6052 — 12.3% — computers — paid_search — industry\n",
      "- 2991 — 11.7% — household_utilities — organic_search — offline\n",
      "- 5779 — 11.5% — health_beauty — referral — online_medium\n",
      "- 2255 — 11.0% — home_decor — unknown — online_small\n",
      "- 2236 — 10.9% — bags_backpacks — organic_search — online_big\n",
      "- 2882 — 10.7% — baby — direct_traffic — online_big\n",
      "\n",
      "⏳ LOW PRIORITY (<10% conversion probability)\n",
      "- 2838 — 9.4% — car_accessories — organic_search — offline\n",
      "- 1376 — 8.4% — computers — unknown — online_big\n",
      "- 3928 — 8.3% — handcrafted — paid_search — online_small\n",
      "- 3912 — 7.5% — home_office_furniture — paid_search — online_small\n",
      "- 2202 — 7.3% — health_beauty — paid_search — online_medium\n",
      "- 42 — 7.0% — car_accessories — paid_search — offline\n",
      "- 2141 — 6.6% — car_accessories — direct_traffic — online_medium\n",
      "- 4891 — 6.3% — car_accessories — display — online_medium\n",
      "- 4336 — 6.1% — books — unknown — online_small\n",
      "- 6022 — 5.9% — fashion_accessories — paid_search — online_medium\n",
      "- 6377 — 5.5% — household_utilities — organic_search — industry\n",
      "- 5866 — 5.3% — audio_video_electronics — referral — online_big\n",
      "- 322 — 5.1% — small_appliances — organic_search — online_big\n",
      "- 1524 — 4.9% — household_utilities — social — online_medium\n",
      "- 5693 — 4.7% — car_accessories — direct_traffic — online_top\n",
      "- 954 — 4.1% — car_accessories — other — offline\n",
      "- 495 — 3.6% — bed_bath_table — social — offline\n",
      "- 1370 — 3.6% — health_beauty — organic_search — online_medium\n",
      "- 5301 — 2.0% — food_drink — email — online_big\n",
      "\n",
      "Actionable SDR guidance\n",
      "- First hour call block\n",
      "  - Call 834 immediately (paid_search, online_medium): High intent; open with “I saw you were comparing options yesterday—happy to share a 10‑minute walkthrough and pricing fit.”\n",
      "  - Then call 6869, 7213, 5709, 3167, 6052 (in that order). Notes:\n",
      "    - 6869 (industry, unknown origin): Route to senior SDR; lead likely enterprise/operations—ask about stakeholders and timeline; confirm how they heard about us.\n",
      "    - 7213 (organic_search): They’re researching—offer a quick demo plus relevant technical docs.\n",
      "    - 5709 (direct_traffic, online_beginner): Brand-aware but early—send a 2‑minute intro video before/after call; offer “starter plan” guidance.\n",
      "    - 3167 (paid_search, offline): Treat like phone-first; confirm best contact line; emphasize ROI and next steps to trial.\n",
      "    - 6052 (industry, paid_search): Position as solutioning call; mention security/compliance and deployment options.\n",
      "\n",
      "- Tailor outreach by origin\n",
      "  - Paid_search: Call first, then SMS/email same day. They’re in-market—use urgency (“we can get you set up this week”).\n",
      "  - Direct_traffic: Quick call + short email referencing what page they likely viewed; assume brand familiarity; strong CTA to book slot.\n",
      "  - Organic_search: Educational angle—send 1-pager/case study in their segment, then propose a focused demo.\n",
      "  - Referral: Ask who referred; leverage social proof to secure meeting (“we work with X; similar outcomes for you”).\n",
      "\n",
      "- Tailor by lead_type\n",
      "  - Industry: Treat as multi-stakeholder—ask about decision process and procurement; share security and pricing overview; propose 30‑min discovery.\n",
      "  - Offline: Phone-first; verify best number; offer to walk through options live.\n",
      "  - Online_beginner: Provide simple onboarding path and “quick win” use case; offer starter plan.\n",
      "  - Online_big/top: Emphasize scale, SLAs, and ROI; propose a customized demo.\n",
      "\n",
      "- Segment-specific talk tracks you can reuse today\n",
      "  - Household_utilities (834, 2991, 1524, 6377): Reliability/cost savings; reference bulk usage and uptime.\n",
      "  - Computers (7213, 6052, 1376): Performance and integration; highlight API/compatibility.\n",
      "  - Car_accessories (2838, 42, 2141, 4891, 5693, 954): Quick wins; offer catalog/fitment guidance and fast setup.\n",
      "  - Health_beauty (5779, 2202, 1370): Compliance and brand; share case study results with conversion lifts.\n",
      "\n",
      "Suggested cadence\n",
      "- Today: Call all High and top 5 Mediums (6869, 7213, 5709, 3167, 6052). Email remaining Mediums with a clear CTA and book follow-up calls.\n",
      "- Next 48 hours: Follow-up call attempts for Mediums; add remaining Lows to a 3‑step nurture (value email → case study → light CTA). Only call Lows with direct_traffic or display if time permits.\n",
      "\n",
      "Notes\n",
      "- 6869 rounds to 15.0% but is just under the high threshold; treat as near‑high priority.\n",
      "- Materialized with anchor time 2025-05-31 to avoid future leakage. Model context used 5,000 examples with 10.7% positive base rate.\n",
      "\n",
      "============================================================\n",
      "🎉 DEMO COMPLETE!\n",
      "============================================================\n"
     ]
    }
   ],
   "source": [
    "async def main():\n",
    "    \"\"\"\n",
    "    Main demo function - connects to MCP server and runs the agent\n",
    "    \"\"\"\n",
    "    print(\"🔌 Connecting to KumoRFM MCP Server...\")\n",
    "    \n",
    "    async with MCPServerStdio(\n",
    "        name=\"KumoRFM Server\",\n",
    "        params={\n",
    "            \"command\": \"python\",\n",
    "            \"args\": [\"-m\", \"kumo_rfm_mcp.server\"],\n",
    "            \"env\": {\n",
    "                \"KUMO_API_KEY\": os.getenv(\"KUMO_API_KEY\"),\n",
    "            }\n",
    "        },\n",
    "    ) as server:\n",
    "        trace_id = gen_trace_id()\n",
    "        with trace(workflow_name=\"Daily Lead Scoring Meeting\", trace_id=trace_id):\n",
    "            print(f\"📊 View trace: https://platform.openai.com/traces/trace?trace_id={trace_id}\\n\")\n",
    "            print(\"✅ MCP Server connected successfully!\")\n",
    "            print(\"🤖 Running Daily Lead Scoring Agent...\\n\")\n",
    "            \n",
    "            # Run the demo\n",
    "            result = await run_daily_lead_scoring_demo(server)\n",
    "            \n",
    "            print(\"\\n\" + \"=\"*60)\n",
    "            print(\"🎉 DEMO COMPLETE!\")\n",
    "            print(\"=\"*60)\n",
    "            return result\n",
    "\n",
    "# Run the demo\n",
    "result = await main()\n"
   ]
  },
  {
   "cell_type": "markdown",
   "metadata": {},
   "source": [
    "## We'd love to hear from you! ❤️\n",
    "\n",
    "1. **Found a bug or have a feature request?**  \n",
    "   Submit issues directly on [GitHub](https://github.com/kumo-ai/kumo-rfm). Your feedback helps us improve RFM for everyone.\n",
    "\n",
    "2. **Built something cool with RFM? We'd love to see it!**  \n",
    "   Share your project on LinkedIn and tag @kumo. We regularly spotlight on our official channels—yours could be next!\n",
    "\n",
    "<div align=\"left\">\n",
    "  <img src=\"https://kumo-sdk-public.s3.us-west-2.amazonaws.com/rfm-colabs/kumo_ai_logo.jpeg\" width=\"30\" />\n",
    "</div>"
   ]
  }
 ],
 "metadata": {
  "kernelspec": {
   "display_name": "Python 3 (ipykernel)",
   "language": "python",
   "name": "python3"
  },
  "language_info": {
   "codemirror_mode": {
    "name": "ipython",
    "version": 3
   },
   "file_extension": ".py",
   "mimetype": "text/x-python",
   "name": "python",
   "nbconvert_exporter": "python",
   "pygments_lexer": "ipython3",
   "version": "3.10.17"
  }
 },
 "nbformat": 4,
 "nbformat_minor": 4
}
