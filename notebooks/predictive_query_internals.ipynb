{
 "cells": [
  {
   "cell_type": "markdown",
   "metadata": {
    "id": "mtuomemSgSCQ"
   },
   "source": [
    "# Predictive Query Internals\n",
    "\n",
    "This notebook guides you through the internals of **Predictive Query**.\n",
    "In particular, we will take a look at how a Predictive Query gives us a blueprint for obtaining ground-truth labels from historical data."
   ]
  },
  {
   "cell_type": "markdown",
   "metadata": {
    "id": "qkXVoHe9s6i6"
   },
   "source": [
    "In benchmark datasets, training/validation and test labels are pre-defined. For example, on `relbench`, each task comes with a pre-defined training table, split into training, validation and test:"
   ]
  },
  {
   "cell_type": "code",
   "execution_count": null,
   "metadata": {
    "colab": {
     "base_uri": "https://localhost:8080/"
    },
    "id": "GJu7_7IWgXuT",
    "outputId": "91bc4c92-3035-415f-9656-1e9685d78440"
   },
   "outputs": [],
   "source": [
    "!pip install relbench"
   ]
  },
  {
   "cell_type": "code",
   "execution_count": null,
   "metadata": {
    "colab": {
     "base_uri": "https://localhost:8080/"
    },
    "id": "W1g4m8kOgezl",
    "outputId": "bbda1d5b-02bf-461a-84b2-5ffaf4cfe20b"
   },
   "outputs": [],
   "source": [
    "from relbench.datasets import get_dataset\n",
    "from relbench.tasks import get_task\n",
    "\n",
    "db = get_dataset('rel-hm', download=True).get_db(upto_test_timestamp=False)\n",
    "df_dict = {\n",
    "    table_name: table.df\n",
    "    for table_name, table in db.table_dict.items()\n",
    "}\n",
    "task = get_task('rel-hm', 'user-churn', download=True)"
   ]
  },
  {
   "cell_type": "markdown",
   "metadata": {
    "id": "y4gaCXeejdKH"
   },
   "source": [
    "Let's look at a few ground-truth labels of the `user-churn` task in `rel-hm`:"
   ]
  },
  {
   "cell_type": "code",
   "execution_count": null,
   "metadata": {
    "colab": {
     "base_uri": "https://localhost:8080/",
     "height": 423
    },
    "id": "W289lh5_iv-j",
    "outputId": "a1578d16-3466-4412-b1cc-a1ec2c13c556"
   },
   "outputs": [],
   "source": [
    "task.get_table('train', mask_input_cols=False).df.sort_values(['customer_id', 'timestamp'])"
   ]
  },
  {
   "cell_type": "markdown",
   "metadata": {
    "id": "GM73PsrrigMU"
   },
   "source": [
    "In real-world use-cases, obtaining ground-truth labels is a time consuming, manual task.\n",
    "However, the **Predictive Query Language (PQL)** allows us to automate this process. Interestingly, all `relbench` tasks can actually be framed via PQL.\n",
    "For example, the `user-churn` task on `rel-hm` is defined as\n",
    "\n",
    "```sql\n",
    "PREDICT COUNT(transactions.*, 0, 7, days)=0\n",
    "FOR EACH customer.customer_id\n",
    "WHERE COUNT(transactions.*, -7, 0, days)>0\n",
    "```\n",
    "\n",
    "which predicts\n",
    "\n",
    "1. whether there will be no future transactions in the next 7 days (**target**)\n",
    "2. for all customers (**entity**)\n",
    "3. which have purchased something in the last 7 days (**temporal entity filter**)\n"
   ]
  },
  {
   "cell_type": "markdown",
   "metadata": {
    "id": "exFoGc5Zkdmf"
   },
   "source": [
    "Predictive Query can take this task definition and obtain ground-truth labels by querying the underlying data.\n",
    "That is, for a given *(historical)* anchor timestamp, it will collect all entities that fulfill the temporal entity filter *(backward-looking)*, and compute their corresponding ground-truth label *(forward-looking)*.\n",
    "\n",
    "We can reproduce what Predictive Query does under-the-hood via a naive `pandas` implementation:"
   ]
  },
  {
   "cell_type": "code",
   "execution_count": null,
   "metadata": {
    "colab": {
     "base_uri": "https://localhost:8080/",
     "height": 423
    },
    "id": "no84B7e-j4gw",
    "outputId": "b3ef4d76-723c-4234-e3e2-b34507fe7a07"
   },
   "outputs": [],
   "source": [
    "import pandas as pd\n",
    "\n",
    "def get_user_churn_target(anchor_time: pd.Timestamp) -> pd.DataFrame:\n",
    "    offset = pd.DateOffset(days=7)\n",
    "\n",
    "    # Find all entities that fulfill temporal entity filter:\n",
    "    trans_df = df_dict['transactions']\n",
    "    backward_mask = trans_df['t_dat'] <= anchor_time\n",
    "    backward_mask &= trans_df['t_dat'] > anchor_time - offset\n",
    "\n",
    "    entity_df = trans_df[backward_mask][['customer_id']]\n",
    "    entity_df = entity_df.drop_duplicates()\n",
    "\n",
    "    # Compute target labels:\n",
    "    forward_mask = trans_df['t_dat'] > anchor_time\n",
    "    forward_mask &= trans_df['t_dat'] <= anchor_time + offset\n",
    "\n",
    "    target_df = trans_df[forward_mask][['customer_id']]\n",
    "    target_df = target_df.drop_duplicates()\n",
    "    target_df['churn'] = 0\n",
    "\n",
    "    # Merge:\n",
    "    df = pd.merge(\n",
    "        left=entity_df,\n",
    "        right=target_df,\n",
    "        how='left',\n",
    "        on='customer_id',\n",
    "    ).fillna(1)\n",
    "    df['churn'] = df['churn'].astype(int)\n",
    "    df['timestamp'] = anchor_time\n",
    "\n",
    "    return df\n",
    "\n",
    "get_user_churn_target(anchor_time=pd.Timestamp('2019-09-23'))"
   ]
  },
  {
   "cell_type": "markdown",
   "metadata": {
    "id": "oTUtDQGsot_g"
   },
   "source": [
    "Importantly, we can run this function over different anchor times, giving us a large number of ground-truth labels to train on.\n",
    "Since our Predictive Query is defined to look 7 days ahead in time, we can iterate with anchor times with a step size of 7.\n",
    "This is the final step to exactly reproduce the `relbench` `user-churn` training table:"
   ]
  },
  {
   "cell_type": "code",
   "execution_count": null,
   "metadata": {
    "colab": {
     "base_uri": "https://localhost:8080/",
     "height": 423
    },
    "id": "KUFX13SHpIZK",
    "outputId": "c28324b0-1a54-46f7-cbd7-c87193ee77c1"
   },
   "outputs": [],
   "source": [
    "anchor_times = pd.Series([\n",
    "    pd.Timestamp('2019-09-23'),\n",
    "    pd.Timestamp('2019-09-30'),\n",
    "    pd.Timestamp('2019-11-25'),\n",
    "    pd.Timestamp('2019-12-02'),\n",
    "    pd.Timestamp('2020-03-23'),\n",
    "])  # ... and potentially more!\n",
    "\n",
    "dfs = [\n",
    "    get_user_churn_target(anchor_time)\n",
    "    for anchor_time in anchor_times\n",
    "]\n",
    "df = pd.concat(dfs, axis=0).reset_index(drop=True)\n",
    "display(df.sort_values(['customer_id', 'timestamp']))"
   ]
  },
  {
   "cell_type": "markdown",
   "metadata": {
    "id": "1kVlFJlouFPI"
   },
   "source": [
    "`KumoRFM` provides a fully-fledged out and scalable solution to obtain ground-truth labels for a specific anchor time, given a Predictive Query.\n",
    "The implementation queries historical snapshots of the graph in real-time, and then computes labels on top via decomposing the Predictive Query into its building blocks (*i.e.* entity filters, target filters, target and entity specification).\n",
    "Internally, it is used to create in-context examples for performing in-context learning within the relational foundation model.\n",
    "\n",
    "Let's take a look:"
   ]
  },
  {
   "cell_type": "code",
   "execution_count": null,
   "metadata": {
    "colab": {
     "base_uri": "https://localhost:8080/"
    },
    "id": "aLzPsBifuEte",
    "outputId": "329833ef-2f43-46ac-e563-392434432900"
   },
   "outputs": [],
   "source": [
    "!pip install kumoai"
   ]
  },
  {
   "cell_type": "code",
   "execution_count": null,
   "metadata": {
    "colab": {
     "base_uri": "https://localhost:8080/",
     "height": 138
    },
    "id": "vPJ0ri84vAVl",
    "outputId": "af387ec1-694e-46db-e354-9829e980f1a6"
   },
   "outputs": [],
   "source": [
    "import os\n",
    "import kumoai.experimental.rfm as rfm\n",
    "\n",
    "if not os.environ.get(\"KUMO_API_KEY\"):\n",
    "    rfm.authenticate()"
   ]
  },
  {
   "cell_type": "code",
   "execution_count": null,
   "metadata": {
    "colab": {
     "base_uri": "https://localhost:8080/"
    },
    "id": "l9ITpX7DvGTF",
    "outputId": "d0c0663c-f654-486d-fbcb-0502a260b59a"
   },
   "outputs": [],
   "source": [
    "rfm.init()"
   ]
  },
  {
   "cell_type": "code",
   "execution_count": null,
   "metadata": {
    "colab": {
     "base_uri": "https://localhost:8080/",
     "height": 355,
     "referenced_widgets": [
      "d43625a634254f51bb65d94ee790655b",
      "f5f14f91aa8b40768b62303c35075bf1"
     ]
    },
    "id": "kmA6lIkjvKdu",
    "outputId": "09c5beeb-1eee-4547-f374-7010e87ab204"
   },
   "outputs": [],
   "source": [
    "graph = rfm.LocalGraph.from_data(df_dict)\n",
    "model = rfm.KumoRFM(graph)"
   ]
  },
  {
   "cell_type": "markdown",
   "metadata": {
    "id": "ZWIKg45Mv3Yo"
   },
   "source": [
    "We can use the [`KumoRFM.get_train_table()`](https://kumo-ai.github.io/kumo-sdk/docs/generated/kumoai.experimental.rfm.KumoRFM.html#kumoai.experimental.rfm.KumoRFM.get_train_table) method to inspect/debug the labels of a Predictive Query for a specified anchor time:"
   ]
  },
  {
   "cell_type": "code",
   "execution_count": null,
   "metadata": {
    "colab": {
     "base_uri": "https://localhost:8080/",
     "height": 423
    },
    "id": "xffR3BHyvv7Q",
    "outputId": "37bec855-34e2-4f5e-da59-9304fa5539e0"
   },
   "outputs": [],
   "source": [
    "query = (\"PREDICT COUNT(transactions.*, 0, 7, days)=0 \"\n",
    "         \"FOR EACH customer.customer_id \"\n",
    "         \"WHERE COUNT(transactions.*, -7, 0, days)>0\")\n",
    "\n",
    "model.get_train_table(\n",
    "    query,\n",
    "    size=100_000,\n",
    "    anchor_time=pd.Timestamp('2019-09-23'),\n",
    "    max_iterations=200,\n",
    ").sort_values('ENTITY')"
   ]
  },
  {
   "cell_type": "markdown",
   "metadata": {
    "id": "ijrbEU2Ew23a"
   },
   "source": [
    "We can see that this exactly reproduces both the labels of `relbench` and of our naive `pandas` implementation."
   ]
  }
 ],
 "metadata": {
  "colab": {
   "provenance": []
  },
  "kernelspec": {
   "display_name": "Python 3",
   "name": "python3"
  },
  "language_info": {
   "name": "python"
  },
  "widgets": {
   "application/vnd.jupyter.widget-state+json": {
    "d43625a634254f51bb65d94ee790655b": {
     "model_module": "@jupyter-widgets/output",
     "model_module_version": "1.0.0",
     "model_name": "OutputModel",
     "state": {
      "_dom_classes": [],
      "_model_module": "@jupyter-widgets/output",
      "_model_module_version": "1.0.0",
      "_model_name": "OutputModel",
      "_view_count": null,
      "_view_module": "@jupyter-widgets/output",
      "_view_module_version": "1.0.0",
      "_view_name": "OutputView",
      "layout": "IPY_MODEL_f5f14f91aa8b40768b62303c35075bf1",
      "msg_id": "",
      "outputs": [
       {
        "data": {
         "text/html": "<pre style=\"white-space:pre;overflow-x:auto;line-height:normal;font-family:Menlo,'DejaVu Sans Mono',consolas,'Courier New',monospace\"><span style=\"color: #008000; text-decoration-color: #008000\">✅</span> <span style=\"color: #008000; text-decoration-color: #008000\">Materializing graph (12.69s)                              </span>\n   <span style=\"color: #7f7f7f; text-decoration-color: #7f7f7f\">↳ Sanitized input data                                    </span>\n   <span style=\"color: #7f7f7f; text-decoration-color: #7f7f7f\">↳ Collected primary keys from 2 tables                    </span>\n   <span style=\"color: #7f7f7f; text-decoration-color: #7f7f7f\">↳ Identified temporal graph from 2019-09-07 to 2020-09-22 </span>\n   <span style=\"color: #7f7f7f; text-decoration-color: #7f7f7f\">↳ Created graph with 16,931,173 nodes and 61,814,604 edges</span>\n</pre>\n",
         "text/plain": "\u001b[32m✅\u001b[0m \u001b[32mMaterializing graph (12.69s)                              \u001b[0m\n   \u001b[2m↳ Sanitized input data                                    \u001b[0m\n   \u001b[2m↳ Collected primary keys from 2 tables                    \u001b[0m\n   \u001b[2m↳ Identified temporal graph from 2019-09-07 to 2020-09-22 \u001b[0m\n   \u001b[2m↳ Created graph with 16,931,173 nodes and 61,814,604 edges\u001b[0m\n"
        },
        "metadata": {},
        "output_type": "display_data"
       }
      ]
     }
    },
    "f5f14f91aa8b40768b62303c35075bf1": {
     "model_module": "@jupyter-widgets/base",
     "model_module_version": "1.2.0",
     "model_name": "LayoutModel",
     "state": {
      "_model_module": "@jupyter-widgets/base",
      "_model_module_version": "1.2.0",
      "_model_name": "LayoutModel",
      "_view_count": null,
      "_view_module": "@jupyter-widgets/base",
      "_view_module_version": "1.2.0",
      "_view_name": "LayoutView",
      "align_content": null,
      "align_items": null,
      "align_self": null,
      "border": null,
      "bottom": null,
      "display": null,
      "flex": null,
      "flex_flow": null,
      "grid_area": null,
      "grid_auto_columns": null,
      "grid_auto_flow": null,
      "grid_auto_rows": null,
      "grid_column": null,
      "grid_gap": null,
      "grid_row": null,
      "grid_template_areas": null,
      "grid_template_columns": null,
      "grid_template_rows": null,
      "height": null,
      "justify_content": null,
      "justify_items": null,
      "left": null,
      "margin": null,
      "max_height": null,
      "max_width": null,
      "min_height": null,
      "min_width": null,
      "object_fit": null,
      "object_position": null,
      "order": null,
      "overflow": null,
      "overflow_x": null,
      "overflow_y": null,
      "padding": null,
      "right": null,
      "top": null,
      "visibility": null,
      "width": null
     }
    }
   }
  }
 },
 "nbformat": 4,
 "nbformat_minor": 0
}
