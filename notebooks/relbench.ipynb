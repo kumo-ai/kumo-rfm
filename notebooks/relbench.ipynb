{
  "nbformat": 4,
  "nbformat_minor": 0,
  "metadata": {
    "colab": {
      "provenance": []
    },
    "kernelspec": {
      "name": "python3",
      "display_name": "Python 3"
    },
    "language_info": {
      "name": "python"
    },
    "widgets": {
      "application/vnd.jupyter.widget-state+json": {
        "fd3df99d9c784b0381add119f3f0c64f": {
          "model_module": "@jupyter-widgets/output",
          "model_name": "OutputModel",
          "model_module_version": "1.0.0",
          "state": {
            "_dom_classes": [],
            "_model_module": "@jupyter-widgets/output",
            "_model_module_version": "1.0.0",
            "_model_name": "OutputModel",
            "_view_count": null,
            "_view_module": "@jupyter-widgets/output",
            "_view_module_version": "1.0.0",
            "_view_name": "OutputView",
            "layout": "IPY_MODEL_b46ca4e2d22d4a50b1a3d6491b6d8ad6",
            "msg_id": "",
            "outputs": [
              {
                "output_type": "display_data",
                "data": {
                  "text/plain": "\u001b[32m✅\u001b[0m \u001b[32mMaterializing graph (0.05s)                              \u001b[0m\n   \u001b[2m↳ Sanitized input data                                   \u001b[0m\n   \u001b[2m↳ Collected primary keys from 10 tables                  \u001b[0m\n   \u001b[2m↳ Identified temporal graph from 1950-05-13 to 2023-11-26\u001b[0m\n   \u001b[2m↳ Created graph with 100,273 nodes and 460,766 edges     \u001b[0m\n",
                  "text/html": "<pre style=\"white-space:pre;overflow-x:auto;line-height:normal;font-family:Menlo,'DejaVu Sans Mono',consolas,'Courier New',monospace\"><span style=\"color: #008000; text-decoration-color: #008000\">✅</span> <span style=\"color: #008000; text-decoration-color: #008000\">Materializing graph (0.05s)                              </span>\n   <span style=\"color: #7f7f7f; text-decoration-color: #7f7f7f\">↳ Sanitized input data                                   </span>\n   <span style=\"color: #7f7f7f; text-decoration-color: #7f7f7f\">↳ Collected primary keys from 10 tables                  </span>\n   <span style=\"color: #7f7f7f; text-decoration-color: #7f7f7f\">↳ Identified temporal graph from 1950-05-13 to 2023-11-26</span>\n   <span style=\"color: #7f7f7f; text-decoration-color: #7f7f7f\">↳ Created graph with 100,273 nodes and 460,766 edges     </span>\n</pre>\n"
                },
                "metadata": {}
              }
            ]
          }
        },
        "b46ca4e2d22d4a50b1a3d6491b6d8ad6": {
          "model_module": "@jupyter-widgets/base",
          "model_name": "LayoutModel",
          "model_module_version": "1.2.0",
          "state": {
            "_model_module": "@jupyter-widgets/base",
            "_model_module_version": "1.2.0",
            "_model_name": "LayoutModel",
            "_view_count": null,
            "_view_module": "@jupyter-widgets/base",
            "_view_module_version": "1.2.0",
            "_view_name": "LayoutView",
            "align_content": null,
            "align_items": null,
            "align_self": null,
            "border": null,
            "bottom": null,
            "display": null,
            "flex": null,
            "flex_flow": null,
            "grid_area": null,
            "grid_auto_columns": null,
            "grid_auto_flow": null,
            "grid_auto_rows": null,
            "grid_column": null,
            "grid_gap": null,
            "grid_row": null,
            "grid_template_areas": null,
            "grid_template_columns": null,
            "grid_template_rows": null,
            "height": null,
            "justify_content": null,
            "justify_items": null,
            "left": null,
            "margin": null,
            "max_height": null,
            "max_width": null,
            "min_height": null,
            "min_width": null,
            "object_fit": null,
            "object_position": null,
            "order": null,
            "overflow": null,
            "overflow_x": null,
            "overflow_y": null,
            "padding": null,
            "right": null,
            "top": null,
            "visibility": null,
            "width": null
          }
        },
        "d8b4ff4eeaac4052957b01680485a5e0": {
          "model_module": "@jupyter-widgets/output",
          "model_name": "OutputModel",
          "model_module_version": "1.0.0",
          "state": {
            "_dom_classes": [],
            "_model_module": "@jupyter-widgets/output",
            "_model_module_version": "1.0.0",
            "_model_name": "OutputModel",
            "_view_count": null,
            "_view_module": "@jupyter-widgets/output",
            "_view_module_version": "1.0.0",
            "_view_name": "OutputView",
            "layout": "IPY_MODEL_25fe2acbb50840b99dab35f193e3b922",
            "msg_id": "",
            "outputs": [
              {
                "output_type": "display_data",
                "data": {
                  "text/plain": "\u001b[32m✅\u001b[0m \u001b[1;32mPREDICT\u001b[0m\u001b[32m context.qualifying=1 \u001b[0m\u001b[1;32mFOR\u001b[0m\u001b[32m context.index \u001b[0m\u001b[1;32mIN\u001b[0m\u001b[32m (0, 1, 2, 3, 4, ...) (1.65s)\u001b[0m\n   \u001b[2m↳ Identified static binary classification task                                \u001b[0m\n   \u001b[2m↳ Collected 1,941 in-context examples with 18.03% positive cases              \u001b[0m\n   \u001b[2m↳ Generated context of size 0.67MB                                            \u001b[0m\n",
                  "text/html": "<pre style=\"white-space:pre;overflow-x:auto;line-height:normal;font-family:Menlo,'DejaVu Sans Mono',consolas,'Courier New',monospace\"><span style=\"color: #008000; text-decoration-color: #008000\">✅</span> <span style=\"color: #008000; text-decoration-color: #008000; font-weight: bold\">PREDICT</span><span style=\"color: #008000; text-decoration-color: #008000\"> context.qualifying=1 </span><span style=\"color: #008000; text-decoration-color: #008000; font-weight: bold\">FOR</span><span style=\"color: #008000; text-decoration-color: #008000\"> context.index </span><span style=\"color: #008000; text-decoration-color: #008000; font-weight: bold\">IN</span><span style=\"color: #008000; text-decoration-color: #008000\"> (0, 1, 2, 3, 4, ...) (1.65s)</span>\n   <span style=\"color: #7f7f7f; text-decoration-color: #7f7f7f\">↳ Identified static binary classification task                                </span>\n   <span style=\"color: #7f7f7f; text-decoration-color: #7f7f7f\">↳ Collected 1,941 in-context examples with 18.03% positive cases              </span>\n   <span style=\"color: #7f7f7f; text-decoration-color: #7f7f7f\">↳ Generated context of size 0.67MB                                            </span>\n</pre>\n"
                },
                "metadata": {}
              }
            ]
          }
        },
        "25fe2acbb50840b99dab35f193e3b922": {
          "model_module": "@jupyter-widgets/base",
          "model_name": "LayoutModel",
          "model_module_version": "1.2.0",
          "state": {
            "_model_module": "@jupyter-widgets/base",
            "_model_module_version": "1.2.0",
            "_model_name": "LayoutModel",
            "_view_count": null,
            "_view_module": "@jupyter-widgets/base",
            "_view_module_version": "1.2.0",
            "_view_name": "LayoutView",
            "align_content": null,
            "align_items": null,
            "align_self": null,
            "border": null,
            "bottom": null,
            "display": null,
            "flex": null,
            "flex_flow": null,
            "grid_area": null,
            "grid_auto_columns": null,
            "grid_auto_flow": null,
            "grid_auto_rows": null,
            "grid_column": null,
            "grid_gap": null,
            "grid_row": null,
            "grid_template_areas": null,
            "grid_template_columns": null,
            "grid_template_rows": null,
            "height": null,
            "justify_content": null,
            "justify_items": null,
            "left": null,
            "margin": null,
            "max_height": null,
            "max_width": null,
            "min_height": null,
            "min_width": null,
            "object_fit": null,
            "object_position": null,
            "order": null,
            "overflow": null,
            "overflow_x": null,
            "overflow_y": null,
            "padding": null,
            "right": null,
            "top": null,
            "visibility": null,
            "width": null
          }
        },
        "76f98144ae634b4090ec37f9f7f2aca4": {
          "model_module": "@jupyter-widgets/output",
          "model_name": "OutputModel",
          "model_module_version": "1.0.0",
          "state": {
            "_dom_classes": [],
            "_model_module": "@jupyter-widgets/output",
            "_model_module_version": "1.0.0",
            "_model_name": "OutputModel",
            "_view_count": null,
            "_view_module": "@jupyter-widgets/output",
            "_view_module_version": "1.0.0",
            "_view_name": "OutputView",
            "layout": "IPY_MODEL_3406dfc4f03b449fad1730cc029fdbb2",
            "msg_id": "",
            "outputs": [
              {
                "output_type": "display_data",
                "data": {
                  "text/plain": "\u001b[32m✅\u001b[0m \u001b[32mMaterializing graph (0.05s)                              \u001b[0m\n   \u001b[2m↳ Sanitized input data                                   \u001b[0m\n   \u001b[2m↳ Collected primary keys from 9 tables                   \u001b[0m\n   \u001b[2m↳ Identified temporal graph from 1950-05-13 to 2023-11-26\u001b[0m\n   \u001b[2m↳ Created graph with 97,606 nodes and 455,432 edges      \u001b[0m\n",
                  "text/html": "<pre style=\"white-space:pre;overflow-x:auto;line-height:normal;font-family:Menlo,'DejaVu Sans Mono',consolas,'Courier New',monospace\"><span style=\"color: #008000; text-decoration-color: #008000\">✅</span> <span style=\"color: #008000; text-decoration-color: #008000\">Materializing graph (0.05s)                              </span>\n   <span style=\"color: #7f7f7f; text-decoration-color: #7f7f7f\">↳ Sanitized input data                                   </span>\n   <span style=\"color: #7f7f7f; text-decoration-color: #7f7f7f\">↳ Collected primary keys from 9 tables                   </span>\n   <span style=\"color: #7f7f7f; text-decoration-color: #7f7f7f\">↳ Identified temporal graph from 1950-05-13 to 2023-11-26</span>\n   <span style=\"color: #7f7f7f; text-decoration-color: #7f7f7f\">↳ Created graph with 97,606 nodes and 455,432 edges      </span>\n</pre>\n"
                },
                "metadata": {}
              }
            ]
          }
        },
        "3406dfc4f03b449fad1730cc029fdbb2": {
          "model_module": "@jupyter-widgets/base",
          "model_name": "LayoutModel",
          "model_module_version": "1.2.0",
          "state": {
            "_model_module": "@jupyter-widgets/base",
            "_model_module_version": "1.2.0",
            "_model_name": "LayoutModel",
            "_view_count": null,
            "_view_module": "@jupyter-widgets/base",
            "_view_module_version": "1.2.0",
            "_view_name": "LayoutView",
            "align_content": null,
            "align_items": null,
            "align_self": null,
            "border": null,
            "bottom": null,
            "display": null,
            "flex": null,
            "flex_flow": null,
            "grid_area": null,
            "grid_auto_columns": null,
            "grid_auto_flow": null,
            "grid_auto_rows": null,
            "grid_column": null,
            "grid_gap": null,
            "grid_row": null,
            "grid_template_areas": null,
            "grid_template_columns": null,
            "grid_template_rows": null,
            "height": null,
            "justify_content": null,
            "justify_items": null,
            "left": null,
            "margin": null,
            "max_height": null,
            "max_width": null,
            "min_height": null,
            "min_width": null,
            "object_fit": null,
            "object_position": null,
            "order": null,
            "overflow": null,
            "overflow_x": null,
            "overflow_y": null,
            "padding": null,
            "right": null,
            "top": null,
            "visibility": null,
            "width": null
          }
        },
        "18d8a31ba1a448ea84a35d4ff8001ee4": {
          "model_module": "@jupyter-widgets/output",
          "model_name": "OutputModel",
          "model_module_version": "1.0.0",
          "state": {
            "_dom_classes": [],
            "_model_module": "@jupyter-widgets/output",
            "_model_module_version": "1.0.0",
            "_model_name": "OutputModel",
            "_view_count": null,
            "_view_module": "@jupyter-widgets/output",
            "_view_module_version": "1.0.0",
            "_view_name": "OutputView",
            "layout": "IPY_MODEL_beba84362b1d476d8ca7faba8dbdf163",
            "msg_id": "",
            "outputs": [
              {
                "output_type": "display_data",
                "data": {
                  "text/plain": "\u001b[32m✅\u001b[0m \u001b[1;32mPREDICT\u001b[0m\u001b[32m \u001b[0m\u001b[1;32mMIN\u001b[0m\u001b[32m(qualifying.position, 0, 30, days)<=3 \u001b[0m\u001b[1;32mFOR\u001b[0m\u001b[32m drivers.driverId \u001b[0m\u001b[1;32mIN\u001b[0m\u001b[32m (0, 16, 15, 9, 17, ...) (4.64s)\u001b[0m\n   \u001b[2m↳ Identified temporal binary classification task                                                        \u001b[0m\n   \u001b[2m↳ Collected 2,201 in-context examples with 19.04% positive cases                                        \u001b[0m\n   \u001b[2m↳ Generated context of size 1.25MB                                                                      \u001b[0m\n",
                  "text/html": "<pre style=\"white-space:pre;overflow-x:auto;line-height:normal;font-family:Menlo,'DejaVu Sans Mono',consolas,'Courier New',monospace\"><span style=\"color: #008000; text-decoration-color: #008000\">✅</span> <span style=\"color: #008000; text-decoration-color: #008000; font-weight: bold\">PREDICT</span><span style=\"color: #008000; text-decoration-color: #008000\"> </span><span style=\"color: #008000; text-decoration-color: #008000; font-weight: bold\">MIN</span><span style=\"color: #008000; text-decoration-color: #008000\">(qualifying.position, 0, 30, days)&lt;=3 </span><span style=\"color: #008000; text-decoration-color: #008000; font-weight: bold\">FOR</span><span style=\"color: #008000; text-decoration-color: #008000\"> drivers.driverId </span><span style=\"color: #008000; text-decoration-color: #008000; font-weight: bold\">IN</span><span style=\"color: #008000; text-decoration-color: #008000\"> (0, 16, 15, 9, 17, ...) (4.64s)</span>\n   <span style=\"color: #7f7f7f; text-decoration-color: #7f7f7f\">↳ Identified temporal binary classification task                                                        </span>\n   <span style=\"color: #7f7f7f; text-decoration-color: #7f7f7f\">↳ Collected 2,201 in-context examples with 19.04% positive cases                                        </span>\n   <span style=\"color: #7f7f7f; text-decoration-color: #7f7f7f\">↳ Generated context of size 1.25MB                                                                      </span>\n</pre>\n"
                },
                "metadata": {}
              }
            ]
          }
        },
        "beba84362b1d476d8ca7faba8dbdf163": {
          "model_module": "@jupyter-widgets/base",
          "model_name": "LayoutModel",
          "model_module_version": "1.2.0",
          "state": {
            "_model_module": "@jupyter-widgets/base",
            "_model_module_version": "1.2.0",
            "_model_name": "LayoutModel",
            "_view_count": null,
            "_view_module": "@jupyter-widgets/base",
            "_view_module_version": "1.2.0",
            "_view_name": "LayoutView",
            "align_content": null,
            "align_items": null,
            "align_self": null,
            "border": null,
            "bottom": null,
            "display": null,
            "flex": null,
            "flex_flow": null,
            "grid_area": null,
            "grid_auto_columns": null,
            "grid_auto_flow": null,
            "grid_auto_rows": null,
            "grid_column": null,
            "grid_gap": null,
            "grid_row": null,
            "grid_template_areas": null,
            "grid_template_columns": null,
            "grid_template_rows": null,
            "height": null,
            "justify_content": null,
            "justify_items": null,
            "left": null,
            "margin": null,
            "max_height": null,
            "max_width": null,
            "min_height": null,
            "min_width": null,
            "object_fit": null,
            "object_position": null,
            "order": null,
            "overflow": null,
            "overflow_x": null,
            "overflow_y": null,
            "padding": null,
            "right": null,
            "top": null,
            "visibility": null,
            "width": null
          }
        }
      }
    }
  },
  "cells": [
    {
      "cell_type": "markdown",
      "source": [
        "# KumoRFM `rel-bench` Evaluation\n",
        "\n",
        "This notebook provides a step-by-step guide on how to evaluate the performance of `KumoRFM` on custom tasks.\n",
        "Here, we use the `rel-bench` suite as an example, but the provided guide is applicable to other datasets and tasks as well.\n",
        "\n",
        "Let's start by installing the necessary packages:"
      ],
      "metadata": {
        "id": "pVvMfGFcef05"
      }
    },
    {
      "cell_type": "code",
      "execution_count": null,
      "metadata": {
        "colab": {
          "base_uri": "https://localhost:8080/"
        },
        "collapsed": true,
        "id": "t3Bnxq4dQTVd",
        "outputId": "071b4445-40ef-4ab7-83e6-2a8bc88c713a"
      },
      "outputs": [
        {
          "output_type": "stream",
          "name": "stdout",
          "text": [
            "Requirement already satisfied: kumoai in /usr/local/lib/python3.11/dist-packages (2.7.0.dev202508031832)\n",
            "Collecting kumoai\n",
            "  Downloading kumoai-2.7.0.dev202508040835-cp311-cp311-manylinux_2_27_x86_64.manylinux_2_28_x86_64.whl.metadata (2.1 kB)\n",
            "Requirement already satisfied: pandas in /usr/local/lib/python3.11/dist-packages (from kumoai) (2.2.2)\n",
            "Requirement already satisfied: pyarrow<19.0.0,>=8.0.0 in /usr/local/lib/python3.11/dist-packages (from kumoai) (18.1.0)\n",
            "Requirement already satisfied: requests>=2.28.2 in /usr/local/lib/python3.11/dist-packages (from kumoai) (2.32.3)\n",
            "Requirement already satisfied: urllib3 in /usr/local/lib/python3.11/dist-packages (from kumoai) (2.5.0)\n",
            "Requirement already satisfied: plotly in /usr/local/lib/python3.11/dist-packages (from kumoai) (5.24.1)\n",
            "Requirement already satisfied: typing_extensions>=4.5.0 in /usr/local/lib/python3.11/dist-packages (from kumoai) (4.14.1)\n",
            "Collecting kumo-api==0.29.0 (from kumoai)\n",
            "  Downloading kumo_api-0.29.0-py3-none-any.whl.metadata (1.5 kB)\n",
            "Requirement already satisfied: tqdm>=4.66.0 in /usr/local/lib/python3.11/dist-packages (from kumoai) (4.67.1)\n",
            "Requirement already satisfied: aiohttp>=3.10.0 in /usr/local/lib/python3.11/dist-packages (from kumoai) (3.12.14)\n",
            "Requirement already satisfied: pydantic<2,>=1.10.21 in /usr/local/lib/python3.11/dist-packages (from kumoai) (1.10.22)\n",
            "Requirement already satisfied: rich>=9.0.0 in /usr/local/lib/python3.11/dist-packages (from kumoai) (13.9.4)\n",
            "Requirement already satisfied: protobuf>=3.19.0 in /usr/local/lib/python3.11/dist-packages (from kumo-api==0.29.0->kumoai) (5.29.5)\n",
            "Requirement already satisfied: aiohappyeyeballs>=2.5.0 in /usr/local/lib/python3.11/dist-packages (from aiohttp>=3.10.0->kumoai) (2.6.1)\n",
            "Requirement already satisfied: aiosignal>=1.4.0 in /usr/local/lib/python3.11/dist-packages (from aiohttp>=3.10.0->kumoai) (1.4.0)\n",
            "Requirement already satisfied: attrs>=17.3.0 in /usr/local/lib/python3.11/dist-packages (from aiohttp>=3.10.0->kumoai) (25.3.0)\n",
            "Requirement already satisfied: frozenlist>=1.1.1 in /usr/local/lib/python3.11/dist-packages (from aiohttp>=3.10.0->kumoai) (1.7.0)\n",
            "Requirement already satisfied: multidict<7.0,>=4.5 in /usr/local/lib/python3.11/dist-packages (from aiohttp>=3.10.0->kumoai) (6.6.3)\n",
            "Requirement already satisfied: propcache>=0.2.0 in /usr/local/lib/python3.11/dist-packages (from aiohttp>=3.10.0->kumoai) (0.3.2)\n",
            "Requirement already satisfied: yarl<2.0,>=1.17.0 in /usr/local/lib/python3.11/dist-packages (from aiohttp>=3.10.0->kumoai) (1.20.1)\n",
            "Requirement already satisfied: charset-normalizer<4,>=2 in /usr/local/lib/python3.11/dist-packages (from requests>=2.28.2->kumoai) (3.4.2)\n",
            "Requirement already satisfied: idna<4,>=2.5 in /usr/local/lib/python3.11/dist-packages (from requests>=2.28.2->kumoai) (3.10)\n",
            "Requirement already satisfied: certifi>=2017.4.17 in /usr/local/lib/python3.11/dist-packages (from requests>=2.28.2->kumoai) (2025.7.14)\n",
            "Requirement already satisfied: markdown-it-py>=2.2.0 in /usr/local/lib/python3.11/dist-packages (from rich>=9.0.0->kumoai) (3.0.0)\n",
            "Requirement already satisfied: pygments<3.0.0,>=2.13.0 in /usr/local/lib/python3.11/dist-packages (from rich>=9.0.0->kumoai) (2.19.2)\n",
            "Requirement already satisfied: numpy>=1.23.2 in /usr/local/lib/python3.11/dist-packages (from pandas->kumoai) (2.0.2)\n",
            "Requirement already satisfied: python-dateutil>=2.8.2 in /usr/local/lib/python3.11/dist-packages (from pandas->kumoai) (2.9.0.post0)\n",
            "Requirement already satisfied: pytz>=2020.1 in /usr/local/lib/python3.11/dist-packages (from pandas->kumoai) (2025.2)\n",
            "Requirement already satisfied: tzdata>=2022.7 in /usr/local/lib/python3.11/dist-packages (from pandas->kumoai) (2025.2)\n",
            "Requirement already satisfied: tenacity>=6.2.0 in /usr/local/lib/python3.11/dist-packages (from plotly->kumoai) (8.5.0)\n",
            "Requirement already satisfied: packaging in /usr/local/lib/python3.11/dist-packages (from plotly->kumoai) (25.0)\n",
            "Requirement already satisfied: mdurl~=0.1 in /usr/local/lib/python3.11/dist-packages (from markdown-it-py>=2.2.0->rich>=9.0.0->kumoai) (0.1.2)\n",
            "Requirement already satisfied: six>=1.5 in /usr/local/lib/python3.11/dist-packages (from python-dateutil>=2.8.2->pandas->kumoai) (1.17.0)\n",
            "Downloading kumoai-2.7.0.dev202508040835-cp311-cp311-manylinux_2_27_x86_64.manylinux_2_28_x86_64.whl (283 kB)\n",
            "\u001b[2K   \u001b[90m━━━━━━━━━━━━━━━━━━━━━━━━━━━━━━━━━━━━━━━━\u001b[0m \u001b[32m283.6/283.6 kB\u001b[0m \u001b[31m4.1 MB/s\u001b[0m eta \u001b[36m0:00:00\u001b[0m\n",
            "\u001b[?25hDownloading kumo_api-0.29.0-py3-none-any.whl (61 kB)\n",
            "\u001b[2K   \u001b[90m━━━━━━━━━━━━━━━━━━━━━━━━━━━━━━━━━━━━━━━━\u001b[0m \u001b[32m62.0/62.0 kB\u001b[0m \u001b[31m4.9 MB/s\u001b[0m eta \u001b[36m0:00:00\u001b[0m\n",
            "\u001b[?25hInstalling collected packages: kumo-api, kumoai\n",
            "  Attempting uninstall: kumo-api\n",
            "    Found existing installation: kumo-api 0.28.0\n",
            "    Uninstalling kumo-api-0.28.0:\n",
            "      Successfully uninstalled kumo-api-0.28.0\n",
            "  Attempting uninstall: kumoai\n",
            "    Found existing installation: kumoai 2.7.0.dev202508031832\n",
            "    Uninstalling kumoai-2.7.0.dev202508031832:\n",
            "      Successfully uninstalled kumoai-2.7.0.dev202508031832\n",
            "Successfully installed kumo-api-0.29.0 kumoai-2.7.0.dev202508040835\n",
            "Requirement already satisfied: relbench in /usr/local/lib/python3.11/dist-packages (1.1.0)\n",
            "Requirement already satisfied: pandas in /usr/local/lib/python3.11/dist-packages (from relbench) (2.2.2)\n",
            "Requirement already satisfied: pooch in /usr/local/lib/python3.11/dist-packages (from relbench) (1.8.2)\n",
            "Requirement already satisfied: pyarrow in /usr/local/lib/python3.11/dist-packages (from relbench) (18.1.0)\n",
            "Requirement already satisfied: numpy in /usr/local/lib/python3.11/dist-packages (from relbench) (2.0.2)\n",
            "Requirement already satisfied: duckdb in /usr/local/lib/python3.11/dist-packages (from relbench) (1.3.2)\n",
            "Requirement already satisfied: scikit-learn in /usr/local/lib/python3.11/dist-packages (from relbench) (1.6.1)\n",
            "Requirement already satisfied: typing-extensions in /usr/local/lib/python3.11/dist-packages (from relbench) (4.14.1)\n",
            "Requirement already satisfied: python-dateutil>=2.8.2 in /usr/local/lib/python3.11/dist-packages (from pandas->relbench) (2.9.0.post0)\n",
            "Requirement already satisfied: pytz>=2020.1 in /usr/local/lib/python3.11/dist-packages (from pandas->relbench) (2025.2)\n",
            "Requirement already satisfied: tzdata>=2022.7 in /usr/local/lib/python3.11/dist-packages (from pandas->relbench) (2025.2)\n",
            "Requirement already satisfied: platformdirs>=2.5.0 in /usr/local/lib/python3.11/dist-packages (from pooch->relbench) (4.3.8)\n",
            "Requirement already satisfied: packaging>=20.0 in /usr/local/lib/python3.11/dist-packages (from pooch->relbench) (25.0)\n",
            "Requirement already satisfied: requests>=2.19.0 in /usr/local/lib/python3.11/dist-packages (from pooch->relbench) (2.32.3)\n",
            "Requirement already satisfied: scipy>=1.6.0 in /usr/local/lib/python3.11/dist-packages (from scikit-learn->relbench) (1.16.0)\n",
            "Requirement already satisfied: joblib>=1.2.0 in /usr/local/lib/python3.11/dist-packages (from scikit-learn->relbench) (1.5.1)\n",
            "Requirement already satisfied: threadpoolctl>=3.1.0 in /usr/local/lib/python3.11/dist-packages (from scikit-learn->relbench) (3.6.0)\n",
            "Requirement already satisfied: six>=1.5 in /usr/local/lib/python3.11/dist-packages (from python-dateutil>=2.8.2->pandas->relbench) (1.17.0)\n",
            "Requirement already satisfied: charset-normalizer<4,>=2 in /usr/local/lib/python3.11/dist-packages (from requests>=2.19.0->pooch->relbench) (3.4.2)\n",
            "Requirement already satisfied: idna<4,>=2.5 in /usr/local/lib/python3.11/dist-packages (from requests>=2.19.0->pooch->relbench) (3.10)\n",
            "Requirement already satisfied: urllib3<3,>=1.21.1 in /usr/local/lib/python3.11/dist-packages (from requests>=2.19.0->pooch->relbench) (2.5.0)\n",
            "Requirement already satisfied: certifi>=2017.4.17 in /usr/local/lib/python3.11/dist-packages (from requests>=2.19.0->pooch->relbench) (2025.7.14)\n"
          ]
        }
      ],
      "source": [
        "!pip install kumoai --pre --upgrade\n",
        "!pip install relbench"
      ]
    },
    {
      "cell_type": "code",
      "source": [
        "from kumoai.experimental import rfm"
      ],
      "metadata": {
        "id": "RHgET8HcQnrK"
      },
      "execution_count": null,
      "outputs": []
    },
    {
      "cell_type": "markdown",
      "source": [
        "Ensure that we are authorized:"
      ],
      "metadata": {
        "id": "3vYV8Yi5k5FY"
      }
    },
    {
      "cell_type": "code",
      "source": [
        "import os\n",
        "\n",
        "if not os.environ.get(\"KUMO_API_KEY\"):\n",
        "    rfm.authenticate()"
      ],
      "metadata": {
        "colab": {
          "base_uri": "https://localhost:8080/",
          "height": 139
        },
        "id": "Z6uTEjxCQ17v",
        "outputId": "afa810ad-6aba-4dd0-8210-ba073d396483"
      },
      "execution_count": null,
      "outputs": [
        {
          "output_type": "display_data",
          "data": {
            "text/plain": [
              "<IPython.core.display.HTML object>"
            ],
            "text/html": [
              "\n",
              "        <div style=\"padding: 10px;\">\n",
              "            <!-- <script src=\"https://cdn.tailwindcss.com\"></script> -->\n",
              "            <svg width=\"100\" height=\"50\" viewBox=\"0 0 184 92\" fill=\"none\"\n",
              "                xmlns=\"http://www.w3.org/2000/svg\">\n",
              "                <g clip-path=\"url(#clip0_749_1962)\">\n",
              "                    <path d=\"M67.159 67.919V46.238L53.494 59.491L68.862 82.3H61.567L49.1 63.74L42.089 70.54V82.3H36.069V29.605H42.089V62.182L58.731 45.822H73.109V67.922C73.109 73.375 76.72 77.341 82.386 77.341C87.933 77.341 91.526 73.441 91.586 68.059V0H0V91.586H91.586V80.317C88.891 82.1996 85.6731 83.1888 82.386 83.145C73.817 83.145 67.16 77.125 67.16 67.919H67.159Z\" # noqa: E501\n",
              "                        fill=\"#FC1373\"/>\n",
              "                    <path d=\"M147.398 82.296H141.379V58.715C141.379 53.97 138.262 50.429 133.447 50.429C128.632 50.429 125.515 53.97 125.515 58.715V82.298H119.495V58.715C119.495 53.97 116.379 50.429 111.563 50.429C106.747 50.429 103.631 53.97 103.631 58.715V82.298H97.611V58.925C97.611 50.993 103.347 44.902 111.563 44.902C113.756 44.8229 115.929 45.3412 117.85 46.4016C119.771 47.4619 121.367 49.0244 122.469 50.922C123.592 49.0276 125.204 47.4696 127.135 46.4107C129.066 45.3517 131.246 44.8307 133.447 44.902C141.732 44.902 147.398 50.993 147.398 58.925V82.296Z\"\n",
              "                        fill=\"#FC1373\"/>\n",
              "                    <path d=\"M183.909 64.166C183.909 74.647 175.977 83.217 165.567 83.217C155.226 83.217 147.224 74.648 147.224 64.166C147.224 53.543 155.224 44.903 165.567 44.903C175.976 44.903 183.909 53.543 183.909 64.166ZM177.889 64.166C177.889 56.73 172.366 50.639 165.567 50.639C158.839 50.639 153.315 56.73 153.315 64.166C153.315 71.461 158.839 77.41 165.567 77.41C172.367 77.41 177.889 71.461 177.889 64.166Z\"\n",
              "                        fill=\"#FC1373\"/>\n",
              "                </g>\n",
              "                <defs>\n",
              "                    <clipPath id=\"clip0_749_1962\">\n",
              "                        <rect width=\"183.908\" height=\"91.586\" fill=\"white\"/>\n",
              "                    </clipPath>\n",
              "                </defs>\n",
              "            </svg>\n",
              "            <div id=\"prompt\">\n",
              "                <p>\n",
              "                    Click the button below to connect to KumoRFM and\n",
              "                    generate your API key.\n",
              "                </p>\n",
              "                <button id=\"api-key-button-8cbe1a2a-08c1-435f-92a4-9df0cd2eb436\">\n",
              "                    Generate API Key\n",
              "                </button>\n",
              "            </div>\n",
              "            <div id=\"success\" style=\"display: none;\">\n",
              "                <p>\n",
              "                    ✓ Your API key has been created and configured in your\n",
              "                    colab notebook.\n",
              "                </p>\n",
              "                To manage all your API keys, visit the\n",
              "                <a href=\"https://kumorfm.ai/api-keys\" target=\"_blank\">\n",
              "                    KumoRFM website.\n",
              "                </a>\n",
              "            </div>\n",
              "            <div id=\"failed\" style=\"display: none; color: red;\">\n",
              "                <p>\n",
              "                    API key creation failed with error:\n",
              "                    <span id=\"error-message\"></span>\n",
              "                </p>\n",
              "            </div>\n",
              "            <script>\n",
              "                // Listen for messages from the popup\n",
              "                window.addEventListener('message', function(event) {\n",
              "                    if (event.data.type === 'API_KEY_GENERATED') {\n",
              "                        // Call the Python callback with the API key\n",
              "                        google.colab.kernel.invokeFunction(\n",
              "                            'api-key-button-8cbe1a2a-08c1-435f-92a4-9df0cd2eb436', [event.data.apiKey], {}\n",
              "                        );\n",
              "                        document.getElementById('prompt')\n",
              "                            .style.display = \"none\";\n",
              "                        document.getElementById('success')\n",
              "                            .style.display = \"block\";\n",
              "                        document.getElementById('failed')\n",
              "                            .style.display = \"none\";\n",
              "                    } else if (\n",
              "                        event.data.type === 'API_KEY_GENERATION_FAILED'\n",
              "                    ) {\n",
              "                        document.getElementById('failed')\n",
              "                            .style.display = \"block\";\n",
              "                        document.getElementById('error-message')\n",
              "                            .innerHTML = event.data.errorMessage;\n",
              "                    }\n",
              "                });\n",
              "\n",
              "                document.getElementById('api-key-button-8cbe1a2a-08c1-435f-92a4-9df0cd2eb436')\n",
              "                    .onclick = function() {\n",
              "                        // Open the popup\n",
              "                        const popup = window.open(\n",
              "                            'https://kumorfm.ai/authenticate-sdk?opener=colab&token_name=sdk-colab-2025-08-04-15-44-48-Z',\n",
              "                            'apiKeyPopup',\n",
              "                            'width=600,height=700,scrollbars=yes,resizable=yes'\n",
              "                        );\n",
              "\n",
              "                        // Focus the popup\n",
              "                        if (popup) {\n",
              "                            popup.focus();\n",
              "                        }\n",
              "                    };\n",
              "            </script>\n",
              "        </div>\n",
              "        "
            ]
          },
          "metadata": {}
        }
      ]
    },
    {
      "cell_type": "code",
      "source": [
        "rfm.init()"
      ],
      "metadata": {
        "colab": {
          "base_uri": "https://localhost:8080/"
        },
        "id": "cIIhFwsDREUS",
        "outputId": "4c9b53cb-19ea-4055-db91-d2b50b6e3a23"
      },
      "execution_count": null,
      "outputs": [
        {
          "output_type": "stream",
          "name": "stderr",
          "text": [
            "INFO:kumoai:Successfully initialized the Kumo SDK against deployment https://kumorfm.ai/api, with log level INFO.\n"
          ]
        }
      ]
    },
    {
      "cell_type": "markdown",
      "source": [
        "Next, we write a simple function that helps us to convert any `rel-bench` dataset into a graph applicable for downstream use in `KumoRFM`:"
      ],
      "metadata": {
        "id": "xCRHVjR1lAdc"
      }
    },
    {
      "cell_type": "code",
      "source": [
        "from relbench.datasets import get_dataset\n",
        "\n",
        "def get_relbench_graph(name: str) -> rfm.LocalGraph:\n",
        "    # A helper function to create a `rfm.LocalGraph` from a `rel-bench` dataset:\n",
        "    db = get_dataset(name, download=True).get_db(upto_test_timestamp=False)\n",
        "    df_dict = {name: table.df for name, table in db.table_dict.items()}\n",
        "    graph = rfm.LocalGraph.from_data(df_dict, infer_metadata=False)\n",
        "\n",
        "    for table_name, table in db.table_dict.items():  # Set graph metadata:\n",
        "        graph[table_name].primary_key = table.pkey_col\n",
        "        graph[table_name].time_column = table.time_col\n",
        "        for fkey, dst_table in table.fkey_col_to_pkey_table.items():\n",
        "            graph.link(table_name, fkey, dst_table)\n",
        "    return graph"
      ],
      "metadata": {
        "id": "_dSNjt7ERIKG"
      },
      "execution_count": null,
      "outputs": []
    },
    {
      "cell_type": "markdown",
      "source": [
        "For this example, we make use of the `rel-f1` dataset:"
      ],
      "metadata": {
        "id": "RN80_G5olKLy"
      }
    },
    {
      "cell_type": "code",
      "source": [
        "graph = get_relbench_graph('rel-f1')"
      ],
      "metadata": {
        "id": "kyHIswAjRdb8"
      },
      "execution_count": null,
      "outputs": []
    },
    {
      "cell_type": "markdown",
      "source": [
        "We can easily ensure that everything is set up correctly:"
      ],
      "metadata": {
        "id": "hOjA1IFXR6sv"
      }
    },
    {
      "cell_type": "code",
      "source": [
        "graph.print_metadata()\n",
        "graph.print_links()"
      ],
      "metadata": {
        "colab": {
          "base_uri": "https://localhost:8080/",
          "height": 666
        },
        "id": "-20vw-qtR0sH",
        "outputId": "a0c2987a-c9fa-4aa3-a47c-f58a85fa9220"
      },
      "execution_count": null,
      "outputs": [
        {
          "output_type": "display_data",
          "data": {
            "text/plain": [
              "<IPython.core.display.Markdown object>"
            ],
            "text/markdown": "### 🗂️ Graph Metadata"
          },
          "metadata": {}
        },
        {
          "output_type": "display_data",
          "data": {
            "text/plain": [
              "<pandas.io.formats.style.Styler at 0x7d2bbb452910>"
            ],
            "text/html": [
              "<style type=\"text/css\">\n",
              "</style>\n",
              "<table id=\"T_a97a7\" class=\"dataframe\">\n",
              "  <thead>\n",
              "    <tr>\n",
              "      <th id=\"T_a97a7_level0_col0\" class=\"col_heading level0 col0\" >name</th>\n",
              "      <th id=\"T_a97a7_level0_col1\" class=\"col_heading level0 col1\" >primary_key</th>\n",
              "      <th id=\"T_a97a7_level0_col2\" class=\"col_heading level0 col2\" >time_column</th>\n",
              "    </tr>\n",
              "  </thead>\n",
              "  <tbody>\n",
              "    <tr>\n",
              "      <td id=\"T_a97a7_row0_col0\" class=\"data row0 col0\" >qualifying</td>\n",
              "      <td id=\"T_a97a7_row0_col1\" class=\"data row0 col1\" >qualifyId</td>\n",
              "      <td id=\"T_a97a7_row0_col2\" class=\"data row0 col2\" >date</td>\n",
              "    </tr>\n",
              "    <tr>\n",
              "      <td id=\"T_a97a7_row1_col0\" class=\"data row1 col0\" >results</td>\n",
              "      <td id=\"T_a97a7_row1_col1\" class=\"data row1 col1\" >resultId</td>\n",
              "      <td id=\"T_a97a7_row1_col2\" class=\"data row1 col2\" >date</td>\n",
              "    </tr>\n",
              "    <tr>\n",
              "      <td id=\"T_a97a7_row2_col0\" class=\"data row2 col0\" >races</td>\n",
              "      <td id=\"T_a97a7_row2_col1\" class=\"data row2 col1\" >raceId</td>\n",
              "      <td id=\"T_a97a7_row2_col2\" class=\"data row2 col2\" >date</td>\n",
              "    </tr>\n",
              "    <tr>\n",
              "      <td id=\"T_a97a7_row3_col0\" class=\"data row3 col0\" >constructors</td>\n",
              "      <td id=\"T_a97a7_row3_col1\" class=\"data row3 col1\" >constructorId</td>\n",
              "      <td id=\"T_a97a7_row3_col2\" class=\"data row3 col2\" >-</td>\n",
              "    </tr>\n",
              "    <tr>\n",
              "      <td id=\"T_a97a7_row4_col0\" class=\"data row4 col0\" >constructor_results</td>\n",
              "      <td id=\"T_a97a7_row4_col1\" class=\"data row4 col1\" >constructorResultsId</td>\n",
              "      <td id=\"T_a97a7_row4_col2\" class=\"data row4 col2\" >date</td>\n",
              "    </tr>\n",
              "    <tr>\n",
              "      <td id=\"T_a97a7_row5_col0\" class=\"data row5 col0\" >drivers</td>\n",
              "      <td id=\"T_a97a7_row5_col1\" class=\"data row5 col1\" >driverId</td>\n",
              "      <td id=\"T_a97a7_row5_col2\" class=\"data row5 col2\" >-</td>\n",
              "    </tr>\n",
              "    <tr>\n",
              "      <td id=\"T_a97a7_row6_col0\" class=\"data row6 col0\" >constructor_standings</td>\n",
              "      <td id=\"T_a97a7_row6_col1\" class=\"data row6 col1\" >constructorStandingsId</td>\n",
              "      <td id=\"T_a97a7_row6_col2\" class=\"data row6 col2\" >date</td>\n",
              "    </tr>\n",
              "    <tr>\n",
              "      <td id=\"T_a97a7_row7_col0\" class=\"data row7 col0\" >standings</td>\n",
              "      <td id=\"T_a97a7_row7_col1\" class=\"data row7 col1\" >driverStandingsId</td>\n",
              "      <td id=\"T_a97a7_row7_col2\" class=\"data row7 col2\" >date</td>\n",
              "    </tr>\n",
              "    <tr>\n",
              "      <td id=\"T_a97a7_row8_col0\" class=\"data row8 col0\" >circuits</td>\n",
              "      <td id=\"T_a97a7_row8_col1\" class=\"data row8 col1\" >circuitId</td>\n",
              "      <td id=\"T_a97a7_row8_col2\" class=\"data row8 col2\" >-</td>\n",
              "    </tr>\n",
              "  </tbody>\n",
              "</table>\n"
            ]
          },
          "metadata": {}
        },
        {
          "output_type": "display_data",
          "data": {
            "text/plain": [
              "<IPython.core.display.Markdown object>"
            ],
            "text/markdown": "### 🕸️ Graph Links (FK ↔️ PK)"
          },
          "metadata": {}
        },
        {
          "output_type": "display_data",
          "data": {
            "text/plain": [
              "<IPython.core.display.Markdown object>"
            ],
            "text/markdown": "- `races.circuitId` ↔️ `circuits.circuitId`\n- `constructor_results.constructorId` ↔️ `constructors.constructorId`\n- `constructor_standings.constructorId` ↔️ `constructors.constructorId`\n- `qualifying.constructorId` ↔️ `constructors.constructorId`\n- `results.constructorId` ↔️ `constructors.constructorId`\n- `qualifying.driverId` ↔️ `drivers.driverId`\n- `results.driverId` ↔️ `drivers.driverId`\n- `standings.driverId` ↔️ `drivers.driverId`\n- `constructor_results.raceId` ↔️ `races.raceId`\n- `constructor_standings.raceId` ↔️ `races.raceId`\n- `qualifying.raceId` ↔️ `races.raceId`\n- `results.raceId` ↔️ `races.raceId`\n- `standings.raceId` ↔️ `races.raceId`"
          },
          "metadata": {}
        }
      ]
    },
    {
      "cell_type": "code",
      "source": [
        "graph.visualize(show_columns=False);"
      ],
      "metadata": {
        "colab": {
          "base_uri": "https://localhost:8080/",
          "height": 590
        },
        "id": "EZju9YNhR4g5",
        "outputId": "17039acb-069e-47a8-fb15-3d8aef1656f9"
      },
      "execution_count": null,
      "outputs": [
        {
          "output_type": "display_data",
          "data": {
            "image/svg+xml": "<?xml version=\"1.0\" encoding=\"UTF-8\" standalone=\"no\"?>\n<!DOCTYPE svg PUBLIC \"-//W3C//DTD SVG 1.1//EN\"\n \"http://www.w3.org/Graphics/SVG/1.1/DTD/svg11.dtd\">\n<!-- Generated by graphviz version 2.43.0 (0)\n -->\n<!-- Title: %3 Pages: 1 -->\n<svg width=\"1027pt\" height=\"411pt\"\n viewBox=\"0.00 0.00 1026.50 411.00\" xmlns=\"http://www.w3.org/2000/svg\" xmlns:xlink=\"http://www.w3.org/1999/xlink\">\n<g id=\"graph0\" class=\"graph\" transform=\"scale(1 1) rotate(0) translate(4 407)\">\n<title>%3</title>\n<polygon fill=\"white\" stroke=\"transparent\" points=\"-4,4 -4,-407 1022.5,-407 1022.5,4 -4,4\"/>\n<!-- qualifying -->\n<g id=\"node1\" class=\"node\">\n<title>qualifying</title>\n<polygon fill=\"none\" stroke=\"black\" points=\"606,-296.5 606,-402.5 746,-402.5 746,-296.5 606,-296.5\"/>\n<text text-anchor=\"middle\" x=\"676\" y=\"-387.3\" font-family=\"Times,serif\" font-size=\"14.00\">qualifying</text>\n<polyline fill=\"none\" stroke=\"black\" points=\"606,-379.5 746,-379.5 \"/>\n<text text-anchor=\"start\" x=\"614\" y=\"-364.3\" font-family=\"Times,serif\" font-size=\"14.00\">qualifyId: PK (int)</text>\n<text text-anchor=\"start\" x=\"614\" y=\"-349.3\" font-family=\"Times,serif\" font-size=\"14.00\">raceId: FK (int)</text>\n<text text-anchor=\"start\" x=\"614\" y=\"-334.3\" font-family=\"Times,serif\" font-size=\"14.00\">driverId: FK (int)</text>\n<text text-anchor=\"start\" x=\"614\" y=\"-319.3\" font-family=\"Times,serif\" font-size=\"14.00\">constructorId: FK (int)</text>\n<text text-anchor=\"start\" x=\"614\" y=\"-304.3\" font-family=\"Times,serif\" font-size=\"14.00\">date: Time (date)</text>\n</g>\n<!-- races -->\n<g id=\"node3\" class=\"node\">\n<title>races</title>\n<polygon fill=\"none\" stroke=\"black\" points=\"444,-133.5 444,-209.5 558,-209.5 558,-133.5 444,-133.5\"/>\n<text text-anchor=\"middle\" x=\"501\" y=\"-194.3\" font-family=\"Times,serif\" font-size=\"14.00\">races</text>\n<polyline fill=\"none\" stroke=\"black\" points=\"444,-186.5 558,-186.5 \"/>\n<text text-anchor=\"start\" x=\"452\" y=\"-171.3\" font-family=\"Times,serif\" font-size=\"14.00\">raceId: PK (int)</text>\n<text text-anchor=\"start\" x=\"452\" y=\"-156.3\" font-family=\"Times,serif\" font-size=\"14.00\">circuitId: FK (int)</text>\n<text text-anchor=\"start\" x=\"452\" y=\"-141.3\" font-family=\"Times,serif\" font-size=\"14.00\">date: Time (date)</text>\n</g>\n<!-- qualifying&#45;&#45;races -->\n<g id=\"edge1\" class=\"edge\">\n<title>qualifying&#45;&#45;races</title>\n<path fill=\"none\" stroke=\"black\" d=\"M666.1,-296.37C660.85,-279.2 652.92,-260.96 641,-247 619.27,-221.56 586.63,-203.49 558.34,-191.52\"/>\n<text text-anchor=\"middle\" x=\"666.5\" y=\"-250.2\" font-family=\"Times,serif\" font-size=\"11.00\"> raceId </text>\n<text text-anchor=\"middle\" x=\"573.33\" y=\"-188.38\" font-family=\"Times,serif\" font-size=\"11.00\">1</text>\n<text text-anchor=\"middle\" x=\"655.92\" y=\"-282.55\" font-family=\"Times,serif\" font-size=\"11.00\">*</text>\n</g>\n<!-- constructors -->\n<g id=\"node4\" class=\"node\">\n<title>constructors</title>\n<polygon fill=\"none\" stroke=\"black\" points=\"138,-148.5 138,-194.5 278,-194.5 278,-148.5 138,-148.5\"/>\n<text text-anchor=\"middle\" x=\"208\" y=\"-179.3\" font-family=\"Times,serif\" font-size=\"14.00\">constructors</text>\n<polyline fill=\"none\" stroke=\"black\" points=\"138,-171.5 278,-171.5 \"/>\n<text text-anchor=\"start\" x=\"146\" y=\"-156.3\" font-family=\"Times,serif\" font-size=\"14.00\">constructorId: PK (int)</text>\n</g>\n<!-- qualifying&#45;&#45;constructors -->\n<g id=\"edge3\" class=\"edge\">\n<title>qualifying&#45;&#45;constructors</title>\n<path fill=\"none\" stroke=\"black\" d=\"M617.05,-296.41C594.04,-278.42 566.59,-259.63 539,-247 453.99,-208.06 347.12,-188.77 278.2,-179.73\"/>\n<text text-anchor=\"middle\" x=\"594.5\" y=\"-250.2\" font-family=\"Times,serif\" font-size=\"11.00\"> constructorId </text>\n<text text-anchor=\"middle\" x=\"292.54\" y=\"-172.52\" font-family=\"Times,serif\" font-size=\"11.00\">1</text>\n<text text-anchor=\"middle\" x=\"602.42\" y=\"-290.34\" font-family=\"Times,serif\" font-size=\"11.00\">*</text>\n</g>\n<!-- drivers -->\n<g id=\"node6\" class=\"node\">\n<title>drivers</title>\n<polygon fill=\"none\" stroke=\"black\" points=\"766,-148.5 766,-194.5 878,-194.5 878,-148.5 766,-148.5\"/>\n<text text-anchor=\"middle\" x=\"822\" y=\"-179.3\" font-family=\"Times,serif\" font-size=\"14.00\">drivers</text>\n<polyline fill=\"none\" stroke=\"black\" points=\"766,-171.5 878,-171.5 \"/>\n<text text-anchor=\"start\" x=\"774\" y=\"-156.3\" font-family=\"Times,serif\" font-size=\"14.00\">driverId: PK (int)</text>\n</g>\n<!-- qualifying&#45;&#45;drivers -->\n<g id=\"edge2\" class=\"edge\">\n<title>qualifying&#45;&#45;drivers</title>\n<path fill=\"none\" stroke=\"black\" d=\"M746.16,-303.3C762.18,-290.48 778,-275.47 790,-259 804.15,-239.59 812.7,-213.23 817.36,-194.73\"/>\n<text text-anchor=\"middle\" x=\"818\" y=\"-250.2\" font-family=\"Times,serif\" font-size=\"11.00\"> driverId </text>\n<text text-anchor=\"middle\" x=\"820.04\" y=\"-206.68\" font-family=\"Times,serif\" font-size=\"11.00\">1</text>\n<text text-anchor=\"middle\" x=\"752.68\" y=\"-287\" font-family=\"Times,serif\" font-size=\"11.00\">*</text>\n</g>\n<!-- results -->\n<g id=\"node2\" class=\"node\">\n<title>results</title>\n<polygon fill=\"none\" stroke=\"black\" points=\"250,-296.5 250,-402.5 390,-402.5 390,-296.5 250,-296.5\"/>\n<text text-anchor=\"middle\" x=\"320\" y=\"-387.3\" font-family=\"Times,serif\" font-size=\"14.00\">results</text>\n<polyline fill=\"none\" stroke=\"black\" points=\"250,-379.5 390,-379.5 \"/>\n<text text-anchor=\"start\" x=\"258\" y=\"-364.3\" font-family=\"Times,serif\" font-size=\"14.00\">resultId: PK (int)</text>\n<text text-anchor=\"start\" x=\"258\" y=\"-349.3\" font-family=\"Times,serif\" font-size=\"14.00\">raceId: FK (int)</text>\n<text text-anchor=\"start\" x=\"258\" y=\"-334.3\" font-family=\"Times,serif\" font-size=\"14.00\">driverId: FK (int)</text>\n<text text-anchor=\"start\" x=\"258\" y=\"-319.3\" font-family=\"Times,serif\" font-size=\"14.00\">constructorId: FK (int)</text>\n<text text-anchor=\"start\" x=\"258\" y=\"-304.3\" font-family=\"Times,serif\" font-size=\"14.00\">date: Time (date)</text>\n</g>\n<!-- results&#45;&#45;races -->\n<g id=\"edge4\" class=\"edge\">\n<title>results&#45;&#45;races</title>\n<path fill=\"none\" stroke=\"black\" d=\"M373.82,-296.17C402.47,-268.31 437.04,-234.7 462.9,-209.55\"/>\n<text text-anchor=\"middle\" x=\"440.5\" y=\"-250.2\" font-family=\"Times,serif\" font-size=\"11.00\"> raceId </text>\n<text text-anchor=\"middle\" x=\"457.57\" y=\"-220.77\" font-family=\"Times,serif\" font-size=\"11.00\">1</text>\n<text text-anchor=\"middle\" x=\"379.14\" y=\"-279.35\" font-family=\"Times,serif\" font-size=\"11.00\">*</text>\n</g>\n<!-- results&#45;&#45;constructors -->\n<g id=\"edge6\" class=\"edge\">\n<title>results&#45;&#45;constructors</title>\n<path fill=\"none\" stroke=\"black\" d=\"M249.74,-324.44C219.89,-310.33 188.09,-289.2 171,-259 159.18,-238.1 173.13,-212.68 187.16,-194.83\"/>\n<text text-anchor=\"middle\" x=\"203.5\" y=\"-250.2\" font-family=\"Times,serif\" font-size=\"11.00\"> constructorId </text>\n<text text-anchor=\"middle\" x=\"184.07\" y=\"-206.7\" font-family=\"Times,serif\" font-size=\"11.00\">1</text>\n<text text-anchor=\"middle\" x=\"234.75\" y=\"-321.3\" font-family=\"Times,serif\" font-size=\"11.00\">*</text>\n</g>\n<!-- results&#45;&#45;drivers -->\n<g id=\"edge5\" class=\"edge\">\n<title>results&#45;&#45;drivers</title>\n<path fill=\"none\" stroke=\"black\" d=\"M390.22,-299.64C393.14,-298.31 396.07,-297.09 399,-296 520.33,-250.75 566.37,-303.44 688,-259 728.83,-244.08 769.98,-214.93 795.7,-194.61\"/>\n<text text-anchor=\"middle\" x=\"735\" y=\"-250.2\" font-family=\"Times,serif\" font-size=\"11.00\"> driverId </text>\n<text text-anchor=\"middle\" x=\"788.85\" y=\"-205.15\" font-family=\"Times,serif\" font-size=\"11.00\">1</text>\n<text text-anchor=\"middle\" x=\"400.02\" y=\"-285.48\" font-family=\"Times,serif\" font-size=\"11.00\">*</text>\n</g>\n<!-- circuits -->\n<g id=\"node9\" class=\"node\">\n<title>circuits</title>\n<polygon fill=\"none\" stroke=\"black\" points=\"444,-0.5 444,-46.5 558,-46.5 558,-0.5 444,-0.5\"/>\n<text text-anchor=\"middle\" x=\"501\" y=\"-31.3\" font-family=\"Times,serif\" font-size=\"14.00\">circuits</text>\n<polyline fill=\"none\" stroke=\"black\" points=\"444,-23.5 558,-23.5 \"/>\n<text text-anchor=\"start\" x=\"452\" y=\"-8.3\" font-family=\"Times,serif\" font-size=\"14.00\">circuitId: PK (int)</text>\n</g>\n<!-- races&#45;&#45;circuits -->\n<g id=\"edge7\" class=\"edge\">\n<title>races&#45;&#45;circuits</title>\n<path fill=\"none\" stroke=\"black\" d=\"M501,-133.28C501,-105.91 501,-69.62 501,-46.66\"/>\n<text text-anchor=\"middle\" x=\"523\" y=\"-87.2\" font-family=\"Times,serif\" font-size=\"11.00\"> circuitId </text>\n<text text-anchor=\"middle\" x=\"507.34\" y=\"-57.45\" font-family=\"Times,serif\" font-size=\"11.00\">1</text>\n<text text-anchor=\"middle\" x=\"494.66\" y=\"-116.89\" font-family=\"Times,serif\" font-size=\"11.00\">*</text>\n</g>\n<!-- constructor_results -->\n<g id=\"node5\" class=\"node\">\n<title>constructor_results</title>\n<polygon fill=\"none\" stroke=\"black\" points=\"408,-304 408,-395 588,-395 588,-304 408,-304\"/>\n<text text-anchor=\"middle\" x=\"498\" y=\"-379.8\" font-family=\"Times,serif\" font-size=\"14.00\">constructor_results</text>\n<polyline fill=\"none\" stroke=\"black\" points=\"408,-372 588,-372 \"/>\n<text text-anchor=\"start\" x=\"416\" y=\"-356.8\" font-family=\"Times,serif\" font-size=\"14.00\">constructorResultsId: PK (int)</text>\n<text text-anchor=\"start\" x=\"416\" y=\"-341.8\" font-family=\"Times,serif\" font-size=\"14.00\">raceId: FK (int)</text>\n<text text-anchor=\"start\" x=\"416\" y=\"-326.8\" font-family=\"Times,serif\" font-size=\"14.00\">constructorId: FK (int)</text>\n<text text-anchor=\"start\" x=\"416\" y=\"-311.8\" font-family=\"Times,serif\" font-size=\"14.00\">date: Time (date)</text>\n</g>\n<!-- constructor_results&#45;&#45;races -->\n<g id=\"edge8\" class=\"edge\">\n<title>constructor_results&#45;&#45;races</title>\n<path fill=\"none\" stroke=\"black\" d=\"M498.76,-303.63C499.26,-274.5 499.9,-237 500.37,-209.57\"/>\n<text text-anchor=\"middle\" x=\"517.5\" y=\"-250.2\" font-family=\"Times,serif\" font-size=\"11.00\"> raceId </text>\n<text text-anchor=\"middle\" x=\"506.47\" y=\"-220.47\" font-family=\"Times,serif\" font-size=\"11.00\">1</text>\n<text text-anchor=\"middle\" x=\"492.66\" y=\"-287.13\" font-family=\"Times,serif\" font-size=\"11.00\">*</text>\n</g>\n<!-- constructor_results&#45;&#45;constructors -->\n<g id=\"edge9\" class=\"edge\">\n<title>constructor_results&#45;&#45;constructors</title>\n<path fill=\"none\" stroke=\"black\" d=\"M417.05,-303.89C411.01,-301.08 404.95,-298.41 399,-296 344.52,-273.89 320.23,-292.61 272,-259 248.24,-242.44 229.79,-214.23 218.93,-194.54\"/>\n<text text-anchor=\"middle\" x=\"304.5\" y=\"-250.2\" font-family=\"Times,serif\" font-size=\"11.00\"> constructorId </text>\n<text text-anchor=\"middle\" x=\"231.15\" y=\"-200.44\" font-family=\"Times,serif\" font-size=\"11.00\">1</text>\n<text text-anchor=\"middle\" x=\"402.05\" y=\"-301.14\" font-family=\"Times,serif\" font-size=\"11.00\">*</text>\n</g>\n<!-- constructor_standings -->\n<g id=\"node7\" class=\"node\">\n<title>constructor_standings</title>\n<polygon fill=\"none\" stroke=\"black\" points=\"0,-304 0,-395 194,-395 194,-304 0,-304\"/>\n<text text-anchor=\"middle\" x=\"97\" y=\"-379.8\" font-family=\"Times,serif\" font-size=\"14.00\">constructor_standings</text>\n<polyline fill=\"none\" stroke=\"black\" points=\"0,-372 194,-372 \"/>\n<text text-anchor=\"start\" x=\"8\" y=\"-356.8\" font-family=\"Times,serif\" font-size=\"14.00\">constructorStandingsId: PK (int)</text>\n<text text-anchor=\"start\" x=\"8\" y=\"-341.8\" font-family=\"Times,serif\" font-size=\"14.00\">raceId: FK (int)</text>\n<text text-anchor=\"start\" x=\"8\" y=\"-326.8\" font-family=\"Times,serif\" font-size=\"14.00\">constructorId: FK (int)</text>\n<text text-anchor=\"start\" x=\"8\" y=\"-311.8\" font-family=\"Times,serif\" font-size=\"14.00\">date: Time (date)</text>\n</g>\n<!-- constructor_standings&#45;&#45;races -->\n<g id=\"edge10\" class=\"edge\">\n<title>constructor_standings&#45;&#45;races</title>\n<path fill=\"none\" stroke=\"black\" d=\"M194.04,-312.98C254.35,-290.79 323,-265.27 337,-259 373.28,-242.75 412.72,-222.05 443.83,-204.97\"/>\n<text text-anchor=\"middle\" x=\"380.5\" y=\"-250.2\" font-family=\"Times,serif\" font-size=\"11.00\"> raceId </text>\n<text text-anchor=\"middle\" x=\"434.94\" y=\"-214.25\" font-family=\"Times,serif\" font-size=\"11.00\">1</text>\n<text text-anchor=\"middle\" x=\"204.61\" y=\"-299.53\" font-family=\"Times,serif\" font-size=\"11.00\">*</text>\n</g>\n<!-- constructor_standings&#45;&#45;constructors -->\n<g id=\"edge11\" class=\"edge\">\n<title>constructor_standings&#45;&#45;constructors</title>\n<path fill=\"none\" stroke=\"black\" d=\"M70.64,-303.92C63.26,-285.39 59.72,-264.23 70,-247 85,-221.86 111.73,-204.7 137.7,-193.25\"/>\n<text text-anchor=\"middle\" x=\"102.5\" y=\"-250.2\" font-family=\"Times,serif\" font-size=\"11.00\"> constructorId </text>\n<text text-anchor=\"middle\" x=\"128.03\" y=\"-201.91\" font-family=\"Times,serif\" font-size=\"11.00\">1</text>\n<text text-anchor=\"middle\" x=\"59.97\" y=\"-290.58\" font-family=\"Times,serif\" font-size=\"11.00\">*</text>\n</g>\n<!-- standings -->\n<g id=\"node8\" class=\"node\">\n<title>standings</title>\n<polygon fill=\"none\" stroke=\"black\" points=\"853.5,-304 853.5,-395 1018.5,-395 1018.5,-304 853.5,-304\"/>\n<text text-anchor=\"middle\" x=\"936\" y=\"-379.8\" font-family=\"Times,serif\" font-size=\"14.00\">standings</text>\n<polyline fill=\"none\" stroke=\"black\" points=\"853.5,-372 1018.5,-372 \"/>\n<text text-anchor=\"start\" x=\"861.5\" y=\"-356.8\" font-family=\"Times,serif\" font-size=\"14.00\">driverStandingsId: PK (int)</text>\n<text text-anchor=\"start\" x=\"861.5\" y=\"-341.8\" font-family=\"Times,serif\" font-size=\"14.00\">raceId: FK (int)</text>\n<text text-anchor=\"start\" x=\"861.5\" y=\"-326.8\" font-family=\"Times,serif\" font-size=\"14.00\">driverId: FK (int)</text>\n<text text-anchor=\"start\" x=\"861.5\" y=\"-311.8\" font-family=\"Times,serif\" font-size=\"14.00\">date: Time (date)</text>\n</g>\n<!-- standings&#45;&#45;races -->\n<g id=\"edge12\" class=\"edge\">\n<title>standings&#45;&#45;races</title>\n<path fill=\"none\" stroke=\"black\" d=\"M905.17,-303.81C888.93,-283.53 867.35,-261 843,-247 795.06,-219.44 642.43,-193.41 558.19,-180.67\"/>\n<text text-anchor=\"middle\" x=\"877.5\" y=\"-250.2\" font-family=\"Times,serif\" font-size=\"11.00\"> raceId </text>\n<text text-anchor=\"middle\" x=\"572.6\" y=\"-173.69\" font-family=\"Times,serif\" font-size=\"11.00\">1</text>\n<text text-anchor=\"middle\" x=\"891.65\" y=\"-294.51\" font-family=\"Times,serif\" font-size=\"11.00\">*</text>\n</g>\n<!-- standings&#45;&#45;drivers -->\n<g id=\"edge13\" class=\"edge\">\n<title>standings&#45;&#45;drivers</title>\n<path fill=\"none\" stroke=\"black\" d=\"M946.25,-303.81C948.27,-285.36 947.58,-264.29 939,-247 926.69,-222.19 901.83,-204.64 878.18,-192.83\"/>\n<text text-anchor=\"middle\" x=\"964\" y=\"-250.2\" font-family=\"Times,serif\" font-size=\"11.00\"> driverId </text>\n<text text-anchor=\"middle\" x=\"893.17\" y=\"-190.7\" font-family=\"Times,serif\" font-size=\"11.00\">1</text>\n<text text-anchor=\"middle\" x=\"941.19\" y=\"-286.89\" font-family=\"Times,serif\" font-size=\"11.00\">*</text>\n</g>\n</g>\n</svg>\n",
            "text/plain": [
              "<graphviz.graphs.Graph at 0x7d2bacdb7710>"
            ]
          },
          "metadata": {}
        }
      ]
    },
    {
      "cell_type": "markdown",
      "source": [
        "There exists **two ways** on how to evaluate `KumoRFM` on custom datasets and tasks:\n",
        "\n",
        "1. We inject training labels and test entities via a **custom context table**. This bypasses the predictive query language and can be set up for any task.\n",
        "1. We replicate the `rel-bench` setup via the **predictive query language**.\n",
        "\n",
        "In what follows, we show how to set things up for both cases:"
      ],
      "metadata": {
        "id": "X5Ba7sJhSeTv"
      }
    },
    {
      "cell_type": "markdown",
      "source": [
        "## Custom Context Table\n",
        "\n",
        "The idea is simple: We attach a context table to the graph which contains the training and test entities, their timestamps, and training labels. For the test entities, we **keep their labels blank** and ask `KumoRFM` to infer them.\n",
        "With this scheme, we can support any classification or regressions task by interpreting them as **missing value imputation**.\n",
        "\n",
        "For `rel-bench`, we can do this by concatenating the task-specific training tables across the different splits, but ensure that we mask out all final test labels to prevent leakage."
      ],
      "metadata": {
        "id": "qRm6Gxq7S0_j"
      }
    },
    {
      "cell_type": "markdown",
      "source": [
        "Let's look at an example for the `user-ignore` task on the `rel-event` dataset:"
      ],
      "metadata": {
        "id": "QYqDtPeTcs38"
      }
    },
    {
      "cell_type": "code",
      "source": [
        "import pandas as pd\n",
        "from relbench.tasks import get_task\n",
        "\n",
        "task = get_task('rel-f1', 'driver-top3', download=True)"
      ],
      "metadata": {
        "id": "n9ydfQgycoz4"
      },
      "execution_count": null,
      "outputs": []
    },
    {
      "cell_type": "code",
      "source": [
        "# Concatenate training labels into a single `pd.DataFrame`:\n",
        "context_dfs = []\n",
        "for split in ['test', 'val', 'train']:\n",
        "    df = task.get_table(split, mask_input_cols=False).df\n",
        "    df = df.drop(columns='index', errors='ignore')\n",
        "    df[task.target_col] = df[task.target_col].astype('Int64')\n",
        "    if split == 'test':\n",
        "        df[task.target_col] = None  # Do not leak test labels.\n",
        "    context_dfs.append(df)\n",
        "context_df = pd.concat(context_dfs, axis=0, ignore_index=True).reset_index()\n",
        "\n",
        "# Assign this `pd.DataFrame` to a table in the graph:\n",
        "context_table = rfm.LocalTable(\n",
        "    context_df,\n",
        "    name='context',\n",
        "    primary_key='index',\n",
        "    time_column=task.time_col,\n",
        ")\n",
        "graph.add_table(context_table)\n",
        "graph.link(context_table.name, task.entity_col, task.entity_table)\n",
        "\n",
        "context_table.print_metadata()"
      ],
      "metadata": {
        "colab": {
          "base_uri": "https://localhost:8080/",
          "height": 274
        },
        "id": "WWk_eWiTczOe",
        "outputId": "c55773e2-ddd5-4932-b4b8-4d1d2a7ccefd"
      },
      "execution_count": null,
      "outputs": [
        {
          "output_type": "stream",
          "name": "stderr",
          "text": [
            "/tmp/ipython-input-2406769957.py:10: FutureWarning: The behavior of DataFrame concatenation with empty or all-NA entries is deprecated. In a future version, this will no longer exclude empty or all-NA columns when determining the result dtypes. To retain the old behavior, exclude the relevant entries before the concat operation.\n",
            "  context_df = pd.concat(context_dfs, axis=0, ignore_index=True).reset_index()\n"
          ]
        },
        {
          "output_type": "display_data",
          "data": {
            "text/plain": [
              "<IPython.core.display.Markdown object>"
            ],
            "text/markdown": "### 🏷️ Metadata of Table `context` (2,667 rows)"
          },
          "metadata": {}
        },
        {
          "output_type": "display_data",
          "data": {
            "text/plain": [
              "<pandas.io.formats.style.Styler at 0x7d2bac0b63d0>"
            ],
            "text/html": [
              "<style type=\"text/css\">\n",
              "</style>\n",
              "<table id=\"T_97ddc\" class=\"dataframe\">\n",
              "  <thead>\n",
              "    <tr>\n",
              "      <th id=\"T_97ddc_level0_col0\" class=\"col_heading level0 col0\" >name</th>\n",
              "      <th id=\"T_97ddc_level0_col1\" class=\"col_heading level0 col1\" >dtype</th>\n",
              "      <th id=\"T_97ddc_level0_col2\" class=\"col_heading level0 col2\" >stype</th>\n",
              "      <th id=\"T_97ddc_level0_col3\" class=\"col_heading level0 col3\" >is_primary_key</th>\n",
              "      <th id=\"T_97ddc_level0_col4\" class=\"col_heading level0 col4\" >is_time_column</th>\n",
              "    </tr>\n",
              "  </thead>\n",
              "  <tbody>\n",
              "    <tr>\n",
              "      <td id=\"T_97ddc_row0_col0\" class=\"data row0 col0\" >index</td>\n",
              "      <td id=\"T_97ddc_row0_col1\" class=\"data row0 col1\" >int</td>\n",
              "      <td id=\"T_97ddc_row0_col2\" class=\"data row0 col2\" >ID</td>\n",
              "      <td id=\"T_97ddc_row0_col3\" class=\"data row0 col3\" >True</td>\n",
              "      <td id=\"T_97ddc_row0_col4\" class=\"data row0 col4\" >False</td>\n",
              "    </tr>\n",
              "    <tr>\n",
              "      <td id=\"T_97ddc_row1_col0\" class=\"data row1 col0\" >date</td>\n",
              "      <td id=\"T_97ddc_row1_col1\" class=\"data row1 col1\" >date</td>\n",
              "      <td id=\"T_97ddc_row1_col2\" class=\"data row1 col2\" >timestamp</td>\n",
              "      <td id=\"T_97ddc_row1_col3\" class=\"data row1 col3\" >False</td>\n",
              "      <td id=\"T_97ddc_row1_col4\" class=\"data row1 col4\" >True</td>\n",
              "    </tr>\n",
              "    <tr>\n",
              "      <td id=\"T_97ddc_row2_col0\" class=\"data row2 col0\" >driverId</td>\n",
              "      <td id=\"T_97ddc_row2_col1\" class=\"data row2 col1\" >int</td>\n",
              "      <td id=\"T_97ddc_row2_col2\" class=\"data row2 col2\" >ID</td>\n",
              "      <td id=\"T_97ddc_row2_col3\" class=\"data row2 col3\" >False</td>\n",
              "      <td id=\"T_97ddc_row2_col4\" class=\"data row2 col4\" >False</td>\n",
              "    </tr>\n",
              "    <tr>\n",
              "      <td id=\"T_97ddc_row3_col0\" class=\"data row3 col0\" >qualifying</td>\n",
              "      <td id=\"T_97ddc_row3_col1\" class=\"data row3 col1\" >int</td>\n",
              "      <td id=\"T_97ddc_row3_col2\" class=\"data row3 col2\" >categorical</td>\n",
              "      <td id=\"T_97ddc_row3_col3\" class=\"data row3 col3\" >False</td>\n",
              "      <td id=\"T_97ddc_row3_col4\" class=\"data row3 col4\" >False</td>\n",
              "    </tr>\n",
              "  </tbody>\n",
              "</table>\n"
            ]
          },
          "metadata": {}
        }
      ]
    },
    {
      "cell_type": "markdown",
      "source": [
        "In the above snippet, note that we add a **primary key** `index` to the context table - a unique identifier to be able to reference any row within that table.\n",
        "This is needed to be able to later predict for individual rows within that table.\n",
        "\n",
        "We are now ready to evaluate `KumoRFM` on the `driver-top3` task:"
      ],
      "metadata": {
        "id": "z1nwcwwtdK1y"
      }
    },
    {
      "cell_type": "code",
      "source": [
        "model = rfm.KumoRFM(graph)"
      ],
      "metadata": {
        "colab": {
          "base_uri": "https://localhost:8080/",
          "height": 105,
          "referenced_widgets": [
            "fd3df99d9c784b0381add119f3f0c64f",
            "b46ca4e2d22d4a50b1a3d6491b6d8ad6"
          ]
        },
        "id": "hQxuVkq4eX5n",
        "outputId": "06e7184b-cac4-49b4-c343-e9af482c1895"
      },
      "execution_count": null,
      "outputs": [
        {
          "output_type": "display_data",
          "data": {
            "text/plain": [
              "Output()"
            ],
            "application/vnd.jupyter.widget-view+json": {
              "version_major": 2,
              "version_minor": 0,
              "model_id": "fd3df99d9c784b0381add119f3f0c64f"
            }
          },
          "metadata": {}
        },
        {
          "output_type": "display_data",
          "data": {
            "text/plain": [],
            "text/html": [
              "<pre style=\"white-space:pre;overflow-x:auto;line-height:normal;font-family:Menlo,'DejaVu Sans Mono',consolas,'Courier New',monospace\"></pre>\n"
            ]
          },
          "metadata": {}
        }
      ]
    },
    {
      "cell_type": "markdown",
      "source": [
        "Our predictive query now simply performs missing value imputation for the target column in the context table. In order to cast this into a binary classification problem, we explicitely add a condition to the target clause (*i.e.* `target_col = 1`):"
      ],
      "metadata": {
        "id": "hBzeo6r5fhIo"
      }
    },
    {
      "cell_type": "code",
      "source": [
        "query = (f\"PREDICT context.{task.target_col} = 1 \"\n",
        "         f\"FOR context.index IN ({{indices}})\")"
      ],
      "metadata": {
        "id": "L31FvemAfc8-"
      },
      "execution_count": null,
      "outputs": []
    },
    {
      "cell_type": "markdown",
      "source": [
        "We are now ready to iterate over all test entities (with a batch size up to `1000`) and obtain their predictions. In order to speed things up, we only run over a subset of test entities (defined by `max_test_steps`):"
      ],
      "metadata": {
        "id": "4MRiiIEzf0W7"
      }
    },
    {
      "cell_type": "code",
      "source": [
        "import tqdm\n",
        "import numpy as np\n",
        "\n",
        "batch_size = 1000\n",
        "max_test_steps = 20\n",
        "\n",
        "ys_pred = []\n",
        "test_df = task.get_table('test', mask_input_cols=False).df\n",
        "steps = list(range(0, len(test_df), batch_size))[:max_test_steps]\n",
        "for i, step in enumerate(tqdm.tqdm(steps)):\n",
        "    indices = range(step, min(step + batch_size, len(test_df)))\n",
        "    _query = query.format(indices=', '.join(str(i) for i in indices))\n",
        "    df = model.predict(\n",
        "        _query,\n",
        "        run_mode='best',  # Trades runtime in favor of better model performance.\n",
        "        anchor_time='entity',  # Use context table time as anchor time.\n",
        "        num_neighbors=[8, 8, 8],  # Need to increase by 1.\n",
        "        verbose=i == 0,  # Prevent excessive logging.\n",
        "    )\n",
        "    ys_pred.append(df['True_PROB'].to_numpy())\n",
        "\n",
        "y_pred = np.concatenate(ys_pred)"
      ],
      "metadata": {
        "colab": {
          "base_uri": "https://localhost:8080/",
          "height": 124,
          "referenced_widgets": [
            "d8b4ff4eeaac4052957b01680485a5e0",
            "25fe2acbb50840b99dab35f193e3b922"
          ]
        },
        "id": "la9YheJHgJrQ",
        "outputId": "99386c3d-e949-4b77-b3a5-50d12ee79a1f"
      },
      "execution_count": null,
      "outputs": [
        {
          "output_type": "stream",
          "name": "stderr",
          "text": [
            "\r  0%|          | 0/1 [00:00<?, ?it/s]"
          ]
        },
        {
          "output_type": "display_data",
          "data": {
            "text/plain": [
              "Output()"
            ],
            "application/vnd.jupyter.widget-view+json": {
              "version_major": 2,
              "version_minor": 0,
              "model_id": "d8b4ff4eeaac4052957b01680485a5e0"
            }
          },
          "metadata": {}
        },
        {
          "output_type": "display_data",
          "data": {
            "text/plain": [],
            "text/html": [
              "<pre style=\"white-space:pre;overflow-x:auto;line-height:normal;font-family:Menlo,'DejaVu Sans Mono',consolas,'Courier New',monospace\"></pre>\n"
            ]
          },
          "metadata": {}
        },
        {
          "output_type": "stream",
          "name": "stderr",
          "text": [
            "100%|██████████| 1/1 [00:02<00:00,  2.00s/it]\n"
          ]
        }
      ]
    },
    {
      "cell_type": "markdown",
      "source": [
        "There exists a few things to look out for in the code snippet above:\n",
        "\n",
        "* `KumoRFM.predict(...)` supports different **`run_mode`** configurations (`\"fast\"`, `\"normal\"`, `\"best\"`), which determine the context size, neighbor sampling parameters, and model configurations. By default, this is set to `\"fast\"`. Here, we are interested in the best possible performance.\n",
        "* The **`anchor_time`** supports two options: **(1)** a `pd.Timestamp(...)` that denotes the absolute time for when we are making a prediction; **(2)** the string `\"entity\"`, which tells `KumoRFM` to use the timestamp of the context table row as its individual anchor timestamp. In this case, we use `anchor_time=\"entity\"` since this is needed to mimic the original `rel-bench` setup.\n",
        "* The **`num_neighbors`** argument defines the depth of subgraphs and how many neighbors to sample in each hop. If unspecified, we are sampling at most two hops (which is sufficient in most cases). Since in our case we added an additional context table to the graph, we need one hop more to recover the original 2-hop sampling approach (since we first need to go from `context` to `drivers`). As such, we increase the number of hops to 3 (`len(num_neighbors) == 3`). It is important to point out that tuning the number of neighbors can be beneficial to reach maximum performance. In some cases, reducing number of neighbors avoids oversmoothing, in other cases increasing number of neighbors enables us to look at a larger historical window. In this case, we find it sufficient to sample 8 neighbors in each hop.\n",
        "* The **`verbose`** option ensures that we do not log within intermediate steps."
      ],
      "metadata": {
        "id": "sxw0fTyGgb90"
      }
    },
    {
      "cell_type": "markdown",
      "source": [
        "Finally, we can compute metrics based on the given ground-truth information from the `rel-bench` test set:"
      ],
      "metadata": {
        "id": "5dv1NMvxiWd3"
      }
    },
    {
      "cell_type": "code",
      "source": [
        "from sklearn.metrics import roc_auc_score\n",
        "\n",
        "y_test = test_df[task.target_col].to_numpy().astype(int)[:len(y_pred)]\n",
        "print(f'AUROC: {roc_auc_score(y_test, y_pred):.4f}')"
      ],
      "metadata": {
        "colab": {
          "base_uri": "https://localhost:8080/"
        },
        "id": "TdM_LmAvibLZ",
        "outputId": "d3f3884c-17f7-4704-b13b-74ca5be51c9d"
      },
      "execution_count": null,
      "outputs": [
        {
          "output_type": "stream",
          "name": "stdout",
          "text": [
            "AUROC: 0.9064\n"
          ]
        }
      ]
    },
    {
      "cell_type": "markdown",
      "source": [
        "This setup lets us benchmark any `rel-bench` task without further modifications required. If you run this set up on other tasks, results should (mostly) look as follows:\n",
        "\n",
        "| Dataset | Task | #Neighbors | AUROC |\n",
        "| - | - | - | - |\n",
        "| `rel-f1` | `driver-top3` | 8 | 90.64 |\n",
        "| `rel-f1` | `driver-dnf` | 16 | 81.98 |\n",
        "| `rel-hm` | `user-churn` | 64 | 68.82 |\n",
        "| `rel-avito` | `user-clicks` | 128 | 63.81 |\n",
        "| `rel-avito` | `user-visits` | 128 | 63.81 |\n",
        "| `rel-event` | `user-repeat` | 64 | 76.87 |\n",
        "| `rel-event` | `user-ignore` | 16 | 85.52 |\n",
        "| `rel-stack` | `user-engagement` | 8 | 86.8 |\n",
        "| `rel-stack` | `user-badge` | 8 | 84.09 |\n",
        "| `rel-trial` | `study-outcome` | 64 | 71.54 |\n",
        "| **Average** | | | **77.39** |"
      ],
      "metadata": {
        "id": "8zyUlVGdv9y4"
      }
    },
    {
      "cell_type": "markdown",
      "source": [
        "## Predictive Query Language\n",
        "\n",
        "Besides the context table approach, the real beauty of `KumoRFM` comes into play once we define a task via our expressive **Predictive Query Language (PQL)**.\n",
        "\n",
        "For example, the `driver-top3` query on the `rel-f1` dataset denotes whether a driver will qualify in the top-3 for a race within the next 30 days. In PQL, we can write this as:"
      ],
      "metadata": {
        "id": "VSdKynuGikdX"
      }
    },
    {
      "cell_type": "code",
      "source": [
        "query = (\"PREDICT MIN(qualifying.position, 0, 30, days)<=3 \"\n",
        "         \"FOR drivers.driverId IN ({indices})\")"
      ],
      "metadata": {
        "id": "TXbtMIdnjCbY"
      },
      "execution_count": null,
      "outputs": []
    },
    {
      "cell_type": "markdown",
      "source": [
        "Other tasks on other datasets can be easily written via PQL as well. For example, the `user-churn` task on `rel-hm` is defined as"
      ],
      "metadata": {
        "id": "WfYhfu9yjTWA"
      }
    },
    {
      "cell_type": "code",
      "source": [
        "(\"PREDICT COUNT(transactions.*, 0, 7, days)=0 \"\n",
        " \"FOR customer.customer_id IN ({indices}) \"\n",
        " \"WHERE COUNT(transactions.*, -7, 0, days)>0\");"
      ],
      "metadata": {
        "id": "ssV8mFG1jFCi"
      },
      "execution_count": null,
      "outputs": []
    },
    {
      "cell_type": "markdown",
      "source": [
        "which defines churn for an active customer (at least one transaction in the last week) as having no transaction in the next week."
      ],
      "metadata": {
        "id": "Tknz1CwEjeVQ"
      }
    },
    {
      "cell_type": "markdown",
      "source": [
        "Whenever defining a task via PQL, it is important to ensure that the task is correctly formulated (especially around entity filters). For this, `KumoRFM` allows us to inspect and debug generated label information for a specific `anchor_time` via the `KumoRFM.get_train_table(...)` helper function:"
      ],
      "metadata": {
        "id": "oa8Rm-OTi-Rq"
      }
    },
    {
      "cell_type": "code",
      "source": [
        "# Remove context table - we no longer need it:\n",
        "del graph['context']\n",
        "\n",
        "# Ensure that target column has correct semantic type:\n",
        "graph['qualifying']['position'].stype = 'numerical'\n",
        "\n",
        "model = rfm.KumoRFM(graph)"
      ],
      "metadata": {
        "colab": {
          "base_uri": "https://localhost:8080/",
          "height": 105,
          "referenced_widgets": [
            "76f98144ae634b4090ec37f9f7f2aca4",
            "3406dfc4f03b449fad1730cc029fdbb2"
          ]
        },
        "collapsed": true,
        "id": "hH7ob6XSkFeA",
        "outputId": "0744bb4f-f0a3-4d0e-e125-f36965457a0f"
      },
      "execution_count": null,
      "outputs": [
        {
          "output_type": "display_data",
          "data": {
            "text/plain": [
              "Output()"
            ],
            "application/vnd.jupyter.widget-view+json": {
              "version_major": 2,
              "version_minor": 0,
              "model_id": "76f98144ae634b4090ec37f9f7f2aca4"
            }
          },
          "metadata": {}
        },
        {
          "output_type": "display_data",
          "data": {
            "text/plain": [],
            "text/html": [
              "<pre style=\"white-space:pre;overflow-x:auto;line-height:normal;font-family:Menlo,'DejaVu Sans Mono',consolas,'Courier New',monospace\"></pre>\n"
            ]
          },
          "metadata": {}
        }
      ]
    },
    {
      "cell_type": "code",
      "source": [
        "train_table = model.get_train_table(\n",
        "    query.format(indices='0, 1'),  # Dummy values.\n",
        "    size=100,\n",
        "    anchor_time=pd.Timestamp('2013-03-16'),\n",
        ")\n",
        "display(train_table)"
      ],
      "metadata": {
        "colab": {
          "base_uri": "https://localhost:8080/",
          "height": 739
        },
        "id": "ncwUWTYCkObw",
        "outputId": "921fcf38-e45a-4973-e468-e59f23f5f24c"
      },
      "execution_count": null,
      "outputs": [
        {
          "output_type": "display_data",
          "data": {
            "text/plain": [
              "    ENTITY ANCHOR_TIMESTAMP  TARGET\n",
              "0      822       2013-03-16   False\n",
              "1      812       2013-03-16   False\n",
              "2        7       2013-03-16    True\n",
              "3        2       2013-03-16   False\n",
              "4        0       2013-03-16    True\n",
              "5       12       2013-03-16    True\n",
              "6      814       2013-03-16   False\n",
              "7      817       2013-03-16   False\n",
              "8        3       2013-03-16    True\n",
              "9      153       2013-03-16   False\n",
              "10     820       2013-03-16   False\n",
              "11      17       2013-03-16   False\n",
              "12      19       2013-03-16    True\n",
              "13      16       2013-03-16    True\n",
              "14     823       2013-03-16   False\n",
              "15     819       2013-03-16   False\n",
              "16     821       2013-03-16   False\n",
              "17     807       2013-03-16   False\n",
              "18     813       2013-03-16   False\n",
              "19     816       2013-03-16   False\n",
              "20     818       2013-03-16   False\n",
              "21      15       2013-03-16   False"
            ],
            "text/html": [
              "\n",
              "  <div id=\"df-5471003d-6638-432d-a8c7-da225208ed1f\" class=\"colab-df-container\">\n",
              "    <div>\n",
              "<style scoped>\n",
              "    .dataframe tbody tr th:only-of-type {\n",
              "        vertical-align: middle;\n",
              "    }\n",
              "\n",
              "    .dataframe tbody tr th {\n",
              "        vertical-align: top;\n",
              "    }\n",
              "\n",
              "    .dataframe thead th {\n",
              "        text-align: right;\n",
              "    }\n",
              "</style>\n",
              "<table border=\"1\" class=\"dataframe\">\n",
              "  <thead>\n",
              "    <tr style=\"text-align: right;\">\n",
              "      <th></th>\n",
              "      <th>ENTITY</th>\n",
              "      <th>ANCHOR_TIMESTAMP</th>\n",
              "      <th>TARGET</th>\n",
              "    </tr>\n",
              "  </thead>\n",
              "  <tbody>\n",
              "    <tr>\n",
              "      <th>0</th>\n",
              "      <td>822</td>\n",
              "      <td>2013-03-16</td>\n",
              "      <td>False</td>\n",
              "    </tr>\n",
              "    <tr>\n",
              "      <th>1</th>\n",
              "      <td>812</td>\n",
              "      <td>2013-03-16</td>\n",
              "      <td>False</td>\n",
              "    </tr>\n",
              "    <tr>\n",
              "      <th>2</th>\n",
              "      <td>7</td>\n",
              "      <td>2013-03-16</td>\n",
              "      <td>True</td>\n",
              "    </tr>\n",
              "    <tr>\n",
              "      <th>3</th>\n",
              "      <td>2</td>\n",
              "      <td>2013-03-16</td>\n",
              "      <td>False</td>\n",
              "    </tr>\n",
              "    <tr>\n",
              "      <th>4</th>\n",
              "      <td>0</td>\n",
              "      <td>2013-03-16</td>\n",
              "      <td>True</td>\n",
              "    </tr>\n",
              "    <tr>\n",
              "      <th>5</th>\n",
              "      <td>12</td>\n",
              "      <td>2013-03-16</td>\n",
              "      <td>True</td>\n",
              "    </tr>\n",
              "    <tr>\n",
              "      <th>6</th>\n",
              "      <td>814</td>\n",
              "      <td>2013-03-16</td>\n",
              "      <td>False</td>\n",
              "    </tr>\n",
              "    <tr>\n",
              "      <th>7</th>\n",
              "      <td>817</td>\n",
              "      <td>2013-03-16</td>\n",
              "      <td>False</td>\n",
              "    </tr>\n",
              "    <tr>\n",
              "      <th>8</th>\n",
              "      <td>3</td>\n",
              "      <td>2013-03-16</td>\n",
              "      <td>True</td>\n",
              "    </tr>\n",
              "    <tr>\n",
              "      <th>9</th>\n",
              "      <td>153</td>\n",
              "      <td>2013-03-16</td>\n",
              "      <td>False</td>\n",
              "    </tr>\n",
              "    <tr>\n",
              "      <th>10</th>\n",
              "      <td>820</td>\n",
              "      <td>2013-03-16</td>\n",
              "      <td>False</td>\n",
              "    </tr>\n",
              "    <tr>\n",
              "      <th>11</th>\n",
              "      <td>17</td>\n",
              "      <td>2013-03-16</td>\n",
              "      <td>False</td>\n",
              "    </tr>\n",
              "    <tr>\n",
              "      <th>12</th>\n",
              "      <td>19</td>\n",
              "      <td>2013-03-16</td>\n",
              "      <td>True</td>\n",
              "    </tr>\n",
              "    <tr>\n",
              "      <th>13</th>\n",
              "      <td>16</td>\n",
              "      <td>2013-03-16</td>\n",
              "      <td>True</td>\n",
              "    </tr>\n",
              "    <tr>\n",
              "      <th>14</th>\n",
              "      <td>823</td>\n",
              "      <td>2013-03-16</td>\n",
              "      <td>False</td>\n",
              "    </tr>\n",
              "    <tr>\n",
              "      <th>15</th>\n",
              "      <td>819</td>\n",
              "      <td>2013-03-16</td>\n",
              "      <td>False</td>\n",
              "    </tr>\n",
              "    <tr>\n",
              "      <th>16</th>\n",
              "      <td>821</td>\n",
              "      <td>2013-03-16</td>\n",
              "      <td>False</td>\n",
              "    </tr>\n",
              "    <tr>\n",
              "      <th>17</th>\n",
              "      <td>807</td>\n",
              "      <td>2013-03-16</td>\n",
              "      <td>False</td>\n",
              "    </tr>\n",
              "    <tr>\n",
              "      <th>18</th>\n",
              "      <td>813</td>\n",
              "      <td>2013-03-16</td>\n",
              "      <td>False</td>\n",
              "    </tr>\n",
              "    <tr>\n",
              "      <th>19</th>\n",
              "      <td>816</td>\n",
              "      <td>2013-03-16</td>\n",
              "      <td>False</td>\n",
              "    </tr>\n",
              "    <tr>\n",
              "      <th>20</th>\n",
              "      <td>818</td>\n",
              "      <td>2013-03-16</td>\n",
              "      <td>False</td>\n",
              "    </tr>\n",
              "    <tr>\n",
              "      <th>21</th>\n",
              "      <td>15</td>\n",
              "      <td>2013-03-16</td>\n",
              "      <td>False</td>\n",
              "    </tr>\n",
              "  </tbody>\n",
              "</table>\n",
              "</div>\n",
              "    <div class=\"colab-df-buttons\">\n",
              "\n",
              "  <div class=\"colab-df-container\">\n",
              "    <button class=\"colab-df-convert\" onclick=\"convertToInteractive('df-5471003d-6638-432d-a8c7-da225208ed1f')\"\n",
              "            title=\"Convert this dataframe to an interactive table.\"\n",
              "            style=\"display:none;\">\n",
              "\n",
              "  <svg xmlns=\"http://www.w3.org/2000/svg\" height=\"24px\" viewBox=\"0 -960 960 960\">\n",
              "    <path d=\"M120-120v-720h720v720H120Zm60-500h600v-160H180v160Zm220 220h160v-160H400v160Zm0 220h160v-160H400v160ZM180-400h160v-160H180v160Zm440 0h160v-160H620v160ZM180-180h160v-160H180v160Zm440 0h160v-160H620v160Z\"/>\n",
              "  </svg>\n",
              "    </button>\n",
              "\n",
              "  <style>\n",
              "    .colab-df-container {\n",
              "      display:flex;\n",
              "      gap: 12px;\n",
              "    }\n",
              "\n",
              "    .colab-df-convert {\n",
              "      background-color: #E8F0FE;\n",
              "      border: none;\n",
              "      border-radius: 50%;\n",
              "      cursor: pointer;\n",
              "      display: none;\n",
              "      fill: #1967D2;\n",
              "      height: 32px;\n",
              "      padding: 0 0 0 0;\n",
              "      width: 32px;\n",
              "    }\n",
              "\n",
              "    .colab-df-convert:hover {\n",
              "      background-color: #E2EBFA;\n",
              "      box-shadow: 0px 1px 2px rgba(60, 64, 67, 0.3), 0px 1px 3px 1px rgba(60, 64, 67, 0.15);\n",
              "      fill: #174EA6;\n",
              "    }\n",
              "\n",
              "    .colab-df-buttons div {\n",
              "      margin-bottom: 4px;\n",
              "    }\n",
              "\n",
              "    [theme=dark] .colab-df-convert {\n",
              "      background-color: #3B4455;\n",
              "      fill: #D2E3FC;\n",
              "    }\n",
              "\n",
              "    [theme=dark] .colab-df-convert:hover {\n",
              "      background-color: #434B5C;\n",
              "      box-shadow: 0px 1px 3px 1px rgba(0, 0, 0, 0.15);\n",
              "      filter: drop-shadow(0px 1px 2px rgba(0, 0, 0, 0.3));\n",
              "      fill: #FFFFFF;\n",
              "    }\n",
              "  </style>\n",
              "\n",
              "    <script>\n",
              "      const buttonEl =\n",
              "        document.querySelector('#df-5471003d-6638-432d-a8c7-da225208ed1f button.colab-df-convert');\n",
              "      buttonEl.style.display =\n",
              "        google.colab.kernel.accessAllowed ? 'block' : 'none';\n",
              "\n",
              "      async function convertToInteractive(key) {\n",
              "        const element = document.querySelector('#df-5471003d-6638-432d-a8c7-da225208ed1f');\n",
              "        const dataTable =\n",
              "          await google.colab.kernel.invokeFunction('convertToInteractive',\n",
              "                                                    [key], {});\n",
              "        if (!dataTable) return;\n",
              "\n",
              "        const docLinkHtml = 'Like what you see? Visit the ' +\n",
              "          '<a target=\"_blank\" href=https://colab.research.google.com/notebooks/data_table.ipynb>data table notebook</a>'\n",
              "          + ' to learn more about interactive tables.';\n",
              "        element.innerHTML = '';\n",
              "        dataTable['output_type'] = 'display_data';\n",
              "        await google.colab.output.renderOutput(dataTable, element);\n",
              "        const docLink = document.createElement('div');\n",
              "        docLink.innerHTML = docLinkHtml;\n",
              "        element.appendChild(docLink);\n",
              "      }\n",
              "    </script>\n",
              "  </div>\n",
              "\n",
              "\n",
              "    <div id=\"df-b50d3fc2-e3c8-46af-8ad4-1c06fd67fb90\">\n",
              "      <button class=\"colab-df-quickchart\" onclick=\"quickchart('df-b50d3fc2-e3c8-46af-8ad4-1c06fd67fb90')\"\n",
              "                title=\"Suggest charts\"\n",
              "                style=\"display:none;\">\n",
              "\n",
              "<svg xmlns=\"http://www.w3.org/2000/svg\" height=\"24px\"viewBox=\"0 0 24 24\"\n",
              "     width=\"24px\">\n",
              "    <g>\n",
              "        <path d=\"M19 3H5c-1.1 0-2 .9-2 2v14c0 1.1.9 2 2 2h14c1.1 0 2-.9 2-2V5c0-1.1-.9-2-2-2zM9 17H7v-7h2v7zm4 0h-2V7h2v10zm4 0h-2v-4h2v4z\"/>\n",
              "    </g>\n",
              "</svg>\n",
              "      </button>\n",
              "\n",
              "<style>\n",
              "  .colab-df-quickchart {\n",
              "      --bg-color: #E8F0FE;\n",
              "      --fill-color: #1967D2;\n",
              "      --hover-bg-color: #E2EBFA;\n",
              "      --hover-fill-color: #174EA6;\n",
              "      --disabled-fill-color: #AAA;\n",
              "      --disabled-bg-color: #DDD;\n",
              "  }\n",
              "\n",
              "  [theme=dark] .colab-df-quickchart {\n",
              "      --bg-color: #3B4455;\n",
              "      --fill-color: #D2E3FC;\n",
              "      --hover-bg-color: #434B5C;\n",
              "      --hover-fill-color: #FFFFFF;\n",
              "      --disabled-bg-color: #3B4455;\n",
              "      --disabled-fill-color: #666;\n",
              "  }\n",
              "\n",
              "  .colab-df-quickchart {\n",
              "    background-color: var(--bg-color);\n",
              "    border: none;\n",
              "    border-radius: 50%;\n",
              "    cursor: pointer;\n",
              "    display: none;\n",
              "    fill: var(--fill-color);\n",
              "    height: 32px;\n",
              "    padding: 0;\n",
              "    width: 32px;\n",
              "  }\n",
              "\n",
              "  .colab-df-quickchart:hover {\n",
              "    background-color: var(--hover-bg-color);\n",
              "    box-shadow: 0 1px 2px rgba(60, 64, 67, 0.3), 0 1px 3px 1px rgba(60, 64, 67, 0.15);\n",
              "    fill: var(--button-hover-fill-color);\n",
              "  }\n",
              "\n",
              "  .colab-df-quickchart-complete:disabled,\n",
              "  .colab-df-quickchart-complete:disabled:hover {\n",
              "    background-color: var(--disabled-bg-color);\n",
              "    fill: var(--disabled-fill-color);\n",
              "    box-shadow: none;\n",
              "  }\n",
              "\n",
              "  .colab-df-spinner {\n",
              "    border: 2px solid var(--fill-color);\n",
              "    border-color: transparent;\n",
              "    border-bottom-color: var(--fill-color);\n",
              "    animation:\n",
              "      spin 1s steps(1) infinite;\n",
              "  }\n",
              "\n",
              "  @keyframes spin {\n",
              "    0% {\n",
              "      border-color: transparent;\n",
              "      border-bottom-color: var(--fill-color);\n",
              "      border-left-color: var(--fill-color);\n",
              "    }\n",
              "    20% {\n",
              "      border-color: transparent;\n",
              "      border-left-color: var(--fill-color);\n",
              "      border-top-color: var(--fill-color);\n",
              "    }\n",
              "    30% {\n",
              "      border-color: transparent;\n",
              "      border-left-color: var(--fill-color);\n",
              "      border-top-color: var(--fill-color);\n",
              "      border-right-color: var(--fill-color);\n",
              "    }\n",
              "    40% {\n",
              "      border-color: transparent;\n",
              "      border-right-color: var(--fill-color);\n",
              "      border-top-color: var(--fill-color);\n",
              "    }\n",
              "    60% {\n",
              "      border-color: transparent;\n",
              "      border-right-color: var(--fill-color);\n",
              "    }\n",
              "    80% {\n",
              "      border-color: transparent;\n",
              "      border-right-color: var(--fill-color);\n",
              "      border-bottom-color: var(--fill-color);\n",
              "    }\n",
              "    90% {\n",
              "      border-color: transparent;\n",
              "      border-bottom-color: var(--fill-color);\n",
              "    }\n",
              "  }\n",
              "</style>\n",
              "\n",
              "      <script>\n",
              "        async function quickchart(key) {\n",
              "          const quickchartButtonEl =\n",
              "            document.querySelector('#' + key + ' button');\n",
              "          quickchartButtonEl.disabled = true;  // To prevent multiple clicks.\n",
              "          quickchartButtonEl.classList.add('colab-df-spinner');\n",
              "          try {\n",
              "            const charts = await google.colab.kernel.invokeFunction(\n",
              "                'suggestCharts', [key], {});\n",
              "          } catch (error) {\n",
              "            console.error('Error during call to suggestCharts:', error);\n",
              "          }\n",
              "          quickchartButtonEl.classList.remove('colab-df-spinner');\n",
              "          quickchartButtonEl.classList.add('colab-df-quickchart-complete');\n",
              "        }\n",
              "        (() => {\n",
              "          let quickchartButtonEl =\n",
              "            document.querySelector('#df-b50d3fc2-e3c8-46af-8ad4-1c06fd67fb90 button');\n",
              "          quickchartButtonEl.style.display =\n",
              "            google.colab.kernel.accessAllowed ? 'block' : 'none';\n",
              "        })();\n",
              "      </script>\n",
              "    </div>\n",
              "\n",
              "  <div id=\"id_2203d16f-54fd-49c0-8e92-63ea97487e15\">\n",
              "    <style>\n",
              "      .colab-df-generate {\n",
              "        background-color: #E8F0FE;\n",
              "        border: none;\n",
              "        border-radius: 50%;\n",
              "        cursor: pointer;\n",
              "        display: none;\n",
              "        fill: #1967D2;\n",
              "        height: 32px;\n",
              "        padding: 0 0 0 0;\n",
              "        width: 32px;\n",
              "      }\n",
              "\n",
              "      .colab-df-generate:hover {\n",
              "        background-color: #E2EBFA;\n",
              "        box-shadow: 0px 1px 2px rgba(60, 64, 67, 0.3), 0px 1px 3px 1px rgba(60, 64, 67, 0.15);\n",
              "        fill: #174EA6;\n",
              "      }\n",
              "\n",
              "      [theme=dark] .colab-df-generate {\n",
              "        background-color: #3B4455;\n",
              "        fill: #D2E3FC;\n",
              "      }\n",
              "\n",
              "      [theme=dark] .colab-df-generate:hover {\n",
              "        background-color: #434B5C;\n",
              "        box-shadow: 0px 1px 3px 1px rgba(0, 0, 0, 0.15);\n",
              "        filter: drop-shadow(0px 1px 2px rgba(0, 0, 0, 0.3));\n",
              "        fill: #FFFFFF;\n",
              "      }\n",
              "    </style>\n",
              "    <button class=\"colab-df-generate\" onclick=\"generateWithVariable('train_table')\"\n",
              "            title=\"Generate code using this dataframe.\"\n",
              "            style=\"display:none;\">\n",
              "\n",
              "  <svg xmlns=\"http://www.w3.org/2000/svg\" height=\"24px\"viewBox=\"0 0 24 24\"\n",
              "       width=\"24px\">\n",
              "    <path d=\"M7,19H8.4L18.45,9,17,7.55,7,17.6ZM5,21V16.75L18.45,3.32a2,2,0,0,1,2.83,0l1.4,1.43a1.91,1.91,0,0,1,.58,1.4,1.91,1.91,0,0,1-.58,1.4L9.25,21ZM18.45,9,17,7.55Zm-12,3A5.31,5.31,0,0,0,4.9,8.1,5.31,5.31,0,0,0,1,6.5,5.31,5.31,0,0,0,4.9,4.9,5.31,5.31,0,0,0,6.5,1,5.31,5.31,0,0,0,8.1,4.9,5.31,5.31,0,0,0,12,6.5,5.46,5.46,0,0,0,6.5,12Z\"/>\n",
              "  </svg>\n",
              "    </button>\n",
              "    <script>\n",
              "      (() => {\n",
              "      const buttonEl =\n",
              "        document.querySelector('#id_2203d16f-54fd-49c0-8e92-63ea97487e15 button.colab-df-generate');\n",
              "      buttonEl.style.display =\n",
              "        google.colab.kernel.accessAllowed ? 'block' : 'none';\n",
              "\n",
              "      buttonEl.onclick = () => {\n",
              "        google.colab.notebook.generateWithVariable('train_table');\n",
              "      }\n",
              "      })();\n",
              "    </script>\n",
              "  </div>\n",
              "\n",
              "    </div>\n",
              "  </div>\n"
            ],
            "application/vnd.google.colaboratory.intrinsic+json": {
              "type": "dataframe",
              "variable_name": "train_table",
              "summary": "{\n  \"name\": \"train_table\",\n  \"rows\": 22,\n  \"fields\": [\n    {\n      \"column\": \"ENTITY\",\n      \"properties\": {\n        \"dtype\": \"number\",\n        \"std\": 404,\n        \"min\": 0,\n        \"max\": 823,\n        \"num_unique_values\": 22,\n        \"samples\": [\n          822,\n          16,\n          3\n        ],\n        \"semantic_type\": \"\",\n        \"description\": \"\"\n      }\n    },\n    {\n      \"column\": \"ANCHOR_TIMESTAMP\",\n      \"properties\": {\n        \"dtype\": \"date\",\n        \"min\": \"2013-03-16 00:00:00\",\n        \"max\": \"2013-03-16 00:00:00\",\n        \"num_unique_values\": 1,\n        \"samples\": [\n          \"2013-03-16 00:00:00\"\n        ],\n        \"semantic_type\": \"\",\n        \"description\": \"\"\n      }\n    },\n    {\n      \"column\": \"TARGET\",\n      \"properties\": {\n        \"dtype\": \"boolean\",\n        \"num_unique_values\": 2,\n        \"samples\": [\n          true\n        ],\n        \"semantic_type\": \"\",\n        \"description\": \"\"\n      }\n    }\n  ]\n}"
            }
          },
          "metadata": {}
        }
      ]
    },
    {
      "cell_type": "markdown",
      "source": [
        "Let's make sure that these labels align with the labels in the `rel-bench` training table:"
      ],
      "metadata": {
        "id": "aG-ZiFggl3wo"
      }
    },
    {
      "cell_type": "code",
      "source": [
        "test_df = task.get_table('test', mask_input_cols=False).df\n",
        "\n",
        "train_table['TARGET'] = train_table['TARGET'].astype(int)  # Align dtypes.\n",
        "train_table = train_table.rename(columns={  # Align column names:\n",
        "    'ENTITY': task.entity_col,\n",
        "    'ANCHOR_TIMESTAMP': task.time_col,\n",
        "    'TARGET': task.target_col,\n",
        "})\n",
        "assert train_table.isin(test_df.to_dict(orient='list')).all(axis=None)"
      ],
      "metadata": {
        "id": "yonmt4Xwl_7I"
      },
      "execution_count": null,
      "outputs": []
    },
    {
      "cell_type": "markdown",
      "source": [
        "Once we confirmed that everything behaves correctly, we are ready to query.\n",
        "Since `rel-bench` datasets may contain multiple anchor timestamps, we first group entities by their anchor timestamp, and then split entities within the same anchor timestamp into chunks of size `batch_size`. This ensures that for a single `model.predict(...)` call, we use the same anchor time in order to be able to share the context among all entities to predict for:\n"
      ],
      "metadata": {
        "id": "7sAvt8eAmCKe"
      }
    },
    {
      "cell_type": "code",
      "source": [
        "batch_size = 1000\n",
        "max_test_steps = 20\n",
        "\n",
        "nested_test_df = test_df.groupby(task.time_col)[[\n",
        "    task.entity_col,\n",
        "    task.target_col,\n",
        "]].agg(list)\n",
        "display(nested_test_df)\n",
        "\n",
        "test_indices = []\n",
        "for anchor_time, row in nested_test_df.iterrows():\n",
        "    for step in range(0, len(row[task.entity_col]), batch_size):\n",
        "        test_indices.append((\n",
        "            anchor_time,\n",
        "            row[task.entity_col][step:step + batch_size],\n",
        "            row[task.target_col][step:step + batch_size],\n",
        "        ))\n",
        "\n",
        "# Limit the number of test steps:\n",
        "test_indices = test_indices[:max_test_steps]"
      ],
      "metadata": {
        "colab": {
          "base_uri": "https://localhost:8080/",
          "height": 1000
        },
        "id": "sfydkd0FmQ0Y",
        "outputId": "c44fb57c-bda3-4068-c386-c50b68a1ad47"
      },
      "execution_count": null,
      "outputs": [
        {
          "output_type": "display_data",
          "data": {
            "text/plain": [
              "                                                     driverId  \\\n",
              "date                                                            \n",
              "2010-03-02  [0, 16, 15, 9, 17, 154, 14, 808, 811, 2, 29, 6...   \n",
              "2010-04-01  [808, 811, 2, 29, 0, 16, 15, 9, 17, 14, 154, 4...   \n",
              "2010-05-01  [810, 36, 12, 152, 807, 809, 3, 4, 23, 21, 66,...   \n",
              "2010-05-31  [152, 809, 807, 3, 36, 810, 12, 23, 4, 21, 8, ...   \n",
              "2010-06-30  [12, 810, 36, 807, 3, 152, 809, 23, 4, 21, 8, ...   \n",
              "2010-07-30  [36, 810, 12, 809, 152, 807, 3, 23, 4, 21, 66,...   \n",
              "2010-08-29  [1, 21, 66, 19, 8, 809, 807, 3, 152, 810, 12, ...   \n",
              "2010-09-28  [23, 4, 810, 12, 152, 809, 3, 807, 66, 19, 8, ...   \n",
              "2010-10-28  [17, 9, 14, 154, 31, 15, 0, 16, 29, 2, 808, 1,...   \n",
              "2011-02-25  [15, 0, 16, 9, 17, 812, 813, 14, 154, 808, 29,...   \n",
              "2011-03-27  [38, 3, 152, 815, 12, 23, 4, 814, 1, 21, 19, 6...   \n",
              "2011-04-26  [9, 17, 813, 812, 14, 154, 0, 16, 15, 2, 29, 8...   \n",
              "2011-05-26  [23, 4, 814, 36, 815, 12, 152, 38, 3, 66, 19, ...   \n",
              "2011-06-25  [23, 4, 814, 152, 3, 38, 815, 12, 66, 19, 1, 2...   \n",
              "2011-07-25  [808, 816, 2, 29, 0, 16, 15, 9, 17, 812, 813, ...   \n",
              "2011-08-24  [23, 4, 814, 815, 12, 810, 152, 3, 66, 19, 21,...   \n",
              "2011-09-23  [815, 12, 810, 152, 3, 814, 4, 23, 21, 19, 66,...   \n",
              "2011-10-23  [815, 12, 810, 3, 152, 38, 4, 23, 814, 21, 19,...   \n",
              "2011-11-22  [17, 9, 812, 813, 154, 14, 0, 16, 15, 2, 29, 8...   \n",
              "2012-02-20  [7, 153, 19, 814, 4, 3, 807, 38, 810, 12, 36, ...   \n",
              "2012-03-21  [153, 19, 7, 12, 810, 36, 3, 807, 38, 814, 4, ...   \n",
              "2012-04-20  [29, 2, 816, 808, 817, 818, 17, 9, 813, 812, 1...   \n",
              "2012-05-20  [7, 153, 19, 4, 814, 807, 3, 38, 36, 810, 12, ...   \n",
              "2012-06-19  [0, 16, 17, 9, 812, 813, 154, 816, 817, 808, 8...   \n",
              "2012-07-19  [0, 16, 9, 17, 813, 812, 154, 816, 818, 808, 8...   \n",
              "2012-08-18  [17, 9, 812, 813, 154, 0, 16, 29, 2, 816, 818,...   \n",
              "2012-09-17  [816, 817, 808, 818, 29, 2, 0, 16, 17, 9, 813,...   \n",
              "2012-10-17  [0, 16, 17, 9, 813, 812, 154, 808, 818, 817, 8...   \n",
              "2012-11-16  [9, 17, 813, 812, 154, 0, 16, 29, 2, 816, 818,...   \n",
              "2013-03-16  [814, 821, 12, 807, 3, 153, 19, 7, 819, 820, 8...   \n",
              "\n",
              "                                                   qualifying  \n",
              "date                                                           \n",
              "2010-03-02  [0, 1, 0, 0, 0, 0, 0, 0, 0, 0, 0, 0, 0, 1, 0, ...  \n",
              "2010-04-01  [0, 0, 1, 0, 0, 1, 0, 0, 0, 0, 0, 0, 0, 0, 0, ...  \n",
              "2010-05-01  [0, 0, 0, 0, 0, 0, 0, 0, 0, 0, 0, 1, 1, 0, 0, ...  \n",
              "2010-05-31  [0, 0, 0, 0, 0, 0, 0, 0, 0, 0, 0, 1, 0, 0, 0, ...  \n",
              "2010-06-30  [1, 0, 0, 0, 1, 0, 0, 0, 0, 0, 0, 1, 0, 0, 0, ...  \n",
              "2010-07-30  [0, 0, 0, 0, 0, 0, 1, 0, 0, 0, 0, 1, 1, 0, 0, ...  \n",
              "2010-08-29  [0, 0, 0, 1, 0, 0, 0, 1, 0, 0, 1, 0, 0, 0, 0, ...  \n",
              "2010-09-28  [0, 0, 0, 0, 0, 0, 1, 0, 0, 1, 0, 0, 0, 0, 0, ...  \n",
              "2010-10-28  [0, 0, 0, 0, 0, 0, 1, 1, 0, 0, 0, 0, 0, 0, 0, ...  \n",
              "2011-02-25  [0, 1, 1, 0, 0, 0, 0, 0, 0, 0, 0, 0, 1, 0, 0, ...  \n",
              "2011-03-27  [0, 0, 0, 0, 0, 0, 0, 0, 0, 0, 1, 0, 0, 0, 0, ...  \n",
              "2011-04-26  [0, 0, 0, 0, 0, 0, 1, 1, 0, 1, 0, 0, 0, 0, 1, ...  \n",
              "2011-05-26  [0, 0, 0, 0, 0, 1, 0, 0, 1, 0, 1, 0, 0, 0, 0, ...  \n",
              "2011-06-25  [0, 0, 0, 0, 1, 0, 0, 0, 0, 1, 0, 0, 0, 0, 0, ...  \n",
              "2011-07-25  [0, 0, 0, 0, 1, 0, 0, 0, 1, 0, 0, 0, 0, 0, 0, ...  \n",
              "2011-08-24  [0, 0, 0, 0, 0, 0, 0, 0, 0, 1, 0, 0, 0, 0, 0, ...  \n",
              "2011-09-23  [0, 0, 0, 0, 0, 0, 0, 0, 0, 1, 0, 0, 0, 0, 0, ...  \n",
              "2011-10-23  [0, 0, 0, 0, 0, 0, 0, 0, 0, 0, 1, 0, 0, 0, 0, ...  \n",
              "2011-11-22  [1, 0, 0, 0, 0, 0, 0, 1, 0, 0, 0, 0, 0, 0, 1, ...  \n",
              "2012-02-20  [0, 1, 0, 0, 0, 0, 0, 0, 0, 0, 0, 1, 0, 1, 0, ...  \n",
              "2012-03-21  [0, 0, 0, 0, 0, 0, 0, 0, 0, 0, 0, 1, 0, 0, 0, ...  \n",
              "2012-04-20  [0, 0, 0, 0, 0, 0, 0, 0, 0, 1, 0, 1, 1, 0, 0, ...  \n",
              "2012-05-20  [0, 0, 1, 0, 0, 0, 1, 0, 0, 0, 0, 1, 1, 0, 0, ...  \n",
              "2012-06-19  [1, 1, 0, 0, 1, 0, 0, 0, 0, 0, 0, 1, 0, 0, 0, ...  \n",
              "2012-07-19  [1, 1, 0, 0, 0, 0, 0, 0, 0, 0, 0, 0, 0, 0, 1, ...  \n",
              "2012-08-18  [1, 0, 1, 0, 1, 1, 0, 0, 0, 0, 0, 0, 0, 0, 0, ...  \n",
              "2012-09-17  [0, 0, 0, 0, 0, 0, 1, 1, 1, 0, 0, 1, 0, 0, 0, ...  \n",
              "2012-10-17  [1, 1, 0, 0, 0, 0, 0, 0, 0, 0, 0, 0, 0, 0, 1, ...  \n",
              "2012-11-16  [0, 1, 0, 0, 0, 1, 1, 0, 0, 0, 0, 0, 0, 0, 0, ...  \n",
              "2013-03-16  [0, 0, 1, 0, 1, 0, 1, 1, 0, 0, 0, 0, 0, 0, 0, ...  "
            ],
            "text/html": [
              "\n",
              "  <div id=\"df-550e5579-fcdd-4071-877f-932f42e74553\" class=\"colab-df-container\">\n",
              "    <div>\n",
              "<style scoped>\n",
              "    .dataframe tbody tr th:only-of-type {\n",
              "        vertical-align: middle;\n",
              "    }\n",
              "\n",
              "    .dataframe tbody tr th {\n",
              "        vertical-align: top;\n",
              "    }\n",
              "\n",
              "    .dataframe thead th {\n",
              "        text-align: right;\n",
              "    }\n",
              "</style>\n",
              "<table border=\"1\" class=\"dataframe\">\n",
              "  <thead>\n",
              "    <tr style=\"text-align: right;\">\n",
              "      <th></th>\n",
              "      <th>driverId</th>\n",
              "      <th>qualifying</th>\n",
              "    </tr>\n",
              "    <tr>\n",
              "      <th>date</th>\n",
              "      <th></th>\n",
              "      <th></th>\n",
              "    </tr>\n",
              "  </thead>\n",
              "  <tbody>\n",
              "    <tr>\n",
              "      <th>2010-03-02</th>\n",
              "      <td>[0, 16, 15, 9, 17, 154, 14, 808, 811, 2, 29, 6...</td>\n",
              "      <td>[0, 1, 0, 0, 0, 0, 0, 0, 0, 0, 0, 0, 0, 1, 0, ...</td>\n",
              "    </tr>\n",
              "    <tr>\n",
              "      <th>2010-04-01</th>\n",
              "      <td>[808, 811, 2, 29, 0, 16, 15, 9, 17, 14, 154, 4...</td>\n",
              "      <td>[0, 0, 1, 0, 0, 1, 0, 0, 0, 0, 0, 0, 0, 0, 0, ...</td>\n",
              "    </tr>\n",
              "    <tr>\n",
              "      <th>2010-05-01</th>\n",
              "      <td>[810, 36, 12, 152, 807, 809, 3, 4, 23, 21, 66,...</td>\n",
              "      <td>[0, 0, 0, 0, 0, 0, 0, 0, 0, 0, 0, 1, 1, 0, 0, ...</td>\n",
              "    </tr>\n",
              "    <tr>\n",
              "      <th>2010-05-31</th>\n",
              "      <td>[152, 809, 807, 3, 36, 810, 12, 23, 4, 21, 8, ...</td>\n",
              "      <td>[0, 0, 0, 0, 0, 0, 0, 0, 0, 0, 0, 1, 0, 0, 0, ...</td>\n",
              "    </tr>\n",
              "    <tr>\n",
              "      <th>2010-06-30</th>\n",
              "      <td>[12, 810, 36, 807, 3, 152, 809, 23, 4, 21, 8, ...</td>\n",
              "      <td>[1, 0, 0, 0, 1, 0, 0, 0, 0, 0, 0, 1, 0, 0, 0, ...</td>\n",
              "    </tr>\n",
              "    <tr>\n",
              "      <th>2010-07-30</th>\n",
              "      <td>[36, 810, 12, 809, 152, 807, 3, 23, 4, 21, 66,...</td>\n",
              "      <td>[0, 0, 0, 0, 0, 0, 1, 0, 0, 0, 0, 1, 1, 0, 0, ...</td>\n",
              "    </tr>\n",
              "    <tr>\n",
              "      <th>2010-08-29</th>\n",
              "      <td>[1, 21, 66, 19, 8, 809, 807, 3, 152, 810, 12, ...</td>\n",
              "      <td>[0, 0, 0, 1, 0, 0, 0, 1, 0, 0, 1, 0, 0, 0, 0, ...</td>\n",
              "    </tr>\n",
              "    <tr>\n",
              "      <th>2010-09-28</th>\n",
              "      <td>[23, 4, 810, 12, 152, 809, 3, 807, 66, 19, 8, ...</td>\n",
              "      <td>[0, 0, 0, 0, 0, 0, 1, 0, 0, 1, 0, 0, 0, 0, 0, ...</td>\n",
              "    </tr>\n",
              "    <tr>\n",
              "      <th>2010-10-28</th>\n",
              "      <td>[17, 9, 14, 154, 31, 15, 0, 16, 29, 2, 808, 1,...</td>\n",
              "      <td>[0, 0, 0, 0, 0, 0, 1, 1, 0, 0, 0, 0, 0, 0, 0, ...</td>\n",
              "    </tr>\n",
              "    <tr>\n",
              "      <th>2011-02-25</th>\n",
              "      <td>[15, 0, 16, 9, 17, 812, 813, 14, 154, 808, 29,...</td>\n",
              "      <td>[0, 1, 1, 0, 0, 0, 0, 0, 0, 0, 0, 0, 1, 0, 0, ...</td>\n",
              "    </tr>\n",
              "    <tr>\n",
              "      <th>2011-03-27</th>\n",
              "      <td>[38, 3, 152, 815, 12, 23, 4, 814, 1, 21, 19, 6...</td>\n",
              "      <td>[0, 0, 0, 0, 0, 0, 0, 0, 0, 0, 1, 0, 0, 0, 0, ...</td>\n",
              "    </tr>\n",
              "    <tr>\n",
              "      <th>2011-04-26</th>\n",
              "      <td>[9, 17, 813, 812, 14, 154, 0, 16, 15, 2, 29, 8...</td>\n",
              "      <td>[0, 0, 0, 0, 0, 0, 1, 1, 0, 1, 0, 0, 0, 0, 1, ...</td>\n",
              "    </tr>\n",
              "    <tr>\n",
              "      <th>2011-05-26</th>\n",
              "      <td>[23, 4, 814, 36, 815, 12, 152, 38, 3, 66, 19, ...</td>\n",
              "      <td>[0, 0, 0, 0, 0, 1, 0, 0, 1, 0, 1, 0, 0, 0, 0, ...</td>\n",
              "    </tr>\n",
              "    <tr>\n",
              "      <th>2011-06-25</th>\n",
              "      <td>[23, 4, 814, 152, 3, 38, 815, 12, 66, 19, 1, 2...</td>\n",
              "      <td>[0, 0, 0, 0, 1, 0, 0, 0, 0, 1, 0, 0, 0, 0, 0, ...</td>\n",
              "    </tr>\n",
              "    <tr>\n",
              "      <th>2011-07-25</th>\n",
              "      <td>[808, 816, 2, 29, 0, 16, 15, 9, 17, 812, 813, ...</td>\n",
              "      <td>[0, 0, 0, 0, 1, 0, 0, 0, 1, 0, 0, 0, 0, 0, 0, ...</td>\n",
              "    </tr>\n",
              "    <tr>\n",
              "      <th>2011-08-24</th>\n",
              "      <td>[23, 4, 814, 815, 12, 810, 152, 3, 66, 19, 21,...</td>\n",
              "      <td>[0, 0, 0, 0, 0, 0, 0, 0, 0, 1, 0, 0, 0, 0, 0, ...</td>\n",
              "    </tr>\n",
              "    <tr>\n",
              "      <th>2011-09-23</th>\n",
              "      <td>[815, 12, 810, 152, 3, 814, 4, 23, 21, 19, 66,...</td>\n",
              "      <td>[0, 0, 0, 0, 0, 0, 0, 0, 0, 1, 0, 0, 0, 0, 0, ...</td>\n",
              "    </tr>\n",
              "    <tr>\n",
              "      <th>2011-10-23</th>\n",
              "      <td>[815, 12, 810, 3, 152, 38, 4, 23, 814, 21, 19,...</td>\n",
              "      <td>[0, 0, 0, 0, 0, 0, 0, 0, 0, 0, 1, 0, 0, 0, 0, ...</td>\n",
              "    </tr>\n",
              "    <tr>\n",
              "      <th>2011-11-22</th>\n",
              "      <td>[17, 9, 812, 813, 154, 14, 0, 16, 15, 2, 29, 8...</td>\n",
              "      <td>[1, 0, 0, 0, 0, 0, 0, 1, 0, 0, 0, 0, 0, 0, 1, ...</td>\n",
              "    </tr>\n",
              "    <tr>\n",
              "      <th>2012-02-20</th>\n",
              "      <td>[7, 153, 19, 814, 4, 3, 807, 38, 810, 12, 36, ...</td>\n",
              "      <td>[0, 1, 0, 0, 0, 0, 0, 0, 0, 0, 0, 1, 0, 1, 0, ...</td>\n",
              "    </tr>\n",
              "    <tr>\n",
              "      <th>2012-03-21</th>\n",
              "      <td>[153, 19, 7, 12, 810, 36, 3, 807, 38, 814, 4, ...</td>\n",
              "      <td>[0, 0, 0, 0, 0, 0, 0, 0, 0, 0, 0, 1, 0, 0, 0, ...</td>\n",
              "    </tr>\n",
              "    <tr>\n",
              "      <th>2012-04-20</th>\n",
              "      <td>[29, 2, 816, 808, 817, 818, 17, 9, 813, 812, 1...</td>\n",
              "      <td>[0, 0, 0, 0, 0, 0, 0, 0, 0, 1, 0, 1, 1, 0, 0, ...</td>\n",
              "    </tr>\n",
              "    <tr>\n",
              "      <th>2012-05-20</th>\n",
              "      <td>[7, 153, 19, 4, 814, 807, 3, 38, 36, 810, 12, ...</td>\n",
              "      <td>[0, 0, 1, 0, 0, 0, 1, 0, 0, 0, 0, 1, 1, 0, 0, ...</td>\n",
              "    </tr>\n",
              "    <tr>\n",
              "      <th>2012-06-19</th>\n",
              "      <td>[0, 16, 17, 9, 812, 813, 154, 816, 817, 808, 8...</td>\n",
              "      <td>[1, 1, 0, 0, 1, 0, 0, 0, 0, 0, 0, 1, 0, 0, 0, ...</td>\n",
              "    </tr>\n",
              "    <tr>\n",
              "      <th>2012-07-19</th>\n",
              "      <td>[0, 16, 9, 17, 813, 812, 154, 816, 818, 808, 8...</td>\n",
              "      <td>[1, 1, 0, 0, 0, 0, 0, 0, 0, 0, 0, 0, 0, 0, 1, ...</td>\n",
              "    </tr>\n",
              "    <tr>\n",
              "      <th>2012-08-18</th>\n",
              "      <td>[17, 9, 812, 813, 154, 0, 16, 29, 2, 816, 818,...</td>\n",
              "      <td>[1, 0, 1, 0, 1, 1, 0, 0, 0, 0, 0, 0, 0, 0, 0, ...</td>\n",
              "    </tr>\n",
              "    <tr>\n",
              "      <th>2012-09-17</th>\n",
              "      <td>[816, 817, 808, 818, 29, 2, 0, 16, 17, 9, 813,...</td>\n",
              "      <td>[0, 0, 0, 0, 0, 0, 1, 1, 1, 0, 0, 1, 0, 0, 0, ...</td>\n",
              "    </tr>\n",
              "    <tr>\n",
              "      <th>2012-10-17</th>\n",
              "      <td>[0, 16, 17, 9, 813, 812, 154, 808, 818, 817, 8...</td>\n",
              "      <td>[1, 1, 0, 0, 0, 0, 0, 0, 0, 0, 0, 0, 0, 0, 1, ...</td>\n",
              "    </tr>\n",
              "    <tr>\n",
              "      <th>2012-11-16</th>\n",
              "      <td>[9, 17, 813, 812, 154, 0, 16, 29, 2, 816, 818,...</td>\n",
              "      <td>[0, 1, 0, 0, 0, 1, 1, 0, 0, 0, 0, 0, 0, 0, 0, ...</td>\n",
              "    </tr>\n",
              "    <tr>\n",
              "      <th>2013-03-16</th>\n",
              "      <td>[814, 821, 12, 807, 3, 153, 19, 7, 819, 820, 8...</td>\n",
              "      <td>[0, 0, 1, 0, 1, 0, 1, 1, 0, 0, 0, 0, 0, 0, 0, ...</td>\n",
              "    </tr>\n",
              "  </tbody>\n",
              "</table>\n",
              "</div>\n",
              "    <div class=\"colab-df-buttons\">\n",
              "\n",
              "  <div class=\"colab-df-container\">\n",
              "    <button class=\"colab-df-convert\" onclick=\"convertToInteractive('df-550e5579-fcdd-4071-877f-932f42e74553')\"\n",
              "            title=\"Convert this dataframe to an interactive table.\"\n",
              "            style=\"display:none;\">\n",
              "\n",
              "  <svg xmlns=\"http://www.w3.org/2000/svg\" height=\"24px\" viewBox=\"0 -960 960 960\">\n",
              "    <path d=\"M120-120v-720h720v720H120Zm60-500h600v-160H180v160Zm220 220h160v-160H400v160Zm0 220h160v-160H400v160ZM180-400h160v-160H180v160Zm440 0h160v-160H620v160ZM180-180h160v-160H180v160Zm440 0h160v-160H620v160Z\"/>\n",
              "  </svg>\n",
              "    </button>\n",
              "\n",
              "  <style>\n",
              "    .colab-df-container {\n",
              "      display:flex;\n",
              "      gap: 12px;\n",
              "    }\n",
              "\n",
              "    .colab-df-convert {\n",
              "      background-color: #E8F0FE;\n",
              "      border: none;\n",
              "      border-radius: 50%;\n",
              "      cursor: pointer;\n",
              "      display: none;\n",
              "      fill: #1967D2;\n",
              "      height: 32px;\n",
              "      padding: 0 0 0 0;\n",
              "      width: 32px;\n",
              "    }\n",
              "\n",
              "    .colab-df-convert:hover {\n",
              "      background-color: #E2EBFA;\n",
              "      box-shadow: 0px 1px 2px rgba(60, 64, 67, 0.3), 0px 1px 3px 1px rgba(60, 64, 67, 0.15);\n",
              "      fill: #174EA6;\n",
              "    }\n",
              "\n",
              "    .colab-df-buttons div {\n",
              "      margin-bottom: 4px;\n",
              "    }\n",
              "\n",
              "    [theme=dark] .colab-df-convert {\n",
              "      background-color: #3B4455;\n",
              "      fill: #D2E3FC;\n",
              "    }\n",
              "\n",
              "    [theme=dark] .colab-df-convert:hover {\n",
              "      background-color: #434B5C;\n",
              "      box-shadow: 0px 1px 3px 1px rgba(0, 0, 0, 0.15);\n",
              "      filter: drop-shadow(0px 1px 2px rgba(0, 0, 0, 0.3));\n",
              "      fill: #FFFFFF;\n",
              "    }\n",
              "  </style>\n",
              "\n",
              "    <script>\n",
              "      const buttonEl =\n",
              "        document.querySelector('#df-550e5579-fcdd-4071-877f-932f42e74553 button.colab-df-convert');\n",
              "      buttonEl.style.display =\n",
              "        google.colab.kernel.accessAllowed ? 'block' : 'none';\n",
              "\n",
              "      async function convertToInteractive(key) {\n",
              "        const element = document.querySelector('#df-550e5579-fcdd-4071-877f-932f42e74553');\n",
              "        const dataTable =\n",
              "          await google.colab.kernel.invokeFunction('convertToInteractive',\n",
              "                                                    [key], {});\n",
              "        if (!dataTable) return;\n",
              "\n",
              "        const docLinkHtml = 'Like what you see? Visit the ' +\n",
              "          '<a target=\"_blank\" href=https://colab.research.google.com/notebooks/data_table.ipynb>data table notebook</a>'\n",
              "          + ' to learn more about interactive tables.';\n",
              "        element.innerHTML = '';\n",
              "        dataTable['output_type'] = 'display_data';\n",
              "        await google.colab.output.renderOutput(dataTable, element);\n",
              "        const docLink = document.createElement('div');\n",
              "        docLink.innerHTML = docLinkHtml;\n",
              "        element.appendChild(docLink);\n",
              "      }\n",
              "    </script>\n",
              "  </div>\n",
              "\n",
              "\n",
              "    <div id=\"df-de746672-55bd-448d-8c26-44f5171c8164\">\n",
              "      <button class=\"colab-df-quickchart\" onclick=\"quickchart('df-de746672-55bd-448d-8c26-44f5171c8164')\"\n",
              "                title=\"Suggest charts\"\n",
              "                style=\"display:none;\">\n",
              "\n",
              "<svg xmlns=\"http://www.w3.org/2000/svg\" height=\"24px\"viewBox=\"0 0 24 24\"\n",
              "     width=\"24px\">\n",
              "    <g>\n",
              "        <path d=\"M19 3H5c-1.1 0-2 .9-2 2v14c0 1.1.9 2 2 2h14c1.1 0 2-.9 2-2V5c0-1.1-.9-2-2-2zM9 17H7v-7h2v7zm4 0h-2V7h2v10zm4 0h-2v-4h2v4z\"/>\n",
              "    </g>\n",
              "</svg>\n",
              "      </button>\n",
              "\n",
              "<style>\n",
              "  .colab-df-quickchart {\n",
              "      --bg-color: #E8F0FE;\n",
              "      --fill-color: #1967D2;\n",
              "      --hover-bg-color: #E2EBFA;\n",
              "      --hover-fill-color: #174EA6;\n",
              "      --disabled-fill-color: #AAA;\n",
              "      --disabled-bg-color: #DDD;\n",
              "  }\n",
              "\n",
              "  [theme=dark] .colab-df-quickchart {\n",
              "      --bg-color: #3B4455;\n",
              "      --fill-color: #D2E3FC;\n",
              "      --hover-bg-color: #434B5C;\n",
              "      --hover-fill-color: #FFFFFF;\n",
              "      --disabled-bg-color: #3B4455;\n",
              "      --disabled-fill-color: #666;\n",
              "  }\n",
              "\n",
              "  .colab-df-quickchart {\n",
              "    background-color: var(--bg-color);\n",
              "    border: none;\n",
              "    border-radius: 50%;\n",
              "    cursor: pointer;\n",
              "    display: none;\n",
              "    fill: var(--fill-color);\n",
              "    height: 32px;\n",
              "    padding: 0;\n",
              "    width: 32px;\n",
              "  }\n",
              "\n",
              "  .colab-df-quickchart:hover {\n",
              "    background-color: var(--hover-bg-color);\n",
              "    box-shadow: 0 1px 2px rgba(60, 64, 67, 0.3), 0 1px 3px 1px rgba(60, 64, 67, 0.15);\n",
              "    fill: var(--button-hover-fill-color);\n",
              "  }\n",
              "\n",
              "  .colab-df-quickchart-complete:disabled,\n",
              "  .colab-df-quickchart-complete:disabled:hover {\n",
              "    background-color: var(--disabled-bg-color);\n",
              "    fill: var(--disabled-fill-color);\n",
              "    box-shadow: none;\n",
              "  }\n",
              "\n",
              "  .colab-df-spinner {\n",
              "    border: 2px solid var(--fill-color);\n",
              "    border-color: transparent;\n",
              "    border-bottom-color: var(--fill-color);\n",
              "    animation:\n",
              "      spin 1s steps(1) infinite;\n",
              "  }\n",
              "\n",
              "  @keyframes spin {\n",
              "    0% {\n",
              "      border-color: transparent;\n",
              "      border-bottom-color: var(--fill-color);\n",
              "      border-left-color: var(--fill-color);\n",
              "    }\n",
              "    20% {\n",
              "      border-color: transparent;\n",
              "      border-left-color: var(--fill-color);\n",
              "      border-top-color: var(--fill-color);\n",
              "    }\n",
              "    30% {\n",
              "      border-color: transparent;\n",
              "      border-left-color: var(--fill-color);\n",
              "      border-top-color: var(--fill-color);\n",
              "      border-right-color: var(--fill-color);\n",
              "    }\n",
              "    40% {\n",
              "      border-color: transparent;\n",
              "      border-right-color: var(--fill-color);\n",
              "      border-top-color: var(--fill-color);\n",
              "    }\n",
              "    60% {\n",
              "      border-color: transparent;\n",
              "      border-right-color: var(--fill-color);\n",
              "    }\n",
              "    80% {\n",
              "      border-color: transparent;\n",
              "      border-right-color: var(--fill-color);\n",
              "      border-bottom-color: var(--fill-color);\n",
              "    }\n",
              "    90% {\n",
              "      border-color: transparent;\n",
              "      border-bottom-color: var(--fill-color);\n",
              "    }\n",
              "  }\n",
              "</style>\n",
              "\n",
              "      <script>\n",
              "        async function quickchart(key) {\n",
              "          const quickchartButtonEl =\n",
              "            document.querySelector('#' + key + ' button');\n",
              "          quickchartButtonEl.disabled = true;  // To prevent multiple clicks.\n",
              "          quickchartButtonEl.classList.add('colab-df-spinner');\n",
              "          try {\n",
              "            const charts = await google.colab.kernel.invokeFunction(\n",
              "                'suggestCharts', [key], {});\n",
              "          } catch (error) {\n",
              "            console.error('Error during call to suggestCharts:', error);\n",
              "          }\n",
              "          quickchartButtonEl.classList.remove('colab-df-spinner');\n",
              "          quickchartButtonEl.classList.add('colab-df-quickchart-complete');\n",
              "        }\n",
              "        (() => {\n",
              "          let quickchartButtonEl =\n",
              "            document.querySelector('#df-de746672-55bd-448d-8c26-44f5171c8164 button');\n",
              "          quickchartButtonEl.style.display =\n",
              "            google.colab.kernel.accessAllowed ? 'block' : 'none';\n",
              "        })();\n",
              "      </script>\n",
              "    </div>\n",
              "\n",
              "  <div id=\"id_52d96aef-ec88-4da4-929d-af55297cd488\">\n",
              "    <style>\n",
              "      .colab-df-generate {\n",
              "        background-color: #E8F0FE;\n",
              "        border: none;\n",
              "        border-radius: 50%;\n",
              "        cursor: pointer;\n",
              "        display: none;\n",
              "        fill: #1967D2;\n",
              "        height: 32px;\n",
              "        padding: 0 0 0 0;\n",
              "        width: 32px;\n",
              "      }\n",
              "\n",
              "      .colab-df-generate:hover {\n",
              "        background-color: #E2EBFA;\n",
              "        box-shadow: 0px 1px 2px rgba(60, 64, 67, 0.3), 0px 1px 3px 1px rgba(60, 64, 67, 0.15);\n",
              "        fill: #174EA6;\n",
              "      }\n",
              "\n",
              "      [theme=dark] .colab-df-generate {\n",
              "        background-color: #3B4455;\n",
              "        fill: #D2E3FC;\n",
              "      }\n",
              "\n",
              "      [theme=dark] .colab-df-generate:hover {\n",
              "        background-color: #434B5C;\n",
              "        box-shadow: 0px 1px 3px 1px rgba(0, 0, 0, 0.15);\n",
              "        filter: drop-shadow(0px 1px 2px rgba(0, 0, 0, 0.3));\n",
              "        fill: #FFFFFF;\n",
              "      }\n",
              "    </style>\n",
              "    <button class=\"colab-df-generate\" onclick=\"generateWithVariable('nested_test_df')\"\n",
              "            title=\"Generate code using this dataframe.\"\n",
              "            style=\"display:none;\">\n",
              "\n",
              "  <svg xmlns=\"http://www.w3.org/2000/svg\" height=\"24px\"viewBox=\"0 0 24 24\"\n",
              "       width=\"24px\">\n",
              "    <path d=\"M7,19H8.4L18.45,9,17,7.55,7,17.6ZM5,21V16.75L18.45,3.32a2,2,0,0,1,2.83,0l1.4,1.43a1.91,1.91,0,0,1,.58,1.4,1.91,1.91,0,0,1-.58,1.4L9.25,21ZM18.45,9,17,7.55Zm-12,3A5.31,5.31,0,0,0,4.9,8.1,5.31,5.31,0,0,0,1,6.5,5.31,5.31,0,0,0,4.9,4.9,5.31,5.31,0,0,0,6.5,1,5.31,5.31,0,0,0,8.1,4.9,5.31,5.31,0,0,0,12,6.5,5.46,5.46,0,0,0,6.5,12Z\"/>\n",
              "  </svg>\n",
              "    </button>\n",
              "    <script>\n",
              "      (() => {\n",
              "      const buttonEl =\n",
              "        document.querySelector('#id_52d96aef-ec88-4da4-929d-af55297cd488 button.colab-df-generate');\n",
              "      buttonEl.style.display =\n",
              "        google.colab.kernel.accessAllowed ? 'block' : 'none';\n",
              "\n",
              "      buttonEl.onclick = () => {\n",
              "        google.colab.notebook.generateWithVariable('nested_test_df');\n",
              "      }\n",
              "      })();\n",
              "    </script>\n",
              "  </div>\n",
              "\n",
              "    </div>\n",
              "  </div>\n"
            ],
            "application/vnd.google.colaboratory.intrinsic+json": {
              "type": "dataframe",
              "variable_name": "nested_test_df",
              "summary": "{\n  \"name\": \"nested_test_df\",\n  \"rows\": 30,\n  \"fields\": [\n    {\n      \"column\": \"date\",\n      \"properties\": {\n        \"dtype\": \"date\",\n        \"min\": \"2010-03-02 00:00:00\",\n        \"max\": \"2013-03-16 00:00:00\",\n        \"num_unique_values\": 30,\n        \"samples\": [\n          \"2012-10-17 00:00:00\",\n          \"2011-08-24 00:00:00\",\n          \"2012-06-19 00:00:00\"\n        ],\n        \"semantic_type\": \"\",\n        \"description\": \"\"\n      }\n    },\n    {\n      \"column\": \"driverId\",\n      \"properties\": {\n        \"dtype\": \"object\",\n        \"semantic_type\": \"\",\n        \"description\": \"\"\n      }\n    },\n    {\n      \"column\": \"qualifying\",\n      \"properties\": {\n        \"dtype\": \"object\",\n        \"semantic_type\": \"\",\n        \"description\": \"\"\n      }\n    }\n  ]\n}"
            }
          },
          "metadata": {}
        }
      ]
    },
    {
      "cell_type": "markdown",
      "source": [
        "Afterwards, we can predict on each batch of entities (up to `1000`) that share the same anchor timestamp. This time, we pass an absolute `anchor_time` to each `model.predict(...)` call (which corresponds to the timestamp of the test set for the entities we are making a prediction for):"
      ],
      "metadata": {
        "id": "NVNRdnaPmbzi"
      }
    },
    {
      "cell_type": "code",
      "source": [
        "import tqdm\n",
        "import numpy as np\n",
        "\n",
        "ys_test = []\n",
        "ys_pred = []\n",
        "for i, (anchor_time, indices, y_test) in enumerate(tqdm.tqdm(test_indices)):\n",
        "    _query = query.format(indices=', '.join(str(i) for i in indices))\n",
        "    df = model.predict(\n",
        "        _query,\n",
        "        run_mode='best',\n",
        "        anchor_time=anchor_time,\n",
        "        max_pq_iterations=200,  # Ensure enough context labels are found.\n",
        "        verbose=i == 0,  # Prevent excessive logging.\n",
        "    )\n",
        "    ys_pred.append(df['True_PROB'].to_numpy())\n",
        "    ys_test.append(np.array(y_test))\n",
        "\n",
        "y_pred = np.concatenate(ys_pred)\n",
        "y_test = np.concatenate(ys_test)"
      ],
      "metadata": {
        "colab": {
          "base_uri": "https://localhost:8080/",
          "height": 124,
          "referenced_widgets": [
            "18d8a31ba1a448ea84a35d4ff8001ee4",
            "beba84362b1d476d8ca7faba8dbdf163"
          ]
        },
        "id": "kcQHYNsPmYlH",
        "outputId": "1f59cab4-bad7-4af1-91e4-6f7ecd3e521b"
      },
      "execution_count": null,
      "outputs": [
        {
          "output_type": "stream",
          "name": "stderr",
          "text": [
            "\r  0%|          | 0/20 [00:00<?, ?it/s]"
          ]
        },
        {
          "output_type": "display_data",
          "data": {
            "text/plain": [
              "Output()"
            ],
            "application/vnd.jupyter.widget-view+json": {
              "version_major": 2,
              "version_minor": 0,
              "model_id": "18d8a31ba1a448ea84a35d4ff8001ee4"
            }
          },
          "metadata": {}
        },
        {
          "output_type": "display_data",
          "data": {
            "text/plain": [],
            "text/html": [
              "<pre style=\"white-space:pre;overflow-x:auto;line-height:normal;font-family:Menlo,'DejaVu Sans Mono',consolas,'Courier New',monospace\"></pre>\n"
            ]
          },
          "metadata": {}
        },
        {
          "output_type": "stream",
          "name": "stderr",
          "text": [
            "100%|██████████| 20/20 [01:27<00:00,  4.38s/it]\n"
          ]
        }
      ]
    },
    {
      "cell_type": "markdown",
      "source": [
        "One thing to point out here is that we utilize **`max_pq_iterations`** and increase its initial value from `20` to `200`. We do this in order to find sufficient context labels in the data. Often times, no adjustments are needed to the default setting, but if your predictive query comes with restrictive entity filters (*e.g.*, in our case we are only operating on active drivers defined via the `MIN` clause), it might be beneficial to increase this value in order to ensure that sufficient valid entity/timestamp pairs are found to form context."
      ],
      "metadata": {
        "id": "pque2zQmyVJ4"
      }
    },
    {
      "cell_type": "markdown",
      "source": [
        "Finally, we are ready to compute metrics on top:"
      ],
      "metadata": {
        "id": "ppwsqNJRoH8-"
      }
    },
    {
      "cell_type": "code",
      "source": [
        "from sklearn.metrics import roc_auc_score\n",
        "\n",
        "print(f'AUROC: {roc_auc_score(y_test, y_pred):.4f}')"
      ],
      "metadata": {
        "colab": {
          "base_uri": "https://localhost:8080/"
        },
        "id": "9jfNWWwxoG_z",
        "outputId": "dbd7a690-5872-49f5-ed51-8c3a04c5b5ae"
      },
      "execution_count": null,
      "outputs": [
        {
          "output_type": "stream",
          "name": "stdout",
          "text": [
            "AUROC: 0.9346\n"
          ]
        }
      ]
    },
    {
      "cell_type": "markdown",
      "source": [
        "Note that the AUROC reported here is a bit better than what we previously reported. This is due to the fact that the `driver-top3` comes with multiple test timestamps. In the predictive query setup, all information before the current `anchor_time` will be used to generate context (*i.e.* previous test timestamps can be used as part of the context), while in the context table approach, context of other test timestamps is explicitly prohibited."
      ],
      "metadata": {
        "id": "-spSkwONy87i"
      }
    }
  ]
}