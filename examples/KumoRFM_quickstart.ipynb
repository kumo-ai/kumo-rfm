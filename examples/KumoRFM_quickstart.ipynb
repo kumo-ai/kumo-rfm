{
  "cells": [
    {
      "cell_type": "markdown",
      "metadata": {
        "id": "3QiMeqVqYaU3"
      },
      "source": [
        "# KumoRFM quickstart\n",
        "\n",
        "KumoRFM is a Foundation Model for machine learning on enterprise data. With just your data and a few lines of code, you can generate accurate predictions in realtime—no model training or pipelines required (see [blog](https://kumo.ai/company/news/kumo-relational-foundation-model/) | [paper](https://kumo.ai/research/kumo_relational_foundation_model.pdf)).\n",
        "\n",
        "\n",
        "This notebook shows you how to use KumoRFM."
      ],
      "id": "3QiMeqVqYaU3"
    },
    {
      "cell_type": "markdown",
      "metadata": {
        "id": "HKJCzrCTYaU3"
      },
      "source": [
        "## Introduction\n",
        "\n",
        "KumoRFM is grounded in three key worldviews:\n",
        "\n",
        "### Worldview 1: Enterprise data is a graph\n",
        "\n",
        "Enterprise data is a graph where tables are connected by keys.   \n",
        "Below is an example database where `ITEMS` table and `ORDERS` table are linked by `item_id`.\n",
        "\n",
        "<div align=\"left\">\n",
        "  <img src=\"https://kumo-sdk-public.s3.us-west-2.amazonaws.com/rfm-colabs/relational-database.png\"\n",
        "       alt=\"relational database as a graph\"\n",
        "       width=\"500\"\n",
        "</div>\n",
        "\n",
        "Once we structure enterprise data as a graph, we can apply pretrained graph transformers to extract insights and patterns.\n",
        "\n",
        "### Worldview 2: With timestamp, we place events on a timeline\n",
        "\n",
        "By placing events on a timeline, we unlock the ability to model how things evolve over time. This makes it possible to select any point in time and predict what is likely to happen next, based on the sequence and patterns in historical data.\n",
        "\n",
        "<div align=\"left\">\n",
        "  <img src=\"https://kumo-sdk-public.s3.us-west-2.amazonaws.com/rfm-colabs/timeline.png\"\n",
        "       alt=\"timeline\"\n",
        "       width=\"300\"\n",
        "</div>\n",
        "\n",
        "### Worldview 3: Machine learning tasks can be described by Predictive Query (pQuery)\n",
        "\n",
        "All major machine learning tasks—regression, classification, recommendation—can be defined using a Predictive Query (pQuery).\n",
        "\n",
        "<div align=\"left\">\n",
        "  <img src=\"https://kumo-sdk-public.s3.us-west-2.amazonaws.com/rfm-colabs/predictive-query-multiple.png\"\n",
        "       alt=\"predictive query\"\n",
        "       width=\"600\"\n",
        "</div>\n",
        "\n",
        "If you know SQL, picking up pQuery is a breeze—it’ll feel familiar right away.\n",
        "\n",
        "Learn more about pQuery [here](https://kumo.ai/docs/pquery-structure).\n",
        "\n",
        "### Let's get started!"
      ],
      "id": "HKJCzrCTYaU3"
    },
    {
      "cell_type": "markdown",
      "metadata": {
        "id": "psushpJFYaU4"
      },
      "source": [
        "## Step 1. Install an SDK\n",
        "\n",
        "KumoRFM provides [SDK](https://kumo-ai.github.io/kumo-sdk/docs/get_started/rfm/index.html) in Python.\n",
        "\n",
        "Note: The Kumo SDK is available for Python 3.9 to Python 3.13."
      ],
      "id": "psushpJFYaU4"
    },
    {
      "cell_type": "code",
      "execution_count": null,
      "metadata": {
        "scrolled": true,
        "id": "ro8qKwXAYaU4"
      },
      "outputs": [],
      "source": [
        "!pip install kumoai"
      ],
      "id": "ro8qKwXAYaU4"
    },
    {
      "cell_type": "code",
      "execution_count": null,
      "metadata": {
        "id": "3b73a9a4-2bd6-438b-9b7b-91583cf2d85d"
      },
      "outputs": [],
      "source": [
        "import os\n",
        "import kumoai as kumo\n",
        "import kumoai.experimental.rfm as rfm"
      ],
      "id": "3b73a9a4-2bd6-438b-9b7b-91583cf2d85d"
    },
    {
      "cell_type": "markdown",
      "metadata": {
        "id": "xr7eIPGuYaU4"
      },
      "source": [
        "## Step 2. Get an API key\n",
        "\n",
        "You'll need an API key to make calls to KumoRFM,\n",
        "\n",
        "Use the widget below to generate a key. Click \"Generate API Key\". If you don't have a KumoRFM account, the widget will prompt you to signup.\n",
        "\n",
        "You'll see the following when your key has been created.\n",
        "\n",
        "<div align=\"left\">\n",
        "  <img src=\"https://kumo-sdk-public.s3.us-west-2.amazonaws.com/rfm-colabs/api-key-created.png\"\n",
        "       alt=\"timeline\"\n",
        "       width=\"400\"\n",
        "</div>\n"
      ],
      "id": "xr7eIPGuYaU4"
    },
    {
      "cell_type": "code",
      "execution_count": null,
      "metadata": {
        "id": "f605319a-80ad-45d0-950d-b17fc3e50499"
      },
      "outputs": [],
      "source": [
        "if not os.environ.get(\"KUMO_API_KEY\"):\n",
        "    rfm.authenticate()"
      ],
      "id": "f605319a-80ad-45d0-950d-b17fc3e50499"
    },
    {
      "cell_type": "markdown",
      "metadata": {
        "id": "FpYcu6NQYaU5"
      },
      "source": [
        "## Step 3. Initialize a client\n",
        "\n",
        "If you complete Step2 via the widget, you don't need to change anything. KUMO_API_KEY is already set as environment variable.\n",
        "\n",
        "If you bring the API key from the website, you can manually change the KUMO_API_KEY below.\n"
      ],
      "id": "FpYcu6NQYaU5"
    },
    {
      "cell_type": "code",
      "execution_count": null,
      "metadata": {
        "id": "r7HX2s1iYaU5"
      },
      "outputs": [],
      "source": [
        "# Initialize a Kumo client with your API key\n",
        "\n",
        "KUMO_API_KEY = os.environ.get(\"KUMO_API_KEY\")\n",
        "\n",
        "rfm.init(\n",
        "    api_key=KUMO_API_KEY,\n",
        ")"
      ],
      "id": "r7HX2s1iYaU5"
    },
    {
      "cell_type": "markdown",
      "metadata": {
        "id": "RvRgi0DaYaU5"
      },
      "source": [
        "## Step 4. Import your data\n",
        "\n",
        "We only support Pandas DataFrames as input currently."
      ],
      "id": "RvRgi0DaYaU5"
    },
    {
      "cell_type": "code",
      "execution_count": null,
      "metadata": {
        "id": "uGUWXhbsYaU5"
      },
      "outputs": [],
      "source": [
        "import pandas as pd\n",
        "\n",
        "# You can use pd.read_csv to read csv files\n",
        "\n",
        "users_df = pd.read_parquet(f's3://kumo-sdk-public/rfm-datasets/online-shopping/users.parquet')\n",
        "items_df = pd.read_parquet(f's3://kumo-sdk-public/rfm-datasets/online-shopping/items.parquet')\n",
        "orders_df = pd.read_parquet(f's3://kumo-sdk-public/rfm-datasets/online-shopping/orders.parquet')"
      ],
      "id": "uGUWXhbsYaU5"
    },
    {
      "cell_type": "code",
      "execution_count": null,
      "metadata": {
        "id": "da29027e-e7df-4784-8801-3ffdb91bb3dd"
      },
      "outputs": [],
      "source": [
        "# Example: Inspect a pandas dataframe\n",
        "users_df.head(3)"
      ],
      "id": "da29027e-e7df-4784-8801-3ffdb91bb3dd"
    },
    {
      "cell_type": "code",
      "source": [
        "# Example: Inspect a pandas dataframe's dtype\n",
        "users_df.dtypes"
      ],
      "metadata": {
        "id": "_R7ucgfDrWcQ"
      },
      "id": "_R7ucgfDrWcQ",
      "execution_count": null,
      "outputs": []
    },
    {
      "cell_type": "code",
      "execution_count": null,
      "metadata": {
        "id": "6903924f-2d25-45fc-a755-661c9f5fdbb3"
      },
      "outputs": [],
      "source": [
        "# Example: Change a column to int dtype\n",
        "# Here the user_id should be infered correctly (no change needed).\n",
        "# The code example can come handy when you want to change other columns.\n",
        "users_df['user_id'] = users_df['user_id'].astype(int)"
      ],
      "id": "6903924f-2d25-45fc-a755-661c9f5fdbb3"
    },
    {
      "cell_type": "markdown",
      "metadata": {
        "id": "PXUd-a9KYaU6"
      },
      "source": [
        "## Step 5. Create local tables\n",
        "\n",
        "How it works: A LocalTable acts as a lightweight abstraction of a pandas DataFrame, providing additional integration.\n",
        "\n",
        "The local table defines 3 critical things about the table:\n",
        "\n",
        "(1) **Semantic type:** How data will be encoded. For instance, int can be encoded differently as ID or numercial or categorical, depending on the actual meaning of the data. (see reference at the end of this section)\n",
        "\n",
        "(2) **Primary key**: defines the column where other tables can be linked to this table. (e.g. `user_id` is the primary key in the `users` table)\n",
        "\n",
        "(3) **Time column**: defines when an event happens (e.g. timestamp)"
      ],
      "id": "PXUd-a9KYaU6"
    },
    {
      "cell_type": "code",
      "execution_count": null,
      "metadata": {
        "scrolled": true,
        "id": "_OiiUzNkYaU6"
      },
      "outputs": [],
      "source": [
        "# KumoRFM is smart enough to infer most things correctly\n",
        "# But you might still want to inspect the results of inferred metadata\n",
        "\n",
        "users_table = rfm.LocalTable(df = users_df, name = \"users\").infer_metadata()\n",
        "items_table = rfm.LocalTable(df = items_df, name = \"items\").infer_metadata()\n",
        "orders_table = rfm.LocalTable(df = orders_df, name = \"orders\").infer_metadata()"
      ],
      "id": "_OiiUzNkYaU6"
    },
    {
      "cell_type": "code",
      "source": [
        "# Tip: If you prefer more explicit control, you can manually assign metadata during table creation instead of relying on automatic inference.\n",
        "orders_table = rfm.LocalTable(\n",
        "    df=orders_df,\n",
        "    name=\"orders\",\n",
        "    primary_key=\"order_id\",\n",
        "    time_column=\"date\"\n",
        ")\n"
      ],
      "metadata": {
        "id": "chEiUDg0JU3Y"
      },
      "id": "chEiUDg0JU3Y",
      "execution_count": null,
      "outputs": []
    },
    {
      "cell_type": "code",
      "execution_count": null,
      "metadata": {
        "id": "Iw76LJe9YaU6"
      },
      "outputs": [],
      "source": [
        "# Example: Inspect a local table\n",
        "users_table.print_metadata()"
      ],
      "id": "Iw76LJe9YaU6"
    },
    {
      "cell_type": "code",
      "execution_count": null,
      "metadata": {
        "id": "E4pCdy4BYaU6"
      },
      "outputs": [],
      "source": [
        "# Example: Update local table metadata\n",
        "\n",
        "# Set stype\n",
        "users_table['user_id'].stype = \"ID\"\n",
        "users_table['age'].stype = \"numerical\"\n",
        "\n",
        "# Set primary key\n",
        "users_table.primary_key = \"user_id\"\n",
        "\n",
        "# Set time column\n",
        "orders_table.time_column = \"date\""
      ],
      "id": "E4pCdy4BYaU6"
    },
    {
      "cell_type": "markdown",
      "source": [
        "Quick Reference:\n",
        "\n",
        "(1) `stype` (semantic type)\n",
        "- `stype` will determine how the column will be encoded.\n",
        "- `stype` will determine the column's eligibility for special roles such as `is_time_column` and `is_primary_key`.\n",
        "- Correctly setting each column’s stype is critical for model performance. For instance, you want to set stype to be `numeric` when it's a regression task, set stype to be `categorical` when it's a classification task, and set stype to be `ID` when it's a link-prediction (e.g. item recommendation) task.\n",
        "\n",
        "(2) `is_primary_key`\n",
        "- Indicate the column that will be used as primary key to link with other tables. For instance, `user_id` should be the primary key for `users_table`.\n",
        "- In relational database, primary key needs to be unique. If there're duplicated primary keys, the system will keep only one.\n",
        "- `is_primary_key` can only be assigned to a column with ID stype.\n",
        "- Each table can have at most one `primary_key` column\n",
        "\n",
        "(3) `is_time_column`\n",
        "- Indicate the timestamp column to record when the event happens. Note:\n",
        "- `is_time_column` can only be assigned to a column with `timestamp` stype.\n",
        "- Each table can have at most one `time_column` column\n",
        "\n",
        "\n",
        "Quick reference on stype\n",
        "\n",
        "| Type            | Explanation                                                                | Example                                                                 |\n",
        "|-----------------|----------------------------------------------------------------------------|-------------------------------------------------------------------------|\n",
        "| numerical       | Numerical values (e.g. price, age)                                         | 25, 3.14, -10                                                           |\n",
        "| categorical     | Discrete categories with limited cardinality                               | Color: red, blue, green (One field can have only one category)         |\n",
        "| multicategorical| Multiple categories in a single field                                      | One field can have multiple categories simultaneously, e.g., \"Action, Drama\" or \"Comedy, Action, Thriller\" |\n",
        "| ID              | Unique identifiers                                                         | user_id: 123, product_id: PRD-8729453                                   |\n",
        "| text            | Natural language text                                                      | descriptions, sentences                                                 |\n",
        "| timestamp       | Specific point in time                                                     | 2025-07-11 09:47:58                                                     |\n",
        "| sequence        | Embedding                                                                  | [0.25, -0.75, 0.50, ...] (text embedding)                               |\n"
      ],
      "metadata": {
        "id": "HeISl7332Zgr"
      },
      "id": "HeISl7332Zgr"
    },
    {
      "cell_type": "markdown",
      "metadata": {
        "id": "T4fEPffRYaU7"
      },
      "source": [
        "## Step 6. Create a graph in two simple steps\n",
        "\n",
        "How do you get started with a graph? What tables should you include?\n",
        "\n",
        "A good guiding principle is to start simple: begin with just the minimal set of tables needed to support the prediction task you care about. Focus on the core entities and relationships essential to prediction.\n",
        "\n",
        "For example, suppose your goal is to predict a user's future orders. At a minimum, your graph only needs two tables:\n",
        "\n",
        "- `users` – representing each user\n",
        "- `orders` – representing the orders placed by those users\n",
        "\n",
        "This minimal setup forms a usable graph for prediction. From there, you can gradually add complexity. For instance, you might later introduce an `items` table, so that RFM can take into account item information.\n"
      ],
      "id": "T4fEPffRYaU7"
    },
    {
      "cell_type": "markdown",
      "metadata": {
        "id": "243f4660-42a4-42b8-b0bb-e90d368ee5af"
      },
      "source": [
        "### (1) Select the tables"
      ],
      "id": "243f4660-42a4-42b8-b0bb-e90d368ee5af"
    },
    {
      "cell_type": "code",
      "execution_count": null,
      "metadata": {
        "id": "4682348b-71ef-47e1-a2b6-e31f434376cd"
      },
      "outputs": [],
      "source": [
        "graph = rfm.LocalGraph(tables=[users_table, orders_table, items_table])"
      ],
      "id": "4682348b-71ef-47e1-a2b6-e31f434376cd"
    },
    {
      "cell_type": "markdown",
      "source": [
        "### (2) Link the tables"
      ],
      "metadata": {
        "id": "paVYw02AUd01"
      },
      "id": "paVYw02AUd01"
    },
    {
      "cell_type": "code",
      "execution_count": null,
      "metadata": {
        "id": "pcwsiX_AYaU7"
      },
      "outputs": [],
      "source": [
        "graph.link(src_table=\"orders\", fkey=\"user_id\", dst_table=\"users\")\n",
        "\n",
        "# Interpretation:\n",
        "# In `orders` table (src_table), there's a column named `user_id` (foreign key),\n",
        "# that can be linked to the primary key in the `users` table (dst_table).\n",
        "# Note:\n",
        "# (1) You don't need to specify the column name of primary key here since it's already known in the `users` table meta data.\n",
        "# (2) You cannot swap the order of the two tables in the graph.link(...) call.\n",
        "# Because the src_table is where the foreign key lives, and the dst_table is where the referenced primary key resides."
      ],
      "id": "pcwsiX_AYaU7"
    },
    {
      "cell_type": "code",
      "execution_count": null,
      "metadata": {
        "id": "696291cf-a60c-4854-9252-43384c3b3b91"
      },
      "outputs": [],
      "source": [
        "graph.link(src_table=\"orders\", fkey=\"item_id\", dst_table=\"items\")"
      ],
      "id": "696291cf-a60c-4854-9252-43384c3b3b91"
    },
    {
      "cell_type": "code",
      "execution_count": null,
      "metadata": {
        "scrolled": true,
        "id": "rpr9kic2YaU7"
      },
      "outputs": [],
      "source": [
        "# Inspect the graph\n",
        "\n",
        "# Method 1: Visualize the graph\n",
        "graph.visualize()"
      ],
      "id": "rpr9kic2YaU7"
    },
    {
      "cell_type": "code",
      "execution_count": null,
      "metadata": {
        "id": "ajMhnesnYaU7"
      },
      "outputs": [],
      "source": [
        "# Method 2: print the graph, it'll show a simplified version, suitable for users who are already familiar with graph\n",
        "graph.print_metadata()\n",
        "graph.print_links()"
      ],
      "id": "ajMhnesnYaU7"
    },
    {
      "cell_type": "markdown",
      "metadata": {
        "id": "DbptB-ckYaU8"
      },
      "source": [
        "### (3) Update links as needed"
      ],
      "id": "DbptB-ckYaU8"
    },
    {
      "cell_type": "code",
      "execution_count": null,
      "metadata": {
        "id": "F9jeyapsYaU8"
      },
      "outputs": [],
      "source": [
        "# Remove link\n",
        "graph.unlink(src_table=\"orders\", fkey=\"user_id\", dst_table=\"users\")\n",
        "\n",
        "# Add link\n",
        "graph.link(src_table=\"orders\", fkey=\"user_id\", dst_table=\"users\")"
      ],
      "id": "F9jeyapsYaU8"
    },
    {
      "cell_type": "markdown",
      "metadata": {
        "id": "Iegen4I8YaU8"
      },
      "source": [
        "## Step 7. Write a predictive query\n",
        "\n",
        "Note: The data is synthetic, and the query and results are intended for demo. We encourage you to benchmark the model using your own data."
      ],
      "id": "Iegen4I8YaU8"
    },
    {
      "cell_type": "code",
      "source": [
        "# create the model for your graph\n",
        "\n",
        "model = rfm.KumoRFM(graph)"
      ],
      "metadata": {
        "id": "RHarmrJIyiIx"
      },
      "id": "RHarmrJIyiIx",
      "execution_count": null,
      "outputs": []
    },
    {
      "cell_type": "markdown",
      "metadata": {
        "id": "9dc6cb85-4ee3-4057-a806-5950563e0926"
      },
      "source": [
        "### Example 1A. Forecast 30-day product demand"
      ],
      "id": "9dc6cb85-4ee3-4057-a806-5950563e0926"
    },
    {
      "cell_type": "code",
      "execution_count": null,
      "metadata": {
        "id": "pkAgGHogYaU8"
      },
      "outputs": [],
      "source": [
        "query = \"PREDICT SUM(orders.price, 0, 30, days) FOR items.item_id = 42\"\n",
        "\n",
        "prediction_result = model.predict(query)\n",
        "print(prediction_result)\n",
        "\n",
        "# How to interpret the result:\n",
        "# 1. ENTITY: the user (user_id = 42)\n",
        "# 2. ANCHOR_TIMESTAMP: assuming predicting at this anchor time (2024-09-19)\n",
        "# - what's happening between (2024-09-19 to 2024-10-18]?\n",
        "# - by default, anchor time is the max(timestamp) on the temporal graph\n",
        "# 3. TARGET_PRED: the total sum of orders for item_id = 42 in the next 30 days"
      ],
      "id": "pkAgGHogYaU8"
    },
    {
      "cell_type": "markdown",
      "source": [
        "#### You can use the result for sales forecasting.\n",
        "\n",
        "<div align=\"left\">\n",
        "  <img src=\"https://kumo-sdk-public.s3.us-west-2.amazonaws.com/rfm-colabs/sales-forecasting.png\"\n",
        "       alt=\"sales forecast\"\n",
        "       width=\"500\"\n",
        "</div>\n"
      ],
      "metadata": {
        "id": "uYDbYUvE-mLm"
      },
      "id": "uYDbYUvE-mLm"
    },
    {
      "cell_type": "markdown",
      "metadata": {
        "id": "5a7d934f-1d16-47e8-aae5-d151e03b7597"
      },
      "source": [
        "### Example 1B. Forecast 30-day product demand, with an anchor_time\n",
        "\n",
        "By default, predictions are based on the max timestamp in temporal graph.\n",
        "\n",
        "However, you can explicitly set a historical `anchor_time` to simulate what a prediction would have looked like at that point in time.\n",
        "\n",
        "For instance, if anchor_time is '2024-09-20'. The model will predict--assuming today is '2024-09-20'--what's the product demand in the next 30 days?\n",
        "KumoRFM will only use information before the anchor time to avoid data leakage.\n",
        "\n",
        "This feature can be useful when you're evaluating model performance on time-based splits."
      ],
      "id": "5a7d934f-1d16-47e8-aae5-d151e03b7597"
    },
    {
      "cell_type": "code",
      "execution_count": null,
      "metadata": {
        "id": "becbc96b-d4bb-475f-bebf-dfcedf169267"
      },
      "outputs": [],
      "source": [
        "prediction_result_with_anchor_time = model.predict(query, anchor_time=pd.Timestamp('2024-09-20'))\n",
        "print(prediction_result_with_anchor_time)"
      ],
      "id": "becbc96b-d4bb-475f-bebf-dfcedf169267"
    },
    {
      "cell_type": "markdown",
      "source": [
        "### Example 2. Predict customer churn"
      ],
      "metadata": {
        "id": "OUIP9jKhYaK_"
      },
      "id": "OUIP9jKhYaK_"
    },
    {
      "cell_type": "code",
      "source": [
        "# Predict the likelihood that users (user_id = 42, 123) will place 0 orders\n",
        "# in the next 90 days.\n",
        "query = \"PREDICT COUNT(orders.*, 0, 90, days) = 0 FOR users.user_id IN (42, 123)\"\n",
        "\n",
        "prediction_result = model.predict(query)\n",
        "print(prediction_result)\n",
        "\n",
        "# How to interpret the result:\n",
        "# 1. ENTITY: the user (user_id = 123)\n",
        "# 2. ANCHOR_TIMESTAMP: assuming we are predicting at this moment in time, what's happening in the next 90 days?\n",
        "# 3. TARGET_PRED: Whether the event (COUNT(orders.*, 0, 90, days) = 0) will happen (True: Event will happen; False: Event will not happen)\n",
        "# 4. False_PROB: The probability that the event will not happen\n",
        "# 5. True_PROB: The probability that the event will happen."
      ],
      "metadata": {
        "id": "3ov9ELzLYWvd"
      },
      "id": "3ov9ELzLYWvd",
      "execution_count": null,
      "outputs": []
    },
    {
      "cell_type": "markdown",
      "source": [
        "#### You can use the result to prevent customer churn (e.g. sending a personalized coupon).\n",
        "\n",
        "<div align=\"left\">\n",
        "  <img src=\"https://kumo-sdk-public.s3.us-west-2.amazonaws.com/rfm-colabs/churn.png\"\n",
        "       alt=\"customer churn\"\n",
        "       width=\"500\"\n",
        "</div>\n"
      ],
      "metadata": {
        "id": "aTR7OXshAoZ9"
      },
      "id": "aTR7OXshAoZ9"
    },
    {
      "cell_type": "markdown",
      "source": [
        "### Example 3. Product recommendation"
      ],
      "metadata": {
        "id": "ooCNzX1EdQcG"
      },
      "id": "ooCNzX1EdQcG"
    },
    {
      "cell_type": "code",
      "source": [
        "# Predict the top 10 items that user (user_id = 123) is likely to buy\n",
        "# in the next 30 days.\n",
        "query = \"PREDICT LIST_DISTINCT(orders.item_id, 0, 30, days) FOR users.user_id=123\"\n",
        "\n",
        "prediction_result = model.predict(query)\n",
        "print(prediction_result)\n",
        "\n",
        "# How to interpret the result:\n",
        "# 1. ENTITY: the user (user_id = 123)\n",
        "# 2. ANCHOR_TIMESTAMP: assuming we are predicting at this moment in time, what's happening in the next 30 days?\n",
        "# 3. CLASS: the items (item_id)\n",
        "# 4. SCORE: Higher score indicates higher likelihood."
      ],
      "metadata": {
        "id": "nJ9QwZ_gdNzC"
      },
      "id": "nJ9QwZ_gdNzC",
      "execution_count": null,
      "outputs": []
    },
    {
      "cell_type": "markdown",
      "source": [
        "#### You can use the result to power product recommendation.\n",
        "\n",
        "<div align=\"left\">\n",
        "  <img src=\"https://kumo-sdk-public.s3.us-west-2.amazonaws.com/rfm-colabs/product-recommendation.png\"\n",
        "       alt=\"product recommendation\"\n",
        "       width=\"500\"\n",
        "</div>\n"
      ],
      "metadata": {
        "id": "l38SFpUuCPiT"
      },
      "id": "l38SFpUuCPiT"
    },
    {
      "cell_type": "markdown",
      "source": [
        "### Example 4. Infer entity attributes"
      ],
      "metadata": {
        "id": "zUtpp0P13LKT"
      },
      "id": "zUtpp0P13LKT"
    },
    {
      "cell_type": "code",
      "source": [
        "# Predict user (user_id = 8)'s age (the original age field is NA for this user)\n",
        "query = \"PREDICT users.age FOR users.user_id = 8\"\n",
        "\n",
        "prediction_result = model.predict(query)\n",
        "print(prediction_result)\n",
        "\n",
        "# How to interpret the result:\n",
        "# 1. ENTITY: the user (user_id = 8)\n",
        "# 2. ANCHOR_TIMESTAMP: assuming the predicting at this time\n",
        "# 3. TARGET_PRED: users.age"
      ],
      "metadata": {
        "id": "PK8aBsDt3bGQ"
      },
      "id": "PK8aBsDt3bGQ",
      "execution_count": null,
      "outputs": []
    },
    {
      "cell_type": "markdown",
      "source": [
        "#### You can use the result for customer segmentation.\n",
        "\n",
        "<div align=\"left\">\n",
        "  <img src=\"https://kumo-sdk-public.s3.us-west-2.amazonaws.com/rfm-colabs/customer-segmantation.png\"\n",
        "       alt=\"segmantation\"\n",
        "       width=\"500\"\n",
        "</div>\n"
      ],
      "metadata": {
        "id": "LTORudewDZpe"
      },
      "id": "LTORudewDZpe"
    },
    {
      "cell_type": "markdown",
      "source": [
        "## We'd love to hear from you!\n",
        "\n",
        "1. **Found a bug or have a feature request?**  \n",
        "\n",
        "Submit issues directly on [github](https://github.com/kumo-ai/kumo-rfm)—your feedback helps us improve RFM for everyone.\n",
        "\n",
        "2. **Built something cool with RFM? We'd love to see it!**  \n",
        "\n",
        "Share your project on LinkedIn and tag @kumo.  \n",
        "\n",
        "We regularly spotlight on our official channels—yours could be next!\n",
        "\n",
        "\n",
        "\n",
        "<div align=\"left\">\n",
        "  <img src=\"https://kumo-sdk-public.s3.us-west-2.amazonaws.com/rfm-colabs/kumo_ai_logo.jpeg\"\n",
        "       alt=\"kumo\"\n",
        "       width=\"30\"\n",
        "</div>\n",
        "\n"
      ],
      "metadata": {
        "id": "zulLbR3AhQHX"
      },
      "id": "zulLbR3AhQHX"
    }
  ],
  "metadata": {
    "kernelspec": {
      "display_name": "Python 3 (ipykernel)",
      "language": "python",
      "name": "python3"
    },
    "language_info": {
      "codemirror_mode": {
        "name": "ipython",
        "version": 3
      },
      "file_extension": ".py",
      "mimetype": "text/x-python",
      "name": "python",
      "nbconvert_exporter": "python",
      "pygments_lexer": "ipython3",
      "version": "3.10.18"
    },
    "colab": {
      "provenance": []
    }
  },
  "nbformat": 4,
  "nbformat_minor": 5
}